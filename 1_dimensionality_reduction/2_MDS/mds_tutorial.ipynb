{
 "cells": [
  {
   "cell_type": "markdown",
   "metadata": {},
   "source": [
    "# MDS Tutorial"
   ]
  },
  {
   "cell_type": "markdown",
   "metadata": {},
   "source": [
    "1. Distance Matrix 구하기\n",
    "2. Distance Matrix로 B를 구하기.\n",
    "3. B = XX^T이므로, B에서  Eigen Values & Eigen Vectors 구하여 B=VAV^T를 구하면 XX^T의 반을 떼어, X=VA^1/2가 된다."
   ]
  },
  {
   "cell_type": "markdown",
   "metadata": {},
   "source": [
    "## 1. Distance Matrix D에서 B를 구하는 Calculation \n",
    "\n",
    "- Distance Matrix에서 B Matrix를 구해낸다."
   ]
  },
  {
   "cell_type": "code",
   "execution_count": 2,
   "metadata": {},
   "outputs": [],
   "source": [
    "import numpy\n",
    "import matplotlib.pyplot as plt\n",
    "import sys\n",
    "\n",
    "\n",
    "def bval(D, r, s):\n",
    "    n = D.shape[0]\n",
    "    total_r = numpy.sum(D[:,s] ** 2)\n",
    "    total_s = numpy.sum(D[r,:] ** 2)\n",
    "    total = numpy.sum(D ** 2)\n",
    "    val = (D[r,s] ** 2) - (float(total_r) / float(n)) - (float(total_s) / float(n)) + (float(total) / float(n * n))\n",
    "    return -0.5 * val\n",
    "\n"
   ]
  },
  {
   "cell_type": "markdown",
   "metadata": {},
   "source": [
    "## 1. 데이터 정의 및 Distance Matrix D 구하기 (L2 Norm 거리)\n",
    "- Y는 원본 데이터 입니다.\n",
    "- 데이터 개수는 3개 입니다."
   ]
  },
  {
   "cell_type": "code",
   "execution_count": 3,
   "metadata": {},
   "outputs": [
    {
     "name": "stdout",
     "output_type": "stream",
     "text": [
      "Distance Matrix D\n",
      "[[ 0.         18.68154169 14.31782106]\n",
      " [18.68154169  0.         12.08304597]\n",
      " [14.31782106 12.08304597  0.        ]]\n"
     ]
    }
   ],
   "source": [
    "# 1. 3개의 Data를 정의합니다. 각각들의 Dimension은 알려져있지 않고, 단지 Similarity(or Distnace) Metric으로 거리가 계산된, Distance Matrix를 갖고 있습니다.\n",
    "n = 3  \n",
    "Y = numpy.array([[20, 18], [2, 13], [7, 24]], dtype=float)\n",
    "\n",
    "D = numpy.zeros((n, n), dtype=float)\n",
    "\n",
    "for i in range(0, n):\n",
    "    for j in range(0, n):\n",
    "        D[i, j] = numpy.linalg.norm(Y[i,:] - Y[j,:]) # L2-Nrom으로 정규화 합니다.\n",
    "\n",
    "print(\"Distance Matrix D\")\n",
    "print(D)\n"
   ]
  },
  {
   "cell_type": "markdown",
   "metadata": {},
   "source": [
    "## 2. Calculate B Matrix를 구합니다. \n",
    "- bval function사용하여 D Matrix에서 B를 구합니다."
   ]
  },
  {
   "cell_type": "code",
   "execution_count": 4,
   "metadata": {},
   "outputs": [
    {
     "name": "stdout",
     "output_type": "stream",
     "text": [
      "\n",
      "B matix\n",
      "[[106.88888889+0.j -77.44444444+0.j -29.44444444+0.j]\n",
      " [-77.44444444+0.j  87.22222222+0.j  -9.77777778+0.j]\n",
      " [-29.44444444+0.j  -9.77777778+0.j  39.22222222+0.j]]\n"
     ]
    }
   ],
   "source": [
    "# 2. B Matrix를 구합니다.\n",
    "B = numpy.zeros((n, n), dtype=complex) # B = numpy.zeros((n, n))를 사용하면 안됨. Sqrt시에 -값이 들어가기 때문.\n",
    "\n",
    "for i in range(0, n):\n",
    "    for j in range(0, n):\n",
    "        B[i,j] = bval(D, i, j)\n",
    "\n",
    "print(\"\\nB matix\")\n",
    "print(B)\n"
   ]
  },
  {
   "cell_type": "markdown",
   "metadata": {},
   "source": [
    "## 3. Calculate Matrix X by Eigen Vector & Values from Matrix B\n",
    "- Matrix B에서 Eigen Vector와 Eigen Value를 구합니다. 이를 통해 Matrix A와, 차원이 변형된 X를 구합니다."
   ]
  },
  {
   "cell_type": "code",
   "execution_count": 5,
   "metadata": {},
   "outputs": [
    {
     "name": "stdout",
     "output_type": "stream",
     "text": [
      "Eigen Values = [1.76955785e+02+0.j 5.63775484e+01+0.j 1.88925970e-14+0.j]\n",
      "Eigen vectors= [[ 0.75813097+0.j -0.30315689+0.j  0.57735027+0.j]\n",
      " [-0.64160705-0.j -0.50498223+0.j  0.57735027-0.j]\n",
      " [-0.11652392-0.j  0.80813912+0.j  0.57735027-0.j]]\n",
      "\n",
      "Matrix A\n",
      "[[1.33024729e+01+0.j 0.00000000e+00+0.j 0.00000000e+00+0.j]\n",
      " [0.00000000e+00+0.j 7.50849841e+00+0.j 0.00000000e+00+0.j]\n",
      " [0.00000000e+00+0.j 0.00000000e+00+0.j 1.37450344e-07+0.j]]\n",
      "\n",
      "Matrix X\n",
      "[[ 1.00850167e+01+0.j -2.27625304e+00+0.j  7.93569930e-08+0.j]\n",
      " [-8.53496043e+00+0.j -3.79165829e+00+0.j  7.93569930e-08+0.j]\n",
      " [-1.55005623e+00+0.j  6.06791133e+00+0.j  7.93569930e-08+0.j]]\n"
     ]
    }
   ],
   "source": [
    "# w, V = numpy.linalg.eig(D)   \n",
    "# idx = w.argsort()[::-1]\n",
    "# w = w[idx]\n",
    "# V = V[:,idx]\n",
    "\n",
    "# print(\"\\nEigenvalues of the distance matrix =\", w)\n",
    "\n",
    "\n",
    "# 3. B에서 Eigen Vector와 Eigen Value를 구합니다.\n",
    "a, V = numpy.linalg.eig(B)\n",
    "idx = a.argsort()[::-1]\n",
    "a = a[idx]\n",
    "V = V[:,idx]\n",
    "print(\"Eigen Values =\", a)\n",
    "print(\"Eigen vectors=\", V)\n",
    "\n",
    "A = numpy.diag(numpy.sqrt(a))\n",
    "X = numpy.dot(V, A)\n",
    "\n",
    "print(\"\\nMatrix A\")\n",
    "print(A)\n",
    "\n",
    "print(\"\\nMatrix X\")\n",
    "print(X)\n",
    "\n",
    "\n"
   ]
  },
  {
   "cell_type": "markdown",
   "metadata": {},
   "source": [
    "## 4. Visualization\n",
    "\n",
    "- 원본(Y)값을 Red로, 차원 축소된 점(X)를 Blue로 하여 2차원 평면에 Scatter합니다."
   ]
  },
  {
   "cell_type": "code",
   "execution_count": 6,
   "metadata": {},
   "outputs": [
    {
     "name": "stdout",
     "output_type": "stream",
     "text": [
      "RMSE = 2.0511601988091347e-15\n"
     ]
    },
    {
     "name": "stderr",
     "output_type": "stream",
     "text": [
      "c:\\venv_python_3.10\\lib\\site-packages\\matplotlib\\collections.py:193: ComplexWarning: Casting complex values to real discards the imaginary part\n",
      "  offsets = np.asanyarray(offsets, float)\n"
     ]
    },
    {
     "data": {
      "image/png": "[encoded data removed]",
      "text/plain": [
       "<Figure size 640x480 with 1 Axes>"
      ]
     },
     "metadata": {},
     "output_type": "display_data"
    }
   ],
   "source": [
    "\n",
    "error = 0.0\n",
    "total = 0\n",
    "\n",
    "for i in range(0, n):\n",
    "    for j in range(i+1, n):\n",
    "        error += (numpy.linalg.norm(X[i] - X[j]) - D[i, j]) ** 2\n",
    "        total += 1\n",
    "RMSE = numpy.sqrt(error / float(total))\n",
    "print(\"RMSE =\", RMSE)\n",
    "\n",
    "if RMSE > 0:\n",
    "    plt.scatter(X[:,0], X[:,1], c='b', s=40)\n",
    "    plt.scatter(Y[:,0], Y[:,1], c='r', s=40)\n",
    "    plt.show()"
   ]
  }
 ],
 "metadata": {
  "kernelspec": {
   "display_name": "Python 3.10.7 ('venv_python_3.10')",
   "language": "python",
   "name": "python3"
  },
  "language_info": {
   "codemirror_mode": {
    "name": "ipython",
    "version": 3
   },
   "file_extension": ".py",
   "mimetype": "text/x-python",
   "name": "python",
   "nbconvert_exporter": "python",
   "pygments_lexer": "ipython3",
   "version": "3.10.7"
  },
  "orig_nbformat": 4,
  "vscode": {
   "interpreter": {
    "hash": "78d04299e464758119aa473303693f33db2a1bc5c94011f00bbd9c1618e77f98"
   }
  }
 },
 "nbformat": 4,
 "nbformat_minor": 2
}
