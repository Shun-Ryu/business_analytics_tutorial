{
 "cells": [
  {
   "cell_type": "code",
   "execution_count": 2,
   "metadata": {},
   "outputs": [],
   "source": [
    "import pandas as pd\n",
    "import numpy as np\n",
    "import matplotlib.pyplot as plt\n",
    "import random\n",
    "from sklearn.metrics import mean_squared_error\n",
    "from sklearn.linear_model import LinearRegression\n",
    "from sklearn.model_selection import train_test_split\n",
    "from sklearn.svm import SVC, SVR\n",
    "from sklearn import datasets\n",
    "from sklearn.metrics import confusion_matrix, accuracy_score\n",
    "from pytorch_tabnet.tab_model import TabNetClassifier\n",
    "from sklearn.preprocessing import MinMaxScaler\n",
    "import torch\n",
    "import torch.nn as nn\n",
    "import torch.optim as optim\n",
    "from torch.utils.data import Dataset, DataLoader \n",
    "import copy\n",
    "\n",
    "import xgboost as xgb\n",
    "import lightgbm as lgbm\n",
    "import catboost as cbt\n",
    "from sklearn_rvm import EMRVC\n",
    "from sklearn.ensemble import RandomForestClassifier\n",
    "from sklearn.model_selection import GridSearchCV\n",
    "from datetime import datetime\n",
    "from sklearn.svm import OneClassSVM\n",
    "from sklearn.mixture import GaussianMixture\n",
    "from sklearn.ensemble import IsolationForest \n",
    "from sklearn.neighbors import LocalOutlierFactor"
   ]
  },
  {
   "cell_type": "markdown",
   "metadata": {},
   "source": [
    "# 🌠 Anomaly Detection for Supervised Task\n",
    "\n",
    "- Anoamly Detection은 근본적인 Supervised Classification Task를 Anoamly Detection으로 변경한 Task에여대하여 Anomaly Detection이 가능할까?"
   ]
  },
  {
   "cell_type": "markdown",
   "metadata": {},
   "source": [
    "# Load Dataset"
   ]
  },
  {
   "cell_type": "code",
   "execution_count": 133,
   "metadata": {},
   "outputs": [],
   "source": [
    "# import statsmodels.api as sm\n",
    "# from tabulate import tabulate\n",
    "\n",
    "# ces11 = sm.datasets.get_rdataset('CES11', 'carData')\n",
    "\n",
    "# ces11.data.sample(12)"
   ]
  },
  {
   "cell_type": "code",
   "execution_count": 169,
   "metadata": {},
   "outputs": [],
   "source": [
    "# random_seed\n",
    "# rand_seed = 1024 \n",
    "rand_seed = 2048 \n",
    "# rand_seed = 4096\n",
    "\n",
    "# Select Dataset\n",
    "\n",
    "dataset_name = 'diabetes'\n",
    "# dataset_name = 'breast_cancer'\n",
    "# dataset_name = 'digits'\n",
    "\n",
    "if dataset_name == 'diabetes':\n",
    "    df = pd.read_csv('diabetes.csv')\n",
    "    X = df.iloc[:,:-1].values   \n",
    "    y = df.iloc[:,-1].values    \n",
    "    THRESHOLD_FOR_AUTOENCODER = 0.07\n",
    "    THRESHOLD_FOR_DENSITY=36\n",
    "    NUM_1ST_HIDDEN = 6 \n",
    "    NUM_2ND_HIDDEN = 3 \n",
    "    class_anomaly = 1\n",
    "\n",
    "elif dataset_name == 'breast_cancer':\n",
    "    breast_cancer = datasets.load_breast_cancer()\n",
    "    X = breast_cancer.data\n",
    "    y = breast_cancer.target\n",
    "    THRESHOLD_FOR_AUTOENCODER = 0.89 \n",
    "    THRESHOLD_FOR_DENSITY = 70\n",
    "    NUM_1ST_HIDDEN = 32 \n",
    "    NUM_2ND_HIDDEN = 8 \n",
    "    class_anomaly = 1\n",
    "\n",
    "elif dataset_name == 'digits':\n",
    "    digits = datasets.load_digits()\n",
    "    X = digits.data\n",
    "    y = digits.target\n",
    "\n",
    "    THRESHOLD_FOR_AUTOENCODER = 8.5\n",
    "    THRESHOLD_FOR_DENSITY = 23\n",
    "    NUM_1ST_HIDDEN = 32 \n",
    "    NUM_2ND_HIDDEN = 8 \n",
    "\n",
    "    class_anomaly = 5\n",
    "\n",
    "else:\n",
    "    pass"
   ]
  },
  {
   "cell_type": "code",
   "execution_count": 170,
   "metadata": {},
   "outputs": [
    {
     "name": "stdout",
     "output_type": "stream",
     "text": [
      "Median 0.0\n",
      "Min 0\n",
      "Max 1\n"
     ]
    }
   ],
   "source": [
    "print(f'Median {np.median(y)}')\n",
    "print(f'Min {np.min(y)}')\n",
    "print(f'Max {np.max(y)}')"
   ]
  },
  {
   "cell_type": "markdown",
   "metadata": {},
   "source": [
    "# Split data by specific threshold\n",
    "- To convert regression problem to classification problem (two class for anomaly detection)"
   ]
  },
  {
   "cell_type": "code",
   "execution_count": 171,
   "metadata": {},
   "outputs": [
    {
     "name": "stdout",
     "output_type": "stream",
     "text": [
      "X shape\n",
      "(768, 8)\n",
      "Y shape\n",
      "(768,)\n"
     ]
    }
   ],
   "source": [
    "print(\"X shape\")\n",
    "print(X.shape)\n",
    "print(\"Y shape\")\n",
    "print(y.shape)"
   ]
  },
  {
   "cell_type": "code",
   "execution_count": 172,
   "metadata": {},
   "outputs": [],
   "source": [
    "# split the dataset\n",
    "x_train, x_test, y_train, y_test = train_test_split(X, y, random_state=rand_seed, train_size=0.8)\n",
    "x_train, x_valid, y_train, y_valid = train_test_split(x_train, y_train, random_state=rand_seed, train_size=0.8)\n",
    "\n"
   ]
  },
  {
   "cell_type": "code",
   "execution_count": 173,
   "metadata": {},
   "outputs": [],
   "source": [
    "y_train_a = y_train.copy()\n",
    "y_valid_a = y_valid.copy()\n",
    "y_test_a = y_test.copy()\n",
    "\n",
    "\n",
    "y_train_a[y_train==class_anomaly] = -1\n",
    "y_train_a[y_train!=class_anomaly] = 1\n",
    "\n",
    "y_valid_a[y_valid==class_anomaly] = -1\n",
    "y_valid_a[y_valid!=class_anomaly] = 1\n",
    "\n",
    "y_test_a[y_test==class_anomaly] = -1\n",
    "y_test_a[y_test!=class_anomaly] = 1"
   ]
  },
  {
   "cell_type": "code",
   "execution_count": 174,
   "metadata": {},
   "outputs": [],
   "source": [
    "# scaling by minmax scaler\n",
    "scaler = MinMaxScaler()\n",
    "\n",
    "scaler = scaler.fit(x_train)\n",
    "\n",
    "x_train = scaler.transform(x_train)\n",
    "x_test = scaler.transform(x_test)\n",
    "x_valid = scaler.transform(x_valid)"
   ]
  },
  {
   "cell_type": "code",
   "execution_count": 175,
   "metadata": {},
   "outputs": [
    {
     "name": "stdout",
     "output_type": "stream",
     "text": [
      "valid 49\n",
      "train 163\n",
      "test 56\n",
      "len train origin :  491\n",
      "len train origin with only true :  328\n"
     ]
    }
   ],
   "source": [
    "print('valid', len(y_valid_a[y_valid_a==-1]))\n",
    "print('train', len(y_train_a[y_train_a ==-1]))\n",
    "print('test', len(y_test_a[y_test_a ==-1]))\n",
    "\n",
    "print('len train origin : ', len(x_train))\n",
    "x_train_only = x_train[y_train_a==1]\n",
    "print('len train origin with only true : ', len(x_train_only))"
   ]
  },
  {
   "cell_type": "markdown",
   "metadata": {},
   "source": [
    "# SVM (Support Vector Classification)\n",
    "- Classification "
   ]
  },
  {
   "cell_type": "code",
   "execution_count": 176,
   "metadata": {},
   "outputs": [
    {
     "name": "stdout",
     "output_type": "stream",
     "text": [
      "Fitting 7 folds for each of 34 candidates, totalling 238 fits\n",
      "[CV] END ...............................C=1.0, kernel=linear; total time=   0.0s\n",
      "[CV] END ...............................C=1.0, kernel=linear; total time=   0.0s\n",
      "[CV] END ...............................C=1.0, kernel=linear; total time=   0.0s\n",
      "[CV] END ...............................C=1.0, kernel=linear; total time=   0.0s\n",
      "[CV] END ...............................C=1.0, kernel=linear; total time=   0.0s\n",
      "[CV] END ...............................C=1.0, kernel=linear; total time=   0.0s\n",
      "[CV] END ...............................C=1.0, kernel=linear; total time=   0.0s\n",
      "[CV] END ...............................C=2.0, kernel=linear; total time=   0.0s\n",
      "[CV] END ...............................C=2.0, kernel=linear; total time=   0.0s\n",
      "[CV] END ...............................C=2.0, kernel=linear; total time=   0.0s\n",
      "[CV] END ...............................C=2.0, kernel=linear; total time=   0.0s\n",
      "[CV] END ...............................C=2.0, kernel=linear; total time=   0.0s\n",
      "[CV] END ...............................C=2.0, kernel=linear; total time=   0.0s\n",
      "[CV] END ...............................C=2.0, kernel=linear; total time=   0.0s\n",
      "[CV] END ...............................C=3.0, kernel=linear; total time=   0.0s\n",
      "[CV] END ...............................C=3.0, kernel=linear; total time=   0.0s\n",
      "[CV] END ...............................C=3.0, kernel=linear; total time=   0.0s\n",
      "[CV] END ...............................C=3.0, kernel=linear; total time=   0.0s\n",
      "[CV] END ...............................C=3.0, kernel=linear; total time=   0.0s\n",
      "[CV] END ...............................C=3.0, kernel=linear; total time=   0.0s\n",
      "[CV] END ...............................C=3.0, kernel=linear; total time=   0.0s\n",
      "[CV] END ..............................C=10.0, kernel=linear; total time=   0.0s\n",
      "[CV] END ..............................C=10.0, kernel=linear; total time=   0.0s\n",
      "[CV] END ..............................C=10.0, kernel=linear; total time=   0.0s\n",
      "[CV] END ..............................C=10.0, kernel=linear; total time=   0.0s\n",
      "[CV] END ..............................C=10.0, kernel=linear; total time=   0.0s\n",
      "[CV] END ..............................C=10.0, kernel=linear; total time=   0.0s\n",
      "[CV] END ..............................C=10.0, kernel=linear; total time=   0.0s\n",
      "[CV] END ......................C=1.0, gamma=0.01, kernel=rbf; total time=   0.0s\n",
      "[CV] END ......................C=1.0, gamma=0.01, kernel=rbf; total time=   0.0s\n",
      "[CV] END ......................C=1.0, gamma=0.01, kernel=rbf; total time=   0.0s\n",
      "[CV] END ......................C=1.0, gamma=0.01, kernel=rbf; total time=   0.0s\n",
      "[CV] END ......................C=1.0, gamma=0.01, kernel=rbf; total time=   0.0s\n",
      "[CV] END ......................C=1.0, gamma=0.01, kernel=rbf; total time=   0.0s\n",
      "[CV] END ......................C=1.0, gamma=0.01, kernel=rbf; total time=   0.0s\n",
      "[CV] END ......................C=1.0, gamma=0.03, kernel=rbf; total time=   0.0s\n",
      "[CV] END ......................C=1.0, gamma=0.03, kernel=rbf; total time=   0.0s\n",
      "[CV] END ......................C=1.0, gamma=0.03, kernel=rbf; total time=   0.0s\n",
      "[CV] END ......................C=1.0, gamma=0.03, kernel=rbf; total time=   0.0s\n",
      "[CV] END ......................C=1.0, gamma=0.03, kernel=rbf; total time=   0.0s\n",
      "[CV] END ......................C=1.0, gamma=0.03, kernel=rbf; total time=   0.0s\n",
      "[CV] END ......................C=1.0, gamma=0.03, kernel=rbf; total time=   0.0s\n",
      "[CV] END .......................C=1.0, gamma=0.1, kernel=rbf; total time=   0.0s\n",
      "[CV] END .......................C=1.0, gamma=0.1, kernel=rbf; total time=   0.0s\n",
      "[CV] END .......................C=1.0, gamma=0.1, kernel=rbf; total time=   0.0s\n",
      "[CV] END .......................C=1.0, gamma=0.1, kernel=rbf; total time=   0.0s\n",
      "[CV] END .......................C=1.0, gamma=0.1, kernel=rbf; total time=   0.0s\n",
      "[CV] END .......................C=1.0, gamma=0.1, kernel=rbf; total time=   0.0s\n",
      "[CV] END .......................C=1.0, gamma=0.1, kernel=rbf; total time=   0.0s\n",
      "[CV] END .......................C=1.0, gamma=0.3, kernel=rbf; total time=   0.0s\n",
      "[CV] END .......................C=1.0, gamma=0.3, kernel=rbf; total time=   0.0s\n",
      "[CV] END .......................C=1.0, gamma=0.3, kernel=rbf; total time=   0.0s\n",
      "[CV] END .......................C=1.0, gamma=0.3, kernel=rbf; total time=   0.0s\n",
      "[CV] END .......................C=1.0, gamma=0.3, kernel=rbf; total time=   0.0s\n",
      "[CV] END .......................C=1.0, gamma=0.3, kernel=rbf; total time=   0.0s\n",
      "[CV] END .......................C=1.0, gamma=0.3, kernel=rbf; total time=   0.0s\n",
      "[CV] END .......................C=1.0, gamma=1.0, kernel=rbf; total time=   0.0s\n",
      "[CV] END .......................C=1.0, gamma=1.0, kernel=rbf; total time=   0.0s\n",
      "[CV] END .......................C=1.0, gamma=1.0, kernel=rbf; total time=   0.0s\n",
      "[CV] END .......................C=1.0, gamma=1.0, kernel=rbf; total time=   0.0s\n",
      "[CV] END .......................C=1.0, gamma=1.0, kernel=rbf; total time=   0.0s\n",
      "[CV] END .......................C=1.0, gamma=1.0, kernel=rbf; total time=   0.0s\n",
      "[CV] END .......................C=1.0, gamma=1.0, kernel=rbf; total time=   0.0s\n",
      "[CV] END .......................C=1.0, gamma=3.0, kernel=rbf; total time=   0.0s\n",
      "[CV] END .......................C=1.0, gamma=3.0, kernel=rbf; total time=   0.0s\n",
      "[CV] END .......................C=1.0, gamma=3.0, kernel=rbf; total time=   0.0s\n",
      "[CV] END .......................C=1.0, gamma=3.0, kernel=rbf; total time=   0.0s\n",
      "[CV] END .......................C=1.0, gamma=3.0, kernel=rbf; total time=   0.0s\n",
      "[CV] END .......................C=1.0, gamma=3.0, kernel=rbf; total time=   0.0s\n",
      "[CV] END .......................C=1.0, gamma=3.0, kernel=rbf; total time=   0.0s\n",
      "[CV] END ......................C=2.0, gamma=0.01, kernel=rbf; total time=   0.0s\n",
      "[CV] END ......................C=2.0, gamma=0.01, kernel=rbf; total time=   0.0s\n",
      "[CV] END ......................C=2.0, gamma=0.01, kernel=rbf; total time=   0.0s\n",
      "[CV] END ......................C=2.0, gamma=0.01, kernel=rbf; total time=   0.0s\n",
      "[CV] END ......................C=2.0, gamma=0.01, kernel=rbf; total time=   0.0s\n",
      "[CV] END ......................C=2.0, gamma=0.01, kernel=rbf; total time=   0.0s\n",
      "[CV] END ......................C=2.0, gamma=0.01, kernel=rbf; total time=   0.0s\n",
      "[CV] END ......................C=2.0, gamma=0.03, kernel=rbf; total time=   0.0s\n",
      "[CV] END ......................C=2.0, gamma=0.03, kernel=rbf; total time=   0.0s\n",
      "[CV] END ......................C=2.0, gamma=0.03, kernel=rbf; total time=   0.0s\n",
      "[CV] END ......................C=2.0, gamma=0.03, kernel=rbf; total time=   0.0s\n",
      "[CV] END ......................C=2.0, gamma=0.03, kernel=rbf; total time=   0.0s\n",
      "[CV] END ......................C=2.0, gamma=0.03, kernel=rbf; total time=   0.0s\n",
      "[CV] END ......................C=2.0, gamma=0.03, kernel=rbf; total time=   0.0s\n",
      "[CV] END .......................C=2.0, gamma=0.1, kernel=rbf; total time=   0.0s\n",
      "[CV] END .......................C=2.0, gamma=0.1, kernel=rbf; total time=   0.0s\n",
      "[CV] END .......................C=2.0, gamma=0.1, kernel=rbf; total time=   0.0s\n",
      "[CV] END .......................C=2.0, gamma=0.1, kernel=rbf; total time=   0.0s\n",
      "[CV] END .......................C=2.0, gamma=0.1, kernel=rbf; total time=   0.0s\n",
      "[CV] END .......................C=2.0, gamma=0.1, kernel=rbf; total time=   0.0s\n",
      "[CV] END .......................C=2.0, gamma=0.1, kernel=rbf; total time=   0.0s\n",
      "[CV] END .......................C=2.0, gamma=0.3, kernel=rbf; total time=   0.0s\n",
      "[CV] END .......................C=2.0, gamma=0.3, kernel=rbf; total time=   0.0s\n",
      "[CV] END .......................C=2.0, gamma=0.3, kernel=rbf; total time=   0.0s\n",
      "[CV] END .......................C=2.0, gamma=0.3, kernel=rbf; total time=   0.0s\n",
      "[CV] END .......................C=2.0, gamma=0.3, kernel=rbf; total time=   0.0s\n",
      "[CV] END .......................C=2.0, gamma=0.3, kernel=rbf; total time=   0.0s\n",
      "[CV] END .......................C=2.0, gamma=0.3, kernel=rbf; total time=   0.0s\n",
      "[CV] END .......................C=2.0, gamma=1.0, kernel=rbf; total time=   0.0s\n",
      "[CV] END .......................C=2.0, gamma=1.0, kernel=rbf; total time=   0.0s\n",
      "[CV] END .......................C=2.0, gamma=1.0, kernel=rbf; total time=   0.0s\n",
      "[CV] END .......................C=2.0, gamma=1.0, kernel=rbf; total time=   0.0s\n",
      "[CV] END .......................C=2.0, gamma=1.0, kernel=rbf; total time=   0.0s\n",
      "[CV] END .......................C=2.0, gamma=1.0, kernel=rbf; total time=   0.0s\n",
      "[CV] END .......................C=2.0, gamma=1.0, kernel=rbf; total time=   0.0s\n",
      "[CV] END .......................C=2.0, gamma=3.0, kernel=rbf; total time=   0.0s\n",
      "[CV] END .......................C=2.0, gamma=3.0, kernel=rbf; total time=   0.0s\n",
      "[CV] END .......................C=2.0, gamma=3.0, kernel=rbf; total time=   0.0s\n",
      "[CV] END .......................C=2.0, gamma=3.0, kernel=rbf; total time=   0.0s\n",
      "[CV] END .......................C=2.0, gamma=3.0, kernel=rbf; total time=   0.0s\n",
      "[CV] END .......................C=2.0, gamma=3.0, kernel=rbf; total time=   0.0s\n",
      "[CV] END .......................C=2.0, gamma=3.0, kernel=rbf; total time=   0.0s\n",
      "[CV] END ......................C=3.0, gamma=0.01, kernel=rbf; total time=   0.0s\n",
      "[CV] END ......................C=3.0, gamma=0.01, kernel=rbf; total time=   0.0s\n",
      "[CV] END ......................C=3.0, gamma=0.01, kernel=rbf; total time=   0.0s\n",
      "[CV] END ......................C=3.0, gamma=0.01, kernel=rbf; total time=   0.0s\n",
      "[CV] END ......................C=3.0, gamma=0.01, kernel=rbf; total time=   0.0s\n",
      "[CV] END ......................C=3.0, gamma=0.01, kernel=rbf; total time=   0.0s\n",
      "[CV] END ......................C=3.0, gamma=0.01, kernel=rbf; total time=   0.0s\n",
      "[CV] END ......................C=3.0, gamma=0.03, kernel=rbf; total time=   0.0s\n",
      "[CV] END ......................C=3.0, gamma=0.03, kernel=rbf; total time=   0.0s\n",
      "[CV] END ......................C=3.0, gamma=0.03, kernel=rbf; total time=   0.0s\n",
      "[CV] END ......................C=3.0, gamma=0.03, kernel=rbf; total time=   0.0s\n",
      "[CV] END ......................C=3.0, gamma=0.03, kernel=rbf; total time=   0.0s\n",
      "[CV] END ......................C=3.0, gamma=0.03, kernel=rbf; total time=   0.0s\n",
      "[CV] END ......................C=3.0, gamma=0.03, kernel=rbf; total time=   0.0s\n",
      "[CV] END .......................C=3.0, gamma=0.1, kernel=rbf; total time=   0.0s\n",
      "[CV] END .......................C=3.0, gamma=0.1, kernel=rbf; total time=   0.0s\n",
      "[CV] END .......................C=3.0, gamma=0.1, kernel=rbf; total time=   0.0s\n",
      "[CV] END .......................C=3.0, gamma=0.1, kernel=rbf; total time=   0.0s\n",
      "[CV] END .......................C=3.0, gamma=0.1, kernel=rbf; total time=   0.0s\n",
      "[CV] END .......................C=3.0, gamma=0.1, kernel=rbf; total time=   0.0s\n",
      "[CV] END .......................C=3.0, gamma=0.1, kernel=rbf; total time=   0.0s\n",
      "[CV] END .......................C=3.0, gamma=0.3, kernel=rbf; total time=   0.0s\n",
      "[CV] END .......................C=3.0, gamma=0.3, kernel=rbf; total time=   0.0s\n",
      "[CV] END .......................C=3.0, gamma=0.3, kernel=rbf; total time=   0.0s\n",
      "[CV] END .......................C=3.0, gamma=0.3, kernel=rbf; total time=   0.0s\n",
      "[CV] END .......................C=3.0, gamma=0.3, kernel=rbf; total time=   0.0s\n",
      "[CV] END .......................C=3.0, gamma=0.3, kernel=rbf; total time=   0.0s\n",
      "[CV] END .......................C=3.0, gamma=0.3, kernel=rbf; total time=   0.0s\n",
      "[CV] END .......................C=3.0, gamma=1.0, kernel=rbf; total time=   0.0s\n",
      "[CV] END .......................C=3.0, gamma=1.0, kernel=rbf; total time=   0.0s\n",
      "[CV] END .......................C=3.0, gamma=1.0, kernel=rbf; total time=   0.0s\n",
      "[CV] END .......................C=3.0, gamma=1.0, kernel=rbf; total time=   0.0s\n",
      "[CV] END .......................C=3.0, gamma=1.0, kernel=rbf; total time=   0.0s\n",
      "[CV] END .......................C=3.0, gamma=1.0, kernel=rbf; total time=   0.0s\n",
      "[CV] END .......................C=3.0, gamma=1.0, kernel=rbf; total time=   0.0s\n",
      "[CV] END .......................C=3.0, gamma=3.0, kernel=rbf; total time=   0.0s\n",
      "[CV] END .......................C=3.0, gamma=3.0, kernel=rbf; total time=   0.0s\n",
      "[CV] END .......................C=3.0, gamma=3.0, kernel=rbf; total time=   0.0s\n",
      "[CV] END .......................C=3.0, gamma=3.0, kernel=rbf; total time=   0.0s\n",
      "[CV] END .......................C=3.0, gamma=3.0, kernel=rbf; total time=   0.0s\n",
      "[CV] END .......................C=3.0, gamma=3.0, kernel=rbf; total time=   0.0s\n",
      "[CV] END .......................C=3.0, gamma=3.0, kernel=rbf; total time=   0.0s\n",
      "[CV] END ......................C=5.0, gamma=0.01, kernel=rbf; total time=   0.0s\n",
      "[CV] END ......................C=5.0, gamma=0.01, kernel=rbf; total time=   0.0s\n",
      "[CV] END ......................C=5.0, gamma=0.01, kernel=rbf; total time=   0.0s\n",
      "[CV] END ......................C=5.0, gamma=0.01, kernel=rbf; total time=   0.0s\n",
      "[CV] END ......................C=5.0, gamma=0.01, kernel=rbf; total time=   0.0s\n",
      "[CV] END ......................C=5.0, gamma=0.01, kernel=rbf; total time=   0.0s\n",
      "[CV] END ......................C=5.0, gamma=0.01, kernel=rbf; total time=   0.0s\n",
      "[CV] END ......................C=5.0, gamma=0.03, kernel=rbf; total time=   0.0s\n",
      "[CV] END ......................C=5.0, gamma=0.03, kernel=rbf; total time=   0.0s\n",
      "[CV] END ......................C=5.0, gamma=0.03, kernel=rbf; total time=   0.0s\n",
      "[CV] END ......................C=5.0, gamma=0.03, kernel=rbf; total time=   0.0s\n",
      "[CV] END ......................C=5.0, gamma=0.03, kernel=rbf; total time=   0.0s\n",
      "[CV] END ......................C=5.0, gamma=0.03, kernel=rbf; total time=   0.0s\n",
      "[CV] END ......................C=5.0, gamma=0.03, kernel=rbf; total time=   0.0s\n",
      "[CV] END .......................C=5.0, gamma=0.1, kernel=rbf; total time=   0.0s\n",
      "[CV] END .......................C=5.0, gamma=0.1, kernel=rbf; total time=   0.0s\n",
      "[CV] END .......................C=5.0, gamma=0.1, kernel=rbf; total time=   0.0s\n",
      "[CV] END .......................C=5.0, gamma=0.1, kernel=rbf; total time=   0.0s\n",
      "[CV] END .......................C=5.0, gamma=0.1, kernel=rbf; total time=   0.0s\n",
      "[CV] END .......................C=5.0, gamma=0.1, kernel=rbf; total time=   0.0s\n",
      "[CV] END .......................C=5.0, gamma=0.1, kernel=rbf; total time=   0.0s\n",
      "[CV] END .......................C=5.0, gamma=0.3, kernel=rbf; total time=   0.0s\n",
      "[CV] END .......................C=5.0, gamma=0.3, kernel=rbf; total time=   0.0s\n",
      "[CV] END .......................C=5.0, gamma=0.3, kernel=rbf; total time=   0.0s\n",
      "[CV] END .......................C=5.0, gamma=0.3, kernel=rbf; total time=   0.0s\n",
      "[CV] END .......................C=5.0, gamma=0.3, kernel=rbf; total time=   0.0s\n",
      "[CV] END .......................C=5.0, gamma=0.3, kernel=rbf; total time=   0.0s\n",
      "[CV] END .......................C=5.0, gamma=0.3, kernel=rbf; total time=   0.0s\n",
      "[CV] END .......................C=5.0, gamma=1.0, kernel=rbf; total time=   0.0s\n",
      "[CV] END .......................C=5.0, gamma=1.0, kernel=rbf; total time=   0.0s\n",
      "[CV] END .......................C=5.0, gamma=1.0, kernel=rbf; total time=   0.0s\n",
      "[CV] END .......................C=5.0, gamma=1.0, kernel=rbf; total time=   0.0s\n",
      "[CV] END .......................C=5.0, gamma=1.0, kernel=rbf; total time=   0.0s\n",
      "[CV] END .......................C=5.0, gamma=1.0, kernel=rbf; total time=   0.0s\n",
      "[CV] END .......................C=5.0, gamma=1.0, kernel=rbf; total time=   0.0s\n",
      "[CV] END .......................C=5.0, gamma=3.0, kernel=rbf; total time=   0.0s\n",
      "[CV] END .......................C=5.0, gamma=3.0, kernel=rbf; total time=   0.0s\n",
      "[CV] END .......................C=5.0, gamma=3.0, kernel=rbf; total time=   0.0s\n",
      "[CV] END .......................C=5.0, gamma=3.0, kernel=rbf; total time=   0.0s\n",
      "[CV] END .......................C=5.0, gamma=3.0, kernel=rbf; total time=   0.0s\n",
      "[CV] END .......................C=5.0, gamma=3.0, kernel=rbf; total time=   0.0s\n",
      "[CV] END .......................C=5.0, gamma=3.0, kernel=rbf; total time=   0.0s\n",
      "[CV] END .....................C=10.0, gamma=0.01, kernel=rbf; total time=   0.0s\n",
      "[CV] END .....................C=10.0, gamma=0.01, kernel=rbf; total time=   0.0s\n",
      "[CV] END .....................C=10.0, gamma=0.01, kernel=rbf; total time=   0.0s\n",
      "[CV] END .....................C=10.0, gamma=0.01, kernel=rbf; total time=   0.0s\n",
      "[CV] END .....................C=10.0, gamma=0.01, kernel=rbf; total time=   0.0s\n",
      "[CV] END .....................C=10.0, gamma=0.01, kernel=rbf; total time=   0.0s\n",
      "[CV] END .....................C=10.0, gamma=0.01, kernel=rbf; total time=   0.0s\n",
      "[CV] END .....................C=10.0, gamma=0.03, kernel=rbf; total time=   0.0s\n",
      "[CV] END .....................C=10.0, gamma=0.03, kernel=rbf; total time=   0.0s\n",
      "[CV] END .....................C=10.0, gamma=0.03, kernel=rbf; total time=   0.0s\n",
      "[CV] END .....................C=10.0, gamma=0.03, kernel=rbf; total time=   0.0s\n",
      "[CV] END .....................C=10.0, gamma=0.03, kernel=rbf; total time=   0.0s\n",
      "[CV] END .....................C=10.0, gamma=0.03, kernel=rbf; total time=   0.0s\n",
      "[CV] END .....................C=10.0, gamma=0.03, kernel=rbf; total time=   0.0s\n",
      "[CV] END ......................C=10.0, gamma=0.1, kernel=rbf; total time=   0.0s\n",
      "[CV] END ......................C=10.0, gamma=0.1, kernel=rbf; total time=   0.0s\n",
      "[CV] END ......................C=10.0, gamma=0.1, kernel=rbf; total time=   0.0s\n",
      "[CV] END ......................C=10.0, gamma=0.1, kernel=rbf; total time=   0.0s\n",
      "[CV] END ......................C=10.0, gamma=0.1, kernel=rbf; total time=   0.0s\n",
      "[CV] END ......................C=10.0, gamma=0.1, kernel=rbf; total time=   0.0s\n",
      "[CV] END ......................C=10.0, gamma=0.1, kernel=rbf; total time=   0.0s\n",
      "[CV] END ......................C=10.0, gamma=0.3, kernel=rbf; total time=   0.0s\n",
      "[CV] END ......................C=10.0, gamma=0.3, kernel=rbf; total time=   0.0s\n",
      "[CV] END ......................C=10.0, gamma=0.3, kernel=rbf; total time=   0.0s\n",
      "[CV] END ......................C=10.0, gamma=0.3, kernel=rbf; total time=   0.0s\n",
      "[CV] END ......................C=10.0, gamma=0.3, kernel=rbf; total time=   0.0s\n",
      "[CV] END ......................C=10.0, gamma=0.3, kernel=rbf; total time=   0.0s\n",
      "[CV] END ......................C=10.0, gamma=0.3, kernel=rbf; total time=   0.0s\n",
      "[CV] END ......................C=10.0, gamma=1.0, kernel=rbf; total time=   0.0s\n",
      "[CV] END ......................C=10.0, gamma=1.0, kernel=rbf; total time=   0.0s\n",
      "[CV] END ......................C=10.0, gamma=1.0, kernel=rbf; total time=   0.0s\n",
      "[CV] END ......................C=10.0, gamma=1.0, kernel=rbf; total time=   0.0s\n",
      "[CV] END ......................C=10.0, gamma=1.0, kernel=rbf; total time=   0.0s\n",
      "[CV] END ......................C=10.0, gamma=1.0, kernel=rbf; total time=   0.0s\n",
      "[CV] END ......................C=10.0, gamma=1.0, kernel=rbf; total time=   0.0s\n",
      "[CV] END ......................C=10.0, gamma=3.0, kernel=rbf; total time=   0.0s\n",
      "[CV] END ......................C=10.0, gamma=3.0, kernel=rbf; total time=   0.0s\n",
      "[CV] END ......................C=10.0, gamma=3.0, kernel=rbf; total time=   0.0s\n",
      "[CV] END ......................C=10.0, gamma=3.0, kernel=rbf; total time=   0.0s\n",
      "[CV] END ......................C=10.0, gamma=3.0, kernel=rbf; total time=   0.0s\n",
      "[CV] END ......................C=10.0, gamma=3.0, kernel=rbf; total time=   0.0s\n",
      "[CV] END ......................C=10.0, gamma=3.0, kernel=rbf; total time=   0.0s\n"
     ]
    }
   ],
   "source": [
    "param_grid = [\n",
    "    {'kernel': ['linear'], 'C': [1.0, 2.0, 3.0, 10.]},\n",
    "    {'kernel': ['rbf'], 'C': [1.0, 2.0, 3.0, 5.0, 10.],\n",
    "    'gamma': [0.01, 0.03, 0.1, 0.3, 1.0, 3.0]},\n",
    "]\n",
    "\n",
    "elapsed_time_kernel_svm = []\n",
    "\n",
    "svm_classifier = SVC(kernel='rbf')\n",
    "# svm_classifier = svm_classifier.fit(x_train, y_train)\n",
    "\n",
    "start_time = datetime.now()\n",
    "grid_search = GridSearchCV(svm_classifier, param_grid, cv=7, scoring=\"neg_mean_squared_error\", verbose=2)\n",
    "best_svc_classifier = grid_search.fit(x_train, y_train_a)\n",
    "elapsed_time_kernel_svm.append((datetime.now()-start_time).total_seconds())\n",
    "\n",
    "\n",
    "\n",
    "# y_pred = svm_classifier.predict(x_test)\n",
    "# start_time = datetime.now()\n",
    "# y_pred = best_svm_classifier.predict(x_test)\n",
    "# elapsed_time_kernel_svm.append((datetime.now()-start_time).total_seconds())\n",
    "# acc_svm_kernel = accuracy_score(y_test, y_pred)"
   ]
  },
  {
   "cell_type": "code",
   "execution_count": 177,
   "metadata": {},
   "outputs": [],
   "source": [
    "\n",
    "# y_pred = svm_classifier.predict(x_test)\n",
    "start_time = datetime.now()\n",
    "y_pred = best_svc_classifier.predict(x_test)\n",
    "elapsed_time_kernel_svm.append((datetime.now()-start_time).total_seconds())\n",
    "acc_svm_kernel = accuracy_score(y_test_a, y_pred)\n",
    "\n"
   ]
  },
  {
   "cell_type": "code",
   "execution_count": 178,
   "metadata": {},
   "outputs": [
    {
     "name": "stdout",
     "output_type": "stream",
     "text": [
      "Confusion Matrix\n",
      " [[28 28]\n",
      " [10 88]]\n",
      "Best Prameters  {'C': 1.0, 'gamma': 0.3, 'kernel': 'rbf'}\n",
      "Accuracy  0.7532467532467533\n",
      "Elapsed Time(train, test)  [1.08921, 0.00286]\n"
     ]
    }
   ],
   "source": [
    "\n",
    "print('Confusion Matrix\\n', confusion_matrix(y_test_a, y_pred))\n",
    "print('Best Prameters ', grid_search.best_params_)\n",
    "print('Accuracy ', acc_svm_kernel)\n",
    "print('Elapsed Time(train, test) ', elapsed_time_kernel_svm)"
   ]
  },
  {
   "cell_type": "markdown",
   "metadata": {},
   "source": [
    "# One-Class SVM - Linear & Kernel"
   ]
  },
  {
   "cell_type": "code",
   "execution_count": 144,
   "metadata": {},
   "outputs": [
    {
     "name": "stdout",
     "output_type": "stream",
     "text": [
      "Fitting 7 folds for each of 30 candidates, totalling 210 fits\n",
      "[CV] END ..............................kernel=linear, nu=0.1; total time=   0.0s\n",
      "[CV] END ..............................kernel=linear, nu=0.1; total time=   0.0s\n",
      "[CV] END ..............................kernel=linear, nu=0.1; total time=   0.0s\n",
      "[CV] END ..............................kernel=linear, nu=0.1; total time=   0.0s\n",
      "[CV] END ..............................kernel=linear, nu=0.1; total time=   0.0s\n",
      "[CV] END ..............................kernel=linear, nu=0.1; total time=   0.0s\n",
      "[CV] END ..............................kernel=linear, nu=0.1; total time=   0.0s\n",
      "[CV] END .............................kernel=linear, nu=0.25; total time=   0.0s\n",
      "[CV] END .............................kernel=linear, nu=0.25; total time=   0.0s\n",
      "[CV] END .............................kernel=linear, nu=0.25; total time=   0.0s\n",
      "[CV] END .............................kernel=linear, nu=0.25; total time=   0.0s\n",
      "[CV] END .............................kernel=linear, nu=0.25; total time=   0.0s\n",
      "[CV] END .............................kernel=linear, nu=0.25; total time=   0.0s\n",
      "[CV] END .............................kernel=linear, nu=0.25; total time=   0.0s\n",
      "[CV] END ................................kernel=linear, nu=0; total time=   0.0s\n",
      "[CV] END ................................kernel=linear, nu=0; total time=   0.0s\n",
      "[CV] END ................................kernel=linear, nu=0; total time=   0.0s\n",
      "[CV] END ................................kernel=linear, nu=0; total time=   0.0s\n",
      "[CV] END ................................kernel=linear, nu=0; total time=   0.0s\n",
      "[CV] END ................................kernel=linear, nu=0; total time=   0.0s\n",
      "[CV] END ................................kernel=linear, nu=0; total time=   0.0s\n",
      "[CV] END ................................kernel=linear, nu=5; total time=   0.0s\n",
      "[CV] END ................................kernel=linear, nu=5; total time=   0.0s\n",
      "[CV] END ................................kernel=linear, nu=5; total time=   0.0s\n",
      "[CV] END ................................kernel=linear, nu=5; total time=   0.0s\n",
      "[CV] END ................................kernel=linear, nu=5; total time=   0.0s\n",
      "[CV] END ................................kernel=linear, nu=5; total time=   0.0s\n",
      "[CV] END ................................kernel=linear, nu=5; total time=   0.0s\n",
      "[CV] END ..............................kernel=linear, nu=0.7; total time=   0.0s\n",
      "[CV] END ..............................kernel=linear, nu=0.7; total time=   0.0s\n",
      "[CV] END ..............................kernel=linear, nu=0.7; total time=   0.0s\n",
      "[CV] END ..............................kernel=linear, nu=0.7; total time=   0.0s\n",
      "[CV] END ..............................kernel=linear, nu=0.7; total time=   0.0s\n",
      "[CV] END ..............................kernel=linear, nu=0.7; total time=   0.0s\n"
     ]
    },
    {
     "name": "stderr",
     "output_type": "stream",
     "text": [
      "c:\\venv_python_3.10\\lib\\site-packages\\sklearn\\model_selection\\_validation.py:776: UserWarning: Scoring failed. The score on this train-test partition for these parameters will be set to nan. Details: \n",
      "Traceback (most recent call last):\n",
      "  File \"c:\\venv_python_3.10\\lib\\site-packages\\sklearn\\model_selection\\_validation.py\", line 765, in _score\n",
      "    scores = scorer(estimator, X_test)\n",
      "TypeError: _BaseScorer.__call__() missing 1 required positional argument: 'y_true'\n",
      "\n",
      "  warnings.warn(\n",
      "c:\\venv_python_3.10\\lib\\site-packages\\sklearn\\model_selection\\_validation.py:776: UserWarning: Scoring failed. The score on this train-test partition for these parameters will be set to nan. Details: \n",
      "Traceback (most recent call last):\n",
      "  File \"c:\\venv_python_3.10\\lib\\site-packages\\sklearn\\model_selection\\_validation.py\", line 765, in _score\n",
      "    scores = scorer(estimator, X_test)\n",
      "TypeError: _BaseScorer.__call__() missing 1 required positional argument: 'y_true'\n",
      "\n",
      "  warnings.warn(\n",
      "c:\\venv_python_3.10\\lib\\site-packages\\sklearn\\model_selection\\_validation.py:776: UserWarning: Scoring failed. The score on this train-test partition for these parameters will be set to nan. Details: \n",
      "Traceback (most recent call last):\n",
      "  File \"c:\\venv_python_3.10\\lib\\site-packages\\sklearn\\model_selection\\_validation.py\", line 765, in _score\n",
      "    scores = scorer(estimator, X_test)\n",
      "TypeError: _BaseScorer.__call__() missing 1 required positional argument: 'y_true'\n",
      "\n",
      "  warnings.warn(\n",
      "c:\\venv_python_3.10\\lib\\site-packages\\sklearn\\model_selection\\_validation.py:776: UserWarning: Scoring failed. The score on this train-test partition for these parameters will be set to nan. Details: \n",
      "Traceback (most recent call last):\n",
      "  File \"c:\\venv_python_3.10\\lib\\site-packages\\sklearn\\model_selection\\_validation.py\", line 765, in _score\n",
      "    scores = scorer(estimator, X_test)\n",
      "TypeError: _BaseScorer.__call__() missing 1 required positional argument: 'y_true'\n",
      "\n",
      "  warnings.warn(\n",
      "c:\\venv_python_3.10\\lib\\site-packages\\sklearn\\model_selection\\_validation.py:776: UserWarning: Scoring failed. The score on this train-test partition for these parameters will be set to nan. Details: \n",
      "Traceback (most recent call last):\n",
      "  File \"c:\\venv_python_3.10\\lib\\site-packages\\sklearn\\model_selection\\_validation.py\", line 765, in _score\n",
      "    scores = scorer(estimator, X_test)\n",
      "TypeError: _BaseScorer.__call__() missing 1 required positional argument: 'y_true'\n",
      "\n",
      "  warnings.warn(\n",
      "c:\\venv_python_3.10\\lib\\site-packages\\sklearn\\model_selection\\_validation.py:776: UserWarning: Scoring failed. The score on this train-test partition for these parameters will be set to nan. Details: \n",
      "Traceback (most recent call last):\n",
      "  File \"c:\\venv_python_3.10\\lib\\site-packages\\sklearn\\model_selection\\_validation.py\", line 765, in _score\n",
      "    scores = scorer(estimator, X_test)\n",
      "TypeError: _BaseScorer.__call__() missing 1 required positional argument: 'y_true'\n",
      "\n",
      "  warnings.warn(\n",
      "c:\\venv_python_3.10\\lib\\site-packages\\sklearn\\model_selection\\_validation.py:776: UserWarning: Scoring failed. The score on this train-test partition for these parameters will be set to nan. Details: \n",
      "Traceback (most recent call last):\n",
      "  File \"c:\\venv_python_3.10\\lib\\site-packages\\sklearn\\model_selection\\_validation.py\", line 765, in _score\n",
      "    scores = scorer(estimator, X_test)\n",
      "TypeError: _BaseScorer.__call__() missing 1 required positional argument: 'y_true'\n",
      "\n",
      "  warnings.warn(\n",
      "c:\\venv_python_3.10\\lib\\site-packages\\sklearn\\model_selection\\_validation.py:776: UserWarning: Scoring failed. The score on this train-test partition for these parameters will be set to nan. Details: \n",
      "Traceback (most recent call last):\n",
      "  File \"c:\\venv_python_3.10\\lib\\site-packages\\sklearn\\model_selection\\_validation.py\", line 765, in _score\n",
      "    scores = scorer(estimator, X_test)\n",
      "TypeError: _BaseScorer.__call__() missing 1 required positional argument: 'y_true'\n",
      "\n",
      "  warnings.warn(\n",
      "c:\\venv_python_3.10\\lib\\site-packages\\sklearn\\model_selection\\_validation.py:776: UserWarning: Scoring failed. The score on this train-test partition for these parameters will be set to nan. Details: \n",
      "Traceback (most recent call last):\n",
      "  File \"c:\\venv_python_3.10\\lib\\site-packages\\sklearn\\model_selection\\_validation.py\", line 765, in _score\n",
      "    scores = scorer(estimator, X_test)\n",
      "TypeError: _BaseScorer.__call__() missing 1 required positional argument: 'y_true'\n",
      "\n",
      "  warnings.warn(\n",
      "c:\\venv_python_3.10\\lib\\site-packages\\sklearn\\model_selection\\_validation.py:776: UserWarning: Scoring failed. The score on this train-test partition for these parameters will be set to nan. Details: \n",
      "Traceback (most recent call last):\n",
      "  File \"c:\\venv_python_3.10\\lib\\site-packages\\sklearn\\model_selection\\_validation.py\", line 765, in _score\n",
      "    scores = scorer(estimator, X_test)\n",
      "TypeError: _BaseScorer.__call__() missing 1 required positional argument: 'y_true'\n",
      "\n",
      "  warnings.warn(\n",
      "c:\\venv_python_3.10\\lib\\site-packages\\sklearn\\model_selection\\_validation.py:776: UserWarning: Scoring failed. The score on this train-test partition for these parameters will be set to nan. Details: \n",
      "Traceback (most recent call last):\n",
      "  File \"c:\\venv_python_3.10\\lib\\site-packages\\sklearn\\model_selection\\_validation.py\", line 765, in _score\n",
      "    scores = scorer(estimator, X_test)\n",
      "TypeError: _BaseScorer.__call__() missing 1 required positional argument: 'y_true'\n",
      "\n",
      "  warnings.warn(\n",
      "c:\\venv_python_3.10\\lib\\site-packages\\sklearn\\model_selection\\_validation.py:776: UserWarning: Scoring failed. The score on this train-test partition for these parameters will be set to nan. Details: \n",
      "Traceback (most recent call last):\n",
      "  File \"c:\\venv_python_3.10\\lib\\site-packages\\sklearn\\model_selection\\_validation.py\", line 765, in _score\n",
      "    scores = scorer(estimator, X_test)\n",
      "TypeError: _BaseScorer.__call__() missing 1 required positional argument: 'y_true'\n",
      "\n",
      "  warnings.warn(\n",
      "c:\\venv_python_3.10\\lib\\site-packages\\sklearn\\model_selection\\_validation.py:776: UserWarning: Scoring failed. The score on this train-test partition for these parameters will be set to nan. Details: \n",
      "Traceback (most recent call last):\n",
      "  File \"c:\\venv_python_3.10\\lib\\site-packages\\sklearn\\model_selection\\_validation.py\", line 765, in _score\n",
      "    scores = scorer(estimator, X_test)\n",
      "TypeError: _BaseScorer.__call__() missing 1 required positional argument: 'y_true'\n",
      "\n",
      "  warnings.warn(\n",
      "c:\\venv_python_3.10\\lib\\site-packages\\sklearn\\model_selection\\_validation.py:776: UserWarning: Scoring failed. The score on this train-test partition for these parameters will be set to nan. Details: \n",
      "Traceback (most recent call last):\n",
      "  File \"c:\\venv_python_3.10\\lib\\site-packages\\sklearn\\model_selection\\_validation.py\", line 765, in _score\n",
      "    scores = scorer(estimator, X_test)\n",
      "TypeError: _BaseScorer.__call__() missing 1 required positional argument: 'y_true'\n",
      "\n",
      "  warnings.warn(\n",
      "c:\\venv_python_3.10\\lib\\site-packages\\sklearn\\model_selection\\_validation.py:776: UserWarning: Scoring failed. The score on this train-test partition for these parameters will be set to nan. Details: \n",
      "Traceback (most recent call last):\n",
      "  File \"c:\\venv_python_3.10\\lib\\site-packages\\sklearn\\model_selection\\_validation.py\", line 765, in _score\n",
      "    scores = scorer(estimator, X_test)\n",
      "TypeError: _BaseScorer.__call__() missing 1 required positional argument: 'y_true'\n",
      "\n",
      "  warnings.warn(\n",
      "c:\\venv_python_3.10\\lib\\site-packages\\sklearn\\model_selection\\_validation.py:776: UserWarning: Scoring failed. The score on this train-test partition for these parameters will be set to nan. Details: \n",
      "Traceback (most recent call last):\n",
      "  File \"c:\\venv_python_3.10\\lib\\site-packages\\sklearn\\model_selection\\_validation.py\", line 765, in _score\n",
      "    scores = scorer(estimator, X_test)\n",
      "TypeError: _BaseScorer.__call__() missing 1 required positional argument: 'y_true'\n",
      "\n",
      "  warnings.warn(\n",
      "c:\\venv_python_3.10\\lib\\site-packages\\sklearn\\model_selection\\_validation.py:776: UserWarning: Scoring failed. The score on this train-test partition for these parameters will be set to nan. Details: \n",
      "Traceback (most recent call last):\n",
      "  File \"c:\\venv_python_3.10\\lib\\site-packages\\sklearn\\model_selection\\_validation.py\", line 765, in _score\n",
      "    scores = scorer(estimator, X_test)\n",
      "TypeError: _BaseScorer.__call__() missing 1 required positional argument: 'y_true'\n",
      "\n",
      "  warnings.warn(\n",
      "c:\\venv_python_3.10\\lib\\site-packages\\sklearn\\model_selection\\_validation.py:776: UserWarning: Scoring failed. The score on this train-test partition for these parameters will be set to nan. Details: \n",
      "Traceback (most recent call last):\n",
      "  File \"c:\\venv_python_3.10\\lib\\site-packages\\sklearn\\model_selection\\_validation.py\", line 765, in _score\n",
      "    scores = scorer(estimator, X_test)\n",
      "TypeError: _BaseScorer.__call__() missing 1 required positional argument: 'y_true'\n",
      "\n",
      "  warnings.warn(\n",
      "c:\\venv_python_3.10\\lib\\site-packages\\sklearn\\model_selection\\_validation.py:776: UserWarning: Scoring failed. The score on this train-test partition for these parameters will be set to nan. Details: \n",
      "Traceback (most recent call last):\n",
      "  File \"c:\\venv_python_3.10\\lib\\site-packages\\sklearn\\model_selection\\_validation.py\", line 765, in _score\n",
      "    scores = scorer(estimator, X_test)\n",
      "TypeError: _BaseScorer.__call__() missing 1 required positional argument: 'y_true'\n",
      "\n",
      "  warnings.warn(\n",
      "c:\\venv_python_3.10\\lib\\site-packages\\sklearn\\model_selection\\_validation.py:776: UserWarning: Scoring failed. The score on this train-test partition for these parameters will be set to nan. Details: \n",
      "Traceback (most recent call last):\n",
      "  File \"c:\\venv_python_3.10\\lib\\site-packages\\sklearn\\model_selection\\_validation.py\", line 765, in _score\n",
      "    scores = scorer(estimator, X_test)\n",
      "TypeError: _BaseScorer.__call__() missing 1 required positional argument: 'y_true'\n",
      "\n",
      "  warnings.warn(\n"
     ]
    },
    {
     "name": "stdout",
     "output_type": "stream",
     "text": [
      "[CV] END ..............................kernel=linear, nu=0.7; total time=   0.0s\n",
      "[CV] END .....................gamma=0.01, kernel=rbf, nu=0.1; total time=   0.0s\n",
      "[CV] END .....................gamma=0.01, kernel=rbf, nu=0.1; total time=   0.0s\n",
      "[CV] END .....................gamma=0.01, kernel=rbf, nu=0.1; total time=   0.0s\n",
      "[CV] END .....................gamma=0.01, kernel=rbf, nu=0.1; total time=   0.0s\n",
      "[CV] END .....................gamma=0.01, kernel=rbf, nu=0.1; total time=   0.0s\n",
      "[CV] END .....................gamma=0.01, kernel=rbf, nu=0.1; total time=   0.0s\n",
      "[CV] END .....................gamma=0.01, kernel=rbf, nu=0.1; total time=   0.0s\n",
      "[CV] END ....................gamma=0.01, kernel=rbf, nu=0.25; total time=   0.0s\n",
      "[CV] END ....................gamma=0.01, kernel=rbf, nu=0.25; total time=   0.0s\n",
      "[CV] END ....................gamma=0.01, kernel=rbf, nu=0.25; total time=   0.0s\n",
      "[CV] END ....................gamma=0.01, kernel=rbf, nu=0.25; total time=   0.0s\n",
      "[CV] END ....................gamma=0.01, kernel=rbf, nu=0.25; total time=   0.0s\n",
      "[CV] END ....................gamma=0.01, kernel=rbf, nu=0.25; total time=   0.0s\n",
      "[CV] END ....................gamma=0.01, kernel=rbf, nu=0.25; total time=   0.0s\n",
      "[CV] END .......................gamma=0.01, kernel=rbf, nu=0; total time=   0.0s\n",
      "[CV] END .......................gamma=0.01, kernel=rbf, nu=0; total time=   0.0s\n",
      "[CV] END .......................gamma=0.01, kernel=rbf, nu=0; total time=   0.0s\n",
      "[CV] END .......................gamma=0.01, kernel=rbf, nu=0; total time=   0.0s\n",
      "[CV] END .......................gamma=0.01, kernel=rbf, nu=0; total time=   0.0s\n",
      "[CV] END .......................gamma=0.01, kernel=rbf, nu=0; total time=   0.0s\n",
      "[CV] END .......................gamma=0.01, kernel=rbf, nu=0; total time=   0.0s\n",
      "[CV] END .......................gamma=0.01, kernel=rbf, nu=5; total time=   0.0s\n",
      "[CV] END .......................gamma=0.01, kernel=rbf, nu=5; total time=   0.0s\n",
      "[CV] END .......................gamma=0.01, kernel=rbf, nu=5; total time=   0.0s\n",
      "[CV] END .......................gamma=0.01, kernel=rbf, nu=5; total time=   0.0s\n",
      "[CV] END .......................gamma=0.01, kernel=rbf, nu=5; total time=   0.0s\n",
      "[CV] END .......................gamma=0.01, kernel=rbf, nu=5; total time=   0.0s\n",
      "[CV] END .......................gamma=0.01, kernel=rbf, nu=5; total time=   0.0s\n",
      "[CV] END .....................gamma=0.01, kernel=rbf, nu=0.7; total time=   0.0s\n"
     ]
    },
    {
     "name": "stderr",
     "output_type": "stream",
     "text": [
      "c:\\venv_python_3.10\\lib\\site-packages\\sklearn\\model_selection\\_validation.py:776: UserWarning: Scoring failed. The score on this train-test partition for these parameters will be set to nan. Details: \n",
      "Traceback (most recent call last):\n",
      "  File \"c:\\venv_python_3.10\\lib\\site-packages\\sklearn\\model_selection\\_validation.py\", line 765, in _score\n",
      "    scores = scorer(estimator, X_test)\n",
      "TypeError: _BaseScorer.__call__() missing 1 required positional argument: 'y_true'\n",
      "\n",
      "  warnings.warn(\n",
      "c:\\venv_python_3.10\\lib\\site-packages\\sklearn\\model_selection\\_validation.py:776: UserWarning: Scoring failed. The score on this train-test partition for these parameters will be set to nan. Details: \n",
      "Traceback (most recent call last):\n",
      "  File \"c:\\venv_python_3.10\\lib\\site-packages\\sklearn\\model_selection\\_validation.py\", line 765, in _score\n",
      "    scores = scorer(estimator, X_test)\n",
      "TypeError: _BaseScorer.__call__() missing 1 required positional argument: 'y_true'\n",
      "\n",
      "  warnings.warn(\n",
      "c:\\venv_python_3.10\\lib\\site-packages\\sklearn\\model_selection\\_validation.py:776: UserWarning: Scoring failed. The score on this train-test partition for these parameters will be set to nan. Details: \n",
      "Traceback (most recent call last):\n",
      "  File \"c:\\venv_python_3.10\\lib\\site-packages\\sklearn\\model_selection\\_validation.py\", line 765, in _score\n",
      "    scores = scorer(estimator, X_test)\n",
      "TypeError: _BaseScorer.__call__() missing 1 required positional argument: 'y_true'\n",
      "\n",
      "  warnings.warn(\n",
      "c:\\venv_python_3.10\\lib\\site-packages\\sklearn\\model_selection\\_validation.py:776: UserWarning: Scoring failed. The score on this train-test partition for these parameters will be set to nan. Details: \n",
      "Traceback (most recent call last):\n",
      "  File \"c:\\venv_python_3.10\\lib\\site-packages\\sklearn\\model_selection\\_validation.py\", line 765, in _score\n",
      "    scores = scorer(estimator, X_test)\n",
      "TypeError: _BaseScorer.__call__() missing 1 required positional argument: 'y_true'\n",
      "\n",
      "  warnings.warn(\n",
      "c:\\venv_python_3.10\\lib\\site-packages\\sklearn\\model_selection\\_validation.py:776: UserWarning: Scoring failed. The score on this train-test partition for these parameters will be set to nan. Details: \n",
      "Traceback (most recent call last):\n",
      "  File \"c:\\venv_python_3.10\\lib\\site-packages\\sklearn\\model_selection\\_validation.py\", line 765, in _score\n",
      "    scores = scorer(estimator, X_test)\n",
      "TypeError: _BaseScorer.__call__() missing 1 required positional argument: 'y_true'\n",
      "\n",
      "  warnings.warn(\n",
      "c:\\venv_python_3.10\\lib\\site-packages\\sklearn\\model_selection\\_validation.py:776: UserWarning: Scoring failed. The score on this train-test partition for these parameters will be set to nan. Details: \n",
      "Traceback (most recent call last):\n",
      "  File \"c:\\venv_python_3.10\\lib\\site-packages\\sklearn\\model_selection\\_validation.py\", line 765, in _score\n",
      "    scores = scorer(estimator, X_test)\n",
      "TypeError: _BaseScorer.__call__() missing 1 required positional argument: 'y_true'\n",
      "\n",
      "  warnings.warn(\n",
      "c:\\venv_python_3.10\\lib\\site-packages\\sklearn\\model_selection\\_validation.py:776: UserWarning: Scoring failed. The score on this train-test partition for these parameters will be set to nan. Details: \n",
      "Traceback (most recent call last):\n",
      "  File \"c:\\venv_python_3.10\\lib\\site-packages\\sklearn\\model_selection\\_validation.py\", line 765, in _score\n",
      "    scores = scorer(estimator, X_test)\n",
      "TypeError: _BaseScorer.__call__() missing 1 required positional argument: 'y_true'\n",
      "\n",
      "  warnings.warn(\n",
      "c:\\venv_python_3.10\\lib\\site-packages\\sklearn\\model_selection\\_validation.py:776: UserWarning: Scoring failed. The score on this train-test partition for these parameters will be set to nan. Details: \n",
      "Traceback (most recent call last):\n",
      "  File \"c:\\venv_python_3.10\\lib\\site-packages\\sklearn\\model_selection\\_validation.py\", line 765, in _score\n",
      "    scores = scorer(estimator, X_test)\n",
      "TypeError: _BaseScorer.__call__() missing 1 required positional argument: 'y_true'\n",
      "\n",
      "  warnings.warn(\n",
      "c:\\venv_python_3.10\\lib\\site-packages\\sklearn\\model_selection\\_validation.py:776: UserWarning: Scoring failed. The score on this train-test partition for these parameters will be set to nan. Details: \n",
      "Traceback (most recent call last):\n",
      "  File \"c:\\venv_python_3.10\\lib\\site-packages\\sklearn\\model_selection\\_validation.py\", line 765, in _score\n",
      "    scores = scorer(estimator, X_test)\n",
      "TypeError: _BaseScorer.__call__() missing 1 required positional argument: 'y_true'\n",
      "\n",
      "  warnings.warn(\n",
      "c:\\venv_python_3.10\\lib\\site-packages\\sklearn\\model_selection\\_validation.py:776: UserWarning: Scoring failed. The score on this train-test partition for these parameters will be set to nan. Details: \n",
      "Traceback (most recent call last):\n",
      "  File \"c:\\venv_python_3.10\\lib\\site-packages\\sklearn\\model_selection\\_validation.py\", line 765, in _score\n",
      "    scores = scorer(estimator, X_test)\n",
      "TypeError: _BaseScorer.__call__() missing 1 required positional argument: 'y_true'\n",
      "\n",
      "  warnings.warn(\n",
      "c:\\venv_python_3.10\\lib\\site-packages\\sklearn\\model_selection\\_validation.py:776: UserWarning: Scoring failed. The score on this train-test partition for these parameters will be set to nan. Details: \n",
      "Traceback (most recent call last):\n",
      "  File \"c:\\venv_python_3.10\\lib\\site-packages\\sklearn\\model_selection\\_validation.py\", line 765, in _score\n",
      "    scores = scorer(estimator, X_test)\n",
      "TypeError: _BaseScorer.__call__() missing 1 required positional argument: 'y_true'\n",
      "\n",
      "  warnings.warn(\n",
      "c:\\venv_python_3.10\\lib\\site-packages\\sklearn\\model_selection\\_validation.py:776: UserWarning: Scoring failed. The score on this train-test partition for these parameters will be set to nan. Details: \n",
      "Traceback (most recent call last):\n",
      "  File \"c:\\venv_python_3.10\\lib\\site-packages\\sklearn\\model_selection\\_validation.py\", line 765, in _score\n",
      "    scores = scorer(estimator, X_test)\n",
      "TypeError: _BaseScorer.__call__() missing 1 required positional argument: 'y_true'\n",
      "\n",
      "  warnings.warn(\n",
      "c:\\venv_python_3.10\\lib\\site-packages\\sklearn\\model_selection\\_validation.py:776: UserWarning: Scoring failed. The score on this train-test partition for these parameters will be set to nan. Details: \n",
      "Traceback (most recent call last):\n",
      "  File \"c:\\venv_python_3.10\\lib\\site-packages\\sklearn\\model_selection\\_validation.py\", line 765, in _score\n",
      "    scores = scorer(estimator, X_test)\n",
      "TypeError: _BaseScorer.__call__() missing 1 required positional argument: 'y_true'\n",
      "\n",
      "  warnings.warn(\n",
      "c:\\venv_python_3.10\\lib\\site-packages\\sklearn\\model_selection\\_validation.py:776: UserWarning: Scoring failed. The score on this train-test partition for these parameters will be set to nan. Details: \n",
      "Traceback (most recent call last):\n",
      "  File \"c:\\venv_python_3.10\\lib\\site-packages\\sklearn\\model_selection\\_validation.py\", line 765, in _score\n",
      "    scores = scorer(estimator, X_test)\n",
      "TypeError: _BaseScorer.__call__() missing 1 required positional argument: 'y_true'\n",
      "\n",
      "  warnings.warn(\n",
      "c:\\venv_python_3.10\\lib\\site-packages\\sklearn\\model_selection\\_validation.py:776: UserWarning: Scoring failed. The score on this train-test partition for these parameters will be set to nan. Details: \n",
      "Traceback (most recent call last):\n",
      "  File \"c:\\venv_python_3.10\\lib\\site-packages\\sklearn\\model_selection\\_validation.py\", line 765, in _score\n",
      "    scores = scorer(estimator, X_test)\n",
      "TypeError: _BaseScorer.__call__() missing 1 required positional argument: 'y_true'\n",
      "\n",
      "  warnings.warn(\n",
      "c:\\venv_python_3.10\\lib\\site-packages\\sklearn\\model_selection\\_validation.py:776: UserWarning: Scoring failed. The score on this train-test partition for these parameters will be set to nan. Details: \n",
      "Traceback (most recent call last):\n",
      "  File \"c:\\venv_python_3.10\\lib\\site-packages\\sklearn\\model_selection\\_validation.py\", line 765, in _score\n",
      "    scores = scorer(estimator, X_test)\n",
      "TypeError: _BaseScorer.__call__() missing 1 required positional argument: 'y_true'\n",
      "\n",
      "  warnings.warn(\n",
      "c:\\venv_python_3.10\\lib\\site-packages\\sklearn\\model_selection\\_validation.py:776: UserWarning: Scoring failed. The score on this train-test partition for these parameters will be set to nan. Details: \n",
      "Traceback (most recent call last):\n",
      "  File \"c:\\venv_python_3.10\\lib\\site-packages\\sklearn\\model_selection\\_validation.py\", line 765, in _score\n",
      "    scores = scorer(estimator, X_test)\n",
      "TypeError: _BaseScorer.__call__() missing 1 required positional argument: 'y_true'\n",
      "\n",
      "  warnings.warn(\n",
      "c:\\venv_python_3.10\\lib\\site-packages\\sklearn\\model_selection\\_validation.py:776: UserWarning: Scoring failed. The score on this train-test partition for these parameters will be set to nan. Details: \n",
      "Traceback (most recent call last):\n",
      "  File \"c:\\venv_python_3.10\\lib\\site-packages\\sklearn\\model_selection\\_validation.py\", line 765, in _score\n",
      "    scores = scorer(estimator, X_test)\n",
      "TypeError: _BaseScorer.__call__() missing 1 required positional argument: 'y_true'\n",
      "\n",
      "  warnings.warn(\n"
     ]
    },
    {
     "name": "stdout",
     "output_type": "stream",
     "text": [
      "[CV] END .....................gamma=0.01, kernel=rbf, nu=0.7; total time=   0.0s\n",
      "[CV] END .....................gamma=0.01, kernel=rbf, nu=0.7; total time=   0.0s\n",
      "[CV] END .....................gamma=0.01, kernel=rbf, nu=0.7; total time=   0.0s\n",
      "[CV] END .....................gamma=0.01, kernel=rbf, nu=0.7; total time=   0.0s\n",
      "[CV] END .....................gamma=0.01, kernel=rbf, nu=0.7; total time=   0.0s\n",
      "[CV] END .....................gamma=0.01, kernel=rbf, nu=0.7; total time=   0.0s\n",
      "[CV] END .....................gamma=0.03, kernel=rbf, nu=0.1; total time=   0.0s\n",
      "[CV] END .....................gamma=0.03, kernel=rbf, nu=0.1; total time=   0.0s\n",
      "[CV] END .....................gamma=0.03, kernel=rbf, nu=0.1; total time=   0.0s\n",
      "[CV] END .....................gamma=0.03, kernel=rbf, nu=0.1; total time=   0.0s\n",
      "[CV] END .....................gamma=0.03, kernel=rbf, nu=0.1; total time=   0.0s\n",
      "[CV] END .....................gamma=0.03, kernel=rbf, nu=0.1; total time=   0.0s\n",
      "[CV] END .....................gamma=0.03, kernel=rbf, nu=0.1; total time=   0.0s\n",
      "[CV] END ....................gamma=0.03, kernel=rbf, nu=0.25; total time=   0.0s\n",
      "[CV] END ....................gamma=0.03, kernel=rbf, nu=0.25; total time=   0.0s\n",
      "[CV] END ....................gamma=0.03, kernel=rbf, nu=0.25; total time=   0.0s\n"
     ]
    },
    {
     "name": "stderr",
     "output_type": "stream",
     "text": [
      "c:\\venv_python_3.10\\lib\\site-packages\\sklearn\\model_selection\\_validation.py:776: UserWarning: Scoring failed. The score on this train-test partition for these parameters will be set to nan. Details: \n",
      "Traceback (most recent call last):\n",
      "  File \"c:\\venv_python_3.10\\lib\\site-packages\\sklearn\\model_selection\\_validation.py\", line 765, in _score\n",
      "    scores = scorer(estimator, X_test)\n",
      "TypeError: _BaseScorer.__call__() missing 1 required positional argument: 'y_true'\n",
      "\n",
      "  warnings.warn(\n",
      "c:\\venv_python_3.10\\lib\\site-packages\\sklearn\\model_selection\\_validation.py:776: UserWarning: Scoring failed. The score on this train-test partition for these parameters will be set to nan. Details: \n",
      "Traceback (most recent call last):\n",
      "  File \"c:\\venv_python_3.10\\lib\\site-packages\\sklearn\\model_selection\\_validation.py\", line 765, in _score\n",
      "    scores = scorer(estimator, X_test)\n",
      "TypeError: _BaseScorer.__call__() missing 1 required positional argument: 'y_true'\n",
      "\n",
      "  warnings.warn(\n",
      "c:\\venv_python_3.10\\lib\\site-packages\\sklearn\\model_selection\\_validation.py:776: UserWarning: Scoring failed. The score on this train-test partition for these parameters will be set to nan. Details: \n",
      "Traceback (most recent call last):\n",
      "  File \"c:\\venv_python_3.10\\lib\\site-packages\\sklearn\\model_selection\\_validation.py\", line 765, in _score\n",
      "    scores = scorer(estimator, X_test)\n",
      "TypeError: _BaseScorer.__call__() missing 1 required positional argument: 'y_true'\n",
      "\n",
      "  warnings.warn(\n",
      "c:\\venv_python_3.10\\lib\\site-packages\\sklearn\\model_selection\\_validation.py:776: UserWarning: Scoring failed. The score on this train-test partition for these parameters will be set to nan. Details: \n",
      "Traceback (most recent call last):\n",
      "  File \"c:\\venv_python_3.10\\lib\\site-packages\\sklearn\\model_selection\\_validation.py\", line 765, in _score\n",
      "    scores = scorer(estimator, X_test)\n",
      "TypeError: _BaseScorer.__call__() missing 1 required positional argument: 'y_true'\n",
      "\n",
      "  warnings.warn(\n",
      "c:\\venv_python_3.10\\lib\\site-packages\\sklearn\\model_selection\\_validation.py:776: UserWarning: Scoring failed. The score on this train-test partition for these parameters will be set to nan. Details: \n",
      "Traceback (most recent call last):\n",
      "  File \"c:\\venv_python_3.10\\lib\\site-packages\\sklearn\\model_selection\\_validation.py\", line 765, in _score\n",
      "    scores = scorer(estimator, X_test)\n",
      "TypeError: _BaseScorer.__call__() missing 1 required positional argument: 'y_true'\n",
      "\n",
      "  warnings.warn(\n",
      "c:\\venv_python_3.10\\lib\\site-packages\\sklearn\\model_selection\\_validation.py:776: UserWarning: Scoring failed. The score on this train-test partition for these parameters will be set to nan. Details: \n",
      "Traceback (most recent call last):\n",
      "  File \"c:\\venv_python_3.10\\lib\\site-packages\\sklearn\\model_selection\\_validation.py\", line 765, in _score\n",
      "    scores = scorer(estimator, X_test)\n",
      "TypeError: _BaseScorer.__call__() missing 1 required positional argument: 'y_true'\n",
      "\n",
      "  warnings.warn(\n",
      "c:\\venv_python_3.10\\lib\\site-packages\\sklearn\\model_selection\\_validation.py:776: UserWarning: Scoring failed. The score on this train-test partition for these parameters will be set to nan. Details: \n",
      "Traceback (most recent call last):\n",
      "  File \"c:\\venv_python_3.10\\lib\\site-packages\\sklearn\\model_selection\\_validation.py\", line 765, in _score\n",
      "    scores = scorer(estimator, X_test)\n",
      "TypeError: _BaseScorer.__call__() missing 1 required positional argument: 'y_true'\n",
      "\n",
      "  warnings.warn(\n",
      "c:\\venv_python_3.10\\lib\\site-packages\\sklearn\\model_selection\\_validation.py:776: UserWarning: Scoring failed. The score on this train-test partition for these parameters will be set to nan. Details: \n",
      "Traceback (most recent call last):\n",
      "  File \"c:\\venv_python_3.10\\lib\\site-packages\\sklearn\\model_selection\\_validation.py\", line 765, in _score\n",
      "    scores = scorer(estimator, X_test)\n",
      "TypeError: _BaseScorer.__call__() missing 1 required positional argument: 'y_true'\n",
      "\n",
      "  warnings.warn(\n",
      "c:\\venv_python_3.10\\lib\\site-packages\\sklearn\\model_selection\\_validation.py:776: UserWarning: Scoring failed. The score on this train-test partition for these parameters will be set to nan. Details: \n",
      "Traceback (most recent call last):\n",
      "  File \"c:\\venv_python_3.10\\lib\\site-packages\\sklearn\\model_selection\\_validation.py\", line 765, in _score\n",
      "    scores = scorer(estimator, X_test)\n",
      "TypeError: _BaseScorer.__call__() missing 1 required positional argument: 'y_true'\n",
      "\n",
      "  warnings.warn(\n",
      "c:\\venv_python_3.10\\lib\\site-packages\\sklearn\\model_selection\\_validation.py:776: UserWarning: Scoring failed. The score on this train-test partition for these parameters will be set to nan. Details: \n",
      "Traceback (most recent call last):\n",
      "  File \"c:\\venv_python_3.10\\lib\\site-packages\\sklearn\\model_selection\\_validation.py\", line 765, in _score\n",
      "    scores = scorer(estimator, X_test)\n",
      "TypeError: _BaseScorer.__call__() missing 1 required positional argument: 'y_true'\n",
      "\n",
      "  warnings.warn(\n",
      "c:\\venv_python_3.10\\lib\\site-packages\\sklearn\\model_selection\\_validation.py:776: UserWarning: Scoring failed. The score on this train-test partition for these parameters will be set to nan. Details: \n",
      "Traceback (most recent call last):\n",
      "  File \"c:\\venv_python_3.10\\lib\\site-packages\\sklearn\\model_selection\\_validation.py\", line 765, in _score\n",
      "    scores = scorer(estimator, X_test)\n",
      "TypeError: _BaseScorer.__call__() missing 1 required positional argument: 'y_true'\n",
      "\n",
      "  warnings.warn(\n",
      "c:\\venv_python_3.10\\lib\\site-packages\\sklearn\\model_selection\\_validation.py:776: UserWarning: Scoring failed. The score on this train-test partition for these parameters will be set to nan. Details: \n",
      "Traceback (most recent call last):\n",
      "  File \"c:\\venv_python_3.10\\lib\\site-packages\\sklearn\\model_selection\\_validation.py\", line 765, in _score\n",
      "    scores = scorer(estimator, X_test)\n",
      "TypeError: _BaseScorer.__call__() missing 1 required positional argument: 'y_true'\n",
      "\n",
      "  warnings.warn(\n",
      "c:\\venv_python_3.10\\lib\\site-packages\\sklearn\\model_selection\\_validation.py:776: UserWarning: Scoring failed. The score on this train-test partition for these parameters will be set to nan. Details: \n",
      "Traceback (most recent call last):\n",
      "  File \"c:\\venv_python_3.10\\lib\\site-packages\\sklearn\\model_selection\\_validation.py\", line 765, in _score\n",
      "    scores = scorer(estimator, X_test)\n",
      "TypeError: _BaseScorer.__call__() missing 1 required positional argument: 'y_true'\n",
      "\n",
      "  warnings.warn(\n",
      "c:\\venv_python_3.10\\lib\\site-packages\\sklearn\\model_selection\\_validation.py:776: UserWarning: Scoring failed. The score on this train-test partition for these parameters will be set to nan. Details: \n",
      "Traceback (most recent call last):\n",
      "  File \"c:\\venv_python_3.10\\lib\\site-packages\\sklearn\\model_selection\\_validation.py\", line 765, in _score\n",
      "    scores = scorer(estimator, X_test)\n",
      "TypeError: _BaseScorer.__call__() missing 1 required positional argument: 'y_true'\n",
      "\n",
      "  warnings.warn(\n",
      "c:\\venv_python_3.10\\lib\\site-packages\\sklearn\\model_selection\\_validation.py:776: UserWarning: Scoring failed. The score on this train-test partition for these parameters will be set to nan. Details: \n",
      "Traceback (most recent call last):\n",
      "  File \"c:\\venv_python_3.10\\lib\\site-packages\\sklearn\\model_selection\\_validation.py\", line 765, in _score\n",
      "    scores = scorer(estimator, X_test)\n",
      "TypeError: _BaseScorer.__call__() missing 1 required positional argument: 'y_true'\n",
      "\n",
      "  warnings.warn(\n",
      "c:\\venv_python_3.10\\lib\\site-packages\\sklearn\\model_selection\\_validation.py:776: UserWarning: Scoring failed. The score on this train-test partition for these parameters will be set to nan. Details: \n",
      "Traceback (most recent call last):\n",
      "  File \"c:\\venv_python_3.10\\lib\\site-packages\\sklearn\\model_selection\\_validation.py\", line 765, in _score\n",
      "    scores = scorer(estimator, X_test)\n",
      "TypeError: _BaseScorer.__call__() missing 1 required positional argument: 'y_true'\n",
      "\n",
      "  warnings.warn(\n",
      "c:\\venv_python_3.10\\lib\\site-packages\\sklearn\\model_selection\\_validation.py:776: UserWarning: Scoring failed. The score on this train-test partition for these parameters will be set to nan. Details: \n",
      "Traceback (most recent call last):\n",
      "  File \"c:\\venv_python_3.10\\lib\\site-packages\\sklearn\\model_selection\\_validation.py\", line 765, in _score\n",
      "    scores = scorer(estimator, X_test)\n",
      "TypeError: _BaseScorer.__call__() missing 1 required positional argument: 'y_true'\n",
      "\n",
      "  warnings.warn(\n"
     ]
    },
    {
     "name": "stdout",
     "output_type": "stream",
     "text": [
      "[CV] END ....................gamma=0.03, kernel=rbf, nu=0.25; total time=   0.0s\n",
      "[CV] END ....................gamma=0.03, kernel=rbf, nu=0.25; total time=   0.0s\n",
      "[CV] END ....................gamma=0.03, kernel=rbf, nu=0.25; total time=   0.0s\n",
      "[CV] END ....................gamma=0.03, kernel=rbf, nu=0.25; total time=   0.0s\n",
      "[CV] END .......................gamma=0.03, kernel=rbf, nu=0; total time=   0.0s\n",
      "[CV] END .......................gamma=0.03, kernel=rbf, nu=0; total time=   0.0s\n",
      "[CV] END .......................gamma=0.03, kernel=rbf, nu=0; total time=   0.0s\n",
      "[CV] END .......................gamma=0.03, kernel=rbf, nu=0; total time=   0.0s\n",
      "[CV] END .......................gamma=0.03, kernel=rbf, nu=0; total time=   0.0s\n",
      "[CV] END .......................gamma=0.03, kernel=rbf, nu=0; total time=   0.0s\n",
      "[CV] END .......................gamma=0.03, kernel=rbf, nu=0; total time=   0.0s\n",
      "[CV] END .......................gamma=0.03, kernel=rbf, nu=5; total time=   0.0s\n",
      "[CV] END .......................gamma=0.03, kernel=rbf, nu=5; total time=   0.0s\n",
      "[CV] END .......................gamma=0.03, kernel=rbf, nu=5; total time=   0.0s\n",
      "[CV] END .......................gamma=0.03, kernel=rbf, nu=5; total time=   0.0s\n",
      "[CV] END .......................gamma=0.03, kernel=rbf, nu=5; total time=   0.0s\n",
      "[CV] END .......................gamma=0.03, kernel=rbf, nu=5; total time=   0.0s\n",
      "[CV] END .......................gamma=0.03, kernel=rbf, nu=5; total time=   0.0s\n",
      "[CV] END .....................gamma=0.03, kernel=rbf, nu=0.7; total time=   0.0s\n",
      "[CV] END .....................gamma=0.03, kernel=rbf, nu=0.7; total time=   0.0s\n",
      "[CV] END .....................gamma=0.03, kernel=rbf, nu=0.7; total time=   0.0s\n",
      "[CV] END .....................gamma=0.03, kernel=rbf, nu=0.7; total time=   0.0s\n",
      "[CV] END .....................gamma=0.03, kernel=rbf, nu=0.7; total time=   0.0s\n",
      "[CV] END .....................gamma=0.03, kernel=rbf, nu=0.7; total time=   0.0s\n"
     ]
    },
    {
     "name": "stderr",
     "output_type": "stream",
     "text": [
      "c:\\venv_python_3.10\\lib\\site-packages\\sklearn\\model_selection\\_validation.py:776: UserWarning: Scoring failed. The score on this train-test partition for these parameters will be set to nan. Details: \n",
      "Traceback (most recent call last):\n",
      "  File \"c:\\venv_python_3.10\\lib\\site-packages\\sklearn\\model_selection\\_validation.py\", line 765, in _score\n",
      "    scores = scorer(estimator, X_test)\n",
      "TypeError: _BaseScorer.__call__() missing 1 required positional argument: 'y_true'\n",
      "\n",
      "  warnings.warn(\n",
      "c:\\venv_python_3.10\\lib\\site-packages\\sklearn\\model_selection\\_validation.py:776: UserWarning: Scoring failed. The score on this train-test partition for these parameters will be set to nan. Details: \n",
      "Traceback (most recent call last):\n",
      "  File \"c:\\venv_python_3.10\\lib\\site-packages\\sklearn\\model_selection\\_validation.py\", line 765, in _score\n",
      "    scores = scorer(estimator, X_test)\n",
      "TypeError: _BaseScorer.__call__() missing 1 required positional argument: 'y_true'\n",
      "\n",
      "  warnings.warn(\n",
      "c:\\venv_python_3.10\\lib\\site-packages\\sklearn\\model_selection\\_validation.py:776: UserWarning: Scoring failed. The score on this train-test partition for these parameters will be set to nan. Details: \n",
      "Traceback (most recent call last):\n",
      "  File \"c:\\venv_python_3.10\\lib\\site-packages\\sklearn\\model_selection\\_validation.py\", line 765, in _score\n",
      "    scores = scorer(estimator, X_test)\n",
      "TypeError: _BaseScorer.__call__() missing 1 required positional argument: 'y_true'\n",
      "\n",
      "  warnings.warn(\n",
      "c:\\venv_python_3.10\\lib\\site-packages\\sklearn\\model_selection\\_validation.py:776: UserWarning: Scoring failed. The score on this train-test partition for these parameters will be set to nan. Details: \n",
      "Traceback (most recent call last):\n",
      "  File \"c:\\venv_python_3.10\\lib\\site-packages\\sklearn\\model_selection\\_validation.py\", line 765, in _score\n",
      "    scores = scorer(estimator, X_test)\n",
      "TypeError: _BaseScorer.__call__() missing 1 required positional argument: 'y_true'\n",
      "\n",
      "  warnings.warn(\n",
      "c:\\venv_python_3.10\\lib\\site-packages\\sklearn\\model_selection\\_validation.py:776: UserWarning: Scoring failed. The score on this train-test partition for these parameters will be set to nan. Details: \n",
      "Traceback (most recent call last):\n",
      "  File \"c:\\venv_python_3.10\\lib\\site-packages\\sklearn\\model_selection\\_validation.py\", line 765, in _score\n",
      "    scores = scorer(estimator, X_test)\n",
      "TypeError: _BaseScorer.__call__() missing 1 required positional argument: 'y_true'\n",
      "\n",
      "  warnings.warn(\n",
      "c:\\venv_python_3.10\\lib\\site-packages\\sklearn\\model_selection\\_validation.py:776: UserWarning: Scoring failed. The score on this train-test partition for these parameters will be set to nan. Details: \n",
      "Traceback (most recent call last):\n",
      "  File \"c:\\venv_python_3.10\\lib\\site-packages\\sklearn\\model_selection\\_validation.py\", line 765, in _score\n",
      "    scores = scorer(estimator, X_test)\n",
      "TypeError: _BaseScorer.__call__() missing 1 required positional argument: 'y_true'\n",
      "\n",
      "  warnings.warn(\n",
      "c:\\venv_python_3.10\\lib\\site-packages\\sklearn\\model_selection\\_validation.py:776: UserWarning: Scoring failed. The score on this train-test partition for these parameters will be set to nan. Details: \n",
      "Traceback (most recent call last):\n",
      "  File \"c:\\venv_python_3.10\\lib\\site-packages\\sklearn\\model_selection\\_validation.py\", line 765, in _score\n",
      "    scores = scorer(estimator, X_test)\n",
      "TypeError: _BaseScorer.__call__() missing 1 required positional argument: 'y_true'\n",
      "\n",
      "  warnings.warn(\n",
      "c:\\venv_python_3.10\\lib\\site-packages\\sklearn\\model_selection\\_validation.py:776: UserWarning: Scoring failed. The score on this train-test partition for these parameters will be set to nan. Details: \n",
      "Traceback (most recent call last):\n",
      "  File \"c:\\venv_python_3.10\\lib\\site-packages\\sklearn\\model_selection\\_validation.py\", line 765, in _score\n",
      "    scores = scorer(estimator, X_test)\n",
      "TypeError: _BaseScorer.__call__() missing 1 required positional argument: 'y_true'\n",
      "\n",
      "  warnings.warn(\n",
      "c:\\venv_python_3.10\\lib\\site-packages\\sklearn\\model_selection\\_validation.py:776: UserWarning: Scoring failed. The score on this train-test partition for these parameters will be set to nan. Details: \n",
      "Traceback (most recent call last):\n",
      "  File \"c:\\venv_python_3.10\\lib\\site-packages\\sklearn\\model_selection\\_validation.py\", line 765, in _score\n",
      "    scores = scorer(estimator, X_test)\n",
      "TypeError: _BaseScorer.__call__() missing 1 required positional argument: 'y_true'\n",
      "\n",
      "  warnings.warn(\n",
      "c:\\venv_python_3.10\\lib\\site-packages\\sklearn\\model_selection\\_validation.py:776: UserWarning: Scoring failed. The score on this train-test partition for these parameters will be set to nan. Details: \n",
      "Traceback (most recent call last):\n",
      "  File \"c:\\venv_python_3.10\\lib\\site-packages\\sklearn\\model_selection\\_validation.py\", line 765, in _score\n",
      "    scores = scorer(estimator, X_test)\n",
      "TypeError: _BaseScorer.__call__() missing 1 required positional argument: 'y_true'\n",
      "\n",
      "  warnings.warn(\n",
      "c:\\venv_python_3.10\\lib\\site-packages\\sklearn\\model_selection\\_validation.py:776: UserWarning: Scoring failed. The score on this train-test partition for these parameters will be set to nan. Details: \n",
      "Traceback (most recent call last):\n",
      "  File \"c:\\venv_python_3.10\\lib\\site-packages\\sklearn\\model_selection\\_validation.py\", line 765, in _score\n",
      "    scores = scorer(estimator, X_test)\n",
      "TypeError: _BaseScorer.__call__() missing 1 required positional argument: 'y_true'\n",
      "\n",
      "  warnings.warn(\n",
      "c:\\venv_python_3.10\\lib\\site-packages\\sklearn\\model_selection\\_validation.py:776: UserWarning: Scoring failed. The score on this train-test partition for these parameters will be set to nan. Details: \n",
      "Traceback (most recent call last):\n",
      "  File \"c:\\venv_python_3.10\\lib\\site-packages\\sklearn\\model_selection\\_validation.py\", line 765, in _score\n",
      "    scores = scorer(estimator, X_test)\n",
      "TypeError: _BaseScorer.__call__() missing 1 required positional argument: 'y_true'\n",
      "\n",
      "  warnings.warn(\n",
      "c:\\venv_python_3.10\\lib\\site-packages\\sklearn\\model_selection\\_validation.py:776: UserWarning: Scoring failed. The score on this train-test partition for these parameters will be set to nan. Details: \n",
      "Traceback (most recent call last):\n",
      "  File \"c:\\venv_python_3.10\\lib\\site-packages\\sklearn\\model_selection\\_validation.py\", line 765, in _score\n",
      "    scores = scorer(estimator, X_test)\n",
      "TypeError: _BaseScorer.__call__() missing 1 required positional argument: 'y_true'\n",
      "\n",
      "  warnings.warn(\n"
     ]
    },
    {
     "name": "stdout",
     "output_type": "stream",
     "text": [
      "[CV] END .....................gamma=0.03, kernel=rbf, nu=0.7; total time=   0.0s\n",
      "[CV] END ......................gamma=0.1, kernel=rbf, nu=0.1; total time=   0.0s\n",
      "[CV] END ......................gamma=0.1, kernel=rbf, nu=0.1; total time=   0.0s\n",
      "[CV] END ......................gamma=0.1, kernel=rbf, nu=0.1; total time=   0.0s\n",
      "[CV] END ......................gamma=0.1, kernel=rbf, nu=0.1; total time=   0.0s\n",
      "[CV] END ......................gamma=0.1, kernel=rbf, nu=0.1; total time=   0.0s\n",
      "[CV] END ......................gamma=0.1, kernel=rbf, nu=0.1; total time=   0.0s\n",
      "[CV] END ......................gamma=0.1, kernel=rbf, nu=0.1; total time=   0.0s\n",
      "[CV] END .....................gamma=0.1, kernel=rbf, nu=0.25; total time=   0.0s\n",
      "[CV] END .....................gamma=0.1, kernel=rbf, nu=0.25; total time=   0.0s\n",
      "[CV] END .....................gamma=0.1, kernel=rbf, nu=0.25; total time=   0.0s\n",
      "[CV] END .....................gamma=0.1, kernel=rbf, nu=0.25; total time=   0.0s\n",
      "[CV] END .....................gamma=0.1, kernel=rbf, nu=0.25; total time=   0.0s\n",
      "[CV] END .....................gamma=0.1, kernel=rbf, nu=0.25; total time=   0.0s\n",
      "[CV] END .....................gamma=0.1, kernel=rbf, nu=0.25; total time=   0.0s\n",
      "[CV] END ........................gamma=0.1, kernel=rbf, nu=0; total time=   0.0s\n",
      "[CV] END ........................gamma=0.1, kernel=rbf, nu=0; total time=   0.0s\n",
      "[CV] END ........................gamma=0.1, kernel=rbf, nu=0; total time=   0.0s\n",
      "[CV] END ........................gamma=0.1, kernel=rbf, nu=0; total time=   0.0s\n",
      "[CV] END ........................gamma=0.1, kernel=rbf, nu=0; total time=   0.0s\n",
      "[CV] END ........................gamma=0.1, kernel=rbf, nu=0; total time=   0.0s\n",
      "[CV] END ........................gamma=0.1, kernel=rbf, nu=0; total time=   0.0s\n",
      "[CV] END ........................gamma=0.1, kernel=rbf, nu=5; total time=   0.0s\n",
      "[CV] END ........................gamma=0.1, kernel=rbf, nu=5; total time=   0.0s\n",
      "[CV] END ........................gamma=0.1, kernel=rbf, nu=5; total time=   0.0s\n",
      "[CV] END ........................gamma=0.1, kernel=rbf, nu=5; total time=   0.0s\n",
      "[CV] END ........................gamma=0.1, kernel=rbf, nu=5; total time=   0.0s\n",
      "[CV] END ........................gamma=0.1, kernel=rbf, nu=5; total time=   0.0s\n",
      "[CV] END ........................gamma=0.1, kernel=rbf, nu=5; total time=   0.0s\n",
      "[CV] END ......................gamma=0.1, kernel=rbf, nu=0.7; total time=   0.0s\n",
      "[CV] END ......................gamma=0.1, kernel=rbf, nu=0.7; total time=   0.0s\n"
     ]
    },
    {
     "name": "stderr",
     "output_type": "stream",
     "text": [
      "c:\\venv_python_3.10\\lib\\site-packages\\sklearn\\model_selection\\_validation.py:776: UserWarning: Scoring failed. The score on this train-test partition for these parameters will be set to nan. Details: \n",
      "Traceback (most recent call last):\n",
      "  File \"c:\\venv_python_3.10\\lib\\site-packages\\sklearn\\model_selection\\_validation.py\", line 765, in _score\n",
      "    scores = scorer(estimator, X_test)\n",
      "TypeError: _BaseScorer.__call__() missing 1 required positional argument: 'y_true'\n",
      "\n",
      "  warnings.warn(\n",
      "c:\\venv_python_3.10\\lib\\site-packages\\sklearn\\model_selection\\_validation.py:776: UserWarning: Scoring failed. The score on this train-test partition for these parameters will be set to nan. Details: \n",
      "Traceback (most recent call last):\n",
      "  File \"c:\\venv_python_3.10\\lib\\site-packages\\sklearn\\model_selection\\_validation.py\", line 765, in _score\n",
      "    scores = scorer(estimator, X_test)\n",
      "TypeError: _BaseScorer.__call__() missing 1 required positional argument: 'y_true'\n",
      "\n",
      "  warnings.warn(\n",
      "c:\\venv_python_3.10\\lib\\site-packages\\sklearn\\model_selection\\_validation.py:776: UserWarning: Scoring failed. The score on this train-test partition for these parameters will be set to nan. Details: \n",
      "Traceback (most recent call last):\n",
      "  File \"c:\\venv_python_3.10\\lib\\site-packages\\sklearn\\model_selection\\_validation.py\", line 765, in _score\n",
      "    scores = scorer(estimator, X_test)\n",
      "TypeError: _BaseScorer.__call__() missing 1 required positional argument: 'y_true'\n",
      "\n",
      "  warnings.warn(\n",
      "c:\\venv_python_3.10\\lib\\site-packages\\sklearn\\model_selection\\_validation.py:776: UserWarning: Scoring failed. The score on this train-test partition for these parameters will be set to nan. Details: \n",
      "Traceback (most recent call last):\n",
      "  File \"c:\\venv_python_3.10\\lib\\site-packages\\sklearn\\model_selection\\_validation.py\", line 765, in _score\n",
      "    scores = scorer(estimator, X_test)\n",
      "TypeError: _BaseScorer.__call__() missing 1 required positional argument: 'y_true'\n",
      "\n",
      "  warnings.warn(\n",
      "c:\\venv_python_3.10\\lib\\site-packages\\sklearn\\model_selection\\_validation.py:776: UserWarning: Scoring failed. The score on this train-test partition for these parameters will be set to nan. Details: \n",
      "Traceback (most recent call last):\n",
      "  File \"c:\\venv_python_3.10\\lib\\site-packages\\sklearn\\model_selection\\_validation.py\", line 765, in _score\n",
      "    scores = scorer(estimator, X_test)\n",
      "TypeError: _BaseScorer.__call__() missing 1 required positional argument: 'y_true'\n",
      "\n",
      "  warnings.warn(\n",
      "c:\\venv_python_3.10\\lib\\site-packages\\sklearn\\model_selection\\_validation.py:776: UserWarning: Scoring failed. The score on this train-test partition for these parameters will be set to nan. Details: \n",
      "Traceback (most recent call last):\n",
      "  File \"c:\\venv_python_3.10\\lib\\site-packages\\sklearn\\model_selection\\_validation.py\", line 765, in _score\n",
      "    scores = scorer(estimator, X_test)\n",
      "TypeError: _BaseScorer.__call__() missing 1 required positional argument: 'y_true'\n",
      "\n",
      "  warnings.warn(\n",
      "c:\\venv_python_3.10\\lib\\site-packages\\sklearn\\model_selection\\_validation.py:776: UserWarning: Scoring failed. The score on this train-test partition for these parameters will be set to nan. Details: \n",
      "Traceback (most recent call last):\n",
      "  File \"c:\\venv_python_3.10\\lib\\site-packages\\sklearn\\model_selection\\_validation.py\", line 765, in _score\n",
      "    scores = scorer(estimator, X_test)\n",
      "TypeError: _BaseScorer.__call__() missing 1 required positional argument: 'y_true'\n",
      "\n",
      "  warnings.warn(\n",
      "c:\\venv_python_3.10\\lib\\site-packages\\sklearn\\model_selection\\_validation.py:776: UserWarning: Scoring failed. The score on this train-test partition for these parameters will be set to nan. Details: \n",
      "Traceback (most recent call last):\n",
      "  File \"c:\\venv_python_3.10\\lib\\site-packages\\sklearn\\model_selection\\_validation.py\", line 765, in _score\n",
      "    scores = scorer(estimator, X_test)\n",
      "TypeError: _BaseScorer.__call__() missing 1 required positional argument: 'y_true'\n",
      "\n",
      "  warnings.warn(\n",
      "c:\\venv_python_3.10\\lib\\site-packages\\sklearn\\model_selection\\_validation.py:776: UserWarning: Scoring failed. The score on this train-test partition for these parameters will be set to nan. Details: \n",
      "Traceback (most recent call last):\n",
      "  File \"c:\\venv_python_3.10\\lib\\site-packages\\sklearn\\model_selection\\_validation.py\", line 765, in _score\n",
      "    scores = scorer(estimator, X_test)\n",
      "TypeError: _BaseScorer.__call__() missing 1 required positional argument: 'y_true'\n",
      "\n",
      "  warnings.warn(\n",
      "c:\\venv_python_3.10\\lib\\site-packages\\sklearn\\model_selection\\_validation.py:776: UserWarning: Scoring failed. The score on this train-test partition for these parameters will be set to nan. Details: \n",
      "Traceback (most recent call last):\n",
      "  File \"c:\\venv_python_3.10\\lib\\site-packages\\sklearn\\model_selection\\_validation.py\", line 765, in _score\n",
      "    scores = scorer(estimator, X_test)\n",
      "TypeError: _BaseScorer.__call__() missing 1 required positional argument: 'y_true'\n",
      "\n",
      "  warnings.warn(\n",
      "c:\\venv_python_3.10\\lib\\site-packages\\sklearn\\model_selection\\_validation.py:776: UserWarning: Scoring failed. The score on this train-test partition for these parameters will be set to nan. Details: \n",
      "Traceback (most recent call last):\n",
      "  File \"c:\\venv_python_3.10\\lib\\site-packages\\sklearn\\model_selection\\_validation.py\", line 765, in _score\n",
      "    scores = scorer(estimator, X_test)\n",
      "TypeError: _BaseScorer.__call__() missing 1 required positional argument: 'y_true'\n",
      "\n",
      "  warnings.warn(\n",
      "c:\\venv_python_3.10\\lib\\site-packages\\sklearn\\model_selection\\_validation.py:776: UserWarning: Scoring failed. The score on this train-test partition for these parameters will be set to nan. Details: \n",
      "Traceback (most recent call last):\n",
      "  File \"c:\\venv_python_3.10\\lib\\site-packages\\sklearn\\model_selection\\_validation.py\", line 765, in _score\n",
      "    scores = scorer(estimator, X_test)\n",
      "TypeError: _BaseScorer.__call__() missing 1 required positional argument: 'y_true'\n",
      "\n",
      "  warnings.warn(\n"
     ]
    },
    {
     "name": "stdout",
     "output_type": "stream",
     "text": [
      "[CV] END ......................gamma=0.1, kernel=rbf, nu=0.7; total time=   0.0s\n",
      "[CV] END ......................gamma=0.1, kernel=rbf, nu=0.7; total time=   0.0s\n",
      "[CV] END ......................gamma=0.1, kernel=rbf, nu=0.7; total time=   0.0s\n",
      "[CV] END ......................gamma=0.1, kernel=rbf, nu=0.7; total time=   0.0s\n",
      "[CV] END ......................gamma=0.1, kernel=rbf, nu=0.7; total time=   0.0s\n",
      "[CV] END ......................gamma=0.3, kernel=rbf, nu=0.1; total time=   0.0s\n",
      "[CV] END ......................gamma=0.3, kernel=rbf, nu=0.1; total time=   0.0s\n",
      "[CV] END ......................gamma=0.3, kernel=rbf, nu=0.1; total time=   0.0s\n",
      "[CV] END ......................gamma=0.3, kernel=rbf, nu=0.1; total time=   0.0s\n",
      "[CV] END ......................gamma=0.3, kernel=rbf, nu=0.1; total time=   0.0s\n",
      "[CV] END ......................gamma=0.3, kernel=rbf, nu=0.1; total time=   0.0s\n",
      "[CV] END ......................gamma=0.3, kernel=rbf, nu=0.1; total time=   0.0s\n",
      "[CV] END .....................gamma=0.3, kernel=rbf, nu=0.25; total time=   0.0s\n",
      "[CV] END .....................gamma=0.3, kernel=rbf, nu=0.25; total time=   0.0s\n",
      "[CV] END .....................gamma=0.3, kernel=rbf, nu=0.25; total time=   0.0s\n",
      "[CV] END .....................gamma=0.3, kernel=rbf, nu=0.25; total time=   0.0s\n"
     ]
    },
    {
     "name": "stderr",
     "output_type": "stream",
     "text": [
      "c:\\venv_python_3.10\\lib\\site-packages\\sklearn\\model_selection\\_validation.py:776: UserWarning: Scoring failed. The score on this train-test partition for these parameters will be set to nan. Details: \n",
      "Traceback (most recent call last):\n",
      "  File \"c:\\venv_python_3.10\\lib\\site-packages\\sklearn\\model_selection\\_validation.py\", line 765, in _score\n",
      "    scores = scorer(estimator, X_test)\n",
      "TypeError: _BaseScorer.__call__() missing 1 required positional argument: 'y_true'\n",
      "\n",
      "  warnings.warn(\n",
      "c:\\venv_python_3.10\\lib\\site-packages\\sklearn\\model_selection\\_validation.py:776: UserWarning: Scoring failed. The score on this train-test partition for these parameters will be set to nan. Details: \n",
      "Traceback (most recent call last):\n",
      "  File \"c:\\venv_python_3.10\\lib\\site-packages\\sklearn\\model_selection\\_validation.py\", line 765, in _score\n",
      "    scores = scorer(estimator, X_test)\n",
      "TypeError: _BaseScorer.__call__() missing 1 required positional argument: 'y_true'\n",
      "\n",
      "  warnings.warn(\n",
      "c:\\venv_python_3.10\\lib\\site-packages\\sklearn\\model_selection\\_validation.py:776: UserWarning: Scoring failed. The score on this train-test partition for these parameters will be set to nan. Details: \n",
      "Traceback (most recent call last):\n",
      "  File \"c:\\venv_python_3.10\\lib\\site-packages\\sklearn\\model_selection\\_validation.py\", line 765, in _score\n",
      "    scores = scorer(estimator, X_test)\n",
      "TypeError: _BaseScorer.__call__() missing 1 required positional argument: 'y_true'\n",
      "\n",
      "  warnings.warn(\n",
      "c:\\venv_python_3.10\\lib\\site-packages\\sklearn\\model_selection\\_validation.py:776: UserWarning: Scoring failed. The score on this train-test partition for these parameters will be set to nan. Details: \n",
      "Traceback (most recent call last):\n",
      "  File \"c:\\venv_python_3.10\\lib\\site-packages\\sklearn\\model_selection\\_validation.py\", line 765, in _score\n",
      "    scores = scorer(estimator, X_test)\n",
      "TypeError: _BaseScorer.__call__() missing 1 required positional argument: 'y_true'\n",
      "\n",
      "  warnings.warn(\n",
      "c:\\venv_python_3.10\\lib\\site-packages\\sklearn\\model_selection\\_validation.py:776: UserWarning: Scoring failed. The score on this train-test partition for these parameters will be set to nan. Details: \n",
      "Traceback (most recent call last):\n",
      "  File \"c:\\venv_python_3.10\\lib\\site-packages\\sklearn\\model_selection\\_validation.py\", line 765, in _score\n",
      "    scores = scorer(estimator, X_test)\n",
      "TypeError: _BaseScorer.__call__() missing 1 required positional argument: 'y_true'\n",
      "\n",
      "  warnings.warn(\n",
      "c:\\venv_python_3.10\\lib\\site-packages\\sklearn\\model_selection\\_validation.py:776: UserWarning: Scoring failed. The score on this train-test partition for these parameters will be set to nan. Details: \n",
      "Traceback (most recent call last):\n",
      "  File \"c:\\venv_python_3.10\\lib\\site-packages\\sklearn\\model_selection\\_validation.py\", line 765, in _score\n",
      "    scores = scorer(estimator, X_test)\n",
      "TypeError: _BaseScorer.__call__() missing 1 required positional argument: 'y_true'\n",
      "\n",
      "  warnings.warn(\n",
      "c:\\venv_python_3.10\\lib\\site-packages\\sklearn\\model_selection\\_validation.py:776: UserWarning: Scoring failed. The score on this train-test partition for these parameters will be set to nan. Details: \n",
      "Traceback (most recent call last):\n",
      "  File \"c:\\venv_python_3.10\\lib\\site-packages\\sklearn\\model_selection\\_validation.py\", line 765, in _score\n",
      "    scores = scorer(estimator, X_test)\n",
      "TypeError: _BaseScorer.__call__() missing 1 required positional argument: 'y_true'\n",
      "\n",
      "  warnings.warn(\n",
      "c:\\venv_python_3.10\\lib\\site-packages\\sklearn\\model_selection\\_validation.py:776: UserWarning: Scoring failed. The score on this train-test partition for these parameters will be set to nan. Details: \n",
      "Traceback (most recent call last):\n",
      "  File \"c:\\venv_python_3.10\\lib\\site-packages\\sklearn\\model_selection\\_validation.py\", line 765, in _score\n",
      "    scores = scorer(estimator, X_test)\n",
      "TypeError: _BaseScorer.__call__() missing 1 required positional argument: 'y_true'\n",
      "\n",
      "  warnings.warn(\n",
      "c:\\venv_python_3.10\\lib\\site-packages\\sklearn\\model_selection\\_validation.py:776: UserWarning: Scoring failed. The score on this train-test partition for these parameters will be set to nan. Details: \n",
      "Traceback (most recent call last):\n",
      "  File \"c:\\venv_python_3.10\\lib\\site-packages\\sklearn\\model_selection\\_validation.py\", line 765, in _score\n",
      "    scores = scorer(estimator, X_test)\n",
      "TypeError: _BaseScorer.__call__() missing 1 required positional argument: 'y_true'\n",
      "\n",
      "  warnings.warn(\n",
      "c:\\venv_python_3.10\\lib\\site-packages\\sklearn\\model_selection\\_validation.py:776: UserWarning: Scoring failed. The score on this train-test partition for these parameters will be set to nan. Details: \n",
      "Traceback (most recent call last):\n",
      "  File \"c:\\venv_python_3.10\\lib\\site-packages\\sklearn\\model_selection\\_validation.py\", line 765, in _score\n",
      "    scores = scorer(estimator, X_test)\n",
      "TypeError: _BaseScorer.__call__() missing 1 required positional argument: 'y_true'\n",
      "\n",
      "  warnings.warn(\n",
      "c:\\venv_python_3.10\\lib\\site-packages\\sklearn\\model_selection\\_validation.py:776: UserWarning: Scoring failed. The score on this train-test partition for these parameters will be set to nan. Details: \n",
      "Traceback (most recent call last):\n",
      "  File \"c:\\venv_python_3.10\\lib\\site-packages\\sklearn\\model_selection\\_validation.py\", line 765, in _score\n",
      "    scores = scorer(estimator, X_test)\n",
      "TypeError: _BaseScorer.__call__() missing 1 required positional argument: 'y_true'\n",
      "\n",
      "  warnings.warn(\n",
      "c:\\venv_python_3.10\\lib\\site-packages\\sklearn\\model_selection\\_validation.py:776: UserWarning: Scoring failed. The score on this train-test partition for these parameters will be set to nan. Details: \n",
      "Traceback (most recent call last):\n",
      "  File \"c:\\venv_python_3.10\\lib\\site-packages\\sklearn\\model_selection\\_validation.py\", line 765, in _score\n",
      "    scores = scorer(estimator, X_test)\n",
      "TypeError: _BaseScorer.__call__() missing 1 required positional argument: 'y_true'\n",
      "\n",
      "  warnings.warn(\n",
      "c:\\venv_python_3.10\\lib\\site-packages\\sklearn\\model_selection\\_validation.py:776: UserWarning: Scoring failed. The score on this train-test partition for these parameters will be set to nan. Details: \n",
      "Traceback (most recent call last):\n",
      "  File \"c:\\venv_python_3.10\\lib\\site-packages\\sklearn\\model_selection\\_validation.py\", line 765, in _score\n",
      "    scores = scorer(estimator, X_test)\n",
      "TypeError: _BaseScorer.__call__() missing 1 required positional argument: 'y_true'\n",
      "\n",
      "  warnings.warn(\n",
      "c:\\venv_python_3.10\\lib\\site-packages\\sklearn\\model_selection\\_validation.py:776: UserWarning: Scoring failed. The score on this train-test partition for these parameters will be set to nan. Details: \n",
      "Traceback (most recent call last):\n",
      "  File \"c:\\venv_python_3.10\\lib\\site-packages\\sklearn\\model_selection\\_validation.py\", line 765, in _score\n",
      "    scores = scorer(estimator, X_test)\n",
      "TypeError: _BaseScorer.__call__() missing 1 required positional argument: 'y_true'\n",
      "\n",
      "  warnings.warn(\n",
      "c:\\venv_python_3.10\\lib\\site-packages\\sklearn\\model_selection\\_validation.py:776: UserWarning: Scoring failed. The score on this train-test partition for these parameters will be set to nan. Details: \n",
      "Traceback (most recent call last):\n",
      "  File \"c:\\venv_python_3.10\\lib\\site-packages\\sklearn\\model_selection\\_validation.py\", line 765, in _score\n",
      "    scores = scorer(estimator, X_test)\n",
      "TypeError: _BaseScorer.__call__() missing 1 required positional argument: 'y_true'\n",
      "\n",
      "  warnings.warn(\n",
      "c:\\venv_python_3.10\\lib\\site-packages\\sklearn\\model_selection\\_validation.py:776: UserWarning: Scoring failed. The score on this train-test partition for these parameters will be set to nan. Details: \n",
      "Traceback (most recent call last):\n",
      "  File \"c:\\venv_python_3.10\\lib\\site-packages\\sklearn\\model_selection\\_validation.py\", line 765, in _score\n",
      "    scores = scorer(estimator, X_test)\n",
      "TypeError: _BaseScorer.__call__() missing 1 required positional argument: 'y_true'\n",
      "\n",
      "  warnings.warn(\n"
     ]
    },
    {
     "name": "stdout",
     "output_type": "stream",
     "text": [
      "[CV] END .....................gamma=0.3, kernel=rbf, nu=0.25; total time=   0.0s\n",
      "[CV] END .....................gamma=0.3, kernel=rbf, nu=0.25; total time=   0.0s\n",
      "[CV] END .....................gamma=0.3, kernel=rbf, nu=0.25; total time=   0.0s\n",
      "[CV] END ........................gamma=0.3, kernel=rbf, nu=0; total time=   0.0s\n",
      "[CV] END ........................gamma=0.3, kernel=rbf, nu=0; total time=   0.0s\n",
      "[CV] END ........................gamma=0.3, kernel=rbf, nu=0; total time=   0.0s\n",
      "[CV] END ........................gamma=0.3, kernel=rbf, nu=0; total time=   0.0s\n",
      "[CV] END ........................gamma=0.3, kernel=rbf, nu=0; total time=   0.0s\n",
      "[CV] END ........................gamma=0.3, kernel=rbf, nu=0; total time=   0.0s\n",
      "[CV] END ........................gamma=0.3, kernel=rbf, nu=0; total time=   0.0s\n",
      "[CV] END ........................gamma=0.3, kernel=rbf, nu=5; total time=   0.0s\n",
      "[CV] END ........................gamma=0.3, kernel=rbf, nu=5; total time=   0.0s\n",
      "[CV] END ........................gamma=0.3, kernel=rbf, nu=5; total time=   0.0s\n",
      "[CV] END ........................gamma=0.3, kernel=rbf, nu=5; total time=   0.0s\n",
      "[CV] END ........................gamma=0.3, kernel=rbf, nu=5; total time=   0.0s\n",
      "[CV] END ........................gamma=0.3, kernel=rbf, nu=5; total time=   0.0s\n",
      "[CV] END ........................gamma=0.3, kernel=rbf, nu=5; total time=   0.0s\n",
      "[CV] END ......................gamma=0.3, kernel=rbf, nu=0.7; total time=   0.0s\n",
      "[CV] END ......................gamma=0.3, kernel=rbf, nu=0.7; total time=   0.0s\n",
      "[CV] END ......................gamma=0.3, kernel=rbf, nu=0.7; total time=   0.0s\n",
      "[CV] END ......................gamma=0.3, kernel=rbf, nu=0.7; total time=   0.0s\n",
      "[CV] END ......................gamma=0.3, kernel=rbf, nu=0.7; total time=   0.0s\n",
      "[CV] END ......................gamma=0.3, kernel=rbf, nu=0.7; total time=   0.0s\n",
      "[CV] END ......................gamma=0.3, kernel=rbf, nu=0.7; total time=   0.0s\n"
     ]
    },
    {
     "name": "stderr",
     "output_type": "stream",
     "text": [
      "c:\\venv_python_3.10\\lib\\site-packages\\sklearn\\model_selection\\_validation.py:776: UserWarning: Scoring failed. The score on this train-test partition for these parameters will be set to nan. Details: \n",
      "Traceback (most recent call last):\n",
      "  File \"c:\\venv_python_3.10\\lib\\site-packages\\sklearn\\model_selection\\_validation.py\", line 765, in _score\n",
      "    scores = scorer(estimator, X_test)\n",
      "TypeError: _BaseScorer.__call__() missing 1 required positional argument: 'y_true'\n",
      "\n",
      "  warnings.warn(\n",
      "c:\\venv_python_3.10\\lib\\site-packages\\sklearn\\model_selection\\_validation.py:776: UserWarning: Scoring failed. The score on this train-test partition for these parameters will be set to nan. Details: \n",
      "Traceback (most recent call last):\n",
      "  File \"c:\\venv_python_3.10\\lib\\site-packages\\sklearn\\model_selection\\_validation.py\", line 765, in _score\n",
      "    scores = scorer(estimator, X_test)\n",
      "TypeError: _BaseScorer.__call__() missing 1 required positional argument: 'y_true'\n",
      "\n",
      "  warnings.warn(\n",
      "c:\\venv_python_3.10\\lib\\site-packages\\sklearn\\model_selection\\_validation.py:776: UserWarning: Scoring failed. The score on this train-test partition for these parameters will be set to nan. Details: \n",
      "Traceback (most recent call last):\n",
      "  File \"c:\\venv_python_3.10\\lib\\site-packages\\sklearn\\model_selection\\_validation.py\", line 765, in _score\n",
      "    scores = scorer(estimator, X_test)\n",
      "TypeError: _BaseScorer.__call__() missing 1 required positional argument: 'y_true'\n",
      "\n",
      "  warnings.warn(\n",
      "c:\\venv_python_3.10\\lib\\site-packages\\sklearn\\model_selection\\_validation.py:776: UserWarning: Scoring failed. The score on this train-test partition for these parameters will be set to nan. Details: \n",
      "Traceback (most recent call last):\n",
      "  File \"c:\\venv_python_3.10\\lib\\site-packages\\sklearn\\model_selection\\_validation.py\", line 765, in _score\n",
      "    scores = scorer(estimator, X_test)\n",
      "TypeError: _BaseScorer.__call__() missing 1 required positional argument: 'y_true'\n",
      "\n",
      "  warnings.warn(\n",
      "c:\\venv_python_3.10\\lib\\site-packages\\sklearn\\model_selection\\_validation.py:776: UserWarning: Scoring failed. The score on this train-test partition for these parameters will be set to nan. Details: \n",
      "Traceback (most recent call last):\n",
      "  File \"c:\\venv_python_3.10\\lib\\site-packages\\sklearn\\model_selection\\_validation.py\", line 765, in _score\n",
      "    scores = scorer(estimator, X_test)\n",
      "TypeError: _BaseScorer.__call__() missing 1 required positional argument: 'y_true'\n",
      "\n",
      "  warnings.warn(\n",
      "c:\\venv_python_3.10\\lib\\site-packages\\sklearn\\model_selection\\_validation.py:776: UserWarning: Scoring failed. The score on this train-test partition for these parameters will be set to nan. Details: \n",
      "Traceback (most recent call last):\n",
      "  File \"c:\\venv_python_3.10\\lib\\site-packages\\sklearn\\model_selection\\_validation.py\", line 765, in _score\n",
      "    scores = scorer(estimator, X_test)\n",
      "TypeError: _BaseScorer.__call__() missing 1 required positional argument: 'y_true'\n",
      "\n",
      "  warnings.warn(\n",
      "c:\\venv_python_3.10\\lib\\site-packages\\sklearn\\model_selection\\_validation.py:776: UserWarning: Scoring failed. The score on this train-test partition for these parameters will be set to nan. Details: \n",
      "Traceback (most recent call last):\n",
      "  File \"c:\\venv_python_3.10\\lib\\site-packages\\sklearn\\model_selection\\_validation.py\", line 765, in _score\n",
      "    scores = scorer(estimator, X_test)\n",
      "TypeError: _BaseScorer.__call__() missing 1 required positional argument: 'y_true'\n",
      "\n",
      "  warnings.warn(\n",
      "c:\\venv_python_3.10\\lib\\site-packages\\sklearn\\model_selection\\_validation.py:776: UserWarning: Scoring failed. The score on this train-test partition for these parameters will be set to nan. Details: \n",
      "Traceback (most recent call last):\n",
      "  File \"c:\\venv_python_3.10\\lib\\site-packages\\sklearn\\model_selection\\_validation.py\", line 765, in _score\n",
      "    scores = scorer(estimator, X_test)\n",
      "TypeError: _BaseScorer.__call__() missing 1 required positional argument: 'y_true'\n",
      "\n",
      "  warnings.warn(\n",
      "c:\\venv_python_3.10\\lib\\site-packages\\sklearn\\model_selection\\_validation.py:776: UserWarning: Scoring failed. The score on this train-test partition for these parameters will be set to nan. Details: \n",
      "Traceback (most recent call last):\n",
      "  File \"c:\\venv_python_3.10\\lib\\site-packages\\sklearn\\model_selection\\_validation.py\", line 765, in _score\n",
      "    scores = scorer(estimator, X_test)\n",
      "TypeError: _BaseScorer.__call__() missing 1 required positional argument: 'y_true'\n",
      "\n",
      "  warnings.warn(\n"
     ]
    },
    {
     "name": "stdout",
     "output_type": "stream",
     "text": [
      "[CV] END ......................gamma=1.0, kernel=rbf, nu=0.1; total time=   0.0s\n",
      "[CV] END ......................gamma=1.0, kernel=rbf, nu=0.1; total time=   0.0s\n",
      "[CV] END ......................gamma=1.0, kernel=rbf, nu=0.1; total time=   0.0s\n",
      "[CV] END ......................gamma=1.0, kernel=rbf, nu=0.1; total time=   0.0s\n"
     ]
    },
    {
     "name": "stderr",
     "output_type": "stream",
     "text": [
      "c:\\venv_python_3.10\\lib\\site-packages\\sklearn\\model_selection\\_validation.py:776: UserWarning: Scoring failed. The score on this train-test partition for these parameters will be set to nan. Details: \n",
      "Traceback (most recent call last):\n",
      "  File \"c:\\venv_python_3.10\\lib\\site-packages\\sklearn\\model_selection\\_validation.py\", line 765, in _score\n",
      "    scores = scorer(estimator, X_test)\n",
      "TypeError: _BaseScorer.__call__() missing 1 required positional argument: 'y_true'\n",
      "\n",
      "  warnings.warn(\n",
      "c:\\venv_python_3.10\\lib\\site-packages\\sklearn\\model_selection\\_validation.py:776: UserWarning: Scoring failed. The score on this train-test partition for these parameters will be set to nan. Details: \n",
      "Traceback (most recent call last):\n",
      "  File \"c:\\venv_python_3.10\\lib\\site-packages\\sklearn\\model_selection\\_validation.py\", line 765, in _score\n",
      "    scores = scorer(estimator, X_test)\n",
      "TypeError: _BaseScorer.__call__() missing 1 required positional argument: 'y_true'\n",
      "\n",
      "  warnings.warn(\n",
      "c:\\venv_python_3.10\\lib\\site-packages\\sklearn\\model_selection\\_validation.py:776: UserWarning: Scoring failed. The score on this train-test partition for these parameters will be set to nan. Details: \n",
      "Traceback (most recent call last):\n",
      "  File \"c:\\venv_python_3.10\\lib\\site-packages\\sklearn\\model_selection\\_validation.py\", line 765, in _score\n",
      "    scores = scorer(estimator, X_test)\n",
      "TypeError: _BaseScorer.__call__() missing 1 required positional argument: 'y_true'\n",
      "\n",
      "  warnings.warn(\n",
      "c:\\venv_python_3.10\\lib\\site-packages\\sklearn\\model_selection\\_validation.py:776: UserWarning: Scoring failed. The score on this train-test partition for these parameters will be set to nan. Details: \n",
      "Traceback (most recent call last):\n",
      "  File \"c:\\venv_python_3.10\\lib\\site-packages\\sklearn\\model_selection\\_validation.py\", line 765, in _score\n",
      "    scores = scorer(estimator, X_test)\n",
      "TypeError: _BaseScorer.__call__() missing 1 required positional argument: 'y_true'\n",
      "\n",
      "  warnings.warn(\n",
      "c:\\venv_python_3.10\\lib\\site-packages\\sklearn\\model_selection\\_validation.py:776: UserWarning: Scoring failed. The score on this train-test partition for these parameters will be set to nan. Details: \n",
      "Traceback (most recent call last):\n",
      "  File \"c:\\venv_python_3.10\\lib\\site-packages\\sklearn\\model_selection\\_validation.py\", line 765, in _score\n",
      "    scores = scorer(estimator, X_test)\n",
      "TypeError: _BaseScorer.__call__() missing 1 required positional argument: 'y_true'\n",
      "\n",
      "  warnings.warn(\n",
      "c:\\venv_python_3.10\\lib\\site-packages\\sklearn\\model_selection\\_validation.py:776: UserWarning: Scoring failed. The score on this train-test partition for these parameters will be set to nan. Details: \n",
      "Traceback (most recent call last):\n",
      "  File \"c:\\venv_python_3.10\\lib\\site-packages\\sklearn\\model_selection\\_validation.py\", line 765, in _score\n",
      "    scores = scorer(estimator, X_test)\n",
      "TypeError: _BaseScorer.__call__() missing 1 required positional argument: 'y_true'\n",
      "\n",
      "  warnings.warn(\n",
      "c:\\venv_python_3.10\\lib\\site-packages\\sklearn\\model_selection\\_validation.py:776: UserWarning: Scoring failed. The score on this train-test partition for these parameters will be set to nan. Details: \n",
      "Traceback (most recent call last):\n",
      "  File \"c:\\venv_python_3.10\\lib\\site-packages\\sklearn\\model_selection\\_validation.py\", line 765, in _score\n",
      "    scores = scorer(estimator, X_test)\n",
      "TypeError: _BaseScorer.__call__() missing 1 required positional argument: 'y_true'\n",
      "\n",
      "  warnings.warn(\n",
      "c:\\venv_python_3.10\\lib\\site-packages\\sklearn\\model_selection\\_validation.py:776: UserWarning: Scoring failed. The score on this train-test partition for these parameters will be set to nan. Details: \n",
      "Traceback (most recent call last):\n",
      "  File \"c:\\venv_python_3.10\\lib\\site-packages\\sklearn\\model_selection\\_validation.py\", line 765, in _score\n",
      "    scores = scorer(estimator, X_test)\n",
      "TypeError: _BaseScorer.__call__() missing 1 required positional argument: 'y_true'\n",
      "\n",
      "  warnings.warn(\n"
     ]
    },
    {
     "name": "stdout",
     "output_type": "stream",
     "text": [
      "[CV] END ......................gamma=1.0, kernel=rbf, nu=0.1; total time=   0.0s\n",
      "[CV] END ......................gamma=1.0, kernel=rbf, nu=0.1; total time=   0.0s\n",
      "[CV] END ......................gamma=1.0, kernel=rbf, nu=0.1; total time=   0.0s\n",
      "[CV] END .....................gamma=1.0, kernel=rbf, nu=0.25; total time=   0.0s\n",
      "[CV] END .....................gamma=1.0, kernel=rbf, nu=0.25; total time=   0.0s\n",
      "[CV] END .....................gamma=1.0, kernel=rbf, nu=0.25; total time=   0.0s\n",
      "[CV] END .....................gamma=1.0, kernel=rbf, nu=0.25; total time=   0.0s\n",
      "[CV] END .....................gamma=1.0, kernel=rbf, nu=0.25; total time=   0.0s\n"
     ]
    },
    {
     "name": "stderr",
     "output_type": "stream",
     "text": [
      "c:\\venv_python_3.10\\lib\\site-packages\\sklearn\\model_selection\\_validation.py:776: UserWarning: Scoring failed. The score on this train-test partition for these parameters will be set to nan. Details: \n",
      "Traceback (most recent call last):\n",
      "  File \"c:\\venv_python_3.10\\lib\\site-packages\\sklearn\\model_selection\\_validation.py\", line 765, in _score\n",
      "    scores = scorer(estimator, X_test)\n",
      "TypeError: _BaseScorer.__call__() missing 1 required positional argument: 'y_true'\n",
      "\n",
      "  warnings.warn(\n",
      "c:\\venv_python_3.10\\lib\\site-packages\\sklearn\\model_selection\\_validation.py:776: UserWarning: Scoring failed. The score on this train-test partition for these parameters will be set to nan. Details: \n",
      "Traceback (most recent call last):\n",
      "  File \"c:\\venv_python_3.10\\lib\\site-packages\\sklearn\\model_selection\\_validation.py\", line 765, in _score\n",
      "    scores = scorer(estimator, X_test)\n",
      "TypeError: _BaseScorer.__call__() missing 1 required positional argument: 'y_true'\n",
      "\n",
      "  warnings.warn(\n",
      "c:\\venv_python_3.10\\lib\\site-packages\\sklearn\\model_selection\\_validation.py:776: UserWarning: Scoring failed. The score on this train-test partition for these parameters will be set to nan. Details: \n",
      "Traceback (most recent call last):\n",
      "  File \"c:\\venv_python_3.10\\lib\\site-packages\\sklearn\\model_selection\\_validation.py\", line 765, in _score\n",
      "    scores = scorer(estimator, X_test)\n",
      "TypeError: _BaseScorer.__call__() missing 1 required positional argument: 'y_true'\n",
      "\n",
      "  warnings.warn(\n",
      "c:\\venv_python_3.10\\lib\\site-packages\\sklearn\\model_selection\\_validation.py:776: UserWarning: Scoring failed. The score on this train-test partition for these parameters will be set to nan. Details: \n",
      "Traceback (most recent call last):\n",
      "  File \"c:\\venv_python_3.10\\lib\\site-packages\\sklearn\\model_selection\\_validation.py\", line 765, in _score\n",
      "    scores = scorer(estimator, X_test)\n",
      "TypeError: _BaseScorer.__call__() missing 1 required positional argument: 'y_true'\n",
      "\n",
      "  warnings.warn(\n",
      "c:\\venv_python_3.10\\lib\\site-packages\\sklearn\\model_selection\\_validation.py:776: UserWarning: Scoring failed. The score on this train-test partition for these parameters will be set to nan. Details: \n",
      "Traceback (most recent call last):\n",
      "  File \"c:\\venv_python_3.10\\lib\\site-packages\\sklearn\\model_selection\\_validation.py\", line 765, in _score\n",
      "    scores = scorer(estimator, X_test)\n",
      "TypeError: _BaseScorer.__call__() missing 1 required positional argument: 'y_true'\n",
      "\n",
      "  warnings.warn(\n",
      "c:\\venv_python_3.10\\lib\\site-packages\\sklearn\\model_selection\\_validation.py:776: UserWarning: Scoring failed. The score on this train-test partition for these parameters will be set to nan. Details: \n",
      "Traceback (most recent call last):\n",
      "  File \"c:\\venv_python_3.10\\lib\\site-packages\\sklearn\\model_selection\\_validation.py\", line 765, in _score\n",
      "    scores = scorer(estimator, X_test)\n",
      "TypeError: _BaseScorer.__call__() missing 1 required positional argument: 'y_true'\n",
      "\n",
      "  warnings.warn(\n",
      "c:\\venv_python_3.10\\lib\\site-packages\\sklearn\\model_selection\\_validation.py:776: UserWarning: Scoring failed. The score on this train-test partition for these parameters will be set to nan. Details: \n",
      "Traceback (most recent call last):\n",
      "  File \"c:\\venv_python_3.10\\lib\\site-packages\\sklearn\\model_selection\\_validation.py\", line 765, in _score\n",
      "    scores = scorer(estimator, X_test)\n",
      "TypeError: _BaseScorer.__call__() missing 1 required positional argument: 'y_true'\n",
      "\n",
      "  warnings.warn(\n",
      "c:\\venv_python_3.10\\lib\\site-packages\\sklearn\\model_selection\\_validation.py:776: UserWarning: Scoring failed. The score on this train-test partition for these parameters will be set to nan. Details: \n",
      "Traceback (most recent call last):\n",
      "  File \"c:\\venv_python_3.10\\lib\\site-packages\\sklearn\\model_selection\\_validation.py\", line 765, in _score\n",
      "    scores = scorer(estimator, X_test)\n",
      "TypeError: _BaseScorer.__call__() missing 1 required positional argument: 'y_true'\n",
      "\n",
      "  warnings.warn(\n"
     ]
    },
    {
     "name": "stdout",
     "output_type": "stream",
     "text": [
      "[CV] END .....................gamma=1.0, kernel=rbf, nu=0.25; total time=   0.0s\n",
      "[CV] END .....................gamma=1.0, kernel=rbf, nu=0.25; total time=   0.0s\n",
      "[CV] END ........................gamma=1.0, kernel=rbf, nu=0; total time=   0.0s\n",
      "[CV] END ........................gamma=1.0, kernel=rbf, nu=0; total time=   0.0s\n",
      "[CV] END ........................gamma=1.0, kernel=rbf, nu=0; total time=   0.0s\n",
      "[CV] END ........................gamma=1.0, kernel=rbf, nu=0; total time=   0.0s\n",
      "[CV] END ........................gamma=1.0, kernel=rbf, nu=0; total time=   0.0s\n",
      "[CV] END ........................gamma=1.0, kernel=rbf, nu=0; total time=   0.0s\n",
      "[CV] END ........................gamma=1.0, kernel=rbf, nu=0; total time=   0.0s\n",
      "[CV] END ........................gamma=1.0, kernel=rbf, nu=5; total time=   0.0s\n",
      "[CV] END ........................gamma=1.0, kernel=rbf, nu=5; total time=   0.0s\n",
      "[CV] END ........................gamma=1.0, kernel=rbf, nu=5; total time=   0.0s\n",
      "[CV] END ........................gamma=1.0, kernel=rbf, nu=5; total time=   0.0s\n",
      "[CV] END ........................gamma=1.0, kernel=rbf, nu=5; total time=   0.0s\n",
      "[CV] END ........................gamma=1.0, kernel=rbf, nu=5; total time=   0.0s\n",
      "[CV] END ........................gamma=1.0, kernel=rbf, nu=5; total time=   0.0s\n",
      "[CV] END ......................gamma=1.0, kernel=rbf, nu=0.7; total time=   0.0s\n",
      "[CV] END ......................gamma=1.0, kernel=rbf, nu=0.7; total time=   0.0s\n",
      "[CV] END ......................gamma=1.0, kernel=rbf, nu=0.7; total time=   0.0s\n",
      "[CV] END ......................gamma=1.0, kernel=rbf, nu=0.7; total time=   0.0s\n",
      "[CV] END ......................gamma=1.0, kernel=rbf, nu=0.7; total time=   0.0s\n",
      "[CV] END ......................gamma=1.0, kernel=rbf, nu=0.7; total time=   0.0s\n",
      "[CV] END ......................gamma=1.0, kernel=rbf, nu=0.7; total time=   0.0s\n"
     ]
    },
    {
     "name": "stderr",
     "output_type": "stream",
     "text": [
      "c:\\venv_python_3.10\\lib\\site-packages\\sklearn\\model_selection\\_validation.py:776: UserWarning: Scoring failed. The score on this train-test partition for these parameters will be set to nan. Details: \n",
      "Traceback (most recent call last):\n",
      "  File \"c:\\venv_python_3.10\\lib\\site-packages\\sklearn\\model_selection\\_validation.py\", line 765, in _score\n",
      "    scores = scorer(estimator, X_test)\n",
      "TypeError: _BaseScorer.__call__() missing 1 required positional argument: 'y_true'\n",
      "\n",
      "  warnings.warn(\n",
      "c:\\venv_python_3.10\\lib\\site-packages\\sklearn\\model_selection\\_validation.py:776: UserWarning: Scoring failed. The score on this train-test partition for these parameters will be set to nan. Details: \n",
      "Traceback (most recent call last):\n",
      "  File \"c:\\venv_python_3.10\\lib\\site-packages\\sklearn\\model_selection\\_validation.py\", line 765, in _score\n",
      "    scores = scorer(estimator, X_test)\n",
      "TypeError: _BaseScorer.__call__() missing 1 required positional argument: 'y_true'\n",
      "\n",
      "  warnings.warn(\n",
      "c:\\venv_python_3.10\\lib\\site-packages\\sklearn\\model_selection\\_validation.py:776: UserWarning: Scoring failed. The score on this train-test partition for these parameters will be set to nan. Details: \n",
      "Traceback (most recent call last):\n",
      "  File \"c:\\venv_python_3.10\\lib\\site-packages\\sklearn\\model_selection\\_validation.py\", line 765, in _score\n",
      "    scores = scorer(estimator, X_test)\n",
      "TypeError: _BaseScorer.__call__() missing 1 required positional argument: 'y_true'\n",
      "\n",
      "  warnings.warn(\n",
      "c:\\venv_python_3.10\\lib\\site-packages\\sklearn\\model_selection\\_validation.py:776: UserWarning: Scoring failed. The score on this train-test partition for these parameters will be set to nan. Details: \n",
      "Traceback (most recent call last):\n",
      "  File \"c:\\venv_python_3.10\\lib\\site-packages\\sklearn\\model_selection\\_validation.py\", line 765, in _score\n",
      "    scores = scorer(estimator, X_test)\n",
      "TypeError: _BaseScorer.__call__() missing 1 required positional argument: 'y_true'\n",
      "\n",
      "  warnings.warn(\n",
      "c:\\venv_python_3.10\\lib\\site-packages\\sklearn\\model_selection\\_validation.py:776: UserWarning: Scoring failed. The score on this train-test partition for these parameters will be set to nan. Details: \n",
      "Traceback (most recent call last):\n",
      "  File \"c:\\venv_python_3.10\\lib\\site-packages\\sklearn\\model_selection\\_validation.py\", line 765, in _score\n",
      "    scores = scorer(estimator, X_test)\n",
      "TypeError: _BaseScorer.__call__() missing 1 required positional argument: 'y_true'\n",
      "\n",
      "  warnings.warn(\n",
      "c:\\venv_python_3.10\\lib\\site-packages\\sklearn\\model_selection\\_validation.py:378: FitFailedWarning: \n",
      "84 fits failed out of a total of 210.\n",
      "The score on these train-test partitions for these parameters will be set to nan.\n",
      "If these failures are not expected, you can try to debug them by setting error_score='raise'.\n",
      "\n",
      "Below are more details about the failures:\n",
      "--------------------------------------------------------------------------------\n",
      "84 fits failed with the following error:\n",
      "Traceback (most recent call last):\n",
      "  File \"c:\\venv_python_3.10\\lib\\site-packages\\sklearn\\model_selection\\_validation.py\", line 684, in _fit_and_score\n",
      "    estimator.fit(X_train, **fit_params)\n",
      "  File \"c:\\venv_python_3.10\\lib\\site-packages\\sklearn\\svm\\_classes.py\", line 1666, in fit\n",
      "    super().fit(X, np.ones(_num_samples(X)), sample_weight=sample_weight)\n",
      "  File \"c:\\venv_python_3.10\\lib\\site-packages\\sklearn\\svm\\_base.py\", line 251, in fit\n",
      "    fit(X, y, sample_weight, solver_type, kernel, random_seed=seed)\n",
      "  File \"c:\\venv_python_3.10\\lib\\site-packages\\sklearn\\svm\\_base.py\", line 333, in _dense_fit\n",
      "    ) = libsvm.fit(\n",
      "  File \"sklearn\\svm\\_libsvm.pyx\", line 192, in sklearn.svm._libsvm.fit\n",
      "ValueError: nu <= 0 or nu > 1\n",
      "\n",
      "  warnings.warn(some_fits_failed_message, FitFailedWarning)\n",
      "c:\\venv_python_3.10\\lib\\site-packages\\sklearn\\model_selection\\_search.py:953: UserWarning: One or more of the test scores are non-finite: [nan nan nan nan nan nan nan nan nan nan nan nan nan nan nan nan nan nan\n",
      " nan nan nan nan nan nan nan nan nan nan nan nan]\n",
      "  warnings.warn(\n"
     ]
    }
   ],
   "source": [
    "param_grid = [\n",
    "    {'kernel': ['linear'], 'nu': [0.1, 0.25, 0,5, 0.7]},\n",
    "    {'kernel': ['rbf'], 'nu': [0.1, 0.25, 0,5, 0.7],\n",
    "    'gamma': [0.01, 0.03, 0.1, 0.3, 1.0]},\n",
    "]\n",
    "\n",
    "elapsed_time_kernel_svm = []\n",
    "\n",
    "svm_classifier = OneClassSVM(kernel='rbf')\n",
    "# svm_classifier = svm_classifier.fit(x_train, y_train)\n",
    "\n",
    "start_time = datetime.now()\n",
    "grid_search = GridSearchCV(svm_classifier, param_grid, cv=7, scoring=\"neg_mean_squared_error\", verbose=2)\n",
    "best_svm_classifier = grid_search.fit(x_train_only)\n",
    "elapsed_time_kernel_svm.append((datetime.now()-start_time).total_seconds())\n",
    "\n",
    "\n",
    "start_time = datetime.now()\n",
    "y_pred = best_svm_classifier.predict(x_test)\n",
    "elapsed_time_kernel_svm.append((datetime.now()-start_time).total_seconds())\n",
    "acc_svm_kernel = accuracy_score(y_test_a, y_pred)\n",
    "\n"
   ]
  },
  {
   "cell_type": "code",
   "execution_count": 145,
   "metadata": {},
   "outputs": [
    {
     "name": "stdout",
     "output_type": "stream",
     "text": [
      "Confusion Matrix\n",
      " [[  3  46]\n",
      " [ 27 284]]\n",
      "Best Prameters  {'kernel': 'linear', 'nu': 0.1}\n",
      "Accuracy  0.7972222222222223\n",
      "Elapsed Time(train, test)  [2.038782, 0.0]\n"
     ]
    }
   ],
   "source": [
    "print('Confusion Matrix\\n', confusion_matrix(y_test_a, y_pred))\n",
    "print('Best Prameters ', grid_search.best_params_)\n",
    "print('Accuracy ', acc_svm_kernel)\n",
    "print('Elapsed Time(train, test) ', elapsed_time_kernel_svm)\n",
    "# Isolation Forest "
   ]
  },
  {
   "cell_type": "markdown",
   "metadata": {},
   "source": [
    "# Isolation Forest"
   ]
  },
  {
   "cell_type": "code",
   "execution_count": 146,
   "metadata": {},
   "outputs": [
    {
     "name": "stdout",
     "output_type": "stream",
     "text": [
      "Fitting 7 folds for each of 32 candidates, totalling 224 fits\n",
      "[CV] END bootstrap=True, contamination=0.1, max_features=5, max_samples=100, n_estimators=100; total time=   0.0s\n",
      "[CV] END bootstrap=True, contamination=0.1, max_features=5, max_samples=100, n_estimators=100; total time=   0.0s\n"
     ]
    },
    {
     "name": "stderr",
     "output_type": "stream",
     "text": [
      "c:\\venv_python_3.10\\lib\\site-packages\\sklearn\\model_selection\\_validation.py:776: UserWarning: Scoring failed. The score on this train-test partition for these parameters will be set to nan. Details: \n",
      "Traceback (most recent call last):\n",
      "  File \"c:\\venv_python_3.10\\lib\\site-packages\\sklearn\\model_selection\\_validation.py\", line 765, in _score\n",
      "    scores = scorer(estimator, X_test)\n",
      "TypeError: _BaseScorer.__call__() missing 1 required positional argument: 'y_true'\n",
      "\n",
      "  warnings.warn(\n",
      "c:\\venv_python_3.10\\lib\\site-packages\\sklearn\\model_selection\\_validation.py:776: UserWarning: Scoring failed. The score on this train-test partition for these parameters will be set to nan. Details: \n",
      "Traceback (most recent call last):\n",
      "  File \"c:\\venv_python_3.10\\lib\\site-packages\\sklearn\\model_selection\\_validation.py\", line 765, in _score\n",
      "    scores = scorer(estimator, X_test)\n",
      "TypeError: _BaseScorer.__call__() missing 1 required positional argument: 'y_true'\n",
      "\n",
      "  warnings.warn(\n"
     ]
    },
    {
     "name": "stdout",
     "output_type": "stream",
     "text": [
      "[CV] END bootstrap=True, contamination=0.1, max_features=5, max_samples=100, n_estimators=100; total time=   0.0s\n"
     ]
    },
    {
     "name": "stderr",
     "output_type": "stream",
     "text": [
      "c:\\venv_python_3.10\\lib\\site-packages\\sklearn\\model_selection\\_validation.py:776: UserWarning: Scoring failed. The score on this train-test partition for these parameters will be set to nan. Details: \n",
      "Traceback (most recent call last):\n",
      "  File \"c:\\venv_python_3.10\\lib\\site-packages\\sklearn\\model_selection\\_validation.py\", line 765, in _score\n",
      "    scores = scorer(estimator, X_test)\n",
      "TypeError: _BaseScorer.__call__() missing 1 required positional argument: 'y_true'\n",
      "\n",
      "  warnings.warn(\n",
      "c:\\venv_python_3.10\\lib\\site-packages\\sklearn\\model_selection\\_validation.py:776: UserWarning: Scoring failed. The score on this train-test partition for these parameters will be set to nan. Details: \n",
      "Traceback (most recent call last):\n",
      "  File \"c:\\venv_python_3.10\\lib\\site-packages\\sklearn\\model_selection\\_validation.py\", line 765, in _score\n",
      "    scores = scorer(estimator, X_test)\n",
      "TypeError: _BaseScorer.__call__() missing 1 required positional argument: 'y_true'\n",
      "\n",
      "  warnings.warn(\n"
     ]
    },
    {
     "name": "stdout",
     "output_type": "stream",
     "text": [
      "[CV] END bootstrap=True, contamination=0.1, max_features=5, max_samples=100, n_estimators=100; total time=   0.0s\n",
      "[CV] END bootstrap=True, contamination=0.1, max_features=5, max_samples=100, n_estimators=100; total time=   0.0s\n",
      "[CV] END bootstrap=True, contamination=0.1, max_features=5, max_samples=100, n_estimators=100; total time=   0.0s\n"
     ]
    },
    {
     "name": "stderr",
     "output_type": "stream",
     "text": [
      "c:\\venv_python_3.10\\lib\\site-packages\\sklearn\\model_selection\\_validation.py:776: UserWarning: Scoring failed. The score on this train-test partition for these parameters will be set to nan. Details: \n",
      "Traceback (most recent call last):\n",
      "  File \"c:\\venv_python_3.10\\lib\\site-packages\\sklearn\\model_selection\\_validation.py\", line 765, in _score\n",
      "    scores = scorer(estimator, X_test)\n",
      "TypeError: _BaseScorer.__call__() missing 1 required positional argument: 'y_true'\n",
      "\n",
      "  warnings.warn(\n",
      "c:\\venv_python_3.10\\lib\\site-packages\\sklearn\\model_selection\\_validation.py:776: UserWarning: Scoring failed. The score on this train-test partition for these parameters will be set to nan. Details: \n",
      "Traceback (most recent call last):\n",
      "  File \"c:\\venv_python_3.10\\lib\\site-packages\\sklearn\\model_selection\\_validation.py\", line 765, in _score\n",
      "    scores = scorer(estimator, X_test)\n",
      "TypeError: _BaseScorer.__call__() missing 1 required positional argument: 'y_true'\n",
      "\n",
      "  warnings.warn(\n",
      "c:\\venv_python_3.10\\lib\\site-packages\\sklearn\\model_selection\\_validation.py:776: UserWarning: Scoring failed. The score on this train-test partition for these parameters will be set to nan. Details: \n",
      "Traceback (most recent call last):\n",
      "  File \"c:\\venv_python_3.10\\lib\\site-packages\\sklearn\\model_selection\\_validation.py\", line 765, in _score\n",
      "    scores = scorer(estimator, X_test)\n",
      "TypeError: _BaseScorer.__call__() missing 1 required positional argument: 'y_true'\n",
      "\n",
      "  warnings.warn(\n",
      "c:\\venv_python_3.10\\lib\\site-packages\\sklearn\\model_selection\\_validation.py:776: UserWarning: Scoring failed. The score on this train-test partition for these parameters will be set to nan. Details: \n",
      "Traceback (most recent call last):\n",
      "  File \"c:\\venv_python_3.10\\lib\\site-packages\\sklearn\\model_selection\\_validation.py\", line 765, in _score\n",
      "    scores = scorer(estimator, X_test)\n",
      "TypeError: _BaseScorer.__call__() missing 1 required positional argument: 'y_true'\n",
      "\n",
      "  warnings.warn(\n"
     ]
    },
    {
     "name": "stdout",
     "output_type": "stream",
     "text": [
      "[CV] END bootstrap=True, contamination=0.1, max_features=5, max_samples=100, n_estimators=100; total time=   0.0s\n",
      "[CV] END bootstrap=True, contamination=0.1, max_features=5, max_samples=100, n_estimators=150; total time=   0.1s\n"
     ]
    },
    {
     "name": "stderr",
     "output_type": "stream",
     "text": [
      "c:\\venv_python_3.10\\lib\\site-packages\\sklearn\\model_selection\\_validation.py:776: UserWarning: Scoring failed. The score on this train-test partition for these parameters will be set to nan. Details: \n",
      "Traceback (most recent call last):\n",
      "  File \"c:\\venv_python_3.10\\lib\\site-packages\\sklearn\\model_selection\\_validation.py\", line 765, in _score\n",
      "    scores = scorer(estimator, X_test)\n",
      "TypeError: _BaseScorer.__call__() missing 1 required positional argument: 'y_true'\n",
      "\n",
      "  warnings.warn(\n",
      "c:\\venv_python_3.10\\lib\\site-packages\\sklearn\\model_selection\\_validation.py:776: UserWarning: Scoring failed. The score on this train-test partition for these parameters will be set to nan. Details: \n",
      "Traceback (most recent call last):\n",
      "  File \"c:\\venv_python_3.10\\lib\\site-packages\\sklearn\\model_selection\\_validation.py\", line 765, in _score\n",
      "    scores = scorer(estimator, X_test)\n",
      "TypeError: _BaseScorer.__call__() missing 1 required positional argument: 'y_true'\n",
      "\n",
      "  warnings.warn(\n"
     ]
    },
    {
     "name": "stdout",
     "output_type": "stream",
     "text": [
      "[CV] END bootstrap=True, contamination=0.1, max_features=5, max_samples=100, n_estimators=150; total time=   0.1s\n",
      "[CV] END bootstrap=True, contamination=0.1, max_features=5, max_samples=100, n_estimators=150; total time=   0.1s\n"
     ]
    },
    {
     "name": "stderr",
     "output_type": "stream",
     "text": [
      "c:\\venv_python_3.10\\lib\\site-packages\\sklearn\\model_selection\\_validation.py:776: UserWarning: Scoring failed. The score on this train-test partition for these parameters will be set to nan. Details: \n",
      "Traceback (most recent call last):\n",
      "  File \"c:\\venv_python_3.10\\lib\\site-packages\\sklearn\\model_selection\\_validation.py\", line 765, in _score\n",
      "    scores = scorer(estimator, X_test)\n",
      "TypeError: _BaseScorer.__call__() missing 1 required positional argument: 'y_true'\n",
      "\n",
      "  warnings.warn(\n",
      "c:\\venv_python_3.10\\lib\\site-packages\\sklearn\\model_selection\\_validation.py:776: UserWarning: Scoring failed. The score on this train-test partition for these parameters will be set to nan. Details: \n",
      "Traceback (most recent call last):\n",
      "  File \"c:\\venv_python_3.10\\lib\\site-packages\\sklearn\\model_selection\\_validation.py\", line 765, in _score\n",
      "    scores = scorer(estimator, X_test)\n",
      "TypeError: _BaseScorer.__call__() missing 1 required positional argument: 'y_true'\n",
      "\n",
      "  warnings.warn(\n"
     ]
    },
    {
     "name": "stdout",
     "output_type": "stream",
     "text": [
      "[CV] END bootstrap=True, contamination=0.1, max_features=5, max_samples=100, n_estimators=150; total time=   0.1s\n",
      "[CV] END bootstrap=True, contamination=0.1, max_features=5, max_samples=100, n_estimators=150; total time=   0.1s\n"
     ]
    },
    {
     "name": "stderr",
     "output_type": "stream",
     "text": [
      "c:\\venv_python_3.10\\lib\\site-packages\\sklearn\\model_selection\\_validation.py:776: UserWarning: Scoring failed. The score on this train-test partition for these parameters will be set to nan. Details: \n",
      "Traceback (most recent call last):\n",
      "  File \"c:\\venv_python_3.10\\lib\\site-packages\\sklearn\\model_selection\\_validation.py\", line 765, in _score\n",
      "    scores = scorer(estimator, X_test)\n",
      "TypeError: _BaseScorer.__call__() missing 1 required positional argument: 'y_true'\n",
      "\n",
      "  warnings.warn(\n",
      "c:\\venv_python_3.10\\lib\\site-packages\\sklearn\\model_selection\\_validation.py:776: UserWarning: Scoring failed. The score on this train-test partition for these parameters will be set to nan. Details: \n",
      "Traceback (most recent call last):\n",
      "  File \"c:\\venv_python_3.10\\lib\\site-packages\\sklearn\\model_selection\\_validation.py\", line 765, in _score\n",
      "    scores = scorer(estimator, X_test)\n",
      "TypeError: _BaseScorer.__call__() missing 1 required positional argument: 'y_true'\n",
      "\n",
      "  warnings.warn(\n"
     ]
    },
    {
     "name": "stdout",
     "output_type": "stream",
     "text": [
      "[CV] END bootstrap=True, contamination=0.1, max_features=5, max_samples=100, n_estimators=150; total time=   0.1s\n",
      "[CV] END bootstrap=True, contamination=0.1, max_features=5, max_samples=100, n_estimators=150; total time=   0.1s\n"
     ]
    },
    {
     "name": "stderr",
     "output_type": "stream",
     "text": [
      "c:\\venv_python_3.10\\lib\\site-packages\\sklearn\\model_selection\\_validation.py:776: UserWarning: Scoring failed. The score on this train-test partition for these parameters will be set to nan. Details: \n",
      "Traceback (most recent call last):\n",
      "  File \"c:\\venv_python_3.10\\lib\\site-packages\\sklearn\\model_selection\\_validation.py\", line 765, in _score\n",
      "    scores = scorer(estimator, X_test)\n",
      "TypeError: _BaseScorer.__call__() missing 1 required positional argument: 'y_true'\n",
      "\n",
      "  warnings.warn(\n",
      "c:\\venv_python_3.10\\lib\\site-packages\\sklearn\\model_selection\\_validation.py:776: UserWarning: Scoring failed. The score on this train-test partition for these parameters will be set to nan. Details: \n",
      "Traceback (most recent call last):\n",
      "  File \"c:\\venv_python_3.10\\lib\\site-packages\\sklearn\\model_selection\\_validation.py\", line 765, in _score\n",
      "    scores = scorer(estimator, X_test)\n",
      "TypeError: _BaseScorer.__call__() missing 1 required positional argument: 'y_true'\n",
      "\n",
      "  warnings.warn(\n",
      "c:\\venv_python_3.10\\lib\\site-packages\\sklearn\\model_selection\\_validation.py:776: UserWarning: Scoring failed. The score on this train-test partition for these parameters will be set to nan. Details: \n",
      "Traceback (most recent call last):\n",
      "  File \"c:\\venv_python_3.10\\lib\\site-packages\\sklearn\\model_selection\\_validation.py\", line 765, in _score\n",
      "    scores = scorer(estimator, X_test)\n",
      "TypeError: _BaseScorer.__call__() missing 1 required positional argument: 'y_true'\n",
      "\n",
      "  warnings.warn(\n"
     ]
    },
    {
     "name": "stdout",
     "output_type": "stream",
     "text": [
      "[CV] END bootstrap=True, contamination=0.1, max_features=5, max_samples=105, n_estimators=100; total time=   0.0s\n",
      "[CV] END bootstrap=True, contamination=0.1, max_features=5, max_samples=105, n_estimators=100; total time=   0.0s\n",
      "[CV] END bootstrap=True, contamination=0.1, max_features=5, max_samples=105, n_estimators=100; total time=   0.0s\n"
     ]
    },
    {
     "name": "stderr",
     "output_type": "stream",
     "text": [
      "c:\\venv_python_3.10\\lib\\site-packages\\sklearn\\model_selection\\_validation.py:776: UserWarning: Scoring failed. The score on this train-test partition for these parameters will be set to nan. Details: \n",
      "Traceback (most recent call last):\n",
      "  File \"c:\\venv_python_3.10\\lib\\site-packages\\sklearn\\model_selection\\_validation.py\", line 765, in _score\n",
      "    scores = scorer(estimator, X_test)\n",
      "TypeError: _BaseScorer.__call__() missing 1 required positional argument: 'y_true'\n",
      "\n",
      "  warnings.warn(\n",
      "c:\\venv_python_3.10\\lib\\site-packages\\sklearn\\model_selection\\_validation.py:776: UserWarning: Scoring failed. The score on this train-test partition for these parameters will be set to nan. Details: \n",
      "Traceback (most recent call last):\n",
      "  File \"c:\\venv_python_3.10\\lib\\site-packages\\sklearn\\model_selection\\_validation.py\", line 765, in _score\n",
      "    scores = scorer(estimator, X_test)\n",
      "TypeError: _BaseScorer.__call__() missing 1 required positional argument: 'y_true'\n",
      "\n",
      "  warnings.warn(\n"
     ]
    },
    {
     "name": "stdout",
     "output_type": "stream",
     "text": [
      "[CV] END bootstrap=True, contamination=0.1, max_features=5, max_samples=105, n_estimators=100; total time=   0.0s\n",
      "[CV] END bootstrap=True, contamination=0.1, max_features=5, max_samples=105, n_estimators=100; total time=   0.0s\n"
     ]
    },
    {
     "name": "stderr",
     "output_type": "stream",
     "text": [
      "c:\\venv_python_3.10\\lib\\site-packages\\sklearn\\model_selection\\_validation.py:776: UserWarning: Scoring failed. The score on this train-test partition for these parameters will be set to nan. Details: \n",
      "Traceback (most recent call last):\n",
      "  File \"c:\\venv_python_3.10\\lib\\site-packages\\sklearn\\model_selection\\_validation.py\", line 765, in _score\n",
      "    scores = scorer(estimator, X_test)\n",
      "TypeError: _BaseScorer.__call__() missing 1 required positional argument: 'y_true'\n",
      "\n",
      "  warnings.warn(\n",
      "c:\\venv_python_3.10\\lib\\site-packages\\sklearn\\model_selection\\_validation.py:776: UserWarning: Scoring failed. The score on this train-test partition for these parameters will be set to nan. Details: \n",
      "Traceback (most recent call last):\n",
      "  File \"c:\\venv_python_3.10\\lib\\site-packages\\sklearn\\model_selection\\_validation.py\", line 765, in _score\n",
      "    scores = scorer(estimator, X_test)\n",
      "TypeError: _BaseScorer.__call__() missing 1 required positional argument: 'y_true'\n",
      "\n",
      "  warnings.warn(\n"
     ]
    },
    {
     "name": "stdout",
     "output_type": "stream",
     "text": [
      "[CV] END bootstrap=True, contamination=0.1, max_features=5, max_samples=105, n_estimators=100; total time=   0.0s\n",
      "[CV] END bootstrap=True, contamination=0.1, max_features=5, max_samples=105, n_estimators=100; total time=   0.0s\n"
     ]
    },
    {
     "name": "stderr",
     "output_type": "stream",
     "text": [
      "c:\\venv_python_3.10\\lib\\site-packages\\sklearn\\model_selection\\_validation.py:776: UserWarning: Scoring failed. The score on this train-test partition for these parameters will be set to nan. Details: \n",
      "Traceback (most recent call last):\n",
      "  File \"c:\\venv_python_3.10\\lib\\site-packages\\sklearn\\model_selection\\_validation.py\", line 765, in _score\n",
      "    scores = scorer(estimator, X_test)\n",
      "TypeError: _BaseScorer.__call__() missing 1 required positional argument: 'y_true'\n",
      "\n",
      "  warnings.warn(\n",
      "c:\\venv_python_3.10\\lib\\site-packages\\sklearn\\model_selection\\_validation.py:776: UserWarning: Scoring failed. The score on this train-test partition for these parameters will be set to nan. Details: \n",
      "Traceback (most recent call last):\n",
      "  File \"c:\\venv_python_3.10\\lib\\site-packages\\sklearn\\model_selection\\_validation.py\", line 765, in _score\n",
      "    scores = scorer(estimator, X_test)\n",
      "TypeError: _BaseScorer.__call__() missing 1 required positional argument: 'y_true'\n",
      "\n",
      "  warnings.warn(\n"
     ]
    },
    {
     "name": "stdout",
     "output_type": "stream",
     "text": [
      "[CV] END bootstrap=True, contamination=0.1, max_features=5, max_samples=105, n_estimators=150; total time=   0.1s\n",
      "[CV] END bootstrap=True, contamination=0.1, max_features=5, max_samples=105, n_estimators=150; total time=   0.1s\n"
     ]
    },
    {
     "name": "stderr",
     "output_type": "stream",
     "text": [
      "c:\\venv_python_3.10\\lib\\site-packages\\sklearn\\model_selection\\_validation.py:776: UserWarning: Scoring failed. The score on this train-test partition for these parameters will be set to nan. Details: \n",
      "Traceback (most recent call last):\n",
      "  File \"c:\\venv_python_3.10\\lib\\site-packages\\sklearn\\model_selection\\_validation.py\", line 765, in _score\n",
      "    scores = scorer(estimator, X_test)\n",
      "TypeError: _BaseScorer.__call__() missing 1 required positional argument: 'y_true'\n",
      "\n",
      "  warnings.warn(\n",
      "c:\\venv_python_3.10\\lib\\site-packages\\sklearn\\model_selection\\_validation.py:776: UserWarning: Scoring failed. The score on this train-test partition for these parameters will be set to nan. Details: \n",
      "Traceback (most recent call last):\n",
      "  File \"c:\\venv_python_3.10\\lib\\site-packages\\sklearn\\model_selection\\_validation.py\", line 765, in _score\n",
      "    scores = scorer(estimator, X_test)\n",
      "TypeError: _BaseScorer.__call__() missing 1 required positional argument: 'y_true'\n",
      "\n",
      "  warnings.warn(\n"
     ]
    },
    {
     "name": "stdout",
     "output_type": "stream",
     "text": [
      "[CV] END bootstrap=True, contamination=0.1, max_features=5, max_samples=105, n_estimators=150; total time=   0.1s\n",
      "[CV] END bootstrap=True, contamination=0.1, max_features=5, max_samples=105, n_estimators=150; total time=   0.1s\n"
     ]
    },
    {
     "name": "stderr",
     "output_type": "stream",
     "text": [
      "c:\\venv_python_3.10\\lib\\site-packages\\sklearn\\model_selection\\_validation.py:776: UserWarning: Scoring failed. The score on this train-test partition for these parameters will be set to nan. Details: \n",
      "Traceback (most recent call last):\n",
      "  File \"c:\\venv_python_3.10\\lib\\site-packages\\sklearn\\model_selection\\_validation.py\", line 765, in _score\n",
      "    scores = scorer(estimator, X_test)\n",
      "TypeError: _BaseScorer.__call__() missing 1 required positional argument: 'y_true'\n",
      "\n",
      "  warnings.warn(\n",
      "c:\\venv_python_3.10\\lib\\site-packages\\sklearn\\model_selection\\_validation.py:776: UserWarning: Scoring failed. The score on this train-test partition for these parameters will be set to nan. Details: \n",
      "Traceback (most recent call last):\n",
      "  File \"c:\\venv_python_3.10\\lib\\site-packages\\sklearn\\model_selection\\_validation.py\", line 765, in _score\n",
      "    scores = scorer(estimator, X_test)\n",
      "TypeError: _BaseScorer.__call__() missing 1 required positional argument: 'y_true'\n",
      "\n",
      "  warnings.warn(\n"
     ]
    },
    {
     "name": "stdout",
     "output_type": "stream",
     "text": [
      "[CV] END bootstrap=True, contamination=0.1, max_features=5, max_samples=105, n_estimators=150; total time=   0.1s\n",
      "[CV] END bootstrap=True, contamination=0.1, max_features=5, max_samples=105, n_estimators=150; total time=   0.1s\n"
     ]
    },
    {
     "name": "stderr",
     "output_type": "stream",
     "text": [
      "c:\\venv_python_3.10\\lib\\site-packages\\sklearn\\model_selection\\_validation.py:776: UserWarning: Scoring failed. The score on this train-test partition for these parameters will be set to nan. Details: \n",
      "Traceback (most recent call last):\n",
      "  File \"c:\\venv_python_3.10\\lib\\site-packages\\sklearn\\model_selection\\_validation.py\", line 765, in _score\n",
      "    scores = scorer(estimator, X_test)\n",
      "TypeError: _BaseScorer.__call__() missing 1 required positional argument: 'y_true'\n",
      "\n",
      "  warnings.warn(\n",
      "c:\\venv_python_3.10\\lib\\site-packages\\sklearn\\model_selection\\_validation.py:776: UserWarning: Scoring failed. The score on this train-test partition for these parameters will be set to nan. Details: \n",
      "Traceback (most recent call last):\n",
      "  File \"c:\\venv_python_3.10\\lib\\site-packages\\sklearn\\model_selection\\_validation.py\", line 765, in _score\n",
      "    scores = scorer(estimator, X_test)\n",
      "TypeError: _BaseScorer.__call__() missing 1 required positional argument: 'y_true'\n",
      "\n",
      "  warnings.warn(\n"
     ]
    },
    {
     "name": "stdout",
     "output_type": "stream",
     "text": [
      "[CV] END bootstrap=True, contamination=0.1, max_features=5, max_samples=105, n_estimators=150; total time=   0.1s\n",
      "[CV] END bootstrap=True, contamination=0.1, max_features=15, max_samples=100, n_estimators=100; total time=   0.0s\n"
     ]
    },
    {
     "name": "stderr",
     "output_type": "stream",
     "text": [
      "c:\\venv_python_3.10\\lib\\site-packages\\sklearn\\model_selection\\_validation.py:776: UserWarning: Scoring failed. The score on this train-test partition for these parameters will be set to nan. Details: \n",
      "Traceback (most recent call last):\n",
      "  File \"c:\\venv_python_3.10\\lib\\site-packages\\sklearn\\model_selection\\_validation.py\", line 765, in _score\n",
      "    scores = scorer(estimator, X_test)\n",
      "TypeError: _BaseScorer.__call__() missing 1 required positional argument: 'y_true'\n",
      "\n",
      "  warnings.warn(\n",
      "c:\\venv_python_3.10\\lib\\site-packages\\sklearn\\model_selection\\_validation.py:776: UserWarning: Scoring failed. The score on this train-test partition for these parameters will be set to nan. Details: \n",
      "Traceback (most recent call last):\n",
      "  File \"c:\\venv_python_3.10\\lib\\site-packages\\sklearn\\model_selection\\_validation.py\", line 765, in _score\n",
      "    scores = scorer(estimator, X_test)\n",
      "TypeError: _BaseScorer.__call__() missing 1 required positional argument: 'y_true'\n",
      "\n",
      "  warnings.warn(\n"
     ]
    },
    {
     "name": "stdout",
     "output_type": "stream",
     "text": [
      "[CV] END bootstrap=True, contamination=0.1, max_features=15, max_samples=100, n_estimators=100; total time=   0.0s\n",
      "[CV] END bootstrap=True, contamination=0.1, max_features=15, max_samples=100, n_estimators=100; total time=   0.0s\n"
     ]
    },
    {
     "name": "stderr",
     "output_type": "stream",
     "text": [
      "c:\\venv_python_3.10\\lib\\site-packages\\sklearn\\model_selection\\_validation.py:776: UserWarning: Scoring failed. The score on this train-test partition for these parameters will be set to nan. Details: \n",
      "Traceback (most recent call last):\n",
      "  File \"c:\\venv_python_3.10\\lib\\site-packages\\sklearn\\model_selection\\_validation.py\", line 765, in _score\n",
      "    scores = scorer(estimator, X_test)\n",
      "TypeError: _BaseScorer.__call__() missing 1 required positional argument: 'y_true'\n",
      "\n",
      "  warnings.warn(\n",
      "c:\\venv_python_3.10\\lib\\site-packages\\sklearn\\model_selection\\_validation.py:776: UserWarning: Scoring failed. The score on this train-test partition for these parameters will be set to nan. Details: \n",
      "Traceback (most recent call last):\n",
      "  File \"c:\\venv_python_3.10\\lib\\site-packages\\sklearn\\model_selection\\_validation.py\", line 765, in _score\n",
      "    scores = scorer(estimator, X_test)\n",
      "TypeError: _BaseScorer.__call__() missing 1 required positional argument: 'y_true'\n",
      "\n",
      "  warnings.warn(\n"
     ]
    },
    {
     "name": "stdout",
     "output_type": "stream",
     "text": [
      "[CV] END bootstrap=True, contamination=0.1, max_features=15, max_samples=100, n_estimators=100; total time=   0.0s\n",
      "[CV] END bootstrap=True, contamination=0.1, max_features=15, max_samples=100, n_estimators=100; total time=   0.0s\n"
     ]
    },
    {
     "name": "stderr",
     "output_type": "stream",
     "text": [
      "c:\\venv_python_3.10\\lib\\site-packages\\sklearn\\model_selection\\_validation.py:776: UserWarning: Scoring failed. The score on this train-test partition for these parameters will be set to nan. Details: \n",
      "Traceback (most recent call last):\n",
      "  File \"c:\\venv_python_3.10\\lib\\site-packages\\sklearn\\model_selection\\_validation.py\", line 765, in _score\n",
      "    scores = scorer(estimator, X_test)\n",
      "TypeError: _BaseScorer.__call__() missing 1 required positional argument: 'y_true'\n",
      "\n",
      "  warnings.warn(\n",
      "c:\\venv_python_3.10\\lib\\site-packages\\sklearn\\model_selection\\_validation.py:776: UserWarning: Scoring failed. The score on this train-test partition for these parameters will be set to nan. Details: \n",
      "Traceback (most recent call last):\n",
      "  File \"c:\\venv_python_3.10\\lib\\site-packages\\sklearn\\model_selection\\_validation.py\", line 765, in _score\n",
      "    scores = scorer(estimator, X_test)\n",
      "TypeError: _BaseScorer.__call__() missing 1 required positional argument: 'y_true'\n",
      "\n",
      "  warnings.warn(\n"
     ]
    },
    {
     "name": "stdout",
     "output_type": "stream",
     "text": [
      "[CV] END bootstrap=True, contamination=0.1, max_features=15, max_samples=100, n_estimators=100; total time=   0.0s\n",
      "[CV] END bootstrap=True, contamination=0.1, max_features=15, max_samples=100, n_estimators=100; total time=   0.0s\n"
     ]
    },
    {
     "name": "stderr",
     "output_type": "stream",
     "text": [
      "c:\\venv_python_3.10\\lib\\site-packages\\sklearn\\model_selection\\_validation.py:776: UserWarning: Scoring failed. The score on this train-test partition for these parameters will be set to nan. Details: \n",
      "Traceback (most recent call last):\n",
      "  File \"c:\\venv_python_3.10\\lib\\site-packages\\sklearn\\model_selection\\_validation.py\", line 765, in _score\n",
      "    scores = scorer(estimator, X_test)\n",
      "TypeError: _BaseScorer.__call__() missing 1 required positional argument: 'y_true'\n",
      "\n",
      "  warnings.warn(\n",
      "c:\\venv_python_3.10\\lib\\site-packages\\sklearn\\model_selection\\_validation.py:776: UserWarning: Scoring failed. The score on this train-test partition for these parameters will be set to nan. Details: \n",
      "Traceback (most recent call last):\n",
      "  File \"c:\\venv_python_3.10\\lib\\site-packages\\sklearn\\model_selection\\_validation.py\", line 765, in _score\n",
      "    scores = scorer(estimator, X_test)\n",
      "TypeError: _BaseScorer.__call__() missing 1 required positional argument: 'y_true'\n",
      "\n",
      "  warnings.warn(\n"
     ]
    },
    {
     "name": "stdout",
     "output_type": "stream",
     "text": [
      "[CV] END bootstrap=True, contamination=0.1, max_features=15, max_samples=100, n_estimators=150; total time=   0.1s\n",
      "[CV] END bootstrap=True, contamination=0.1, max_features=15, max_samples=100, n_estimators=150; total time=   0.1s\n"
     ]
    },
    {
     "name": "stderr",
     "output_type": "stream",
     "text": [
      "c:\\venv_python_3.10\\lib\\site-packages\\sklearn\\model_selection\\_validation.py:776: UserWarning: Scoring failed. The score on this train-test partition for these parameters will be set to nan. Details: \n",
      "Traceback (most recent call last):\n",
      "  File \"c:\\venv_python_3.10\\lib\\site-packages\\sklearn\\model_selection\\_validation.py\", line 765, in _score\n",
      "    scores = scorer(estimator, X_test)\n",
      "TypeError: _BaseScorer.__call__() missing 1 required positional argument: 'y_true'\n",
      "\n",
      "  warnings.warn(\n",
      "c:\\venv_python_3.10\\lib\\site-packages\\sklearn\\model_selection\\_validation.py:776: UserWarning: Scoring failed. The score on this train-test partition for these parameters will be set to nan. Details: \n",
      "Traceback (most recent call last):\n",
      "  File \"c:\\venv_python_3.10\\lib\\site-packages\\sklearn\\model_selection\\_validation.py\", line 765, in _score\n",
      "    scores = scorer(estimator, X_test)\n",
      "TypeError: _BaseScorer.__call__() missing 1 required positional argument: 'y_true'\n",
      "\n",
      "  warnings.warn(\n"
     ]
    },
    {
     "name": "stdout",
     "output_type": "stream",
     "text": [
      "[CV] END bootstrap=True, contamination=0.1, max_features=15, max_samples=100, n_estimators=150; total time=   0.1s\n",
      "[CV] END bootstrap=True, contamination=0.1, max_features=15, max_samples=100, n_estimators=150; total time=   0.1s\n"
     ]
    },
    {
     "name": "stderr",
     "output_type": "stream",
     "text": [
      "c:\\venv_python_3.10\\lib\\site-packages\\sklearn\\model_selection\\_validation.py:776: UserWarning: Scoring failed. The score on this train-test partition for these parameters will be set to nan. Details: \n",
      "Traceback (most recent call last):\n",
      "  File \"c:\\venv_python_3.10\\lib\\site-packages\\sklearn\\model_selection\\_validation.py\", line 765, in _score\n",
      "    scores = scorer(estimator, X_test)\n",
      "TypeError: _BaseScorer.__call__() missing 1 required positional argument: 'y_true'\n",
      "\n",
      "  warnings.warn(\n",
      "c:\\venv_python_3.10\\lib\\site-packages\\sklearn\\model_selection\\_validation.py:776: UserWarning: Scoring failed. The score on this train-test partition for these parameters will be set to nan. Details: \n",
      "Traceback (most recent call last):\n",
      "  File \"c:\\venv_python_3.10\\lib\\site-packages\\sklearn\\model_selection\\_validation.py\", line 765, in _score\n",
      "    scores = scorer(estimator, X_test)\n",
      "TypeError: _BaseScorer.__call__() missing 1 required positional argument: 'y_true'\n",
      "\n",
      "  warnings.warn(\n"
     ]
    },
    {
     "name": "stdout",
     "output_type": "stream",
     "text": [
      "[CV] END bootstrap=True, contamination=0.1, max_features=15, max_samples=100, n_estimators=150; total time=   0.1s\n",
      "[CV] END bootstrap=True, contamination=0.1, max_features=15, max_samples=100, n_estimators=150; total time=   0.1s\n"
     ]
    },
    {
     "name": "stderr",
     "output_type": "stream",
     "text": [
      "c:\\venv_python_3.10\\lib\\site-packages\\sklearn\\model_selection\\_validation.py:776: UserWarning: Scoring failed. The score on this train-test partition for these parameters will be set to nan. Details: \n",
      "Traceback (most recent call last):\n",
      "  File \"c:\\venv_python_3.10\\lib\\site-packages\\sklearn\\model_selection\\_validation.py\", line 765, in _score\n",
      "    scores = scorer(estimator, X_test)\n",
      "TypeError: _BaseScorer.__call__() missing 1 required positional argument: 'y_true'\n",
      "\n",
      "  warnings.warn(\n",
      "c:\\venv_python_3.10\\lib\\site-packages\\sklearn\\model_selection\\_validation.py:776: UserWarning: Scoring failed. The score on this train-test partition for these parameters will be set to nan. Details: \n",
      "Traceback (most recent call last):\n",
      "  File \"c:\\venv_python_3.10\\lib\\site-packages\\sklearn\\model_selection\\_validation.py\", line 765, in _score\n",
      "    scores = scorer(estimator, X_test)\n",
      "TypeError: _BaseScorer.__call__() missing 1 required positional argument: 'y_true'\n",
      "\n",
      "  warnings.warn(\n"
     ]
    },
    {
     "name": "stdout",
     "output_type": "stream",
     "text": [
      "[CV] END bootstrap=True, contamination=0.1, max_features=15, max_samples=100, n_estimators=150; total time=   0.1s\n",
      "[CV] END bootstrap=True, contamination=0.1, max_features=15, max_samples=105, n_estimators=100; total time=   0.0s\n"
     ]
    },
    {
     "name": "stderr",
     "output_type": "stream",
     "text": [
      "c:\\venv_python_3.10\\lib\\site-packages\\sklearn\\model_selection\\_validation.py:776: UserWarning: Scoring failed. The score on this train-test partition for these parameters will be set to nan. Details: \n",
      "Traceback (most recent call last):\n",
      "  File \"c:\\venv_python_3.10\\lib\\site-packages\\sklearn\\model_selection\\_validation.py\", line 765, in _score\n",
      "    scores = scorer(estimator, X_test)\n",
      "TypeError: _BaseScorer.__call__() missing 1 required positional argument: 'y_true'\n",
      "\n",
      "  warnings.warn(\n",
      "c:\\venv_python_3.10\\lib\\site-packages\\sklearn\\model_selection\\_validation.py:776: UserWarning: Scoring failed. The score on this train-test partition for these parameters will be set to nan. Details: \n",
      "Traceback (most recent call last):\n",
      "  File \"c:\\venv_python_3.10\\lib\\site-packages\\sklearn\\model_selection\\_validation.py\", line 765, in _score\n",
      "    scores = scorer(estimator, X_test)\n",
      "TypeError: _BaseScorer.__call__() missing 1 required positional argument: 'y_true'\n",
      "\n",
      "  warnings.warn(\n"
     ]
    },
    {
     "name": "stdout",
     "output_type": "stream",
     "text": [
      "[CV] END bootstrap=True, contamination=0.1, max_features=15, max_samples=105, n_estimators=100; total time=   0.0s\n",
      "[CV] END bootstrap=True, contamination=0.1, max_features=15, max_samples=105, n_estimators=100; total time=   0.0s\n"
     ]
    },
    {
     "name": "stderr",
     "output_type": "stream",
     "text": [
      "c:\\venv_python_3.10\\lib\\site-packages\\sklearn\\model_selection\\_validation.py:776: UserWarning: Scoring failed. The score on this train-test partition for these parameters will be set to nan. Details: \n",
      "Traceback (most recent call last):\n",
      "  File \"c:\\venv_python_3.10\\lib\\site-packages\\sklearn\\model_selection\\_validation.py\", line 765, in _score\n",
      "    scores = scorer(estimator, X_test)\n",
      "TypeError: _BaseScorer.__call__() missing 1 required positional argument: 'y_true'\n",
      "\n",
      "  warnings.warn(\n",
      "c:\\venv_python_3.10\\lib\\site-packages\\sklearn\\model_selection\\_validation.py:776: UserWarning: Scoring failed. The score on this train-test partition for these parameters will be set to nan. Details: \n",
      "Traceback (most recent call last):\n",
      "  File \"c:\\venv_python_3.10\\lib\\site-packages\\sklearn\\model_selection\\_validation.py\", line 765, in _score\n",
      "    scores = scorer(estimator, X_test)\n",
      "TypeError: _BaseScorer.__call__() missing 1 required positional argument: 'y_true'\n",
      "\n",
      "  warnings.warn(\n"
     ]
    },
    {
     "name": "stdout",
     "output_type": "stream",
     "text": [
      "[CV] END bootstrap=True, contamination=0.1, max_features=15, max_samples=105, n_estimators=100; total time=   0.0s\n",
      "[CV] END bootstrap=True, contamination=0.1, max_features=15, max_samples=105, n_estimators=100; total time=   0.0s\n"
     ]
    },
    {
     "name": "stderr",
     "output_type": "stream",
     "text": [
      "c:\\venv_python_3.10\\lib\\site-packages\\sklearn\\model_selection\\_validation.py:776: UserWarning: Scoring failed. The score on this train-test partition for these parameters will be set to nan. Details: \n",
      "Traceback (most recent call last):\n",
      "  File \"c:\\venv_python_3.10\\lib\\site-packages\\sklearn\\model_selection\\_validation.py\", line 765, in _score\n",
      "    scores = scorer(estimator, X_test)\n",
      "TypeError: _BaseScorer.__call__() missing 1 required positional argument: 'y_true'\n",
      "\n",
      "  warnings.warn(\n",
      "c:\\venv_python_3.10\\lib\\site-packages\\sklearn\\model_selection\\_validation.py:776: UserWarning: Scoring failed. The score on this train-test partition for these parameters will be set to nan. Details: \n",
      "Traceback (most recent call last):\n",
      "  File \"c:\\venv_python_3.10\\lib\\site-packages\\sklearn\\model_selection\\_validation.py\", line 765, in _score\n",
      "    scores = scorer(estimator, X_test)\n",
      "TypeError: _BaseScorer.__call__() missing 1 required positional argument: 'y_true'\n",
      "\n",
      "  warnings.warn(\n"
     ]
    },
    {
     "name": "stdout",
     "output_type": "stream",
     "text": [
      "[CV] END bootstrap=True, contamination=0.1, max_features=15, max_samples=105, n_estimators=100; total time=   0.0s\n",
      "[CV] END bootstrap=True, contamination=0.1, max_features=15, max_samples=105, n_estimators=100; total time=   0.0s\n"
     ]
    },
    {
     "name": "stderr",
     "output_type": "stream",
     "text": [
      "c:\\venv_python_3.10\\lib\\site-packages\\sklearn\\model_selection\\_validation.py:776: UserWarning: Scoring failed. The score on this train-test partition for these parameters will be set to nan. Details: \n",
      "Traceback (most recent call last):\n",
      "  File \"c:\\venv_python_3.10\\lib\\site-packages\\sklearn\\model_selection\\_validation.py\", line 765, in _score\n",
      "    scores = scorer(estimator, X_test)\n",
      "TypeError: _BaseScorer.__call__() missing 1 required positional argument: 'y_true'\n",
      "\n",
      "  warnings.warn(\n",
      "c:\\venv_python_3.10\\lib\\site-packages\\sklearn\\model_selection\\_validation.py:776: UserWarning: Scoring failed. The score on this train-test partition for these parameters will be set to nan. Details: \n",
      "Traceback (most recent call last):\n",
      "  File \"c:\\venv_python_3.10\\lib\\site-packages\\sklearn\\model_selection\\_validation.py\", line 765, in _score\n",
      "    scores = scorer(estimator, X_test)\n",
      "TypeError: _BaseScorer.__call__() missing 1 required positional argument: 'y_true'\n",
      "\n",
      "  warnings.warn(\n"
     ]
    },
    {
     "name": "stdout",
     "output_type": "stream",
     "text": [
      "[CV] END bootstrap=True, contamination=0.1, max_features=15, max_samples=105, n_estimators=150; total time=   0.1s\n",
      "[CV] END bootstrap=True, contamination=0.1, max_features=15, max_samples=105, n_estimators=150; total time=   0.1s\n"
     ]
    },
    {
     "name": "stderr",
     "output_type": "stream",
     "text": [
      "c:\\venv_python_3.10\\lib\\site-packages\\sklearn\\model_selection\\_validation.py:776: UserWarning: Scoring failed. The score on this train-test partition for these parameters will be set to nan. Details: \n",
      "Traceback (most recent call last):\n",
      "  File \"c:\\venv_python_3.10\\lib\\site-packages\\sklearn\\model_selection\\_validation.py\", line 765, in _score\n",
      "    scores = scorer(estimator, X_test)\n",
      "TypeError: _BaseScorer.__call__() missing 1 required positional argument: 'y_true'\n",
      "\n",
      "  warnings.warn(\n",
      "c:\\venv_python_3.10\\lib\\site-packages\\sklearn\\model_selection\\_validation.py:776: UserWarning: Scoring failed. The score on this train-test partition for these parameters will be set to nan. Details: \n",
      "Traceback (most recent call last):\n",
      "  File \"c:\\venv_python_3.10\\lib\\site-packages\\sklearn\\model_selection\\_validation.py\", line 765, in _score\n",
      "    scores = scorer(estimator, X_test)\n",
      "TypeError: _BaseScorer.__call__() missing 1 required positional argument: 'y_true'\n",
      "\n",
      "  warnings.warn(\n"
     ]
    },
    {
     "name": "stdout",
     "output_type": "stream",
     "text": [
      "[CV] END bootstrap=True, contamination=0.1, max_features=15, max_samples=105, n_estimators=150; total time=   0.1s\n",
      "[CV] END bootstrap=True, contamination=0.1, max_features=15, max_samples=105, n_estimators=150; total time=   0.1s\n"
     ]
    },
    {
     "name": "stderr",
     "output_type": "stream",
     "text": [
      "c:\\venv_python_3.10\\lib\\site-packages\\sklearn\\model_selection\\_validation.py:776: UserWarning: Scoring failed. The score on this train-test partition for these parameters will be set to nan. Details: \n",
      "Traceback (most recent call last):\n",
      "  File \"c:\\venv_python_3.10\\lib\\site-packages\\sklearn\\model_selection\\_validation.py\", line 765, in _score\n",
      "    scores = scorer(estimator, X_test)\n",
      "TypeError: _BaseScorer.__call__() missing 1 required positional argument: 'y_true'\n",
      "\n",
      "  warnings.warn(\n",
      "c:\\venv_python_3.10\\lib\\site-packages\\sklearn\\model_selection\\_validation.py:776: UserWarning: Scoring failed. The score on this train-test partition for these parameters will be set to nan. Details: \n",
      "Traceback (most recent call last):\n",
      "  File \"c:\\venv_python_3.10\\lib\\site-packages\\sklearn\\model_selection\\_validation.py\", line 765, in _score\n",
      "    scores = scorer(estimator, X_test)\n",
      "TypeError: _BaseScorer.__call__() missing 1 required positional argument: 'y_true'\n",
      "\n",
      "  warnings.warn(\n"
     ]
    },
    {
     "name": "stdout",
     "output_type": "stream",
     "text": [
      "[CV] END bootstrap=True, contamination=0.1, max_features=15, max_samples=105, n_estimators=150; total time=   0.1s\n",
      "[CV] END bootstrap=True, contamination=0.1, max_features=15, max_samples=105, n_estimators=150; total time=   0.1s\n"
     ]
    },
    {
     "name": "stderr",
     "output_type": "stream",
     "text": [
      "c:\\venv_python_3.10\\lib\\site-packages\\sklearn\\model_selection\\_validation.py:776: UserWarning: Scoring failed. The score on this train-test partition for these parameters will be set to nan. Details: \n",
      "Traceback (most recent call last):\n",
      "  File \"c:\\venv_python_3.10\\lib\\site-packages\\sklearn\\model_selection\\_validation.py\", line 765, in _score\n",
      "    scores = scorer(estimator, X_test)\n",
      "TypeError: _BaseScorer.__call__() missing 1 required positional argument: 'y_true'\n",
      "\n",
      "  warnings.warn(\n",
      "c:\\venv_python_3.10\\lib\\site-packages\\sklearn\\model_selection\\_validation.py:776: UserWarning: Scoring failed. The score on this train-test partition for these parameters will be set to nan. Details: \n",
      "Traceback (most recent call last):\n",
      "  File \"c:\\venv_python_3.10\\lib\\site-packages\\sklearn\\model_selection\\_validation.py\", line 765, in _score\n",
      "    scores = scorer(estimator, X_test)\n",
      "TypeError: _BaseScorer.__call__() missing 1 required positional argument: 'y_true'\n",
      "\n",
      "  warnings.warn(\n"
     ]
    },
    {
     "name": "stdout",
     "output_type": "stream",
     "text": [
      "[CV] END bootstrap=True, contamination=0.1, max_features=15, max_samples=105, n_estimators=150; total time=   0.1s\n",
      "[CV] END bootstrap=True, contamination=0.2, max_features=5, max_samples=100, n_estimators=100; total time=   0.0s\n"
     ]
    },
    {
     "name": "stderr",
     "output_type": "stream",
     "text": [
      "c:\\venv_python_3.10\\lib\\site-packages\\sklearn\\model_selection\\_validation.py:776: UserWarning: Scoring failed. The score on this train-test partition for these parameters will be set to nan. Details: \n",
      "Traceback (most recent call last):\n",
      "  File \"c:\\venv_python_3.10\\lib\\site-packages\\sklearn\\model_selection\\_validation.py\", line 765, in _score\n",
      "    scores = scorer(estimator, X_test)\n",
      "TypeError: _BaseScorer.__call__() missing 1 required positional argument: 'y_true'\n",
      "\n",
      "  warnings.warn(\n",
      "c:\\venv_python_3.10\\lib\\site-packages\\sklearn\\model_selection\\_validation.py:776: UserWarning: Scoring failed. The score on this train-test partition for these parameters will be set to nan. Details: \n",
      "Traceback (most recent call last):\n",
      "  File \"c:\\venv_python_3.10\\lib\\site-packages\\sklearn\\model_selection\\_validation.py\", line 765, in _score\n",
      "    scores = scorer(estimator, X_test)\n",
      "TypeError: _BaseScorer.__call__() missing 1 required positional argument: 'y_true'\n",
      "\n",
      "  warnings.warn(\n"
     ]
    },
    {
     "name": "stdout",
     "output_type": "stream",
     "text": [
      "[CV] END bootstrap=True, contamination=0.2, max_features=5, max_samples=100, n_estimators=100; total time=   0.0s\n",
      "[CV] END bootstrap=True, contamination=0.2, max_features=5, max_samples=100, n_estimators=100; total time=   0.0s\n"
     ]
    },
    {
     "name": "stderr",
     "output_type": "stream",
     "text": [
      "c:\\venv_python_3.10\\lib\\site-packages\\sklearn\\model_selection\\_validation.py:776: UserWarning: Scoring failed. The score on this train-test partition for these parameters will be set to nan. Details: \n",
      "Traceback (most recent call last):\n",
      "  File \"c:\\venv_python_3.10\\lib\\site-packages\\sklearn\\model_selection\\_validation.py\", line 765, in _score\n",
      "    scores = scorer(estimator, X_test)\n",
      "TypeError: _BaseScorer.__call__() missing 1 required positional argument: 'y_true'\n",
      "\n",
      "  warnings.warn(\n",
      "c:\\venv_python_3.10\\lib\\site-packages\\sklearn\\model_selection\\_validation.py:776: UserWarning: Scoring failed. The score on this train-test partition for these parameters will be set to nan. Details: \n",
      "Traceback (most recent call last):\n",
      "  File \"c:\\venv_python_3.10\\lib\\site-packages\\sklearn\\model_selection\\_validation.py\", line 765, in _score\n",
      "    scores = scorer(estimator, X_test)\n",
      "TypeError: _BaseScorer.__call__() missing 1 required positional argument: 'y_true'\n",
      "\n",
      "  warnings.warn(\n"
     ]
    },
    {
     "name": "stdout",
     "output_type": "stream",
     "text": [
      "[CV] END bootstrap=True, contamination=0.2, max_features=5, max_samples=100, n_estimators=100; total time=   0.0s\n",
      "[CV] END bootstrap=True, contamination=0.2, max_features=5, max_samples=100, n_estimators=100; total time=   0.0s\n"
     ]
    },
    {
     "name": "stderr",
     "output_type": "stream",
     "text": [
      "c:\\venv_python_3.10\\lib\\site-packages\\sklearn\\model_selection\\_validation.py:776: UserWarning: Scoring failed. The score on this train-test partition for these parameters will be set to nan. Details: \n",
      "Traceback (most recent call last):\n",
      "  File \"c:\\venv_python_3.10\\lib\\site-packages\\sklearn\\model_selection\\_validation.py\", line 765, in _score\n",
      "    scores = scorer(estimator, X_test)\n",
      "TypeError: _BaseScorer.__call__() missing 1 required positional argument: 'y_true'\n",
      "\n",
      "  warnings.warn(\n",
      "c:\\venv_python_3.10\\lib\\site-packages\\sklearn\\model_selection\\_validation.py:776: UserWarning: Scoring failed. The score on this train-test partition for these parameters will be set to nan. Details: \n",
      "Traceback (most recent call last):\n",
      "  File \"c:\\venv_python_3.10\\lib\\site-packages\\sklearn\\model_selection\\_validation.py\", line 765, in _score\n",
      "    scores = scorer(estimator, X_test)\n",
      "TypeError: _BaseScorer.__call__() missing 1 required positional argument: 'y_true'\n",
      "\n",
      "  warnings.warn(\n"
     ]
    },
    {
     "name": "stdout",
     "output_type": "stream",
     "text": [
      "[CV] END bootstrap=True, contamination=0.2, max_features=5, max_samples=100, n_estimators=100; total time=   0.0s\n",
      "[CV] END bootstrap=True, contamination=0.2, max_features=5, max_samples=100, n_estimators=100; total time=   0.0s\n"
     ]
    },
    {
     "name": "stderr",
     "output_type": "stream",
     "text": [
      "c:\\venv_python_3.10\\lib\\site-packages\\sklearn\\model_selection\\_validation.py:776: UserWarning: Scoring failed. The score on this train-test partition for these parameters will be set to nan. Details: \n",
      "Traceback (most recent call last):\n",
      "  File \"c:\\venv_python_3.10\\lib\\site-packages\\sklearn\\model_selection\\_validation.py\", line 765, in _score\n",
      "    scores = scorer(estimator, X_test)\n",
      "TypeError: _BaseScorer.__call__() missing 1 required positional argument: 'y_true'\n",
      "\n",
      "  warnings.warn(\n",
      "c:\\venv_python_3.10\\lib\\site-packages\\sklearn\\model_selection\\_validation.py:776: UserWarning: Scoring failed. The score on this train-test partition for these parameters will be set to nan. Details: \n",
      "Traceback (most recent call last):\n",
      "  File \"c:\\venv_python_3.10\\lib\\site-packages\\sklearn\\model_selection\\_validation.py\", line 765, in _score\n",
      "    scores = scorer(estimator, X_test)\n",
      "TypeError: _BaseScorer.__call__() missing 1 required positional argument: 'y_true'\n",
      "\n",
      "  warnings.warn(\n"
     ]
    },
    {
     "name": "stdout",
     "output_type": "stream",
     "text": [
      "[CV] END bootstrap=True, contamination=0.2, max_features=5, max_samples=100, n_estimators=150; total time=   0.1s\n",
      "[CV] END bootstrap=True, contamination=0.2, max_features=5, max_samples=100, n_estimators=150; total time=   0.1s\n"
     ]
    },
    {
     "name": "stderr",
     "output_type": "stream",
     "text": [
      "c:\\venv_python_3.10\\lib\\site-packages\\sklearn\\model_selection\\_validation.py:776: UserWarning: Scoring failed. The score on this train-test partition for these parameters will be set to nan. Details: \n",
      "Traceback (most recent call last):\n",
      "  File \"c:\\venv_python_3.10\\lib\\site-packages\\sklearn\\model_selection\\_validation.py\", line 765, in _score\n",
      "    scores = scorer(estimator, X_test)\n",
      "TypeError: _BaseScorer.__call__() missing 1 required positional argument: 'y_true'\n",
      "\n",
      "  warnings.warn(\n",
      "c:\\venv_python_3.10\\lib\\site-packages\\sklearn\\model_selection\\_validation.py:776: UserWarning: Scoring failed. The score on this train-test partition for these parameters will be set to nan. Details: \n",
      "Traceback (most recent call last):\n",
      "  File \"c:\\venv_python_3.10\\lib\\site-packages\\sklearn\\model_selection\\_validation.py\", line 765, in _score\n",
      "    scores = scorer(estimator, X_test)\n",
      "TypeError: _BaseScorer.__call__() missing 1 required positional argument: 'y_true'\n",
      "\n",
      "  warnings.warn(\n"
     ]
    },
    {
     "name": "stdout",
     "output_type": "stream",
     "text": [
      "[CV] END bootstrap=True, contamination=0.2, max_features=5, max_samples=100, n_estimators=150; total time=   0.1s\n",
      "[CV] END bootstrap=True, contamination=0.2, max_features=5, max_samples=100, n_estimators=150; total time=   0.1s\n"
     ]
    },
    {
     "name": "stderr",
     "output_type": "stream",
     "text": [
      "c:\\venv_python_3.10\\lib\\site-packages\\sklearn\\model_selection\\_validation.py:776: UserWarning: Scoring failed. The score on this train-test partition for these parameters will be set to nan. Details: \n",
      "Traceback (most recent call last):\n",
      "  File \"c:\\venv_python_3.10\\lib\\site-packages\\sklearn\\model_selection\\_validation.py\", line 765, in _score\n",
      "    scores = scorer(estimator, X_test)\n",
      "TypeError: _BaseScorer.__call__() missing 1 required positional argument: 'y_true'\n",
      "\n",
      "  warnings.warn(\n",
      "c:\\venv_python_3.10\\lib\\site-packages\\sklearn\\model_selection\\_validation.py:776: UserWarning: Scoring failed. The score on this train-test partition for these parameters will be set to nan. Details: \n",
      "Traceback (most recent call last):\n",
      "  File \"c:\\venv_python_3.10\\lib\\site-packages\\sklearn\\model_selection\\_validation.py\", line 765, in _score\n",
      "    scores = scorer(estimator, X_test)\n",
      "TypeError: _BaseScorer.__call__() missing 1 required positional argument: 'y_true'\n",
      "\n",
      "  warnings.warn(\n"
     ]
    },
    {
     "name": "stdout",
     "output_type": "stream",
     "text": [
      "[CV] END bootstrap=True, contamination=0.2, max_features=5, max_samples=100, n_estimators=150; total time=   0.1s\n",
      "[CV] END bootstrap=True, contamination=0.2, max_features=5, max_samples=100, n_estimators=150; total time=   0.1s\n"
     ]
    },
    {
     "name": "stderr",
     "output_type": "stream",
     "text": [
      "c:\\venv_python_3.10\\lib\\site-packages\\sklearn\\model_selection\\_validation.py:776: UserWarning: Scoring failed. The score on this train-test partition for these parameters will be set to nan. Details: \n",
      "Traceback (most recent call last):\n",
      "  File \"c:\\venv_python_3.10\\lib\\site-packages\\sklearn\\model_selection\\_validation.py\", line 765, in _score\n",
      "    scores = scorer(estimator, X_test)\n",
      "TypeError: _BaseScorer.__call__() missing 1 required positional argument: 'y_true'\n",
      "\n",
      "  warnings.warn(\n",
      "c:\\venv_python_3.10\\lib\\site-packages\\sklearn\\model_selection\\_validation.py:776: UserWarning: Scoring failed. The score on this train-test partition for these parameters will be set to nan. Details: \n",
      "Traceback (most recent call last):\n",
      "  File \"c:\\venv_python_3.10\\lib\\site-packages\\sklearn\\model_selection\\_validation.py\", line 765, in _score\n",
      "    scores = scorer(estimator, X_test)\n",
      "TypeError: _BaseScorer.__call__() missing 1 required positional argument: 'y_true'\n",
      "\n",
      "  warnings.warn(\n"
     ]
    },
    {
     "name": "stdout",
     "output_type": "stream",
     "text": [
      "[CV] END bootstrap=True, contamination=0.2, max_features=5, max_samples=100, n_estimators=150; total time=   0.1s\n",
      "[CV] END bootstrap=True, contamination=0.2, max_features=5, max_samples=105, n_estimators=100; total time=   0.0s\n"
     ]
    },
    {
     "name": "stderr",
     "output_type": "stream",
     "text": [
      "c:\\venv_python_3.10\\lib\\site-packages\\sklearn\\model_selection\\_validation.py:776: UserWarning: Scoring failed. The score on this train-test partition for these parameters will be set to nan. Details: \n",
      "Traceback (most recent call last):\n",
      "  File \"c:\\venv_python_3.10\\lib\\site-packages\\sklearn\\model_selection\\_validation.py\", line 765, in _score\n",
      "    scores = scorer(estimator, X_test)\n",
      "TypeError: _BaseScorer.__call__() missing 1 required positional argument: 'y_true'\n",
      "\n",
      "  warnings.warn(\n",
      "c:\\venv_python_3.10\\lib\\site-packages\\sklearn\\model_selection\\_validation.py:776: UserWarning: Scoring failed. The score on this train-test partition for these parameters will be set to nan. Details: \n",
      "Traceback (most recent call last):\n",
      "  File \"c:\\venv_python_3.10\\lib\\site-packages\\sklearn\\model_selection\\_validation.py\", line 765, in _score\n",
      "    scores = scorer(estimator, X_test)\n",
      "TypeError: _BaseScorer.__call__() missing 1 required positional argument: 'y_true'\n",
      "\n",
      "  warnings.warn(\n"
     ]
    },
    {
     "name": "stdout",
     "output_type": "stream",
     "text": [
      "[CV] END bootstrap=True, contamination=0.2, max_features=5, max_samples=105, n_estimators=100; total time=   0.0s\n",
      "[CV] END bootstrap=True, contamination=0.2, max_features=5, max_samples=105, n_estimators=100; total time=   0.0s\n"
     ]
    },
    {
     "name": "stderr",
     "output_type": "stream",
     "text": [
      "c:\\venv_python_3.10\\lib\\site-packages\\sklearn\\model_selection\\_validation.py:776: UserWarning: Scoring failed. The score on this train-test partition for these parameters will be set to nan. Details: \n",
      "Traceback (most recent call last):\n",
      "  File \"c:\\venv_python_3.10\\lib\\site-packages\\sklearn\\model_selection\\_validation.py\", line 765, in _score\n",
      "    scores = scorer(estimator, X_test)\n",
      "TypeError: _BaseScorer.__call__() missing 1 required positional argument: 'y_true'\n",
      "\n",
      "  warnings.warn(\n",
      "c:\\venv_python_3.10\\lib\\site-packages\\sklearn\\model_selection\\_validation.py:776: UserWarning: Scoring failed. The score on this train-test partition for these parameters will be set to nan. Details: \n",
      "Traceback (most recent call last):\n",
      "  File \"c:\\venv_python_3.10\\lib\\site-packages\\sklearn\\model_selection\\_validation.py\", line 765, in _score\n",
      "    scores = scorer(estimator, X_test)\n",
      "TypeError: _BaseScorer.__call__() missing 1 required positional argument: 'y_true'\n",
      "\n",
      "  warnings.warn(\n"
     ]
    },
    {
     "name": "stdout",
     "output_type": "stream",
     "text": [
      "[CV] END bootstrap=True, contamination=0.2, max_features=5, max_samples=105, n_estimators=100; total time=   0.0s\n",
      "[CV] END bootstrap=True, contamination=0.2, max_features=5, max_samples=105, n_estimators=100; total time=   0.0s\n"
     ]
    },
    {
     "name": "stderr",
     "output_type": "stream",
     "text": [
      "c:\\venv_python_3.10\\lib\\site-packages\\sklearn\\model_selection\\_validation.py:776: UserWarning: Scoring failed. The score on this train-test partition for these parameters will be set to nan. Details: \n",
      "Traceback (most recent call last):\n",
      "  File \"c:\\venv_python_3.10\\lib\\site-packages\\sklearn\\model_selection\\_validation.py\", line 765, in _score\n",
      "    scores = scorer(estimator, X_test)\n",
      "TypeError: _BaseScorer.__call__() missing 1 required positional argument: 'y_true'\n",
      "\n",
      "  warnings.warn(\n",
      "c:\\venv_python_3.10\\lib\\site-packages\\sklearn\\model_selection\\_validation.py:776: UserWarning: Scoring failed. The score on this train-test partition for these parameters will be set to nan. Details: \n",
      "Traceback (most recent call last):\n",
      "  File \"c:\\venv_python_3.10\\lib\\site-packages\\sklearn\\model_selection\\_validation.py\", line 765, in _score\n",
      "    scores = scorer(estimator, X_test)\n",
      "TypeError: _BaseScorer.__call__() missing 1 required positional argument: 'y_true'\n",
      "\n",
      "  warnings.warn(\n"
     ]
    },
    {
     "name": "stdout",
     "output_type": "stream",
     "text": [
      "[CV] END bootstrap=True, contamination=0.2, max_features=5, max_samples=105, n_estimators=100; total time=   0.0s\n",
      "[CV] END bootstrap=True, contamination=0.2, max_features=5, max_samples=105, n_estimators=100; total time=   0.0s\n"
     ]
    },
    {
     "name": "stderr",
     "output_type": "stream",
     "text": [
      "c:\\venv_python_3.10\\lib\\site-packages\\sklearn\\model_selection\\_validation.py:776: UserWarning: Scoring failed. The score on this train-test partition for these parameters will be set to nan. Details: \n",
      "Traceback (most recent call last):\n",
      "  File \"c:\\venv_python_3.10\\lib\\site-packages\\sklearn\\model_selection\\_validation.py\", line 765, in _score\n",
      "    scores = scorer(estimator, X_test)\n",
      "TypeError: _BaseScorer.__call__() missing 1 required positional argument: 'y_true'\n",
      "\n",
      "  warnings.warn(\n",
      "c:\\venv_python_3.10\\lib\\site-packages\\sklearn\\model_selection\\_validation.py:776: UserWarning: Scoring failed. The score on this train-test partition for these parameters will be set to nan. Details: \n",
      "Traceback (most recent call last):\n",
      "  File \"c:\\venv_python_3.10\\lib\\site-packages\\sklearn\\model_selection\\_validation.py\", line 765, in _score\n",
      "    scores = scorer(estimator, X_test)\n",
      "TypeError: _BaseScorer.__call__() missing 1 required positional argument: 'y_true'\n",
      "\n",
      "  warnings.warn(\n"
     ]
    },
    {
     "name": "stdout",
     "output_type": "stream",
     "text": [
      "[CV] END bootstrap=True, contamination=0.2, max_features=5, max_samples=105, n_estimators=150; total time=   0.1s\n",
      "[CV] END bootstrap=True, contamination=0.2, max_features=5, max_samples=105, n_estimators=150; total time=   0.1s\n"
     ]
    },
    {
     "name": "stderr",
     "output_type": "stream",
     "text": [
      "c:\\venv_python_3.10\\lib\\site-packages\\sklearn\\model_selection\\_validation.py:776: UserWarning: Scoring failed. The score on this train-test partition for these parameters will be set to nan. Details: \n",
      "Traceback (most recent call last):\n",
      "  File \"c:\\venv_python_3.10\\lib\\site-packages\\sklearn\\model_selection\\_validation.py\", line 765, in _score\n",
      "    scores = scorer(estimator, X_test)\n",
      "TypeError: _BaseScorer.__call__() missing 1 required positional argument: 'y_true'\n",
      "\n",
      "  warnings.warn(\n",
      "c:\\venv_python_3.10\\lib\\site-packages\\sklearn\\model_selection\\_validation.py:776: UserWarning: Scoring failed. The score on this train-test partition for these parameters will be set to nan. Details: \n",
      "Traceback (most recent call last):\n",
      "  File \"c:\\venv_python_3.10\\lib\\site-packages\\sklearn\\model_selection\\_validation.py\", line 765, in _score\n",
      "    scores = scorer(estimator, X_test)\n",
      "TypeError: _BaseScorer.__call__() missing 1 required positional argument: 'y_true'\n",
      "\n",
      "  warnings.warn(\n"
     ]
    },
    {
     "name": "stdout",
     "output_type": "stream",
     "text": [
      "[CV] END bootstrap=True, contamination=0.2, max_features=5, max_samples=105, n_estimators=150; total time=   0.1s\n",
      "[CV] END bootstrap=True, contamination=0.2, max_features=5, max_samples=105, n_estimators=150; total time=   0.1s\n"
     ]
    },
    {
     "name": "stderr",
     "output_type": "stream",
     "text": [
      "c:\\venv_python_3.10\\lib\\site-packages\\sklearn\\model_selection\\_validation.py:776: UserWarning: Scoring failed. The score on this train-test partition for these parameters will be set to nan. Details: \n",
      "Traceback (most recent call last):\n",
      "  File \"c:\\venv_python_3.10\\lib\\site-packages\\sklearn\\model_selection\\_validation.py\", line 765, in _score\n",
      "    scores = scorer(estimator, X_test)\n",
      "TypeError: _BaseScorer.__call__() missing 1 required positional argument: 'y_true'\n",
      "\n",
      "  warnings.warn(\n",
      "c:\\venv_python_3.10\\lib\\site-packages\\sklearn\\model_selection\\_validation.py:776: UserWarning: Scoring failed. The score on this train-test partition for these parameters will be set to nan. Details: \n",
      "Traceback (most recent call last):\n",
      "  File \"c:\\venv_python_3.10\\lib\\site-packages\\sklearn\\model_selection\\_validation.py\", line 765, in _score\n",
      "    scores = scorer(estimator, X_test)\n",
      "TypeError: _BaseScorer.__call__() missing 1 required positional argument: 'y_true'\n",
      "\n",
      "  warnings.warn(\n"
     ]
    },
    {
     "name": "stdout",
     "output_type": "stream",
     "text": [
      "[CV] END bootstrap=True, contamination=0.2, max_features=5, max_samples=105, n_estimators=150; total time=   0.1s\n",
      "[CV] END bootstrap=True, contamination=0.2, max_features=5, max_samples=105, n_estimators=150; total time=   0.1s\n"
     ]
    },
    {
     "name": "stderr",
     "output_type": "stream",
     "text": [
      "c:\\venv_python_3.10\\lib\\site-packages\\sklearn\\model_selection\\_validation.py:776: UserWarning: Scoring failed. The score on this train-test partition for these parameters will be set to nan. Details: \n",
      "Traceback (most recent call last):\n",
      "  File \"c:\\venv_python_3.10\\lib\\site-packages\\sklearn\\model_selection\\_validation.py\", line 765, in _score\n",
      "    scores = scorer(estimator, X_test)\n",
      "TypeError: _BaseScorer.__call__() missing 1 required positional argument: 'y_true'\n",
      "\n",
      "  warnings.warn(\n",
      "c:\\venv_python_3.10\\lib\\site-packages\\sklearn\\model_selection\\_validation.py:776: UserWarning: Scoring failed. The score on this train-test partition for these parameters will be set to nan. Details: \n",
      "Traceback (most recent call last):\n",
      "  File \"c:\\venv_python_3.10\\lib\\site-packages\\sklearn\\model_selection\\_validation.py\", line 765, in _score\n",
      "    scores = scorer(estimator, X_test)\n",
      "TypeError: _BaseScorer.__call__() missing 1 required positional argument: 'y_true'\n",
      "\n",
      "  warnings.warn(\n"
     ]
    },
    {
     "name": "stdout",
     "output_type": "stream",
     "text": [
      "[CV] END bootstrap=True, contamination=0.2, max_features=5, max_samples=105, n_estimators=150; total time=   0.1s\n",
      "[CV] END bootstrap=True, contamination=0.2, max_features=15, max_samples=100, n_estimators=100; total time=   0.0s\n"
     ]
    },
    {
     "name": "stderr",
     "output_type": "stream",
     "text": [
      "c:\\venv_python_3.10\\lib\\site-packages\\sklearn\\model_selection\\_validation.py:776: UserWarning: Scoring failed. The score on this train-test partition for these parameters will be set to nan. Details: \n",
      "Traceback (most recent call last):\n",
      "  File \"c:\\venv_python_3.10\\lib\\site-packages\\sklearn\\model_selection\\_validation.py\", line 765, in _score\n",
      "    scores = scorer(estimator, X_test)\n",
      "TypeError: _BaseScorer.__call__() missing 1 required positional argument: 'y_true'\n",
      "\n",
      "  warnings.warn(\n",
      "c:\\venv_python_3.10\\lib\\site-packages\\sklearn\\model_selection\\_validation.py:776: UserWarning: Scoring failed. The score on this train-test partition for these parameters will be set to nan. Details: \n",
      "Traceback (most recent call last):\n",
      "  File \"c:\\venv_python_3.10\\lib\\site-packages\\sklearn\\model_selection\\_validation.py\", line 765, in _score\n",
      "    scores = scorer(estimator, X_test)\n",
      "TypeError: _BaseScorer.__call__() missing 1 required positional argument: 'y_true'\n",
      "\n",
      "  warnings.warn(\n"
     ]
    },
    {
     "name": "stdout",
     "output_type": "stream",
     "text": [
      "[CV] END bootstrap=True, contamination=0.2, max_features=15, max_samples=100, n_estimators=100; total time=   0.0s\n",
      "[CV] END bootstrap=True, contamination=0.2, max_features=15, max_samples=100, n_estimators=100; total time=   0.0s\n"
     ]
    },
    {
     "name": "stderr",
     "output_type": "stream",
     "text": [
      "c:\\venv_python_3.10\\lib\\site-packages\\sklearn\\model_selection\\_validation.py:776: UserWarning: Scoring failed. The score on this train-test partition for these parameters will be set to nan. Details: \n",
      "Traceback (most recent call last):\n",
      "  File \"c:\\venv_python_3.10\\lib\\site-packages\\sklearn\\model_selection\\_validation.py\", line 765, in _score\n",
      "    scores = scorer(estimator, X_test)\n",
      "TypeError: _BaseScorer.__call__() missing 1 required positional argument: 'y_true'\n",
      "\n",
      "  warnings.warn(\n",
      "c:\\venv_python_3.10\\lib\\site-packages\\sklearn\\model_selection\\_validation.py:776: UserWarning: Scoring failed. The score on this train-test partition for these parameters will be set to nan. Details: \n",
      "Traceback (most recent call last):\n",
      "  File \"c:\\venv_python_3.10\\lib\\site-packages\\sklearn\\model_selection\\_validation.py\", line 765, in _score\n",
      "    scores = scorer(estimator, X_test)\n",
      "TypeError: _BaseScorer.__call__() missing 1 required positional argument: 'y_true'\n",
      "\n",
      "  warnings.warn(\n"
     ]
    },
    {
     "name": "stdout",
     "output_type": "stream",
     "text": [
      "[CV] END bootstrap=True, contamination=0.2, max_features=15, max_samples=100, n_estimators=100; total time=   0.0s\n",
      "[CV] END bootstrap=True, contamination=0.2, max_features=15, max_samples=100, n_estimators=100; total time=   0.0s\n"
     ]
    },
    {
     "name": "stderr",
     "output_type": "stream",
     "text": [
      "c:\\venv_python_3.10\\lib\\site-packages\\sklearn\\model_selection\\_validation.py:776: UserWarning: Scoring failed. The score on this train-test partition for these parameters will be set to nan. Details: \n",
      "Traceback (most recent call last):\n",
      "  File \"c:\\venv_python_3.10\\lib\\site-packages\\sklearn\\model_selection\\_validation.py\", line 765, in _score\n",
      "    scores = scorer(estimator, X_test)\n",
      "TypeError: _BaseScorer.__call__() missing 1 required positional argument: 'y_true'\n",
      "\n",
      "  warnings.warn(\n",
      "c:\\venv_python_3.10\\lib\\site-packages\\sklearn\\model_selection\\_validation.py:776: UserWarning: Scoring failed. The score on this train-test partition for these parameters will be set to nan. Details: \n",
      "Traceback (most recent call last):\n",
      "  File \"c:\\venv_python_3.10\\lib\\site-packages\\sklearn\\model_selection\\_validation.py\", line 765, in _score\n",
      "    scores = scorer(estimator, X_test)\n",
      "TypeError: _BaseScorer.__call__() missing 1 required positional argument: 'y_true'\n",
      "\n",
      "  warnings.warn(\n"
     ]
    },
    {
     "name": "stdout",
     "output_type": "stream",
     "text": [
      "[CV] END bootstrap=True, contamination=0.2, max_features=15, max_samples=100, n_estimators=100; total time=   0.0s\n",
      "[CV] END bootstrap=True, contamination=0.2, max_features=15, max_samples=100, n_estimators=100; total time=   0.0s\n"
     ]
    },
    {
     "name": "stderr",
     "output_type": "stream",
     "text": [
      "c:\\venv_python_3.10\\lib\\site-packages\\sklearn\\model_selection\\_validation.py:776: UserWarning: Scoring failed. The score on this train-test partition for these parameters will be set to nan. Details: \n",
      "Traceback (most recent call last):\n",
      "  File \"c:\\venv_python_3.10\\lib\\site-packages\\sklearn\\model_selection\\_validation.py\", line 765, in _score\n",
      "    scores = scorer(estimator, X_test)\n",
      "TypeError: _BaseScorer.__call__() missing 1 required positional argument: 'y_true'\n",
      "\n",
      "  warnings.warn(\n",
      "c:\\venv_python_3.10\\lib\\site-packages\\sklearn\\model_selection\\_validation.py:776: UserWarning: Scoring failed. The score on this train-test partition for these parameters will be set to nan. Details: \n",
      "Traceback (most recent call last):\n",
      "  File \"c:\\venv_python_3.10\\lib\\site-packages\\sklearn\\model_selection\\_validation.py\", line 765, in _score\n",
      "    scores = scorer(estimator, X_test)\n",
      "TypeError: _BaseScorer.__call__() missing 1 required positional argument: 'y_true'\n",
      "\n",
      "  warnings.warn(\n"
     ]
    },
    {
     "name": "stdout",
     "output_type": "stream",
     "text": [
      "[CV] END bootstrap=True, contamination=0.2, max_features=15, max_samples=100, n_estimators=150; total time=   0.1s\n",
      "[CV] END bootstrap=True, contamination=0.2, max_features=15, max_samples=100, n_estimators=150; total time=   0.1s\n"
     ]
    },
    {
     "name": "stderr",
     "output_type": "stream",
     "text": [
      "c:\\venv_python_3.10\\lib\\site-packages\\sklearn\\model_selection\\_validation.py:776: UserWarning: Scoring failed. The score on this train-test partition for these parameters will be set to nan. Details: \n",
      "Traceback (most recent call last):\n",
      "  File \"c:\\venv_python_3.10\\lib\\site-packages\\sklearn\\model_selection\\_validation.py\", line 765, in _score\n",
      "    scores = scorer(estimator, X_test)\n",
      "TypeError: _BaseScorer.__call__() missing 1 required positional argument: 'y_true'\n",
      "\n",
      "  warnings.warn(\n",
      "c:\\venv_python_3.10\\lib\\site-packages\\sklearn\\model_selection\\_validation.py:776: UserWarning: Scoring failed. The score on this train-test partition for these parameters will be set to nan. Details: \n",
      "Traceback (most recent call last):\n",
      "  File \"c:\\venv_python_3.10\\lib\\site-packages\\sklearn\\model_selection\\_validation.py\", line 765, in _score\n",
      "    scores = scorer(estimator, X_test)\n",
      "TypeError: _BaseScorer.__call__() missing 1 required positional argument: 'y_true'\n",
      "\n",
      "  warnings.warn(\n"
     ]
    },
    {
     "name": "stdout",
     "output_type": "stream",
     "text": [
      "[CV] END bootstrap=True, contamination=0.2, max_features=15, max_samples=100, n_estimators=150; total time=   0.1s\n",
      "[CV] END bootstrap=True, contamination=0.2, max_features=15, max_samples=100, n_estimators=150; total time=   0.1s\n"
     ]
    },
    {
     "name": "stderr",
     "output_type": "stream",
     "text": [
      "c:\\venv_python_3.10\\lib\\site-packages\\sklearn\\model_selection\\_validation.py:776: UserWarning: Scoring failed. The score on this train-test partition for these parameters will be set to nan. Details: \n",
      "Traceback (most recent call last):\n",
      "  File \"c:\\venv_python_3.10\\lib\\site-packages\\sklearn\\model_selection\\_validation.py\", line 765, in _score\n",
      "    scores = scorer(estimator, X_test)\n",
      "TypeError: _BaseScorer.__call__() missing 1 required positional argument: 'y_true'\n",
      "\n",
      "  warnings.warn(\n",
      "c:\\venv_python_3.10\\lib\\site-packages\\sklearn\\model_selection\\_validation.py:776: UserWarning: Scoring failed. The score on this train-test partition for these parameters will be set to nan. Details: \n",
      "Traceback (most recent call last):\n",
      "  File \"c:\\venv_python_3.10\\lib\\site-packages\\sklearn\\model_selection\\_validation.py\", line 765, in _score\n",
      "    scores = scorer(estimator, X_test)\n",
      "TypeError: _BaseScorer.__call__() missing 1 required positional argument: 'y_true'\n",
      "\n",
      "  warnings.warn(\n"
     ]
    },
    {
     "name": "stdout",
     "output_type": "stream",
     "text": [
      "[CV] END bootstrap=True, contamination=0.2, max_features=15, max_samples=100, n_estimators=150; total time=   0.1s\n",
      "[CV] END bootstrap=True, contamination=0.2, max_features=15, max_samples=100, n_estimators=150; total time=   0.1s\n"
     ]
    },
    {
     "name": "stderr",
     "output_type": "stream",
     "text": [
      "c:\\venv_python_3.10\\lib\\site-packages\\sklearn\\model_selection\\_validation.py:776: UserWarning: Scoring failed. The score on this train-test partition for these parameters will be set to nan. Details: \n",
      "Traceback (most recent call last):\n",
      "  File \"c:\\venv_python_3.10\\lib\\site-packages\\sklearn\\model_selection\\_validation.py\", line 765, in _score\n",
      "    scores = scorer(estimator, X_test)\n",
      "TypeError: _BaseScorer.__call__() missing 1 required positional argument: 'y_true'\n",
      "\n",
      "  warnings.warn(\n",
      "c:\\venv_python_3.10\\lib\\site-packages\\sklearn\\model_selection\\_validation.py:776: UserWarning: Scoring failed. The score on this train-test partition for these parameters will be set to nan. Details: \n",
      "Traceback (most recent call last):\n",
      "  File \"c:\\venv_python_3.10\\lib\\site-packages\\sklearn\\model_selection\\_validation.py\", line 765, in _score\n",
      "    scores = scorer(estimator, X_test)\n",
      "TypeError: _BaseScorer.__call__() missing 1 required positional argument: 'y_true'\n",
      "\n",
      "  warnings.warn(\n"
     ]
    },
    {
     "name": "stdout",
     "output_type": "stream",
     "text": [
      "[CV] END bootstrap=True, contamination=0.2, max_features=15, max_samples=100, n_estimators=150; total time=   0.1s\n",
      "[CV] END bootstrap=True, contamination=0.2, max_features=15, max_samples=105, n_estimators=100; total time=   0.0s\n"
     ]
    },
    {
     "name": "stderr",
     "output_type": "stream",
     "text": [
      "c:\\venv_python_3.10\\lib\\site-packages\\sklearn\\model_selection\\_validation.py:776: UserWarning: Scoring failed. The score on this train-test partition for these parameters will be set to nan. Details: \n",
      "Traceback (most recent call last):\n",
      "  File \"c:\\venv_python_3.10\\lib\\site-packages\\sklearn\\model_selection\\_validation.py\", line 765, in _score\n",
      "    scores = scorer(estimator, X_test)\n",
      "TypeError: _BaseScorer.__call__() missing 1 required positional argument: 'y_true'\n",
      "\n",
      "  warnings.warn(\n",
      "c:\\venv_python_3.10\\lib\\site-packages\\sklearn\\model_selection\\_validation.py:776: UserWarning: Scoring failed. The score on this train-test partition for these parameters will be set to nan. Details: \n",
      "Traceback (most recent call last):\n",
      "  File \"c:\\venv_python_3.10\\lib\\site-packages\\sklearn\\model_selection\\_validation.py\", line 765, in _score\n",
      "    scores = scorer(estimator, X_test)\n",
      "TypeError: _BaseScorer.__call__() missing 1 required positional argument: 'y_true'\n",
      "\n",
      "  warnings.warn(\n"
     ]
    },
    {
     "name": "stdout",
     "output_type": "stream",
     "text": [
      "[CV] END bootstrap=True, contamination=0.2, max_features=15, max_samples=105, n_estimators=100; total time=   0.0s\n",
      "[CV] END bootstrap=True, contamination=0.2, max_features=15, max_samples=105, n_estimators=100; total time=   0.0s\n"
     ]
    },
    {
     "name": "stderr",
     "output_type": "stream",
     "text": [
      "c:\\venv_python_3.10\\lib\\site-packages\\sklearn\\model_selection\\_validation.py:776: UserWarning: Scoring failed. The score on this train-test partition for these parameters will be set to nan. Details: \n",
      "Traceback (most recent call last):\n",
      "  File \"c:\\venv_python_3.10\\lib\\site-packages\\sklearn\\model_selection\\_validation.py\", line 765, in _score\n",
      "    scores = scorer(estimator, X_test)\n",
      "TypeError: _BaseScorer.__call__() missing 1 required positional argument: 'y_true'\n",
      "\n",
      "  warnings.warn(\n",
      "c:\\venv_python_3.10\\lib\\site-packages\\sklearn\\model_selection\\_validation.py:776: UserWarning: Scoring failed. The score on this train-test partition for these parameters will be set to nan. Details: \n",
      "Traceback (most recent call last):\n",
      "  File \"c:\\venv_python_3.10\\lib\\site-packages\\sklearn\\model_selection\\_validation.py\", line 765, in _score\n",
      "    scores = scorer(estimator, X_test)\n",
      "TypeError: _BaseScorer.__call__() missing 1 required positional argument: 'y_true'\n",
      "\n",
      "  warnings.warn(\n"
     ]
    },
    {
     "name": "stdout",
     "output_type": "stream",
     "text": [
      "[CV] END bootstrap=True, contamination=0.2, max_features=15, max_samples=105, n_estimators=100; total time=   0.0s\n",
      "[CV] END bootstrap=True, contamination=0.2, max_features=15, max_samples=105, n_estimators=100; total time=   0.0s\n"
     ]
    },
    {
     "name": "stderr",
     "output_type": "stream",
     "text": [
      "c:\\venv_python_3.10\\lib\\site-packages\\sklearn\\model_selection\\_validation.py:776: UserWarning: Scoring failed. The score on this train-test partition for these parameters will be set to nan. Details: \n",
      "Traceback (most recent call last):\n",
      "  File \"c:\\venv_python_3.10\\lib\\site-packages\\sklearn\\model_selection\\_validation.py\", line 765, in _score\n",
      "    scores = scorer(estimator, X_test)\n",
      "TypeError: _BaseScorer.__call__() missing 1 required positional argument: 'y_true'\n",
      "\n",
      "  warnings.warn(\n",
      "c:\\venv_python_3.10\\lib\\site-packages\\sklearn\\model_selection\\_validation.py:776: UserWarning: Scoring failed. The score on this train-test partition for these parameters will be set to nan. Details: \n",
      "Traceback (most recent call last):\n",
      "  File \"c:\\venv_python_3.10\\lib\\site-packages\\sklearn\\model_selection\\_validation.py\", line 765, in _score\n",
      "    scores = scorer(estimator, X_test)\n",
      "TypeError: _BaseScorer.__call__() missing 1 required positional argument: 'y_true'\n",
      "\n",
      "  warnings.warn(\n"
     ]
    },
    {
     "name": "stdout",
     "output_type": "stream",
     "text": [
      "[CV] END bootstrap=True, contamination=0.2, max_features=15, max_samples=105, n_estimators=100; total time=   0.0s\n",
      "[CV] END bootstrap=True, contamination=0.2, max_features=15, max_samples=105, n_estimators=100; total time=   0.0s\n"
     ]
    },
    {
     "name": "stderr",
     "output_type": "stream",
     "text": [
      "c:\\venv_python_3.10\\lib\\site-packages\\sklearn\\model_selection\\_validation.py:776: UserWarning: Scoring failed. The score on this train-test partition for these parameters will be set to nan. Details: \n",
      "Traceback (most recent call last):\n",
      "  File \"c:\\venv_python_3.10\\lib\\site-packages\\sklearn\\model_selection\\_validation.py\", line 765, in _score\n",
      "    scores = scorer(estimator, X_test)\n",
      "TypeError: _BaseScorer.__call__() missing 1 required positional argument: 'y_true'\n",
      "\n",
      "  warnings.warn(\n",
      "c:\\venv_python_3.10\\lib\\site-packages\\sklearn\\model_selection\\_validation.py:776: UserWarning: Scoring failed. The score on this train-test partition for these parameters will be set to nan. Details: \n",
      "Traceback (most recent call last):\n",
      "  File \"c:\\venv_python_3.10\\lib\\site-packages\\sklearn\\model_selection\\_validation.py\", line 765, in _score\n",
      "    scores = scorer(estimator, X_test)\n",
      "TypeError: _BaseScorer.__call__() missing 1 required positional argument: 'y_true'\n",
      "\n",
      "  warnings.warn(\n"
     ]
    },
    {
     "name": "stdout",
     "output_type": "stream",
     "text": [
      "[CV] END bootstrap=True, contamination=0.2, max_features=15, max_samples=105, n_estimators=150; total time=   0.1s\n",
      "[CV] END bootstrap=True, contamination=0.2, max_features=15, max_samples=105, n_estimators=150; total time=   0.1s\n"
     ]
    },
    {
     "name": "stderr",
     "output_type": "stream",
     "text": [
      "c:\\venv_python_3.10\\lib\\site-packages\\sklearn\\model_selection\\_validation.py:776: UserWarning: Scoring failed. The score on this train-test partition for these parameters will be set to nan. Details: \n",
      "Traceback (most recent call last):\n",
      "  File \"c:\\venv_python_3.10\\lib\\site-packages\\sklearn\\model_selection\\_validation.py\", line 765, in _score\n",
      "    scores = scorer(estimator, X_test)\n",
      "TypeError: _BaseScorer.__call__() missing 1 required positional argument: 'y_true'\n",
      "\n",
      "  warnings.warn(\n",
      "c:\\venv_python_3.10\\lib\\site-packages\\sklearn\\model_selection\\_validation.py:776: UserWarning: Scoring failed. The score on this train-test partition for these parameters will be set to nan. Details: \n",
      "Traceback (most recent call last):\n",
      "  File \"c:\\venv_python_3.10\\lib\\site-packages\\sklearn\\model_selection\\_validation.py\", line 765, in _score\n",
      "    scores = scorer(estimator, X_test)\n",
      "TypeError: _BaseScorer.__call__() missing 1 required positional argument: 'y_true'\n",
      "\n",
      "  warnings.warn(\n"
     ]
    },
    {
     "name": "stdout",
     "output_type": "stream",
     "text": [
      "[CV] END bootstrap=True, contamination=0.2, max_features=15, max_samples=105, n_estimators=150; total time=   0.1s\n",
      "[CV] END bootstrap=True, contamination=0.2, max_features=15, max_samples=105, n_estimators=150; total time=   0.1s\n"
     ]
    },
    {
     "name": "stderr",
     "output_type": "stream",
     "text": [
      "c:\\venv_python_3.10\\lib\\site-packages\\sklearn\\model_selection\\_validation.py:776: UserWarning: Scoring failed. The score on this train-test partition for these parameters will be set to nan. Details: \n",
      "Traceback (most recent call last):\n",
      "  File \"c:\\venv_python_3.10\\lib\\site-packages\\sklearn\\model_selection\\_validation.py\", line 765, in _score\n",
      "    scores = scorer(estimator, X_test)\n",
      "TypeError: _BaseScorer.__call__() missing 1 required positional argument: 'y_true'\n",
      "\n",
      "  warnings.warn(\n",
      "c:\\venv_python_3.10\\lib\\site-packages\\sklearn\\model_selection\\_validation.py:776: UserWarning: Scoring failed. The score on this train-test partition for these parameters will be set to nan. Details: \n",
      "Traceback (most recent call last):\n",
      "  File \"c:\\venv_python_3.10\\lib\\site-packages\\sklearn\\model_selection\\_validation.py\", line 765, in _score\n",
      "    scores = scorer(estimator, X_test)\n",
      "TypeError: _BaseScorer.__call__() missing 1 required positional argument: 'y_true'\n",
      "\n",
      "  warnings.warn(\n"
     ]
    },
    {
     "name": "stdout",
     "output_type": "stream",
     "text": [
      "[CV] END bootstrap=True, contamination=0.2, max_features=15, max_samples=105, n_estimators=150; total time=   0.1s\n",
      "[CV] END bootstrap=True, contamination=0.2, max_features=15, max_samples=105, n_estimators=150; total time=   0.1s\n"
     ]
    },
    {
     "name": "stderr",
     "output_type": "stream",
     "text": [
      "c:\\venv_python_3.10\\lib\\site-packages\\sklearn\\model_selection\\_validation.py:776: UserWarning: Scoring failed. The score on this train-test partition for these parameters will be set to nan. Details: \n",
      "Traceback (most recent call last):\n",
      "  File \"c:\\venv_python_3.10\\lib\\site-packages\\sklearn\\model_selection\\_validation.py\", line 765, in _score\n",
      "    scores = scorer(estimator, X_test)\n",
      "TypeError: _BaseScorer.__call__() missing 1 required positional argument: 'y_true'\n",
      "\n",
      "  warnings.warn(\n",
      "c:\\venv_python_3.10\\lib\\site-packages\\sklearn\\model_selection\\_validation.py:776: UserWarning: Scoring failed. The score on this train-test partition for these parameters will be set to nan. Details: \n",
      "Traceback (most recent call last):\n",
      "  File \"c:\\venv_python_3.10\\lib\\site-packages\\sklearn\\model_selection\\_validation.py\", line 765, in _score\n",
      "    scores = scorer(estimator, X_test)\n",
      "TypeError: _BaseScorer.__call__() missing 1 required positional argument: 'y_true'\n",
      "\n",
      "  warnings.warn(\n"
     ]
    },
    {
     "name": "stdout",
     "output_type": "stream",
     "text": [
      "[CV] END bootstrap=True, contamination=0.2, max_features=15, max_samples=105, n_estimators=150; total time=   0.1s\n",
      "[CV] END bootstrap=False, contamination=0.1, max_features=5, max_samples=100, n_estimators=100; total time=   0.0s\n"
     ]
    },
    {
     "name": "stderr",
     "output_type": "stream",
     "text": [
      "c:\\venv_python_3.10\\lib\\site-packages\\sklearn\\model_selection\\_validation.py:776: UserWarning: Scoring failed. The score on this train-test partition for these parameters will be set to nan. Details: \n",
      "Traceback (most recent call last):\n",
      "  File \"c:\\venv_python_3.10\\lib\\site-packages\\sklearn\\model_selection\\_validation.py\", line 765, in _score\n",
      "    scores = scorer(estimator, X_test)\n",
      "TypeError: _BaseScorer.__call__() missing 1 required positional argument: 'y_true'\n",
      "\n",
      "  warnings.warn(\n",
      "c:\\venv_python_3.10\\lib\\site-packages\\sklearn\\model_selection\\_validation.py:776: UserWarning: Scoring failed. The score on this train-test partition for these parameters will be set to nan. Details: \n",
      "Traceback (most recent call last):\n",
      "  File \"c:\\venv_python_3.10\\lib\\site-packages\\sklearn\\model_selection\\_validation.py\", line 765, in _score\n",
      "    scores = scorer(estimator, X_test)\n",
      "TypeError: _BaseScorer.__call__() missing 1 required positional argument: 'y_true'\n",
      "\n",
      "  warnings.warn(\n"
     ]
    },
    {
     "name": "stdout",
     "output_type": "stream",
     "text": [
      "[CV] END bootstrap=False, contamination=0.1, max_features=5, max_samples=100, n_estimators=100; total time=   0.0s\n",
      "[CV] END bootstrap=False, contamination=0.1, max_features=5, max_samples=100, n_estimators=100; total time=   0.0s\n"
     ]
    },
    {
     "name": "stderr",
     "output_type": "stream",
     "text": [
      "c:\\venv_python_3.10\\lib\\site-packages\\sklearn\\model_selection\\_validation.py:776: UserWarning: Scoring failed. The score on this train-test partition for these parameters will be set to nan. Details: \n",
      "Traceback (most recent call last):\n",
      "  File \"c:\\venv_python_3.10\\lib\\site-packages\\sklearn\\model_selection\\_validation.py\", line 765, in _score\n",
      "    scores = scorer(estimator, X_test)\n",
      "TypeError: _BaseScorer.__call__() missing 1 required positional argument: 'y_true'\n",
      "\n",
      "  warnings.warn(\n",
      "c:\\venv_python_3.10\\lib\\site-packages\\sklearn\\model_selection\\_validation.py:776: UserWarning: Scoring failed. The score on this train-test partition for these parameters will be set to nan. Details: \n",
      "Traceback (most recent call last):\n",
      "  File \"c:\\venv_python_3.10\\lib\\site-packages\\sklearn\\model_selection\\_validation.py\", line 765, in _score\n",
      "    scores = scorer(estimator, X_test)\n",
      "TypeError: _BaseScorer.__call__() missing 1 required positional argument: 'y_true'\n",
      "\n",
      "  warnings.warn(\n"
     ]
    },
    {
     "name": "stdout",
     "output_type": "stream",
     "text": [
      "[CV] END bootstrap=False, contamination=0.1, max_features=5, max_samples=100, n_estimators=100; total time=   0.0s\n",
      "[CV] END bootstrap=False, contamination=0.1, max_features=5, max_samples=100, n_estimators=100; total time=   0.0s\n"
     ]
    },
    {
     "name": "stderr",
     "output_type": "stream",
     "text": [
      "c:\\venv_python_3.10\\lib\\site-packages\\sklearn\\model_selection\\_validation.py:776: UserWarning: Scoring failed. The score on this train-test partition for these parameters will be set to nan. Details: \n",
      "Traceback (most recent call last):\n",
      "  File \"c:\\venv_python_3.10\\lib\\site-packages\\sklearn\\model_selection\\_validation.py\", line 765, in _score\n",
      "    scores = scorer(estimator, X_test)\n",
      "TypeError: _BaseScorer.__call__() missing 1 required positional argument: 'y_true'\n",
      "\n",
      "  warnings.warn(\n",
      "c:\\venv_python_3.10\\lib\\site-packages\\sklearn\\model_selection\\_validation.py:776: UserWarning: Scoring failed. The score on this train-test partition for these parameters will be set to nan. Details: \n",
      "Traceback (most recent call last):\n",
      "  File \"c:\\venv_python_3.10\\lib\\site-packages\\sklearn\\model_selection\\_validation.py\", line 765, in _score\n",
      "    scores = scorer(estimator, X_test)\n",
      "TypeError: _BaseScorer.__call__() missing 1 required positional argument: 'y_true'\n",
      "\n",
      "  warnings.warn(\n"
     ]
    },
    {
     "name": "stdout",
     "output_type": "stream",
     "text": [
      "[CV] END bootstrap=False, contamination=0.1, max_features=5, max_samples=100, n_estimators=100; total time=   0.0s\n",
      "[CV] END bootstrap=False, contamination=0.1, max_features=5, max_samples=100, n_estimators=100; total time=   0.0s\n"
     ]
    },
    {
     "name": "stderr",
     "output_type": "stream",
     "text": [
      "c:\\venv_python_3.10\\lib\\site-packages\\sklearn\\model_selection\\_validation.py:776: UserWarning: Scoring failed. The score on this train-test partition for these parameters will be set to nan. Details: \n",
      "Traceback (most recent call last):\n",
      "  File \"c:\\venv_python_3.10\\lib\\site-packages\\sklearn\\model_selection\\_validation.py\", line 765, in _score\n",
      "    scores = scorer(estimator, X_test)\n",
      "TypeError: _BaseScorer.__call__() missing 1 required positional argument: 'y_true'\n",
      "\n",
      "  warnings.warn(\n",
      "c:\\venv_python_3.10\\lib\\site-packages\\sklearn\\model_selection\\_validation.py:776: UserWarning: Scoring failed. The score on this train-test partition for these parameters will be set to nan. Details: \n",
      "Traceback (most recent call last):\n",
      "  File \"c:\\venv_python_3.10\\lib\\site-packages\\sklearn\\model_selection\\_validation.py\", line 765, in _score\n",
      "    scores = scorer(estimator, X_test)\n",
      "TypeError: _BaseScorer.__call__() missing 1 required positional argument: 'y_true'\n",
      "\n",
      "  warnings.warn(\n"
     ]
    },
    {
     "name": "stdout",
     "output_type": "stream",
     "text": [
      "[CV] END bootstrap=False, contamination=0.1, max_features=5, max_samples=100, n_estimators=150; total time=   0.1s\n",
      "[CV] END bootstrap=False, contamination=0.1, max_features=5, max_samples=100, n_estimators=150; total time=   0.1s\n"
     ]
    },
    {
     "name": "stderr",
     "output_type": "stream",
     "text": [
      "c:\\venv_python_3.10\\lib\\site-packages\\sklearn\\model_selection\\_validation.py:776: UserWarning: Scoring failed. The score on this train-test partition for these parameters will be set to nan. Details: \n",
      "Traceback (most recent call last):\n",
      "  File \"c:\\venv_python_3.10\\lib\\site-packages\\sklearn\\model_selection\\_validation.py\", line 765, in _score\n",
      "    scores = scorer(estimator, X_test)\n",
      "TypeError: _BaseScorer.__call__() missing 1 required positional argument: 'y_true'\n",
      "\n",
      "  warnings.warn(\n",
      "c:\\venv_python_3.10\\lib\\site-packages\\sklearn\\model_selection\\_validation.py:776: UserWarning: Scoring failed. The score on this train-test partition for these parameters will be set to nan. Details: \n",
      "Traceback (most recent call last):\n",
      "  File \"c:\\venv_python_3.10\\lib\\site-packages\\sklearn\\model_selection\\_validation.py\", line 765, in _score\n",
      "    scores = scorer(estimator, X_test)\n",
      "TypeError: _BaseScorer.__call__() missing 1 required positional argument: 'y_true'\n",
      "\n",
      "  warnings.warn(\n"
     ]
    },
    {
     "name": "stdout",
     "output_type": "stream",
     "text": [
      "[CV] END bootstrap=False, contamination=0.1, max_features=5, max_samples=100, n_estimators=150; total time=   0.1s\n",
      "[CV] END bootstrap=False, contamination=0.1, max_features=5, max_samples=100, n_estimators=150; total time=   0.1s\n"
     ]
    },
    {
     "name": "stderr",
     "output_type": "stream",
     "text": [
      "c:\\venv_python_3.10\\lib\\site-packages\\sklearn\\model_selection\\_validation.py:776: UserWarning: Scoring failed. The score on this train-test partition for these parameters will be set to nan. Details: \n",
      "Traceback (most recent call last):\n",
      "  File \"c:\\venv_python_3.10\\lib\\site-packages\\sklearn\\model_selection\\_validation.py\", line 765, in _score\n",
      "    scores = scorer(estimator, X_test)\n",
      "TypeError: _BaseScorer.__call__() missing 1 required positional argument: 'y_true'\n",
      "\n",
      "  warnings.warn(\n",
      "c:\\venv_python_3.10\\lib\\site-packages\\sklearn\\model_selection\\_validation.py:776: UserWarning: Scoring failed. The score on this train-test partition for these parameters will be set to nan. Details: \n",
      "Traceback (most recent call last):\n",
      "  File \"c:\\venv_python_3.10\\lib\\site-packages\\sklearn\\model_selection\\_validation.py\", line 765, in _score\n",
      "    scores = scorer(estimator, X_test)\n",
      "TypeError: _BaseScorer.__call__() missing 1 required positional argument: 'y_true'\n",
      "\n",
      "  warnings.warn(\n"
     ]
    },
    {
     "name": "stdout",
     "output_type": "stream",
     "text": [
      "[CV] END bootstrap=False, contamination=0.1, max_features=5, max_samples=100, n_estimators=150; total time=   0.1s\n",
      "[CV] END bootstrap=False, contamination=0.1, max_features=5, max_samples=100, n_estimators=150; total time=   0.1s\n"
     ]
    },
    {
     "name": "stderr",
     "output_type": "stream",
     "text": [
      "c:\\venv_python_3.10\\lib\\site-packages\\sklearn\\model_selection\\_validation.py:776: UserWarning: Scoring failed. The score on this train-test partition for these parameters will be set to nan. Details: \n",
      "Traceback (most recent call last):\n",
      "  File \"c:\\venv_python_3.10\\lib\\site-packages\\sklearn\\model_selection\\_validation.py\", line 765, in _score\n",
      "    scores = scorer(estimator, X_test)\n",
      "TypeError: _BaseScorer.__call__() missing 1 required positional argument: 'y_true'\n",
      "\n",
      "  warnings.warn(\n",
      "c:\\venv_python_3.10\\lib\\site-packages\\sklearn\\model_selection\\_validation.py:776: UserWarning: Scoring failed. The score on this train-test partition for these parameters will be set to nan. Details: \n",
      "Traceback (most recent call last):\n",
      "  File \"c:\\venv_python_3.10\\lib\\site-packages\\sklearn\\model_selection\\_validation.py\", line 765, in _score\n",
      "    scores = scorer(estimator, X_test)\n",
      "TypeError: _BaseScorer.__call__() missing 1 required positional argument: 'y_true'\n",
      "\n",
      "  warnings.warn(\n"
     ]
    },
    {
     "name": "stdout",
     "output_type": "stream",
     "text": [
      "[CV] END bootstrap=False, contamination=0.1, max_features=5, max_samples=100, n_estimators=150; total time=   0.1s\n",
      "[CV] END bootstrap=False, contamination=0.1, max_features=5, max_samples=105, n_estimators=100; total time=   0.0s\n"
     ]
    },
    {
     "name": "stderr",
     "output_type": "stream",
     "text": [
      "c:\\venv_python_3.10\\lib\\site-packages\\sklearn\\model_selection\\_validation.py:776: UserWarning: Scoring failed. The score on this train-test partition for these parameters will be set to nan. Details: \n",
      "Traceback (most recent call last):\n",
      "  File \"c:\\venv_python_3.10\\lib\\site-packages\\sklearn\\model_selection\\_validation.py\", line 765, in _score\n",
      "    scores = scorer(estimator, X_test)\n",
      "TypeError: _BaseScorer.__call__() missing 1 required positional argument: 'y_true'\n",
      "\n",
      "  warnings.warn(\n",
      "c:\\venv_python_3.10\\lib\\site-packages\\sklearn\\model_selection\\_validation.py:776: UserWarning: Scoring failed. The score on this train-test partition for these parameters will be set to nan. Details: \n",
      "Traceback (most recent call last):\n",
      "  File \"c:\\venv_python_3.10\\lib\\site-packages\\sklearn\\model_selection\\_validation.py\", line 765, in _score\n",
      "    scores = scorer(estimator, X_test)\n",
      "TypeError: _BaseScorer.__call__() missing 1 required positional argument: 'y_true'\n",
      "\n",
      "  warnings.warn(\n"
     ]
    },
    {
     "name": "stdout",
     "output_type": "stream",
     "text": [
      "[CV] END bootstrap=False, contamination=0.1, max_features=5, max_samples=105, n_estimators=100; total time=   0.0s\n",
      "[CV] END bootstrap=False, contamination=0.1, max_features=5, max_samples=105, n_estimators=100; total time=   0.0s\n"
     ]
    },
    {
     "name": "stderr",
     "output_type": "stream",
     "text": [
      "c:\\venv_python_3.10\\lib\\site-packages\\sklearn\\model_selection\\_validation.py:776: UserWarning: Scoring failed. The score on this train-test partition for these parameters will be set to nan. Details: \n",
      "Traceback (most recent call last):\n",
      "  File \"c:\\venv_python_3.10\\lib\\site-packages\\sklearn\\model_selection\\_validation.py\", line 765, in _score\n",
      "    scores = scorer(estimator, X_test)\n",
      "TypeError: _BaseScorer.__call__() missing 1 required positional argument: 'y_true'\n",
      "\n",
      "  warnings.warn(\n",
      "c:\\venv_python_3.10\\lib\\site-packages\\sklearn\\model_selection\\_validation.py:776: UserWarning: Scoring failed. The score on this train-test partition for these parameters will be set to nan. Details: \n",
      "Traceback (most recent call last):\n",
      "  File \"c:\\venv_python_3.10\\lib\\site-packages\\sklearn\\model_selection\\_validation.py\", line 765, in _score\n",
      "    scores = scorer(estimator, X_test)\n",
      "TypeError: _BaseScorer.__call__() missing 1 required positional argument: 'y_true'\n",
      "\n",
      "  warnings.warn(\n"
     ]
    },
    {
     "name": "stdout",
     "output_type": "stream",
     "text": [
      "[CV] END bootstrap=False, contamination=0.1, max_features=5, max_samples=105, n_estimators=100; total time=   0.0s\n",
      "[CV] END bootstrap=False, contamination=0.1, max_features=5, max_samples=105, n_estimators=100; total time=   0.0s\n"
     ]
    },
    {
     "name": "stderr",
     "output_type": "stream",
     "text": [
      "c:\\venv_python_3.10\\lib\\site-packages\\sklearn\\model_selection\\_validation.py:776: UserWarning: Scoring failed. The score on this train-test partition for these parameters will be set to nan. Details: \n",
      "Traceback (most recent call last):\n",
      "  File \"c:\\venv_python_3.10\\lib\\site-packages\\sklearn\\model_selection\\_validation.py\", line 765, in _score\n",
      "    scores = scorer(estimator, X_test)\n",
      "TypeError: _BaseScorer.__call__() missing 1 required positional argument: 'y_true'\n",
      "\n",
      "  warnings.warn(\n",
      "c:\\venv_python_3.10\\lib\\site-packages\\sklearn\\model_selection\\_validation.py:776: UserWarning: Scoring failed. The score on this train-test partition for these parameters will be set to nan. Details: \n",
      "Traceback (most recent call last):\n",
      "  File \"c:\\venv_python_3.10\\lib\\site-packages\\sklearn\\model_selection\\_validation.py\", line 765, in _score\n",
      "    scores = scorer(estimator, X_test)\n",
      "TypeError: _BaseScorer.__call__() missing 1 required positional argument: 'y_true'\n",
      "\n",
      "  warnings.warn(\n"
     ]
    },
    {
     "name": "stdout",
     "output_type": "stream",
     "text": [
      "[CV] END bootstrap=False, contamination=0.1, max_features=5, max_samples=105, n_estimators=100; total time=   0.0s\n",
      "[CV] END bootstrap=False, contamination=0.1, max_features=5, max_samples=105, n_estimators=100; total time=   0.0s\n"
     ]
    },
    {
     "name": "stderr",
     "output_type": "stream",
     "text": [
      "c:\\venv_python_3.10\\lib\\site-packages\\sklearn\\model_selection\\_validation.py:776: UserWarning: Scoring failed. The score on this train-test partition for these parameters will be set to nan. Details: \n",
      "Traceback (most recent call last):\n",
      "  File \"c:\\venv_python_3.10\\lib\\site-packages\\sklearn\\model_selection\\_validation.py\", line 765, in _score\n",
      "    scores = scorer(estimator, X_test)\n",
      "TypeError: _BaseScorer.__call__() missing 1 required positional argument: 'y_true'\n",
      "\n",
      "  warnings.warn(\n",
      "c:\\venv_python_3.10\\lib\\site-packages\\sklearn\\model_selection\\_validation.py:776: UserWarning: Scoring failed. The score on this train-test partition for these parameters will be set to nan. Details: \n",
      "Traceback (most recent call last):\n",
      "  File \"c:\\venv_python_3.10\\lib\\site-packages\\sklearn\\model_selection\\_validation.py\", line 765, in _score\n",
      "    scores = scorer(estimator, X_test)\n",
      "TypeError: _BaseScorer.__call__() missing 1 required positional argument: 'y_true'\n",
      "\n",
      "  warnings.warn(\n"
     ]
    },
    {
     "name": "stdout",
     "output_type": "stream",
     "text": [
      "[CV] END bootstrap=False, contamination=0.1, max_features=5, max_samples=105, n_estimators=150; total time=   0.1s\n",
      "[CV] END bootstrap=False, contamination=0.1, max_features=5, max_samples=105, n_estimators=150; total time=   0.1s\n"
     ]
    },
    {
     "name": "stderr",
     "output_type": "stream",
     "text": [
      "c:\\venv_python_3.10\\lib\\site-packages\\sklearn\\model_selection\\_validation.py:776: UserWarning: Scoring failed. The score on this train-test partition for these parameters will be set to nan. Details: \n",
      "Traceback (most recent call last):\n",
      "  File \"c:\\venv_python_3.10\\lib\\site-packages\\sklearn\\model_selection\\_validation.py\", line 765, in _score\n",
      "    scores = scorer(estimator, X_test)\n",
      "TypeError: _BaseScorer.__call__() missing 1 required positional argument: 'y_true'\n",
      "\n",
      "  warnings.warn(\n",
      "c:\\venv_python_3.10\\lib\\site-packages\\sklearn\\model_selection\\_validation.py:776: UserWarning: Scoring failed. The score on this train-test partition for these parameters will be set to nan. Details: \n",
      "Traceback (most recent call last):\n",
      "  File \"c:\\venv_python_3.10\\lib\\site-packages\\sklearn\\model_selection\\_validation.py\", line 765, in _score\n",
      "    scores = scorer(estimator, X_test)\n",
      "TypeError: _BaseScorer.__call__() missing 1 required positional argument: 'y_true'\n",
      "\n",
      "  warnings.warn(\n"
     ]
    },
    {
     "name": "stdout",
     "output_type": "stream",
     "text": [
      "[CV] END bootstrap=False, contamination=0.1, max_features=5, max_samples=105, n_estimators=150; total time=   0.1s\n",
      "[CV] END bootstrap=False, contamination=0.1, max_features=5, max_samples=105, n_estimators=150; total time=   0.1s\n"
     ]
    },
    {
     "name": "stderr",
     "output_type": "stream",
     "text": [
      "c:\\venv_python_3.10\\lib\\site-packages\\sklearn\\model_selection\\_validation.py:776: UserWarning: Scoring failed. The score on this train-test partition for these parameters will be set to nan. Details: \n",
      "Traceback (most recent call last):\n",
      "  File \"c:\\venv_python_3.10\\lib\\site-packages\\sklearn\\model_selection\\_validation.py\", line 765, in _score\n",
      "    scores = scorer(estimator, X_test)\n",
      "TypeError: _BaseScorer.__call__() missing 1 required positional argument: 'y_true'\n",
      "\n",
      "  warnings.warn(\n",
      "c:\\venv_python_3.10\\lib\\site-packages\\sklearn\\model_selection\\_validation.py:776: UserWarning: Scoring failed. The score on this train-test partition for these parameters will be set to nan. Details: \n",
      "Traceback (most recent call last):\n",
      "  File \"c:\\venv_python_3.10\\lib\\site-packages\\sklearn\\model_selection\\_validation.py\", line 765, in _score\n",
      "    scores = scorer(estimator, X_test)\n",
      "TypeError: _BaseScorer.__call__() missing 1 required positional argument: 'y_true'\n",
      "\n",
      "  warnings.warn(\n"
     ]
    },
    {
     "name": "stdout",
     "output_type": "stream",
     "text": [
      "[CV] END bootstrap=False, contamination=0.1, max_features=5, max_samples=105, n_estimators=150; total time=   0.1s\n",
      "[CV] END bootstrap=False, contamination=0.1, max_features=5, max_samples=105, n_estimators=150; total time=   0.1s\n"
     ]
    },
    {
     "name": "stderr",
     "output_type": "stream",
     "text": [
      "c:\\venv_python_3.10\\lib\\site-packages\\sklearn\\model_selection\\_validation.py:776: UserWarning: Scoring failed. The score on this train-test partition for these parameters will be set to nan. Details: \n",
      "Traceback (most recent call last):\n",
      "  File \"c:\\venv_python_3.10\\lib\\site-packages\\sklearn\\model_selection\\_validation.py\", line 765, in _score\n",
      "    scores = scorer(estimator, X_test)\n",
      "TypeError: _BaseScorer.__call__() missing 1 required positional argument: 'y_true'\n",
      "\n",
      "  warnings.warn(\n",
      "c:\\venv_python_3.10\\lib\\site-packages\\sklearn\\model_selection\\_validation.py:776: UserWarning: Scoring failed. The score on this train-test partition for these parameters will be set to nan. Details: \n",
      "Traceback (most recent call last):\n",
      "  File \"c:\\venv_python_3.10\\lib\\site-packages\\sklearn\\model_selection\\_validation.py\", line 765, in _score\n",
      "    scores = scorer(estimator, X_test)\n",
      "TypeError: _BaseScorer.__call__() missing 1 required positional argument: 'y_true'\n",
      "\n",
      "  warnings.warn(\n"
     ]
    },
    {
     "name": "stdout",
     "output_type": "stream",
     "text": [
      "[CV] END bootstrap=False, contamination=0.1, max_features=5, max_samples=105, n_estimators=150; total time=   0.1s\n",
      "[CV] END bootstrap=False, contamination=0.1, max_features=15, max_samples=100, n_estimators=100; total time=   0.0s\n"
     ]
    },
    {
     "name": "stderr",
     "output_type": "stream",
     "text": [
      "c:\\venv_python_3.10\\lib\\site-packages\\sklearn\\model_selection\\_validation.py:776: UserWarning: Scoring failed. The score on this train-test partition for these parameters will be set to nan. Details: \n",
      "Traceback (most recent call last):\n",
      "  File \"c:\\venv_python_3.10\\lib\\site-packages\\sklearn\\model_selection\\_validation.py\", line 765, in _score\n",
      "    scores = scorer(estimator, X_test)\n",
      "TypeError: _BaseScorer.__call__() missing 1 required positional argument: 'y_true'\n",
      "\n",
      "  warnings.warn(\n",
      "c:\\venv_python_3.10\\lib\\site-packages\\sklearn\\model_selection\\_validation.py:776: UserWarning: Scoring failed. The score on this train-test partition for these parameters will be set to nan. Details: \n",
      "Traceback (most recent call last):\n",
      "  File \"c:\\venv_python_3.10\\lib\\site-packages\\sklearn\\model_selection\\_validation.py\", line 765, in _score\n",
      "    scores = scorer(estimator, X_test)\n",
      "TypeError: _BaseScorer.__call__() missing 1 required positional argument: 'y_true'\n",
      "\n",
      "  warnings.warn(\n"
     ]
    },
    {
     "name": "stdout",
     "output_type": "stream",
     "text": [
      "[CV] END bootstrap=False, contamination=0.1, max_features=15, max_samples=100, n_estimators=100; total time=   0.0s\n",
      "[CV] END bootstrap=False, contamination=0.1, max_features=15, max_samples=100, n_estimators=100; total time=   0.0s\n"
     ]
    },
    {
     "name": "stderr",
     "output_type": "stream",
     "text": [
      "c:\\venv_python_3.10\\lib\\site-packages\\sklearn\\model_selection\\_validation.py:776: UserWarning: Scoring failed. The score on this train-test partition for these parameters will be set to nan. Details: \n",
      "Traceback (most recent call last):\n",
      "  File \"c:\\venv_python_3.10\\lib\\site-packages\\sklearn\\model_selection\\_validation.py\", line 765, in _score\n",
      "    scores = scorer(estimator, X_test)\n",
      "TypeError: _BaseScorer.__call__() missing 1 required positional argument: 'y_true'\n",
      "\n",
      "  warnings.warn(\n",
      "c:\\venv_python_3.10\\lib\\site-packages\\sklearn\\model_selection\\_validation.py:776: UserWarning: Scoring failed. The score on this train-test partition for these parameters will be set to nan. Details: \n",
      "Traceback (most recent call last):\n",
      "  File \"c:\\venv_python_3.10\\lib\\site-packages\\sklearn\\model_selection\\_validation.py\", line 765, in _score\n",
      "    scores = scorer(estimator, X_test)\n",
      "TypeError: _BaseScorer.__call__() missing 1 required positional argument: 'y_true'\n",
      "\n",
      "  warnings.warn(\n"
     ]
    },
    {
     "name": "stdout",
     "output_type": "stream",
     "text": [
      "[CV] END bootstrap=False, contamination=0.1, max_features=15, max_samples=100, n_estimators=100; total time=   0.0s\n",
      "[CV] END bootstrap=False, contamination=0.1, max_features=15, max_samples=100, n_estimators=100; total time=   0.0s\n"
     ]
    },
    {
     "name": "stderr",
     "output_type": "stream",
     "text": [
      "c:\\venv_python_3.10\\lib\\site-packages\\sklearn\\model_selection\\_validation.py:776: UserWarning: Scoring failed. The score on this train-test partition for these parameters will be set to nan. Details: \n",
      "Traceback (most recent call last):\n",
      "  File \"c:\\venv_python_3.10\\lib\\site-packages\\sklearn\\model_selection\\_validation.py\", line 765, in _score\n",
      "    scores = scorer(estimator, X_test)\n",
      "TypeError: _BaseScorer.__call__() missing 1 required positional argument: 'y_true'\n",
      "\n",
      "  warnings.warn(\n",
      "c:\\venv_python_3.10\\lib\\site-packages\\sklearn\\model_selection\\_validation.py:776: UserWarning: Scoring failed. The score on this train-test partition for these parameters will be set to nan. Details: \n",
      "Traceback (most recent call last):\n",
      "  File \"c:\\venv_python_3.10\\lib\\site-packages\\sklearn\\model_selection\\_validation.py\", line 765, in _score\n",
      "    scores = scorer(estimator, X_test)\n",
      "TypeError: _BaseScorer.__call__() missing 1 required positional argument: 'y_true'\n",
      "\n",
      "  warnings.warn(\n"
     ]
    },
    {
     "name": "stdout",
     "output_type": "stream",
     "text": [
      "[CV] END bootstrap=False, contamination=0.1, max_features=15, max_samples=100, n_estimators=100; total time=   0.0s\n",
      "[CV] END bootstrap=False, contamination=0.1, max_features=15, max_samples=100, n_estimators=100; total time=   0.0s\n"
     ]
    },
    {
     "name": "stderr",
     "output_type": "stream",
     "text": [
      "c:\\venv_python_3.10\\lib\\site-packages\\sklearn\\model_selection\\_validation.py:776: UserWarning: Scoring failed. The score on this train-test partition for these parameters will be set to nan. Details: \n",
      "Traceback (most recent call last):\n",
      "  File \"c:\\venv_python_3.10\\lib\\site-packages\\sklearn\\model_selection\\_validation.py\", line 765, in _score\n",
      "    scores = scorer(estimator, X_test)\n",
      "TypeError: _BaseScorer.__call__() missing 1 required positional argument: 'y_true'\n",
      "\n",
      "  warnings.warn(\n",
      "c:\\venv_python_3.10\\lib\\site-packages\\sklearn\\model_selection\\_validation.py:776: UserWarning: Scoring failed. The score on this train-test partition for these parameters will be set to nan. Details: \n",
      "Traceback (most recent call last):\n",
      "  File \"c:\\venv_python_3.10\\lib\\site-packages\\sklearn\\model_selection\\_validation.py\", line 765, in _score\n",
      "    scores = scorer(estimator, X_test)\n",
      "TypeError: _BaseScorer.__call__() missing 1 required positional argument: 'y_true'\n",
      "\n",
      "  warnings.warn(\n"
     ]
    },
    {
     "name": "stdout",
     "output_type": "stream",
     "text": [
      "[CV] END bootstrap=False, contamination=0.1, max_features=15, max_samples=100, n_estimators=150; total time=   0.1s\n",
      "[CV] END bootstrap=False, contamination=0.1, max_features=15, max_samples=100, n_estimators=150; total time=   0.1s\n"
     ]
    },
    {
     "name": "stderr",
     "output_type": "stream",
     "text": [
      "c:\\venv_python_3.10\\lib\\site-packages\\sklearn\\model_selection\\_validation.py:776: UserWarning: Scoring failed. The score on this train-test partition for these parameters will be set to nan. Details: \n",
      "Traceback (most recent call last):\n",
      "  File \"c:\\venv_python_3.10\\lib\\site-packages\\sklearn\\model_selection\\_validation.py\", line 765, in _score\n",
      "    scores = scorer(estimator, X_test)\n",
      "TypeError: _BaseScorer.__call__() missing 1 required positional argument: 'y_true'\n",
      "\n",
      "  warnings.warn(\n",
      "c:\\venv_python_3.10\\lib\\site-packages\\sklearn\\model_selection\\_validation.py:776: UserWarning: Scoring failed. The score on this train-test partition for these parameters will be set to nan. Details: \n",
      "Traceback (most recent call last):\n",
      "  File \"c:\\venv_python_3.10\\lib\\site-packages\\sklearn\\model_selection\\_validation.py\", line 765, in _score\n",
      "    scores = scorer(estimator, X_test)\n",
      "TypeError: _BaseScorer.__call__() missing 1 required positional argument: 'y_true'\n",
      "\n",
      "  warnings.warn(\n"
     ]
    },
    {
     "name": "stdout",
     "output_type": "stream",
     "text": [
      "[CV] END bootstrap=False, contamination=0.1, max_features=15, max_samples=100, n_estimators=150; total time=   0.1s\n",
      "[CV] END bootstrap=False, contamination=0.1, max_features=15, max_samples=100, n_estimators=150; total time=   0.1s\n"
     ]
    },
    {
     "name": "stderr",
     "output_type": "stream",
     "text": [
      "c:\\venv_python_3.10\\lib\\site-packages\\sklearn\\model_selection\\_validation.py:776: UserWarning: Scoring failed. The score on this train-test partition for these parameters will be set to nan. Details: \n",
      "Traceback (most recent call last):\n",
      "  File \"c:\\venv_python_3.10\\lib\\site-packages\\sklearn\\model_selection\\_validation.py\", line 765, in _score\n",
      "    scores = scorer(estimator, X_test)\n",
      "TypeError: _BaseScorer.__call__() missing 1 required positional argument: 'y_true'\n",
      "\n",
      "  warnings.warn(\n",
      "c:\\venv_python_3.10\\lib\\site-packages\\sklearn\\model_selection\\_validation.py:776: UserWarning: Scoring failed. The score on this train-test partition for these parameters will be set to nan. Details: \n",
      "Traceback (most recent call last):\n",
      "  File \"c:\\venv_python_3.10\\lib\\site-packages\\sklearn\\model_selection\\_validation.py\", line 765, in _score\n",
      "    scores = scorer(estimator, X_test)\n",
      "TypeError: _BaseScorer.__call__() missing 1 required positional argument: 'y_true'\n",
      "\n",
      "  warnings.warn(\n"
     ]
    },
    {
     "name": "stdout",
     "output_type": "stream",
     "text": [
      "[CV] END bootstrap=False, contamination=0.1, max_features=15, max_samples=100, n_estimators=150; total time=   0.1s\n",
      "[CV] END bootstrap=False, contamination=0.1, max_features=15, max_samples=100, n_estimators=150; total time=   0.1s\n"
     ]
    },
    {
     "name": "stderr",
     "output_type": "stream",
     "text": [
      "c:\\venv_python_3.10\\lib\\site-packages\\sklearn\\model_selection\\_validation.py:776: UserWarning: Scoring failed. The score on this train-test partition for these parameters will be set to nan. Details: \n",
      "Traceback (most recent call last):\n",
      "  File \"c:\\venv_python_3.10\\lib\\site-packages\\sklearn\\model_selection\\_validation.py\", line 765, in _score\n",
      "    scores = scorer(estimator, X_test)\n",
      "TypeError: _BaseScorer.__call__() missing 1 required positional argument: 'y_true'\n",
      "\n",
      "  warnings.warn(\n",
      "c:\\venv_python_3.10\\lib\\site-packages\\sklearn\\model_selection\\_validation.py:776: UserWarning: Scoring failed. The score on this train-test partition for these parameters will be set to nan. Details: \n",
      "Traceback (most recent call last):\n",
      "  File \"c:\\venv_python_3.10\\lib\\site-packages\\sklearn\\model_selection\\_validation.py\", line 765, in _score\n",
      "    scores = scorer(estimator, X_test)\n",
      "TypeError: _BaseScorer.__call__() missing 1 required positional argument: 'y_true'\n",
      "\n",
      "  warnings.warn(\n"
     ]
    },
    {
     "name": "stdout",
     "output_type": "stream",
     "text": [
      "[CV] END bootstrap=False, contamination=0.1, max_features=15, max_samples=100, n_estimators=150; total time=   0.1s\n",
      "[CV] END bootstrap=False, contamination=0.1, max_features=15, max_samples=105, n_estimators=100; total time=   0.0s\n"
     ]
    },
    {
     "name": "stderr",
     "output_type": "stream",
     "text": [
      "c:\\venv_python_3.10\\lib\\site-packages\\sklearn\\model_selection\\_validation.py:776: UserWarning: Scoring failed. The score on this train-test partition for these parameters will be set to nan. Details: \n",
      "Traceback (most recent call last):\n",
      "  File \"c:\\venv_python_3.10\\lib\\site-packages\\sklearn\\model_selection\\_validation.py\", line 765, in _score\n",
      "    scores = scorer(estimator, X_test)\n",
      "TypeError: _BaseScorer.__call__() missing 1 required positional argument: 'y_true'\n",
      "\n",
      "  warnings.warn(\n",
      "c:\\venv_python_3.10\\lib\\site-packages\\sklearn\\model_selection\\_validation.py:776: UserWarning: Scoring failed. The score on this train-test partition for these parameters will be set to nan. Details: \n",
      "Traceback (most recent call last):\n",
      "  File \"c:\\venv_python_3.10\\lib\\site-packages\\sklearn\\model_selection\\_validation.py\", line 765, in _score\n",
      "    scores = scorer(estimator, X_test)\n",
      "TypeError: _BaseScorer.__call__() missing 1 required positional argument: 'y_true'\n",
      "\n",
      "  warnings.warn(\n"
     ]
    },
    {
     "name": "stdout",
     "output_type": "stream",
     "text": [
      "[CV] END bootstrap=False, contamination=0.1, max_features=15, max_samples=105, n_estimators=100; total time=   0.0s\n",
      "[CV] END bootstrap=False, contamination=0.1, max_features=15, max_samples=105, n_estimators=100; total time=   0.0s\n"
     ]
    },
    {
     "name": "stderr",
     "output_type": "stream",
     "text": [
      "c:\\venv_python_3.10\\lib\\site-packages\\sklearn\\model_selection\\_validation.py:776: UserWarning: Scoring failed. The score on this train-test partition for these parameters will be set to nan. Details: \n",
      "Traceback (most recent call last):\n",
      "  File \"c:\\venv_python_3.10\\lib\\site-packages\\sklearn\\model_selection\\_validation.py\", line 765, in _score\n",
      "    scores = scorer(estimator, X_test)\n",
      "TypeError: _BaseScorer.__call__() missing 1 required positional argument: 'y_true'\n",
      "\n",
      "  warnings.warn(\n",
      "c:\\venv_python_3.10\\lib\\site-packages\\sklearn\\model_selection\\_validation.py:776: UserWarning: Scoring failed. The score on this train-test partition for these parameters will be set to nan. Details: \n",
      "Traceback (most recent call last):\n",
      "  File \"c:\\venv_python_3.10\\lib\\site-packages\\sklearn\\model_selection\\_validation.py\", line 765, in _score\n",
      "    scores = scorer(estimator, X_test)\n",
      "TypeError: _BaseScorer.__call__() missing 1 required positional argument: 'y_true'\n",
      "\n",
      "  warnings.warn(\n"
     ]
    },
    {
     "name": "stdout",
     "output_type": "stream",
     "text": [
      "[CV] END bootstrap=False, contamination=0.1, max_features=15, max_samples=105, n_estimators=100; total time=   0.0s\n",
      "[CV] END bootstrap=False, contamination=0.1, max_features=15, max_samples=105, n_estimators=100; total time=   0.0s\n"
     ]
    },
    {
     "name": "stderr",
     "output_type": "stream",
     "text": [
      "c:\\venv_python_3.10\\lib\\site-packages\\sklearn\\model_selection\\_validation.py:776: UserWarning: Scoring failed. The score on this train-test partition for these parameters will be set to nan. Details: \n",
      "Traceback (most recent call last):\n",
      "  File \"c:\\venv_python_3.10\\lib\\site-packages\\sklearn\\model_selection\\_validation.py\", line 765, in _score\n",
      "    scores = scorer(estimator, X_test)\n",
      "TypeError: _BaseScorer.__call__() missing 1 required positional argument: 'y_true'\n",
      "\n",
      "  warnings.warn(\n",
      "c:\\venv_python_3.10\\lib\\site-packages\\sklearn\\model_selection\\_validation.py:776: UserWarning: Scoring failed. The score on this train-test partition for these parameters will be set to nan. Details: \n",
      "Traceback (most recent call last):\n",
      "  File \"c:\\venv_python_3.10\\lib\\site-packages\\sklearn\\model_selection\\_validation.py\", line 765, in _score\n",
      "    scores = scorer(estimator, X_test)\n",
      "TypeError: _BaseScorer.__call__() missing 1 required positional argument: 'y_true'\n",
      "\n",
      "  warnings.warn(\n"
     ]
    },
    {
     "name": "stdout",
     "output_type": "stream",
     "text": [
      "[CV] END bootstrap=False, contamination=0.1, max_features=15, max_samples=105, n_estimators=100; total time=   0.0s\n",
      "[CV] END bootstrap=False, contamination=0.1, max_features=15, max_samples=105, n_estimators=100; total time=   0.0s\n"
     ]
    },
    {
     "name": "stderr",
     "output_type": "stream",
     "text": [
      "c:\\venv_python_3.10\\lib\\site-packages\\sklearn\\model_selection\\_validation.py:776: UserWarning: Scoring failed. The score on this train-test partition for these parameters will be set to nan. Details: \n",
      "Traceback (most recent call last):\n",
      "  File \"c:\\venv_python_3.10\\lib\\site-packages\\sklearn\\model_selection\\_validation.py\", line 765, in _score\n",
      "    scores = scorer(estimator, X_test)\n",
      "TypeError: _BaseScorer.__call__() missing 1 required positional argument: 'y_true'\n",
      "\n",
      "  warnings.warn(\n",
      "c:\\venv_python_3.10\\lib\\site-packages\\sklearn\\model_selection\\_validation.py:776: UserWarning: Scoring failed. The score on this train-test partition for these parameters will be set to nan. Details: \n",
      "Traceback (most recent call last):\n",
      "  File \"c:\\venv_python_3.10\\lib\\site-packages\\sklearn\\model_selection\\_validation.py\", line 765, in _score\n",
      "    scores = scorer(estimator, X_test)\n",
      "TypeError: _BaseScorer.__call__() missing 1 required positional argument: 'y_true'\n",
      "\n",
      "  warnings.warn(\n"
     ]
    },
    {
     "name": "stdout",
     "output_type": "stream",
     "text": [
      "[CV] END bootstrap=False, contamination=0.1, max_features=15, max_samples=105, n_estimators=150; total time=   0.1s\n",
      "[CV] END bootstrap=False, contamination=0.1, max_features=15, max_samples=105, n_estimators=150; total time=   0.1s\n"
     ]
    },
    {
     "name": "stderr",
     "output_type": "stream",
     "text": [
      "c:\\venv_python_3.10\\lib\\site-packages\\sklearn\\model_selection\\_validation.py:776: UserWarning: Scoring failed. The score on this train-test partition for these parameters will be set to nan. Details: \n",
      "Traceback (most recent call last):\n",
      "  File \"c:\\venv_python_3.10\\lib\\site-packages\\sklearn\\model_selection\\_validation.py\", line 765, in _score\n",
      "    scores = scorer(estimator, X_test)\n",
      "TypeError: _BaseScorer.__call__() missing 1 required positional argument: 'y_true'\n",
      "\n",
      "  warnings.warn(\n",
      "c:\\venv_python_3.10\\lib\\site-packages\\sklearn\\model_selection\\_validation.py:776: UserWarning: Scoring failed. The score on this train-test partition for these parameters will be set to nan. Details: \n",
      "Traceback (most recent call last):\n",
      "  File \"c:\\venv_python_3.10\\lib\\site-packages\\sklearn\\model_selection\\_validation.py\", line 765, in _score\n",
      "    scores = scorer(estimator, X_test)\n",
      "TypeError: _BaseScorer.__call__() missing 1 required positional argument: 'y_true'\n",
      "\n",
      "  warnings.warn(\n"
     ]
    },
    {
     "name": "stdout",
     "output_type": "stream",
     "text": [
      "[CV] END bootstrap=False, contamination=0.1, max_features=15, max_samples=105, n_estimators=150; total time=   0.1s\n",
      "[CV] END bootstrap=False, contamination=0.1, max_features=15, max_samples=105, n_estimators=150; total time=   0.1s\n"
     ]
    },
    {
     "name": "stderr",
     "output_type": "stream",
     "text": [
      "c:\\venv_python_3.10\\lib\\site-packages\\sklearn\\model_selection\\_validation.py:776: UserWarning: Scoring failed. The score on this train-test partition for these parameters will be set to nan. Details: \n",
      "Traceback (most recent call last):\n",
      "  File \"c:\\venv_python_3.10\\lib\\site-packages\\sklearn\\model_selection\\_validation.py\", line 765, in _score\n",
      "    scores = scorer(estimator, X_test)\n",
      "TypeError: _BaseScorer.__call__() missing 1 required positional argument: 'y_true'\n",
      "\n",
      "  warnings.warn(\n",
      "c:\\venv_python_3.10\\lib\\site-packages\\sklearn\\model_selection\\_validation.py:776: UserWarning: Scoring failed. The score on this train-test partition for these parameters will be set to nan. Details: \n",
      "Traceback (most recent call last):\n",
      "  File \"c:\\venv_python_3.10\\lib\\site-packages\\sklearn\\model_selection\\_validation.py\", line 765, in _score\n",
      "    scores = scorer(estimator, X_test)\n",
      "TypeError: _BaseScorer.__call__() missing 1 required positional argument: 'y_true'\n",
      "\n",
      "  warnings.warn(\n"
     ]
    },
    {
     "name": "stdout",
     "output_type": "stream",
     "text": [
      "[CV] END bootstrap=False, contamination=0.1, max_features=15, max_samples=105, n_estimators=150; total time=   0.1s\n",
      "[CV] END bootstrap=False, contamination=0.1, max_features=15, max_samples=105, n_estimators=150; total time=   0.1s\n"
     ]
    },
    {
     "name": "stderr",
     "output_type": "stream",
     "text": [
      "c:\\venv_python_3.10\\lib\\site-packages\\sklearn\\model_selection\\_validation.py:776: UserWarning: Scoring failed. The score on this train-test partition for these parameters will be set to nan. Details: \n",
      "Traceback (most recent call last):\n",
      "  File \"c:\\venv_python_3.10\\lib\\site-packages\\sklearn\\model_selection\\_validation.py\", line 765, in _score\n",
      "    scores = scorer(estimator, X_test)\n",
      "TypeError: _BaseScorer.__call__() missing 1 required positional argument: 'y_true'\n",
      "\n",
      "  warnings.warn(\n",
      "c:\\venv_python_3.10\\lib\\site-packages\\sklearn\\model_selection\\_validation.py:776: UserWarning: Scoring failed. The score on this train-test partition for these parameters will be set to nan. Details: \n",
      "Traceback (most recent call last):\n",
      "  File \"c:\\venv_python_3.10\\lib\\site-packages\\sklearn\\model_selection\\_validation.py\", line 765, in _score\n",
      "    scores = scorer(estimator, X_test)\n",
      "TypeError: _BaseScorer.__call__() missing 1 required positional argument: 'y_true'\n",
      "\n",
      "  warnings.warn(\n"
     ]
    },
    {
     "name": "stdout",
     "output_type": "stream",
     "text": [
      "[CV] END bootstrap=False, contamination=0.1, max_features=15, max_samples=105, n_estimators=150; total time=   0.1s\n",
      "[CV] END bootstrap=False, contamination=0.2, max_features=5, max_samples=100, n_estimators=100; total time=   0.0s\n"
     ]
    },
    {
     "name": "stderr",
     "output_type": "stream",
     "text": [
      "c:\\venv_python_3.10\\lib\\site-packages\\sklearn\\model_selection\\_validation.py:776: UserWarning: Scoring failed. The score on this train-test partition for these parameters will be set to nan. Details: \n",
      "Traceback (most recent call last):\n",
      "  File \"c:\\venv_python_3.10\\lib\\site-packages\\sklearn\\model_selection\\_validation.py\", line 765, in _score\n",
      "    scores = scorer(estimator, X_test)\n",
      "TypeError: _BaseScorer.__call__() missing 1 required positional argument: 'y_true'\n",
      "\n",
      "  warnings.warn(\n",
      "c:\\venv_python_3.10\\lib\\site-packages\\sklearn\\model_selection\\_validation.py:776: UserWarning: Scoring failed. The score on this train-test partition for these parameters will be set to nan. Details: \n",
      "Traceback (most recent call last):\n",
      "  File \"c:\\venv_python_3.10\\lib\\site-packages\\sklearn\\model_selection\\_validation.py\", line 765, in _score\n",
      "    scores = scorer(estimator, X_test)\n",
      "TypeError: _BaseScorer.__call__() missing 1 required positional argument: 'y_true'\n",
      "\n",
      "  warnings.warn(\n"
     ]
    },
    {
     "name": "stdout",
     "output_type": "stream",
     "text": [
      "[CV] END bootstrap=False, contamination=0.2, max_features=5, max_samples=100, n_estimators=100; total time=   0.0s\n",
      "[CV] END bootstrap=False, contamination=0.2, max_features=5, max_samples=100, n_estimators=100; total time=   0.0s\n"
     ]
    },
    {
     "name": "stderr",
     "output_type": "stream",
     "text": [
      "c:\\venv_python_3.10\\lib\\site-packages\\sklearn\\model_selection\\_validation.py:776: UserWarning: Scoring failed. The score on this train-test partition for these parameters will be set to nan. Details: \n",
      "Traceback (most recent call last):\n",
      "  File \"c:\\venv_python_3.10\\lib\\site-packages\\sklearn\\model_selection\\_validation.py\", line 765, in _score\n",
      "    scores = scorer(estimator, X_test)\n",
      "TypeError: _BaseScorer.__call__() missing 1 required positional argument: 'y_true'\n",
      "\n",
      "  warnings.warn(\n",
      "c:\\venv_python_3.10\\lib\\site-packages\\sklearn\\model_selection\\_validation.py:776: UserWarning: Scoring failed. The score on this train-test partition for these parameters will be set to nan. Details: \n",
      "Traceback (most recent call last):\n",
      "  File \"c:\\venv_python_3.10\\lib\\site-packages\\sklearn\\model_selection\\_validation.py\", line 765, in _score\n",
      "    scores = scorer(estimator, X_test)\n",
      "TypeError: _BaseScorer.__call__() missing 1 required positional argument: 'y_true'\n",
      "\n",
      "  warnings.warn(\n"
     ]
    },
    {
     "name": "stdout",
     "output_type": "stream",
     "text": [
      "[CV] END bootstrap=False, contamination=0.2, max_features=5, max_samples=100, n_estimators=100; total time=   0.0s\n",
      "[CV] END bootstrap=False, contamination=0.2, max_features=5, max_samples=100, n_estimators=100; total time=   0.0s\n"
     ]
    },
    {
     "name": "stderr",
     "output_type": "stream",
     "text": [
      "c:\\venv_python_3.10\\lib\\site-packages\\sklearn\\model_selection\\_validation.py:776: UserWarning: Scoring failed. The score on this train-test partition for these parameters will be set to nan. Details: \n",
      "Traceback (most recent call last):\n",
      "  File \"c:\\venv_python_3.10\\lib\\site-packages\\sklearn\\model_selection\\_validation.py\", line 765, in _score\n",
      "    scores = scorer(estimator, X_test)\n",
      "TypeError: _BaseScorer.__call__() missing 1 required positional argument: 'y_true'\n",
      "\n",
      "  warnings.warn(\n",
      "c:\\venv_python_3.10\\lib\\site-packages\\sklearn\\model_selection\\_validation.py:776: UserWarning: Scoring failed. The score on this train-test partition for these parameters will be set to nan. Details: \n",
      "Traceback (most recent call last):\n",
      "  File \"c:\\venv_python_3.10\\lib\\site-packages\\sklearn\\model_selection\\_validation.py\", line 765, in _score\n",
      "    scores = scorer(estimator, X_test)\n",
      "TypeError: _BaseScorer.__call__() missing 1 required positional argument: 'y_true'\n",
      "\n",
      "  warnings.warn(\n"
     ]
    },
    {
     "name": "stdout",
     "output_type": "stream",
     "text": [
      "[CV] END bootstrap=False, contamination=0.2, max_features=5, max_samples=100, n_estimators=100; total time=   0.0s\n",
      "[CV] END bootstrap=False, contamination=0.2, max_features=5, max_samples=100, n_estimators=100; total time=   0.0s\n"
     ]
    },
    {
     "name": "stderr",
     "output_type": "stream",
     "text": [
      "c:\\venv_python_3.10\\lib\\site-packages\\sklearn\\model_selection\\_validation.py:776: UserWarning: Scoring failed. The score on this train-test partition for these parameters will be set to nan. Details: \n",
      "Traceback (most recent call last):\n",
      "  File \"c:\\venv_python_3.10\\lib\\site-packages\\sklearn\\model_selection\\_validation.py\", line 765, in _score\n",
      "    scores = scorer(estimator, X_test)\n",
      "TypeError: _BaseScorer.__call__() missing 1 required positional argument: 'y_true'\n",
      "\n",
      "  warnings.warn(\n",
      "c:\\venv_python_3.10\\lib\\site-packages\\sklearn\\model_selection\\_validation.py:776: UserWarning: Scoring failed. The score on this train-test partition for these parameters will be set to nan. Details: \n",
      "Traceback (most recent call last):\n",
      "  File \"c:\\venv_python_3.10\\lib\\site-packages\\sklearn\\model_selection\\_validation.py\", line 765, in _score\n",
      "    scores = scorer(estimator, X_test)\n",
      "TypeError: _BaseScorer.__call__() missing 1 required positional argument: 'y_true'\n",
      "\n",
      "  warnings.warn(\n"
     ]
    },
    {
     "name": "stdout",
     "output_type": "stream",
     "text": [
      "[CV] END bootstrap=False, contamination=0.2, max_features=5, max_samples=100, n_estimators=150; total time=   0.1s\n",
      "[CV] END bootstrap=False, contamination=0.2, max_features=5, max_samples=100, n_estimators=150; total time=   0.1s\n"
     ]
    },
    {
     "name": "stderr",
     "output_type": "stream",
     "text": [
      "c:\\venv_python_3.10\\lib\\site-packages\\sklearn\\model_selection\\_validation.py:776: UserWarning: Scoring failed. The score on this train-test partition for these parameters will be set to nan. Details: \n",
      "Traceback (most recent call last):\n",
      "  File \"c:\\venv_python_3.10\\lib\\site-packages\\sklearn\\model_selection\\_validation.py\", line 765, in _score\n",
      "    scores = scorer(estimator, X_test)\n",
      "TypeError: _BaseScorer.__call__() missing 1 required positional argument: 'y_true'\n",
      "\n",
      "  warnings.warn(\n",
      "c:\\venv_python_3.10\\lib\\site-packages\\sklearn\\model_selection\\_validation.py:776: UserWarning: Scoring failed. The score on this train-test partition for these parameters will be set to nan. Details: \n",
      "Traceback (most recent call last):\n",
      "  File \"c:\\venv_python_3.10\\lib\\site-packages\\sklearn\\model_selection\\_validation.py\", line 765, in _score\n",
      "    scores = scorer(estimator, X_test)\n",
      "TypeError: _BaseScorer.__call__() missing 1 required positional argument: 'y_true'\n",
      "\n",
      "  warnings.warn(\n"
     ]
    },
    {
     "name": "stdout",
     "output_type": "stream",
     "text": [
      "[CV] END bootstrap=False, contamination=0.2, max_features=5, max_samples=100, n_estimators=150; total time=   0.1s\n",
      "[CV] END bootstrap=False, contamination=0.2, max_features=5, max_samples=100, n_estimators=150; total time=   0.1s\n"
     ]
    },
    {
     "name": "stderr",
     "output_type": "stream",
     "text": [
      "c:\\venv_python_3.10\\lib\\site-packages\\sklearn\\model_selection\\_validation.py:776: UserWarning: Scoring failed. The score on this train-test partition for these parameters will be set to nan. Details: \n",
      "Traceback (most recent call last):\n",
      "  File \"c:\\venv_python_3.10\\lib\\site-packages\\sklearn\\model_selection\\_validation.py\", line 765, in _score\n",
      "    scores = scorer(estimator, X_test)\n",
      "TypeError: _BaseScorer.__call__() missing 1 required positional argument: 'y_true'\n",
      "\n",
      "  warnings.warn(\n",
      "c:\\venv_python_3.10\\lib\\site-packages\\sklearn\\model_selection\\_validation.py:776: UserWarning: Scoring failed. The score on this train-test partition for these parameters will be set to nan. Details: \n",
      "Traceback (most recent call last):\n",
      "  File \"c:\\venv_python_3.10\\lib\\site-packages\\sklearn\\model_selection\\_validation.py\", line 765, in _score\n",
      "    scores = scorer(estimator, X_test)\n",
      "TypeError: _BaseScorer.__call__() missing 1 required positional argument: 'y_true'\n",
      "\n",
      "  warnings.warn(\n"
     ]
    },
    {
     "name": "stdout",
     "output_type": "stream",
     "text": [
      "[CV] END bootstrap=False, contamination=0.2, max_features=5, max_samples=100, n_estimators=150; total time=   0.1s\n",
      "[CV] END bootstrap=False, contamination=0.2, max_features=5, max_samples=100, n_estimators=150; total time=   0.1s\n"
     ]
    },
    {
     "name": "stderr",
     "output_type": "stream",
     "text": [
      "c:\\venv_python_3.10\\lib\\site-packages\\sklearn\\model_selection\\_validation.py:776: UserWarning: Scoring failed. The score on this train-test partition for these parameters will be set to nan. Details: \n",
      "Traceback (most recent call last):\n",
      "  File \"c:\\venv_python_3.10\\lib\\site-packages\\sklearn\\model_selection\\_validation.py\", line 765, in _score\n",
      "    scores = scorer(estimator, X_test)\n",
      "TypeError: _BaseScorer.__call__() missing 1 required positional argument: 'y_true'\n",
      "\n",
      "  warnings.warn(\n",
      "c:\\venv_python_3.10\\lib\\site-packages\\sklearn\\model_selection\\_validation.py:776: UserWarning: Scoring failed. The score on this train-test partition for these parameters will be set to nan. Details: \n",
      "Traceback (most recent call last):\n",
      "  File \"c:\\venv_python_3.10\\lib\\site-packages\\sklearn\\model_selection\\_validation.py\", line 765, in _score\n",
      "    scores = scorer(estimator, X_test)\n",
      "TypeError: _BaseScorer.__call__() missing 1 required positional argument: 'y_true'\n",
      "\n",
      "  warnings.warn(\n"
     ]
    },
    {
     "name": "stdout",
     "output_type": "stream",
     "text": [
      "[CV] END bootstrap=False, contamination=0.2, max_features=5, max_samples=100, n_estimators=150; total time=   0.1s\n",
      "[CV] END bootstrap=False, contamination=0.2, max_features=5, max_samples=105, n_estimators=100; total time=   0.0s\n"
     ]
    },
    {
     "name": "stderr",
     "output_type": "stream",
     "text": [
      "c:\\venv_python_3.10\\lib\\site-packages\\sklearn\\model_selection\\_validation.py:776: UserWarning: Scoring failed. The score on this train-test partition for these parameters will be set to nan. Details: \n",
      "Traceback (most recent call last):\n",
      "  File \"c:\\venv_python_3.10\\lib\\site-packages\\sklearn\\model_selection\\_validation.py\", line 765, in _score\n",
      "    scores = scorer(estimator, X_test)\n",
      "TypeError: _BaseScorer.__call__() missing 1 required positional argument: 'y_true'\n",
      "\n",
      "  warnings.warn(\n",
      "c:\\venv_python_3.10\\lib\\site-packages\\sklearn\\model_selection\\_validation.py:776: UserWarning: Scoring failed. The score on this train-test partition for these parameters will be set to nan. Details: \n",
      "Traceback (most recent call last):\n",
      "  File \"c:\\venv_python_3.10\\lib\\site-packages\\sklearn\\model_selection\\_validation.py\", line 765, in _score\n",
      "    scores = scorer(estimator, X_test)\n",
      "TypeError: _BaseScorer.__call__() missing 1 required positional argument: 'y_true'\n",
      "\n",
      "  warnings.warn(\n"
     ]
    },
    {
     "name": "stdout",
     "output_type": "stream",
     "text": [
      "[CV] END bootstrap=False, contamination=0.2, max_features=5, max_samples=105, n_estimators=100; total time=   0.0s\n",
      "[CV] END bootstrap=False, contamination=0.2, max_features=5, max_samples=105, n_estimators=100; total time=   0.0s\n"
     ]
    },
    {
     "name": "stderr",
     "output_type": "stream",
     "text": [
      "c:\\venv_python_3.10\\lib\\site-packages\\sklearn\\model_selection\\_validation.py:776: UserWarning: Scoring failed. The score on this train-test partition for these parameters will be set to nan. Details: \n",
      "Traceback (most recent call last):\n",
      "  File \"c:\\venv_python_3.10\\lib\\site-packages\\sklearn\\model_selection\\_validation.py\", line 765, in _score\n",
      "    scores = scorer(estimator, X_test)\n",
      "TypeError: _BaseScorer.__call__() missing 1 required positional argument: 'y_true'\n",
      "\n",
      "  warnings.warn(\n",
      "c:\\venv_python_3.10\\lib\\site-packages\\sklearn\\model_selection\\_validation.py:776: UserWarning: Scoring failed. The score on this train-test partition for these parameters will be set to nan. Details: \n",
      "Traceback (most recent call last):\n",
      "  File \"c:\\venv_python_3.10\\lib\\site-packages\\sklearn\\model_selection\\_validation.py\", line 765, in _score\n",
      "    scores = scorer(estimator, X_test)\n",
      "TypeError: _BaseScorer.__call__() missing 1 required positional argument: 'y_true'\n",
      "\n",
      "  warnings.warn(\n"
     ]
    },
    {
     "name": "stdout",
     "output_type": "stream",
     "text": [
      "[CV] END bootstrap=False, contamination=0.2, max_features=5, max_samples=105, n_estimators=100; total time=   0.0s\n",
      "[CV] END bootstrap=False, contamination=0.2, max_features=5, max_samples=105, n_estimators=100; total time=   0.0s\n"
     ]
    },
    {
     "name": "stderr",
     "output_type": "stream",
     "text": [
      "c:\\venv_python_3.10\\lib\\site-packages\\sklearn\\model_selection\\_validation.py:776: UserWarning: Scoring failed. The score on this train-test partition for these parameters will be set to nan. Details: \n",
      "Traceback (most recent call last):\n",
      "  File \"c:\\venv_python_3.10\\lib\\site-packages\\sklearn\\model_selection\\_validation.py\", line 765, in _score\n",
      "    scores = scorer(estimator, X_test)\n",
      "TypeError: _BaseScorer.__call__() missing 1 required positional argument: 'y_true'\n",
      "\n",
      "  warnings.warn(\n",
      "c:\\venv_python_3.10\\lib\\site-packages\\sklearn\\model_selection\\_validation.py:776: UserWarning: Scoring failed. The score on this train-test partition for these parameters will be set to nan. Details: \n",
      "Traceback (most recent call last):\n",
      "  File \"c:\\venv_python_3.10\\lib\\site-packages\\sklearn\\model_selection\\_validation.py\", line 765, in _score\n",
      "    scores = scorer(estimator, X_test)\n",
      "TypeError: _BaseScorer.__call__() missing 1 required positional argument: 'y_true'\n",
      "\n",
      "  warnings.warn(\n"
     ]
    },
    {
     "name": "stdout",
     "output_type": "stream",
     "text": [
      "[CV] END bootstrap=False, contamination=0.2, max_features=5, max_samples=105, n_estimators=100; total time=   0.0s\n",
      "[CV] END bootstrap=False, contamination=0.2, max_features=5, max_samples=105, n_estimators=100; total time=   0.0s\n"
     ]
    },
    {
     "name": "stderr",
     "output_type": "stream",
     "text": [
      "c:\\venv_python_3.10\\lib\\site-packages\\sklearn\\model_selection\\_validation.py:776: UserWarning: Scoring failed. The score on this train-test partition for these parameters will be set to nan. Details: \n",
      "Traceback (most recent call last):\n",
      "  File \"c:\\venv_python_3.10\\lib\\site-packages\\sklearn\\model_selection\\_validation.py\", line 765, in _score\n",
      "    scores = scorer(estimator, X_test)\n",
      "TypeError: _BaseScorer.__call__() missing 1 required positional argument: 'y_true'\n",
      "\n",
      "  warnings.warn(\n",
      "c:\\venv_python_3.10\\lib\\site-packages\\sklearn\\model_selection\\_validation.py:776: UserWarning: Scoring failed. The score on this train-test partition for these parameters will be set to nan. Details: \n",
      "Traceback (most recent call last):\n",
      "  File \"c:\\venv_python_3.10\\lib\\site-packages\\sklearn\\model_selection\\_validation.py\", line 765, in _score\n",
      "    scores = scorer(estimator, X_test)\n",
      "TypeError: _BaseScorer.__call__() missing 1 required positional argument: 'y_true'\n",
      "\n",
      "  warnings.warn(\n"
     ]
    },
    {
     "name": "stdout",
     "output_type": "stream",
     "text": [
      "[CV] END bootstrap=False, contamination=0.2, max_features=5, max_samples=105, n_estimators=150; total time=   0.1s\n",
      "[CV] END bootstrap=False, contamination=0.2, max_features=5, max_samples=105, n_estimators=150; total time=   0.1s\n"
     ]
    },
    {
     "name": "stderr",
     "output_type": "stream",
     "text": [
      "c:\\venv_python_3.10\\lib\\site-packages\\sklearn\\model_selection\\_validation.py:776: UserWarning: Scoring failed. The score on this train-test partition for these parameters will be set to nan. Details: \n",
      "Traceback (most recent call last):\n",
      "  File \"c:\\venv_python_3.10\\lib\\site-packages\\sklearn\\model_selection\\_validation.py\", line 765, in _score\n",
      "    scores = scorer(estimator, X_test)\n",
      "TypeError: _BaseScorer.__call__() missing 1 required positional argument: 'y_true'\n",
      "\n",
      "  warnings.warn(\n",
      "c:\\venv_python_3.10\\lib\\site-packages\\sklearn\\model_selection\\_validation.py:776: UserWarning: Scoring failed. The score on this train-test partition for these parameters will be set to nan. Details: \n",
      "Traceback (most recent call last):\n",
      "  File \"c:\\venv_python_3.10\\lib\\site-packages\\sklearn\\model_selection\\_validation.py\", line 765, in _score\n",
      "    scores = scorer(estimator, X_test)\n",
      "TypeError: _BaseScorer.__call__() missing 1 required positional argument: 'y_true'\n",
      "\n",
      "  warnings.warn(\n"
     ]
    },
    {
     "name": "stdout",
     "output_type": "stream",
     "text": [
      "[CV] END bootstrap=False, contamination=0.2, max_features=5, max_samples=105, n_estimators=150; total time=   0.1s\n",
      "[CV] END bootstrap=False, contamination=0.2, max_features=5, max_samples=105, n_estimators=150; total time=   0.1s\n"
     ]
    },
    {
     "name": "stderr",
     "output_type": "stream",
     "text": [
      "c:\\venv_python_3.10\\lib\\site-packages\\sklearn\\model_selection\\_validation.py:776: UserWarning: Scoring failed. The score on this train-test partition for these parameters will be set to nan. Details: \n",
      "Traceback (most recent call last):\n",
      "  File \"c:\\venv_python_3.10\\lib\\site-packages\\sklearn\\model_selection\\_validation.py\", line 765, in _score\n",
      "    scores = scorer(estimator, X_test)\n",
      "TypeError: _BaseScorer.__call__() missing 1 required positional argument: 'y_true'\n",
      "\n",
      "  warnings.warn(\n",
      "c:\\venv_python_3.10\\lib\\site-packages\\sklearn\\model_selection\\_validation.py:776: UserWarning: Scoring failed. The score on this train-test partition for these parameters will be set to nan. Details: \n",
      "Traceback (most recent call last):\n",
      "  File \"c:\\venv_python_3.10\\lib\\site-packages\\sklearn\\model_selection\\_validation.py\", line 765, in _score\n",
      "    scores = scorer(estimator, X_test)\n",
      "TypeError: _BaseScorer.__call__() missing 1 required positional argument: 'y_true'\n",
      "\n",
      "  warnings.warn(\n"
     ]
    },
    {
     "name": "stdout",
     "output_type": "stream",
     "text": [
      "[CV] END bootstrap=False, contamination=0.2, max_features=5, max_samples=105, n_estimators=150; total time=   0.1s\n",
      "[CV] END bootstrap=False, contamination=0.2, max_features=5, max_samples=105, n_estimators=150; total time=   0.1s\n"
     ]
    },
    {
     "name": "stderr",
     "output_type": "stream",
     "text": [
      "c:\\venv_python_3.10\\lib\\site-packages\\sklearn\\model_selection\\_validation.py:776: UserWarning: Scoring failed. The score on this train-test partition for these parameters will be set to nan. Details: \n",
      "Traceback (most recent call last):\n",
      "  File \"c:\\venv_python_3.10\\lib\\site-packages\\sklearn\\model_selection\\_validation.py\", line 765, in _score\n",
      "    scores = scorer(estimator, X_test)\n",
      "TypeError: _BaseScorer.__call__() missing 1 required positional argument: 'y_true'\n",
      "\n",
      "  warnings.warn(\n",
      "c:\\venv_python_3.10\\lib\\site-packages\\sklearn\\model_selection\\_validation.py:776: UserWarning: Scoring failed. The score on this train-test partition for these parameters will be set to nan. Details: \n",
      "Traceback (most recent call last):\n",
      "  File \"c:\\venv_python_3.10\\lib\\site-packages\\sklearn\\model_selection\\_validation.py\", line 765, in _score\n",
      "    scores = scorer(estimator, X_test)\n",
      "TypeError: _BaseScorer.__call__() missing 1 required positional argument: 'y_true'\n",
      "\n",
      "  warnings.warn(\n"
     ]
    },
    {
     "name": "stdout",
     "output_type": "stream",
     "text": [
      "[CV] END bootstrap=False, contamination=0.2, max_features=5, max_samples=105, n_estimators=150; total time=   0.1s\n",
      "[CV] END bootstrap=False, contamination=0.2, max_features=15, max_samples=100, n_estimators=100; total time=   0.0s\n"
     ]
    },
    {
     "name": "stderr",
     "output_type": "stream",
     "text": [
      "c:\\venv_python_3.10\\lib\\site-packages\\sklearn\\model_selection\\_validation.py:776: UserWarning: Scoring failed. The score on this train-test partition for these parameters will be set to nan. Details: \n",
      "Traceback (most recent call last):\n",
      "  File \"c:\\venv_python_3.10\\lib\\site-packages\\sklearn\\model_selection\\_validation.py\", line 765, in _score\n",
      "    scores = scorer(estimator, X_test)\n",
      "TypeError: _BaseScorer.__call__() missing 1 required positional argument: 'y_true'\n",
      "\n",
      "  warnings.warn(\n",
      "c:\\venv_python_3.10\\lib\\site-packages\\sklearn\\model_selection\\_validation.py:776: UserWarning: Scoring failed. The score on this train-test partition for these parameters will be set to nan. Details: \n",
      "Traceback (most recent call last):\n",
      "  File \"c:\\venv_python_3.10\\lib\\site-packages\\sklearn\\model_selection\\_validation.py\", line 765, in _score\n",
      "    scores = scorer(estimator, X_test)\n",
      "TypeError: _BaseScorer.__call__() missing 1 required positional argument: 'y_true'\n",
      "\n",
      "  warnings.warn(\n"
     ]
    },
    {
     "name": "stdout",
     "output_type": "stream",
     "text": [
      "[CV] END bootstrap=False, contamination=0.2, max_features=15, max_samples=100, n_estimators=100; total time=   0.0s\n",
      "[CV] END bootstrap=False, contamination=0.2, max_features=15, max_samples=100, n_estimators=100; total time=   0.0s\n"
     ]
    },
    {
     "name": "stderr",
     "output_type": "stream",
     "text": [
      "c:\\venv_python_3.10\\lib\\site-packages\\sklearn\\model_selection\\_validation.py:776: UserWarning: Scoring failed. The score on this train-test partition for these parameters will be set to nan. Details: \n",
      "Traceback (most recent call last):\n",
      "  File \"c:\\venv_python_3.10\\lib\\site-packages\\sklearn\\model_selection\\_validation.py\", line 765, in _score\n",
      "    scores = scorer(estimator, X_test)\n",
      "TypeError: _BaseScorer.__call__() missing 1 required positional argument: 'y_true'\n",
      "\n",
      "  warnings.warn(\n",
      "c:\\venv_python_3.10\\lib\\site-packages\\sklearn\\model_selection\\_validation.py:776: UserWarning: Scoring failed. The score on this train-test partition for these parameters will be set to nan. Details: \n",
      "Traceback (most recent call last):\n",
      "  File \"c:\\venv_python_3.10\\lib\\site-packages\\sklearn\\model_selection\\_validation.py\", line 765, in _score\n",
      "    scores = scorer(estimator, X_test)\n",
      "TypeError: _BaseScorer.__call__() missing 1 required positional argument: 'y_true'\n",
      "\n",
      "  warnings.warn(\n"
     ]
    },
    {
     "name": "stdout",
     "output_type": "stream",
     "text": [
      "[CV] END bootstrap=False, contamination=0.2, max_features=15, max_samples=100, n_estimators=100; total time=   0.0s\n",
      "[CV] END bootstrap=False, contamination=0.2, max_features=15, max_samples=100, n_estimators=100; total time=   0.0s\n"
     ]
    },
    {
     "name": "stderr",
     "output_type": "stream",
     "text": [
      "c:\\venv_python_3.10\\lib\\site-packages\\sklearn\\model_selection\\_validation.py:776: UserWarning: Scoring failed. The score on this train-test partition for these parameters will be set to nan. Details: \n",
      "Traceback (most recent call last):\n",
      "  File \"c:\\venv_python_3.10\\lib\\site-packages\\sklearn\\model_selection\\_validation.py\", line 765, in _score\n",
      "    scores = scorer(estimator, X_test)\n",
      "TypeError: _BaseScorer.__call__() missing 1 required positional argument: 'y_true'\n",
      "\n",
      "  warnings.warn(\n",
      "c:\\venv_python_3.10\\lib\\site-packages\\sklearn\\model_selection\\_validation.py:776: UserWarning: Scoring failed. The score on this train-test partition for these parameters will be set to nan. Details: \n",
      "Traceback (most recent call last):\n",
      "  File \"c:\\venv_python_3.10\\lib\\site-packages\\sklearn\\model_selection\\_validation.py\", line 765, in _score\n",
      "    scores = scorer(estimator, X_test)\n",
      "TypeError: _BaseScorer.__call__() missing 1 required positional argument: 'y_true'\n",
      "\n",
      "  warnings.warn(\n"
     ]
    },
    {
     "name": "stdout",
     "output_type": "stream",
     "text": [
      "[CV] END bootstrap=False, contamination=0.2, max_features=15, max_samples=100, n_estimators=100; total time=   0.0s\n",
      "[CV] END bootstrap=False, contamination=0.2, max_features=15, max_samples=100, n_estimators=100; total time=   0.0s\n"
     ]
    },
    {
     "name": "stderr",
     "output_type": "stream",
     "text": [
      "c:\\venv_python_3.10\\lib\\site-packages\\sklearn\\model_selection\\_validation.py:776: UserWarning: Scoring failed. The score on this train-test partition for these parameters will be set to nan. Details: \n",
      "Traceback (most recent call last):\n",
      "  File \"c:\\venv_python_3.10\\lib\\site-packages\\sklearn\\model_selection\\_validation.py\", line 765, in _score\n",
      "    scores = scorer(estimator, X_test)\n",
      "TypeError: _BaseScorer.__call__() missing 1 required positional argument: 'y_true'\n",
      "\n",
      "  warnings.warn(\n",
      "c:\\venv_python_3.10\\lib\\site-packages\\sklearn\\model_selection\\_validation.py:776: UserWarning: Scoring failed. The score on this train-test partition for these parameters will be set to nan. Details: \n",
      "Traceback (most recent call last):\n",
      "  File \"c:\\venv_python_3.10\\lib\\site-packages\\sklearn\\model_selection\\_validation.py\", line 765, in _score\n",
      "    scores = scorer(estimator, X_test)\n",
      "TypeError: _BaseScorer.__call__() missing 1 required positional argument: 'y_true'\n",
      "\n",
      "  warnings.warn(\n"
     ]
    },
    {
     "name": "stdout",
     "output_type": "stream",
     "text": [
      "[CV] END bootstrap=False, contamination=0.2, max_features=15, max_samples=100, n_estimators=150; total time=   0.1s\n",
      "[CV] END bootstrap=False, contamination=0.2, max_features=15, max_samples=100, n_estimators=150; total time=   0.1s\n"
     ]
    },
    {
     "name": "stderr",
     "output_type": "stream",
     "text": [
      "c:\\venv_python_3.10\\lib\\site-packages\\sklearn\\model_selection\\_validation.py:776: UserWarning: Scoring failed. The score on this train-test partition for these parameters will be set to nan. Details: \n",
      "Traceback (most recent call last):\n",
      "  File \"c:\\venv_python_3.10\\lib\\site-packages\\sklearn\\model_selection\\_validation.py\", line 765, in _score\n",
      "    scores = scorer(estimator, X_test)\n",
      "TypeError: _BaseScorer.__call__() missing 1 required positional argument: 'y_true'\n",
      "\n",
      "  warnings.warn(\n"
     ]
    },
    {
     "name": "stdout",
     "output_type": "stream",
     "text": [
      "[CV] END bootstrap=False, contamination=0.2, max_features=15, max_samples=100, n_estimators=150; total time=   0.1s\n"
     ]
    },
    {
     "name": "stderr",
     "output_type": "stream",
     "text": [
      "c:\\venv_python_3.10\\lib\\site-packages\\sklearn\\model_selection\\_validation.py:776: UserWarning: Scoring failed. The score on this train-test partition for these parameters will be set to nan. Details: \n",
      "Traceback (most recent call last):\n",
      "  File \"c:\\venv_python_3.10\\lib\\site-packages\\sklearn\\model_selection\\_validation.py\", line 765, in _score\n",
      "    scores = scorer(estimator, X_test)\n",
      "TypeError: _BaseScorer.__call__() missing 1 required positional argument: 'y_true'\n",
      "\n",
      "  warnings.warn(\n",
      "c:\\venv_python_3.10\\lib\\site-packages\\sklearn\\model_selection\\_validation.py:776: UserWarning: Scoring failed. The score on this train-test partition for these parameters will be set to nan. Details: \n",
      "Traceback (most recent call last):\n",
      "  File \"c:\\venv_python_3.10\\lib\\site-packages\\sklearn\\model_selection\\_validation.py\", line 765, in _score\n",
      "    scores = scorer(estimator, X_test)\n",
      "TypeError: _BaseScorer.__call__() missing 1 required positional argument: 'y_true'\n",
      "\n",
      "  warnings.warn(\n"
     ]
    },
    {
     "name": "stdout",
     "output_type": "stream",
     "text": [
      "[CV] END bootstrap=False, contamination=0.2, max_features=15, max_samples=100, n_estimators=150; total time=   0.1s\n",
      "[CV] END bootstrap=False, contamination=0.2, max_features=15, max_samples=100, n_estimators=150; total time=   0.1s\n"
     ]
    },
    {
     "name": "stderr",
     "output_type": "stream",
     "text": [
      "c:\\venv_python_3.10\\lib\\site-packages\\sklearn\\model_selection\\_validation.py:776: UserWarning: Scoring failed. The score on this train-test partition for these parameters will be set to nan. Details: \n",
      "Traceback (most recent call last):\n",
      "  File \"c:\\venv_python_3.10\\lib\\site-packages\\sklearn\\model_selection\\_validation.py\", line 765, in _score\n",
      "    scores = scorer(estimator, X_test)\n",
      "TypeError: _BaseScorer.__call__() missing 1 required positional argument: 'y_true'\n",
      "\n",
      "  warnings.warn(\n",
      "c:\\venv_python_3.10\\lib\\site-packages\\sklearn\\model_selection\\_validation.py:776: UserWarning: Scoring failed. The score on this train-test partition for these parameters will be set to nan. Details: \n",
      "Traceback (most recent call last):\n",
      "  File \"c:\\venv_python_3.10\\lib\\site-packages\\sklearn\\model_selection\\_validation.py\", line 765, in _score\n",
      "    scores = scorer(estimator, X_test)\n",
      "TypeError: _BaseScorer.__call__() missing 1 required positional argument: 'y_true'\n",
      "\n",
      "  warnings.warn(\n"
     ]
    },
    {
     "name": "stdout",
     "output_type": "stream",
     "text": [
      "[CV] END bootstrap=False, contamination=0.2, max_features=15, max_samples=100, n_estimators=150; total time=   0.1s\n",
      "[CV] END bootstrap=False, contamination=0.2, max_features=15, max_samples=100, n_estimators=150; total time=   0.1s\n"
     ]
    },
    {
     "name": "stderr",
     "output_type": "stream",
     "text": [
      "c:\\venv_python_3.10\\lib\\site-packages\\sklearn\\model_selection\\_validation.py:776: UserWarning: Scoring failed. The score on this train-test partition for these parameters will be set to nan. Details: \n",
      "Traceback (most recent call last):\n",
      "  File \"c:\\venv_python_3.10\\lib\\site-packages\\sklearn\\model_selection\\_validation.py\", line 765, in _score\n",
      "    scores = scorer(estimator, X_test)\n",
      "TypeError: _BaseScorer.__call__() missing 1 required positional argument: 'y_true'\n",
      "\n",
      "  warnings.warn(\n",
      "c:\\venv_python_3.10\\lib\\site-packages\\sklearn\\model_selection\\_validation.py:776: UserWarning: Scoring failed. The score on this train-test partition for these parameters will be set to nan. Details: \n",
      "Traceback (most recent call last):\n",
      "  File \"c:\\venv_python_3.10\\lib\\site-packages\\sklearn\\model_selection\\_validation.py\", line 765, in _score\n",
      "    scores = scorer(estimator, X_test)\n",
      "TypeError: _BaseScorer.__call__() missing 1 required positional argument: 'y_true'\n",
      "\n",
      "  warnings.warn(\n"
     ]
    },
    {
     "name": "stdout",
     "output_type": "stream",
     "text": [
      "[CV] END bootstrap=False, contamination=0.2, max_features=15, max_samples=105, n_estimators=100; total time=   0.0s\n",
      "[CV] END bootstrap=False, contamination=0.2, max_features=15, max_samples=105, n_estimators=100; total time=   0.0s\n"
     ]
    },
    {
     "name": "stderr",
     "output_type": "stream",
     "text": [
      "c:\\venv_python_3.10\\lib\\site-packages\\sklearn\\model_selection\\_validation.py:776: UserWarning: Scoring failed. The score on this train-test partition for these parameters will be set to nan. Details: \n",
      "Traceback (most recent call last):\n",
      "  File \"c:\\venv_python_3.10\\lib\\site-packages\\sklearn\\model_selection\\_validation.py\", line 765, in _score\n",
      "    scores = scorer(estimator, X_test)\n",
      "TypeError: _BaseScorer.__call__() missing 1 required positional argument: 'y_true'\n",
      "\n",
      "  warnings.warn(\n",
      "c:\\venv_python_3.10\\lib\\site-packages\\sklearn\\model_selection\\_validation.py:776: UserWarning: Scoring failed. The score on this train-test partition for these parameters will be set to nan. Details: \n",
      "Traceback (most recent call last):\n",
      "  File \"c:\\venv_python_3.10\\lib\\site-packages\\sklearn\\model_selection\\_validation.py\", line 765, in _score\n",
      "    scores = scorer(estimator, X_test)\n",
      "TypeError: _BaseScorer.__call__() missing 1 required positional argument: 'y_true'\n",
      "\n",
      "  warnings.warn(\n"
     ]
    },
    {
     "name": "stdout",
     "output_type": "stream",
     "text": [
      "[CV] END bootstrap=False, contamination=0.2, max_features=15, max_samples=105, n_estimators=100; total time=   0.0s\n",
      "[CV] END bootstrap=False, contamination=0.2, max_features=15, max_samples=105, n_estimators=100; total time=   0.0s\n"
     ]
    },
    {
     "name": "stderr",
     "output_type": "stream",
     "text": [
      "c:\\venv_python_3.10\\lib\\site-packages\\sklearn\\model_selection\\_validation.py:776: UserWarning: Scoring failed. The score on this train-test partition for these parameters will be set to nan. Details: \n",
      "Traceback (most recent call last):\n",
      "  File \"c:\\venv_python_3.10\\lib\\site-packages\\sklearn\\model_selection\\_validation.py\", line 765, in _score\n",
      "    scores = scorer(estimator, X_test)\n",
      "TypeError: _BaseScorer.__call__() missing 1 required positional argument: 'y_true'\n",
      "\n",
      "  warnings.warn(\n",
      "c:\\venv_python_3.10\\lib\\site-packages\\sklearn\\model_selection\\_validation.py:776: UserWarning: Scoring failed. The score on this train-test partition for these parameters will be set to nan. Details: \n",
      "Traceback (most recent call last):\n",
      "  File \"c:\\venv_python_3.10\\lib\\site-packages\\sklearn\\model_selection\\_validation.py\", line 765, in _score\n",
      "    scores = scorer(estimator, X_test)\n",
      "TypeError: _BaseScorer.__call__() missing 1 required positional argument: 'y_true'\n",
      "\n",
      "  warnings.warn(\n"
     ]
    },
    {
     "name": "stdout",
     "output_type": "stream",
     "text": [
      "[CV] END bootstrap=False, contamination=0.2, max_features=15, max_samples=105, n_estimators=100; total time=   0.0s\n",
      "[CV] END bootstrap=False, contamination=0.2, max_features=15, max_samples=105, n_estimators=100; total time=   0.0s\n"
     ]
    },
    {
     "name": "stderr",
     "output_type": "stream",
     "text": [
      "c:\\venv_python_3.10\\lib\\site-packages\\sklearn\\model_selection\\_validation.py:776: UserWarning: Scoring failed. The score on this train-test partition for these parameters will be set to nan. Details: \n",
      "Traceback (most recent call last):\n",
      "  File \"c:\\venv_python_3.10\\lib\\site-packages\\sklearn\\model_selection\\_validation.py\", line 765, in _score\n",
      "    scores = scorer(estimator, X_test)\n",
      "TypeError: _BaseScorer.__call__() missing 1 required positional argument: 'y_true'\n",
      "\n",
      "  warnings.warn(\n",
      "c:\\venv_python_3.10\\lib\\site-packages\\sklearn\\model_selection\\_validation.py:776: UserWarning: Scoring failed. The score on this train-test partition for these parameters will be set to nan. Details: \n",
      "Traceback (most recent call last):\n",
      "  File \"c:\\venv_python_3.10\\lib\\site-packages\\sklearn\\model_selection\\_validation.py\", line 765, in _score\n",
      "    scores = scorer(estimator, X_test)\n",
      "TypeError: _BaseScorer.__call__() missing 1 required positional argument: 'y_true'\n",
      "\n",
      "  warnings.warn(\n"
     ]
    },
    {
     "name": "stdout",
     "output_type": "stream",
     "text": [
      "[CV] END bootstrap=False, contamination=0.2, max_features=15, max_samples=105, n_estimators=100; total time=   0.0s\n",
      "[CV] END bootstrap=False, contamination=0.2, max_features=15, max_samples=105, n_estimators=150; total time=   0.1s\n"
     ]
    },
    {
     "name": "stderr",
     "output_type": "stream",
     "text": [
      "c:\\venv_python_3.10\\lib\\site-packages\\sklearn\\model_selection\\_validation.py:776: UserWarning: Scoring failed. The score on this train-test partition for these parameters will be set to nan. Details: \n",
      "Traceback (most recent call last):\n",
      "  File \"c:\\venv_python_3.10\\lib\\site-packages\\sklearn\\model_selection\\_validation.py\", line 765, in _score\n",
      "    scores = scorer(estimator, X_test)\n",
      "TypeError: _BaseScorer.__call__() missing 1 required positional argument: 'y_true'\n",
      "\n",
      "  warnings.warn(\n",
      "c:\\venv_python_3.10\\lib\\site-packages\\sklearn\\model_selection\\_validation.py:776: UserWarning: Scoring failed. The score on this train-test partition for these parameters will be set to nan. Details: \n",
      "Traceback (most recent call last):\n",
      "  File \"c:\\venv_python_3.10\\lib\\site-packages\\sklearn\\model_selection\\_validation.py\", line 765, in _score\n",
      "    scores = scorer(estimator, X_test)\n",
      "TypeError: _BaseScorer.__call__() missing 1 required positional argument: 'y_true'\n",
      "\n",
      "  warnings.warn(\n"
     ]
    },
    {
     "name": "stdout",
     "output_type": "stream",
     "text": [
      "[CV] END bootstrap=False, contamination=0.2, max_features=15, max_samples=105, n_estimators=150; total time=   0.1s\n",
      "[CV] END bootstrap=False, contamination=0.2, max_features=15, max_samples=105, n_estimators=150; total time=   0.1s\n"
     ]
    },
    {
     "name": "stderr",
     "output_type": "stream",
     "text": [
      "c:\\venv_python_3.10\\lib\\site-packages\\sklearn\\model_selection\\_validation.py:776: UserWarning: Scoring failed. The score on this train-test partition for these parameters will be set to nan. Details: \n",
      "Traceback (most recent call last):\n",
      "  File \"c:\\venv_python_3.10\\lib\\site-packages\\sklearn\\model_selection\\_validation.py\", line 765, in _score\n",
      "    scores = scorer(estimator, X_test)\n",
      "TypeError: _BaseScorer.__call__() missing 1 required positional argument: 'y_true'\n",
      "\n",
      "  warnings.warn(\n",
      "c:\\venv_python_3.10\\lib\\site-packages\\sklearn\\model_selection\\_validation.py:776: UserWarning: Scoring failed. The score on this train-test partition for these parameters will be set to nan. Details: \n",
      "Traceback (most recent call last):\n",
      "  File \"c:\\venv_python_3.10\\lib\\site-packages\\sklearn\\model_selection\\_validation.py\", line 765, in _score\n",
      "    scores = scorer(estimator, X_test)\n",
      "TypeError: _BaseScorer.__call__() missing 1 required positional argument: 'y_true'\n",
      "\n",
      "  warnings.warn(\n"
     ]
    },
    {
     "name": "stdout",
     "output_type": "stream",
     "text": [
      "[CV] END bootstrap=False, contamination=0.2, max_features=15, max_samples=105, n_estimators=150; total time=   0.1s\n",
      "[CV] END bootstrap=False, contamination=0.2, max_features=15, max_samples=105, n_estimators=150; total time=   0.1s\n"
     ]
    },
    {
     "name": "stderr",
     "output_type": "stream",
     "text": [
      "c:\\venv_python_3.10\\lib\\site-packages\\sklearn\\model_selection\\_validation.py:776: UserWarning: Scoring failed. The score on this train-test partition for these parameters will be set to nan. Details: \n",
      "Traceback (most recent call last):\n",
      "  File \"c:\\venv_python_3.10\\lib\\site-packages\\sklearn\\model_selection\\_validation.py\", line 765, in _score\n",
      "    scores = scorer(estimator, X_test)\n",
      "TypeError: _BaseScorer.__call__() missing 1 required positional argument: 'y_true'\n",
      "\n",
      "  warnings.warn(\n",
      "c:\\venv_python_3.10\\lib\\site-packages\\sklearn\\model_selection\\_validation.py:776: UserWarning: Scoring failed. The score on this train-test partition for these parameters will be set to nan. Details: \n",
      "Traceback (most recent call last):\n",
      "  File \"c:\\venv_python_3.10\\lib\\site-packages\\sklearn\\model_selection\\_validation.py\", line 765, in _score\n",
      "    scores = scorer(estimator, X_test)\n",
      "TypeError: _BaseScorer.__call__() missing 1 required positional argument: 'y_true'\n",
      "\n",
      "  warnings.warn(\n",
      "c:\\venv_python_3.10\\lib\\site-packages\\sklearn\\model_selection\\_search.py:953: UserWarning: One or more of the test scores are non-finite: [nan nan nan nan nan nan nan nan nan nan nan nan nan nan nan nan nan nan\n",
      " nan nan nan nan nan nan nan nan nan nan nan nan nan nan]\n",
      "  warnings.warn(\n"
     ]
    },
    {
     "name": "stdout",
     "output_type": "stream",
     "text": [
      "[CV] END bootstrap=False, contamination=0.2, max_features=15, max_samples=105, n_estimators=150; total time=   0.1s\n",
      "[CV] END bootstrap=False, contamination=0.2, max_features=15, max_samples=105, n_estimators=150; total time=   0.1s\n"
     ]
    }
   ],
   "source": [
    "iforest_classifier = IsolationForest()\n",
    "\n",
    "iforest_parameters ={'contamination' : [0.01, 0.04, 0.08, 0.12, 0.16] , 'n_estimators': [4, 8, 12,24,32, 64]}\n",
    "#  'learning_rate' : [0.01,0.02,0.03],\n",
    "#  'gamma': [0.5, 1, 2], 'random_state':[99]}\n",
    "elapsed_time_iforest = []\n",
    "\n",
    "iforest_parameters = {'n_estimators': list(range(100, 200, 50)), \n",
    "              'max_samples': list(range(100, 110, 5)), \n",
    "              'contamination': [0.1, 0.2], \n",
    "              'max_features': [5,15], \n",
    "              'bootstrap': [True, False], \n",
    "              }\n",
    "\n",
    "\n",
    "start_time = datetime.now()\n",
    "iforest_grid_search = GridSearchCV(iforest_classifier, iforest_parameters, cv=7, scoring=\"neg_mean_squared_error\", verbose=2)\n",
    "best_iforest_classifier = iforest_grid_search.fit(x_train_only)\n",
    "\n",
    "# iforest_grid_search = GridSearchCV(iforest_classifier, xgb_parameters, cv=7, scoring=\"neg_mean_squared_error\", verbose=2)\n",
    "# iforest_classifier.fit(x_train_only)\n",
    "elapsed_time_iforest.append((datetime.now()-start_time).total_seconds())"
   ]
  },
  {
   "cell_type": "code",
   "execution_count": 147,
   "metadata": {},
   "outputs": [
    {
     "name": "stdout",
     "output_type": "stream",
     "text": [
      "Confusion Matrix\n",
      " [[ 16  33]\n",
      " [ 41 270]]\n",
      "best parameters  {'bootstrap': True, 'contamination': 0.1, 'max_features': 5, 'max_samples': 100, 'n_estimators': 100}\n",
      "Accuracy  0.7944444444444444\n",
      "elapsed time  [32.077999, 0.027316]\n"
     ]
    }
   ],
   "source": [
    "# y_pred = xgb_classifier.predict(x_test)\n",
    "start_time = datetime.now()\n",
    "y_pred_c = best_iforest_classifier.predict(x_test)\n",
    "elapsed_time_iforest.append((datetime.now()-start_time).total_seconds())\n",
    "\n",
    "\n",
    "acc_iforest = accuracy_score(y_test_a, y_pred_c)\n",
    "\n",
    "print('Confusion Matrix\\n', confusion_matrix(y_test_a, y_pred_c))\n",
    "print(\"best parameters \", iforest_grid_search.best_params_)\n",
    "print('Accuracy ', acc_iforest)\n",
    "print('elapsed time ', elapsed_time_iforest)"
   ]
  },
  {
   "cell_type": "markdown",
   "metadata": {},
   "source": [
    "# Autoencoder for Anomaly Detection"
   ]
  },
  {
   "cell_type": "code",
   "execution_count": 148,
   "metadata": {},
   "outputs": [],
   "source": [
    "class TrainData(Dataset):\n",
    "    \n",
    "    def __init__(self, X_data, y_data):\n",
    "        self.X_data = X_data\n",
    "        self.y_data = y_data\n",
    "        \n",
    "    def __getitem__(self, index):\n",
    "        return self.X_data[index], self.y_data[index]\n",
    "        \n",
    "    def __len__ (self):\n",
    "        return len(self.X_data)\n",
    "\n",
    "\n",
    "\n",
    "class TestData(Dataset):\n",
    "    \n",
    "    def __init__(self, X_data):\n",
    "        self.X_data = X_data\n",
    "        \n",
    "    def __getitem__(self, index):\n",
    "        return self.X_data[index]\n",
    "        \n",
    "    def __len__ (self):\n",
    "        return len(self.X_data)\n",
    "    \n",
    "\n",
    "train_data = TrainData(torch.FloatTensor(x_train_only), \n",
    "                       torch.FloatTensor(x_train_only))\n",
    "\n",
    "test_data = TestData(torch.FloatTensor(x_test))\n",
    "valid_data = TrainData(torch.FloatTensor(x_valid), torch.FloatTensor(x_valid))\n",
    "\n",
    "train_loader = DataLoader(dataset=train_data, batch_size=32, shuffle=True)\n",
    "test_loader = DataLoader(dataset=test_data, batch_size=1)\n",
    "valid_loader = DataLoader(dataset=valid_data, batch_size=2)"
   ]
  },
  {
   "cell_type": "code",
   "execution_count": 149,
   "metadata": {},
   "outputs": [],
   "source": [
    "EPOCHS = 600 \n",
    "BATCH_SIZE = 128 \n",
    "LEARNING_RATE = 0.001\n",
    "\n",
    "NUM_INPUT = x_train.shape[1]\n",
    "NUM_OUTPUT = x_train.shape[1] \n",
    "NUM_1ST_HIDDEN = 32 \n",
    "NUM_2ND_HIDDEN = 8 \n",
    "NUM_1ST_DROPOUT = 0.1\n",
    "NUM_2ND_DROPOUT = 0.1\n",
    "NUM_3RD_DROPOUT = 0.1"
   ]
  },
  {
   "cell_type": "code",
   "execution_count": 150,
   "metadata": {},
   "outputs": [],
   "source": [
    "class BasicAutoEncoder(nn.Module):\n",
    "    def __init__(self) -> None:\n",
    "        super(BasicAutoEncoder, self).__init__()\n",
    "\n",
    "        self.layer_1 = nn.Linear(NUM_INPUT, NUM_1ST_HIDDEN)\n",
    "        self.layer_2 = nn.Linear(NUM_1ST_HIDDEN, NUM_2ND_HIDDEN)\n",
    "        self.layer_3 = nn.Linear(NUM_2ND_HIDDEN, NUM_1ST_HIDDEN)\n",
    "        self.layer_4 = nn.Linear(NUM_1ST_HIDDEN, NUM_INPUT)\n",
    "\n",
    "        # self.actvation = nn.ReLU()\n",
    "        self.actvation_1 = nn.SELU()\n",
    "        self.actvation_2 = nn.SELU()\n",
    "        self.actvation_3 = nn.SELU()\n",
    "\n",
    "        # self.actvation_1 = nn.ReLU()\n",
    "        # self.actvation_2 = nn.ReLU()\n",
    "        # self.actvation_3 = nn.ReLU()\n",
    "\n",
    "        self.dropout_1 = nn.Dropout(p=NUM_1ST_DROPOUT)\n",
    "        self.dropout_2 = nn.Dropout(p=NUM_2ND_DROPOUT)\n",
    "        self.dropout_3 = nn.Dropout(p=NUM_3RD_DROPOUT)\n",
    "        self.batchnorm_1 = nn.BatchNorm1d(NUM_1ST_HIDDEN)\n",
    "        self.batchnorm_2 = nn.BatchNorm1d(NUM_2ND_HIDDEN)\n",
    "        self.batchnorm_3 = nn.BatchNorm1d(NUM_1ST_HIDDEN)\n",
    "    \n",
    "    def forward(self, inputs):\n",
    "        x = self.actvation_1(self.layer_1(inputs))\n",
    "        # x = self.batchnorm_1(x)\n",
    "        # x = self.dropout_1(x)\n",
    "        x = self.actvation_2(self.layer_2(x))\n",
    "        # x = self.batchnorm_2(x)\n",
    "        # x = self.dropout_2(x)\n",
    "\n",
    "        x = self.actvation_3(self.layer_3(x))\n",
    "        # x = self.batchnorm_3(x)\n",
    "        # x = self.dropout_3(x)\n",
    "\n",
    "        # x = self.actvation_4(self.layer_4(x))\n",
    "        # x = self.batchnorm_3(x)\n",
    "        # x = self.dropout_3(x)\n",
    "\n",
    "\n",
    "        x = self.layer_4(x)\n",
    "\n",
    "        return x\n"
   ]
  },
  {
   "cell_type": "code",
   "execution_count": 151,
   "metadata": {},
   "outputs": [
    {
     "name": "stdout",
     "output_type": "stream",
     "text": [
      "cuda:0\n"
     ]
    }
   ],
   "source": [
    "device = torch.device(\"cuda:0\" if torch.cuda.is_available() else \"cpu\")\n",
    "print(device)"
   ]
  },
  {
   "cell_type": "code",
   "execution_count": 152,
   "metadata": {},
   "outputs": [
    {
     "name": "stdout",
     "output_type": "stream",
     "text": [
      "BasicClassification(\n",
      "  (layer_1): Linear(in_features=64, out_features=32, bias=True)\n",
      "  (layer_2): Linear(in_features=32, out_features=8, bias=True)\n",
      "  (layer_3): Linear(in_features=8, out_features=32, bias=True)\n",
      "  (layer_4): Linear(in_features=32, out_features=64, bias=True)\n",
      "  (actvation_1): SELU()\n",
      "  (actvation_2): SELU()\n",
      "  (actvation_3): SELU()\n",
      "  (dropout_1): Dropout(p=0.1, inplace=False)\n",
      "  (dropout_2): Dropout(p=0.1, inplace=False)\n",
      "  (dropout_3): Dropout(p=0.1, inplace=False)\n",
      "  (batchnorm_1): BatchNorm1d(32, eps=1e-05, momentum=0.1, affine=True, track_running_stats=True)\n",
      "  (batchnorm_2): BatchNorm1d(8, eps=1e-05, momentum=0.1, affine=True, track_running_stats=True)\n",
      "  (batchnorm_3): BatchNorm1d(32, eps=1e-05, momentum=0.1, affine=True, track_running_stats=True)\n",
      ")\n"
     ]
    }
   ],
   "source": [
    "model = BasicAutoEncoder()\n",
    "model.to(device)\n",
    "\n",
    "print(model)\n",
    "\n",
    "\n",
    "# criterion = nn.CrossEntropyLoss()\n",
    "criterion = nn.MSELoss()\n",
    "optimizer = optim.Adam(model.parameters(), lr=LEARNING_RATE)"
   ]
  },
  {
   "cell_type": "code",
   "execution_count": 153,
   "metadata": {},
   "outputs": [
    {
     "name": "stdout",
     "output_type": "stream",
     "text": [
      "Best Model is copied - Best Loss :  0.032533067750692785\n",
      "Epoch 010: : Loss: T_0.032 V_0.033 | Acc: T_0.000) V_0.000\n",
      "Best Model is copied - Best Loss :  0.027895283154470638\n",
      "Epoch 020: : Loss: T_0.026 V_0.028 | Acc: T_0.000) V_0.000\n",
      "Best Model is copied - Best Loss :  0.027206321932478912\n",
      "Epoch 030: : Loss: T_0.025 V_0.027 | Acc: T_0.000) V_0.000\n",
      "Best Model is copied - Best Loss :  0.026736764101466786\n",
      "Epoch 040: : Loss: T_0.025 V_0.027 | Acc: T_0.000) V_0.000\n",
      "Best Model is copied - Best Loss :  0.02644661656813696\n",
      "Epoch 050: : Loss: T_0.024 V_0.026 | Acc: T_0.000) V_0.000\n",
      "Best Model is copied - Best Loss :  0.026026075285497226\n",
      "Epoch 060: : Loss: T_0.024 V_0.026 | Acc: T_0.000) V_0.000\n",
      "Best Model is copied - Best Loss :  0.02550536890177884\n",
      "Epoch 070: : Loss: T_0.023 V_0.026 | Acc: T_0.000) V_0.000\n",
      "Best Model is copied - Best Loss :  0.025198019025588617\n",
      "Epoch 080: : Loss: T_0.022 V_0.025 | Acc: T_0.000) V_0.000\n",
      "Best Model is copied - Best Loss :  0.02464639382540352\n",
      "Epoch 090: : Loss: T_0.022 V_0.025 | Acc: T_0.000) V_0.000\n",
      "Best Model is copied - Best Loss :  0.02443850360577926\n",
      "Epoch 100: : Loss: T_0.021 V_0.024 | Acc: T_0.000) V_0.000\n",
      "Best Model is copied - Best Loss :  0.023900154324817575\n",
      "Epoch 110: : Loss: T_0.021 V_0.024 | Acc: T_0.000) V_0.000\n",
      "Best Model is copied - Best Loss :  0.023662869618015572\n",
      "Epoch 120: : Loss: T_0.021 V_0.024 | Acc: T_0.000) V_0.000\n",
      "Best Model is copied - Best Loss :  0.02330545728586407\n",
      "Epoch 130: : Loss: T_0.020 V_0.023 | Acc: T_0.000) V_0.000\n",
      "Best Model is copied - Best Loss :  0.023161274840175692\n",
      "Epoch 140: : Loss: T_0.020 V_0.023 | Acc: T_0.000) V_0.000\n",
      "Best Model is copied - Best Loss :  0.022661528976944584\n",
      "Epoch 150: : Loss: T_0.019 V_0.023 | Acc: T_0.000) V_0.000\n",
      "Best Model is copied - Best Loss :  0.022388991000803396\n",
      "Epoch 160: : Loss: T_0.019 V_0.022 | Acc: T_0.000) V_0.000\n",
      "Best Model is copied - Best Loss :  0.022218247364637338\n",
      "Epoch 170: : Loss: T_0.019 V_0.022 | Acc: T_0.000) V_0.000\n",
      "Best Model is copied - Best Loss :  0.021700892597436905\n",
      "Epoch 180: : Loss: T_0.018 V_0.022 | Acc: T_0.000) V_0.000\n",
      "Best Model is copied - Best Loss :  0.021529484941210184\n",
      "Epoch 190: : Loss: T_0.018 V_0.022 | Acc: T_0.000) V_0.000\n",
      "Best Model is copied - Best Loss :  0.021437856575681105\n",
      "Epoch 200: : Loss: T_0.018 V_0.021 | Acc: T_0.000) V_0.000\n",
      "Best Model is copied - Best Loss :  0.02135418590882586\n",
      "Epoch 210: : Loss: T_0.018 V_0.021 | Acc: T_0.000) V_0.000\n",
      "Best Model is copied - Best Loss :  0.020933711940112214\n",
      "Epoch 220: : Loss: T_0.018 V_0.021 | Acc: T_0.000) V_0.000\n",
      "Best Model is copied - Best Loss :  0.020823565990819286\n",
      "Epoch 230: : Loss: T_0.017 V_0.021 | Acc: T_0.000) V_0.000\n",
      "Best Model is copied - Best Loss :  0.020694074596071407\n",
      "Epoch 240: : Loss: T_0.017 V_0.021 | Acc: T_0.000) V_0.000\n",
      "Epoch 250: : Loss: T_0.017 V_0.021 | Acc: T_0.000) V_0.000\n",
      "Best Model is copied - Best Loss :  0.02049581804506791\n",
      "Epoch 260: : Loss: T_0.017 V_0.020 | Acc: T_0.000) V_0.000\n",
      "Best Model is copied - Best Loss :  0.0203398900727431\n",
      "Epoch 270: : Loss: T_0.017 V_0.020 | Acc: T_0.000) V_0.000\n",
      "Best Model is copied - Best Loss :  0.020243408442992303\n",
      "Epoch 280: : Loss: T_0.017 V_0.020 | Acc: T_0.000) V_0.000\n",
      "Best Model is copied - Best Loss :  0.02011610039173522\n",
      "Epoch 290: : Loss: T_0.017 V_0.020 | Acc: T_0.000) V_0.000\n",
      "Epoch 300: : Loss: T_0.017 V_0.020 | Acc: T_0.000) V_0.000\n",
      "Best Model is copied - Best Loss :  0.020045750483404845\n",
      "Epoch 310: : Loss: T_0.016 V_0.020 | Acc: T_0.000) V_0.000\n",
      "Best Model is copied - Best Loss :  0.019870804755353473\n",
      "Epoch 320: : Loss: T_0.016 V_0.020 | Acc: T_0.000) V_0.000\n",
      "Epoch 330: : Loss: T_0.016 V_0.020 | Acc: T_0.000) V_0.000\n",
      "Best Model is copied - Best Loss :  0.019800839240714494\n",
      "Epoch 340: : Loss: T_0.016 V_0.020 | Acc: T_0.000) V_0.000\n",
      "Epoch 350: : Loss: T_0.016 V_0.020 | Acc: T_0.000) V_0.000\n",
      "Best Model is copied - Best Loss :  0.019617120473412797\n",
      "Epoch 360: : Loss: T_0.016 V_0.020 | Acc: T_0.000) V_0.000\n",
      "Epoch 370: : Loss: T_0.016 V_0.020 | Acc: T_0.000) V_0.000\n",
      "Epoch 380: : Loss: T_0.016 V_0.020 | Acc: T_0.000) V_0.000\n",
      "Best Model is copied - Best Loss :  0.01951450092989641\n",
      "Epoch 390: : Loss: T_0.016 V_0.020 | Acc: T_0.000) V_0.000\n",
      "Best Model is copied - Best Loss :  0.019478927217682615\n",
      "Epoch 400: : Loss: T_0.016 V_0.019 | Acc: T_0.000) V_0.000\n",
      "Best Model is copied - Best Loss :  0.01939556641607649\n",
      "Epoch 410: : Loss: T_0.016 V_0.019 | Acc: T_0.000) V_0.000\n",
      "Epoch 420: : Loss: T_0.016 V_0.020 | Acc: T_0.000) V_0.000\n",
      "Epoch 430: : Loss: T_0.016 V_0.020 | Acc: T_0.000) V_0.000\n",
      "Best Model is copied - Best Loss :  0.019346912009900227\n",
      "Epoch 440: : Loss: T_0.016 V_0.019 | Acc: T_0.000) V_0.000\n",
      "Best Model is copied - Best Loss :  0.019290159753937688\n",
      "Epoch 450: : Loss: T_0.016 V_0.019 | Acc: T_0.000) V_0.000\n",
      "Epoch 460: : Loss: T_0.016 V_0.019 | Acc: T_0.000) V_0.000\n",
      "Best Model is copied - Best Loss :  0.019282979218082294\n",
      "Epoch 470: : Loss: T_0.016 V_0.019 | Acc: T_0.000) V_0.000\n",
      "Best Model is copied - Best Loss :  0.01922008686233312\n",
      "Epoch 480: : Loss: T_0.016 V_0.019 | Acc: T_0.000) V_0.000\n",
      "Best Model is copied - Best Loss :  0.019175593023343634\n",
      "Epoch 490: : Loss: T_0.015 V_0.019 | Acc: T_0.000) V_0.000\n",
      "Epoch 500: : Loss: T_0.015 V_0.019 | Acc: T_0.000) V_0.000\n",
      "Epoch 510: : Loss: T_0.015 V_0.019 | Acc: T_0.000) V_0.000\n",
      "Best Model is copied - Best Loss :  0.01917476450196571\n",
      "Epoch 520: : Loss: T_0.015 V_0.019 | Acc: T_0.000) V_0.000\n",
      "Best Model is copied - Best Loss :  0.019144769767687347\n",
      "Epoch 530: : Loss: T_0.015 V_0.019 | Acc: T_0.000) V_0.000\n",
      "Epoch 540: : Loss: T_0.015 V_0.019 | Acc: T_0.000) V_0.000\n",
      "Best Model is copied - Best Loss :  0.019066037053966686\n",
      "Epoch 550: : Loss: T_0.015 V_0.019 | Acc: T_0.000) V_0.000\n",
      "Epoch 560: : Loss: T_0.015 V_0.019 | Acc: T_0.000) V_0.000\n",
      "Best Model is copied - Best Loss :  0.018990654676195443\n",
      "Epoch 570: : Loss: T_0.015 V_0.019 | Acc: T_0.000) V_0.000\n",
      "Best Model is copied - Best Loss :  0.018959792421406343\n",
      "Epoch 580: : Loss: T_0.015 V_0.019 | Acc: T_0.000) V_0.000\n",
      "Epoch 590: : Loss: T_0.015 V_0.019 | Acc: T_0.000) V_0.000\n",
      "Best Model is copied - Best Loss :  0.018923060392909166\n",
      "Epoch 600: : Loss: T_0.015 V_0.019 | Acc: T_0.000) V_0.000\n"
     ]
    }
   ],
   "source": [
    "best_model  = None\n",
    "best_loss_on_valid = 999999999\n",
    "num_train_data = len(train_loader)\n",
    "num_eval_data = len(valid_loader)\n",
    "\n",
    "\n",
    "elapsed_time_basic_ann = []\n",
    "\n",
    "start_time = datetime.now()\n",
    "\n",
    "\n",
    "for epoch in range(1, EPOCHS+1):\n",
    "    epoch_loss = 0\n",
    "    epoch_acc = 0\n",
    "\n",
    "    eval_epoch_loss = 0\n",
    "    eval_epoch_acc = 0\n",
    "\n",
    "    model.train()\n",
    "    for x_batch, y_batch in train_loader:\n",
    "        x_batch, y_batch = x_batch.to(device), y_batch.to(device)\n",
    "\n",
    "        optimizer.zero_grad()\n",
    "\n",
    "        y_pred = model(x_batch)\n",
    "\n",
    "        loss = criterion(y_pred, y_batch)\n",
    "        # acc = calc_accuracy(y_pred, y_batch)\n",
    "\n",
    "        loss.backward()\n",
    "        optimizer.step()\n",
    "\n",
    "        epoch_loss += loss.item()\n",
    "        # epoch_acc += acc.item()\n",
    "    \n",
    "    if epoch % 10 == 0:\n",
    "        \n",
    "        with torch.no_grad():\n",
    "            model.eval()\n",
    "            for x, y in valid_loader:\n",
    "                x = x.to(device)\n",
    "                y = y.to(device)\n",
    "\n",
    "                output = model(x)\n",
    "\n",
    "                eval_loss = criterion(output, y)\n",
    "                # eval_acc = calc_accuracy(output, y)\n",
    "\n",
    "                eval_epoch_loss += eval_loss.item()\n",
    "                # eval_epoch_acc += eval_acc.item()\n",
    "        \n",
    "        if best_loss_on_valid >= (eval_epoch_loss/num_eval_data):\n",
    "            best_loss_on_valid = (eval_epoch_loss/num_eval_data)\n",
    "            best_model = copy.deepcopy(model)\n",
    "            print(\"Best Model is copied - Best Loss : \", best_loss_on_valid)\n",
    "        \n",
    "\n",
    "\n",
    "        print(f\"Epoch {epoch+0:03}: : Loss: T_{epoch_loss/num_train_data:.3f} V_{eval_epoch_loss/num_eval_data:.3f} | Acc: T_{epoch_acc/num_train_data:.3f}) V_{eval_epoch_acc/num_eval_data:.3f}\")\n",
    "\n",
    "\n",
    "elapsed_time_basic_ann.append((datetime.now()-start_time).total_seconds())"
   ]
  },
  {
   "cell_type": "code",
   "execution_count": 154,
   "metadata": {},
   "outputs": [
    {
     "name": "stdout",
     "output_type": "stream",
     "text": [
      "elapsed time  [67.364163, 0.001011]\n"
     ]
    }
   ],
   "source": [
    "\n",
    "# with torch.no_grad():\n",
    "# model.eval()\n",
    "best_model.eval()\n",
    "data = torch.from_numpy(x_test).float().to(device)\n",
    "# answer = torch.from_numpy(y_test_onehot).float().to(device)\n",
    "\n",
    "\n",
    "# data = torch.from_numpy(x_train).float().to(device)\n",
    "# answer = torch.from_numpy(y_train_onehot).float().to(device)\n",
    "\n",
    "\n",
    "# data = torch.from_numpy(x_valid).float().to(device)\n",
    "# answer = torch.from_numpy(y_valid_onehot).float().to(device)\n",
    "\n",
    "start_time = datetime.now()\n",
    "output = best_model(data)\n",
    "# acc_basic_ann = calc_accuracy(output, answer)\n",
    "elapsed_time_basic_ann.append((datetime.now()-start_time).total_seconds())\n",
    "\n",
    "# print('Accuracy ', acc_basic_ann)\n",
    "print('elapsed time ', elapsed_time_basic_ann)"
   ]
  },
  {
   "cell_type": "code",
   "execution_count": 155,
   "metadata": {},
   "outputs": [],
   "source": [
    "\n",
    "output_num = output.detach().cpu().numpy()\n",
    "\n"
   ]
  },
  {
   "cell_type": "code",
   "execution_count": 156,
   "metadata": {},
   "outputs": [
    {
     "data": {
      "text/plain": [
       "array([ 8.83477624e-05,  3.03887986e-02,  1.62950873e-01,  7.59115160e-01,\n",
       "        2.71134406e-01,  3.59756351e-02, -9.45807993e-03,  2.73622796e-02,\n",
       "       -1.16788726e-02,  2.46980786e-03,  6.46618664e-01,  8.33585024e-01,\n",
       "        1.81767084e-02,  5.59742562e-04,  1.70325637e-02,  2.77194232e-02,\n",
       "       -3.52806598e-03,  1.15962498e-01,  9.29275870e-01,  2.44822413e-01,\n",
       "       -1.20623052e-01, -4.51562852e-02,  4.52022851e-02,  1.10748075e-02,\n",
       "       -5.42475283e-03,  2.83545166e-01,  7.77230144e-01, -1.00520648e-01,\n",
       "       -1.24178238e-01, -8.72183815e-02,  6.19572401e-03, -7.66590238e-03,\n",
       "       -1.79534499e-03,  4.40756202e-01,  7.87504733e-01,  4.46769834e-01,\n",
       "        7.70104170e-01,  4.93497550e-01,  4.27860022e-02,  2.70894170e-03,\n",
       "        2.55439058e-03,  2.19961166e-01,  9.69771743e-01,  6.37521625e-01,\n",
       "        4.67536479e-01,  9.30755496e-01,  4.14173454e-01, -3.33771035e-02,\n",
       "       -7.54767284e-03,  8.16465840e-02,  8.70845258e-01,  7.91169822e-01,\n",
       "        3.44083279e-01,  8.24673295e-01,  5.60297191e-01,  2.28104927e-03,\n",
       "       -5.20337978e-03,  4.29355167e-02,  2.04151616e-01,  7.62456894e-01,\n",
       "        8.00276458e-01,  6.62160516e-01,  1.05849162e-01, -1.56964287e-02],\n",
       "      dtype=float32)"
      ]
     },
     "execution_count": 156,
     "metadata": {},
     "output_type": "execute_result"
    }
   ],
   "source": [
    "output_num[0]"
   ]
  },
  {
   "cell_type": "code",
   "execution_count": 157,
   "metadata": {},
   "outputs": [
    {
     "data": {
      "text/plain": [
       "array([0.        , 0.        , 0.0625    , 0.8125    , 0.        ,\n",
       "       0.        , 0.        , 0.        , 0.        , 0.        ,\n",
       "       0.4375    , 0.625     , 0.        , 0.        , 0.        ,\n",
       "       0.        , 0.        , 0.0625    , 1.        , 0.125     ,\n",
       "       0.        , 0.        , 0.        , 0.        , 0.        ,\n",
       "       0.26666667, 0.8125    , 0.        , 0.        , 0.        ,\n",
       "       0.        , 0.        , 0.        , 0.5       , 0.75      ,\n",
       "       0.25      , 0.6875    , 0.5625    , 0.07142857, 0.        ,\n",
       "       0.        , 0.25      , 1.        , 0.9375    , 0.5       ,\n",
       "       0.75      , 0.4375    , 0.        , 0.        , 0.125     ,\n",
       "       0.875     , 0.625     , 0.1875    , 0.8125    , 0.4375    ,\n",
       "       0.        , 0.        , 0.        , 0.125     , 0.8125    ,\n",
       "       1.        , 0.5       , 0.0625    , 0.        ])"
      ]
     },
     "execution_count": 157,
     "metadata": {},
     "output_type": "execute_result"
    }
   ],
   "source": [
    "x_test[0]"
   ]
  },
  {
   "cell_type": "code",
   "execution_count": 158,
   "metadata": {},
   "outputs": [
    {
     "name": "stdout",
     "output_type": "stream",
     "text": [
      "360\n",
      "360\n",
      "[ 4.1008477   9.5981072   5.94378683  6.30169061  9.49392164  4.91950936\n",
      "  5.82054946  4.84515078  3.85904494  6.13852238  8.89439478 11.8746798\n",
      "  7.07717344  4.46776522  7.31320692  4.28692805  5.34703312  5.46062358\n",
      "  5.42550129 13.12011908  8.64210563  6.28247364  5.61101211  4.27177432\n",
      "  9.28565335  7.01965201  5.91000855  4.64968377 11.05825681  6.54805238\n",
      "  4.08477138  9.66866008  8.48848741  6.58860764  5.09327268  7.39259668\n",
      "  4.50559125  4.65545215  5.12043958  9.39523719  3.98662098  7.21910808\n",
      "  5.55289644 10.33312395  4.98044173  4.38427602  3.98599469  4.28239258\n",
      "  4.88070486  4.35045828  6.81762878  4.80803336  9.90592843  5.79329908\n",
      "  5.73356706  3.39193971  5.00060899  4.38615889  5.20049632  6.53659627\n",
      "  3.19000248  5.46426383  8.68563609  8.10287927  5.01361912  6.22471038\n",
      "  4.46914393  4.30415836  5.84226283  9.55020679  4.84323524  6.25753818\n",
      "  7.20170073  4.32011346  4.4648511   6.5032212   5.4886823   5.21467287\n",
      "  5.60822155  6.99416722  6.32045074 11.0206614   4.83313543  3.62359482\n",
      "  9.54054589  8.64315496  3.9812857   4.5445203   5.88278062  3.85995163\n",
      "  6.22178284  4.26881959  4.28368302  3.39716122  3.74778037  4.77947264\n",
      "  5.81990554  5.9072283   4.60162476  3.66070996 11.7651134  10.42222885\n",
      " 10.46878009  6.41849602  4.89737288  5.13568412  7.82641817  6.65633139\n",
      "  3.53541507  8.02078754  5.4073751   4.27755056 10.84938182  8.99003026\n",
      "  8.94712164  4.9260434   6.13516119  3.44582992  6.4394588   5.08816794\n",
      "  8.11261561  5.82928004  4.60602791  3.57355371  5.74511261  6.78187801\n",
      "  4.90950509  4.7794766   4.83237708  9.03449426  7.26511486  4.57090793\n",
      "  5.69593358  5.13755522  4.35207226  8.61536763  8.95261465  3.96045467\n",
      "  6.12006892  5.69623285  7.02212172  7.91448372  9.57443222 10.16661447\n",
      "  5.0079007   5.85623418  4.48518558  5.69214955  4.76183085  6.76364573\n",
      "  4.58395693  4.45183201  3.97896736 10.34922192  5.51625678  5.0114949\n",
      "  4.07753444  6.07102201  5.56293433  6.53604734  6.29897921  3.26660999\n",
      "  5.38624503  4.82698591  6.1966343   6.34310569  5.02218972  7.25667898\n",
      " 10.55988636  4.99410228  7.83249018  4.60837125  4.6555982   7.18954763\n",
      "  3.61569194  8.62920528  7.35609187  8.01296329  6.25048934  4.42071292\n",
      "  8.12369268  4.63260543  8.64289636  5.9156145   7.26553318  4.77834464\n",
      " 12.59928949 10.61642354  5.69532707  3.91918584  8.42346111  4.62128079\n",
      "  6.34444343  6.74920463  4.75248106  9.73599493  5.99507918  3.98379473\n",
      "  3.1025467   4.92353827 13.87639931  4.34075478  6.14962744  6.17323218\n",
      "  3.69892599  4.59610059  6.371869    4.81569689  5.16461497  6.93313259\n",
      "  4.55722852  9.11962785  9.66099758  5.82321365  5.14797336  5.36414342\n",
      "  3.58149407  5.08451843  5.99001149 12.12067994  4.63717395  5.71604071\n",
      "  5.89862114  5.40406565  5.45896276  5.2610295   4.36547545 10.12661414\n",
      "  6.13974908  5.06247839  4.24423038  6.08689219  4.53393476  4.70460204\n",
      "  4.40745854  4.64952764  7.4500897   4.07846822 11.60111501  6.33038262\n",
      "  6.90169429  3.75351041  4.04031114  5.58819782  4.25273854  8.08239887\n",
      "  6.39507009  6.40174222  6.16520411  6.33334447  4.61867269  3.82914264\n",
      "  5.61286518  4.18450179  6.62230594  3.12892599  4.85770236  5.39643586\n",
      "  5.30621155  8.16471338  5.09433412  4.42631841  5.87849167  5.16207121\n",
      "  9.69840262  6.45828001  4.99325791  5.52423595  3.79569385  4.74743195\n",
      "  6.97689299  8.28616533  7.532368    4.31817807  7.85732964  7.46815529\n",
      "  4.36361884  4.67429604  6.8697742   5.32861848 10.60057704  8.09953393\n",
      "  7.90534113  4.30335417  5.67526116  6.76448982  5.76070911  5.47437641\n",
      "  4.56361646  6.7581153   4.50891115  7.76506043  6.0695242   4.06324393\n",
      " 13.67615948  5.16197422  5.58568864  3.70210133  5.05336936  4.75409752\n",
      "  5.85489278  4.59610895  8.50177512  5.71722735  4.3504894   5.98279207\n",
      "  4.00352918  6.61059108  5.71880977  4.71924726  5.50868737  6.29418655\n",
      "  5.30439068  7.86705067  5.09516635  6.01412937  5.97162501  4.79070136\n",
      "  4.55182514  8.48175168  6.74382318  7.87544891  4.49060056  5.09046626\n",
      "  4.5439141   5.13999451  7.54328063  4.90023968  3.3780503   5.52001684\n",
      "  5.92799281  6.00485454  4.61867182  4.78752538  4.01413338  5.93370501\n",
      "  6.25880223  4.48810559  5.06941601  6.10655722  4.31044112  4.57261928\n",
      "  7.33388528  5.63503285  6.54382726  5.11034445  5.5789036   5.68252187\n",
      "  4.12965511  4.77987017  4.93158808  8.32504121  4.75641411  4.91591314\n",
      "  6.69408071  6.73934141  4.13422006  4.84814691  7.34950065  6.95945523]\n"
     ]
    }
   ],
   "source": [
    "result_reconstruct = abs(x_test - output_num).sum(axis=1)\n",
    "print(len(result_reconstruct))\n",
    "print(len(x_test))\n",
    "print(result_reconstruct)"
   ]
  },
  {
   "cell_type": "code",
   "execution_count": 159,
   "metadata": {},
   "outputs": [],
   "source": [
    "result_class = result_reconstruct.copy()\n",
    "result_class[result_reconstruct > THRESHOLD_FOR_AUTOENCODER] = -1\n",
    "result_class[result_reconstruct <= THRESHOLD_FOR_AUTOENCODER] = 1"
   ]
  },
  {
   "cell_type": "code",
   "execution_count": 160,
   "metadata": {},
   "outputs": [
    {
     "name": "stdout",
     "output_type": "stream",
     "text": [
      "Confusion Matrix\n",
      " [[ 35  14]\n",
      " [ 10 301]]\n",
      "Accuracy  0.9333333333333333\n"
     ]
    }
   ],
   "source": [
    "# result_class\n",
    "acc_ae = accuracy_score(y_test_a, result_class)\n",
    "\n",
    "print('Confusion Matrix\\n', confusion_matrix(y_test_a, result_class))\n",
    "print('Accuracy ', acc_ae)"
   ]
  },
  {
   "cell_type": "code",
   "execution_count": 161,
   "metadata": {},
   "outputs": [
    {
     "data": {
      "text/plain": [
       "360"
      ]
     },
     "execution_count": 161,
     "metadata": {},
     "output_type": "execute_result"
    }
   ],
   "source": [
    "len(output_num)"
   ]
  },
  {
   "cell_type": "markdown",
   "metadata": {},
   "source": [
    "# Mixture of Gaussian"
   ]
  },
  {
   "cell_type": "code",
   "execution_count": 162,
   "metadata": {},
   "outputs": [
    {
     "name": "stdout",
     "output_type": "stream",
     "text": [
      "Fitting 7 folds for each of 21 candidates, totalling 147 fits\n",
      "[CV] END .......................max_iter=100, n_components=1; total time=   0.0s\n",
      "[CV] END .......................max_iter=100, n_components=1; total time=   0.0s\n",
      "[CV] END .......................max_iter=100, n_components=1; total time=   0.0s\n",
      "[CV] END .......................max_iter=100, n_components=1; total time=   0.0s\n",
      "[CV] END .......................max_iter=100, n_components=1; total time=   0.0s\n",
      "[CV] END .......................max_iter=100, n_components=1; total time=   0.0s\n",
      "[CV] END .......................max_iter=100, n_components=1; total time=   0.0s\n",
      "[CV] END .......................max_iter=100, n_components=2; total time=   0.0s\n",
      "[CV] END .......................max_iter=100, n_components=2; total time=   0.0s\n"
     ]
    },
    {
     "name": "stderr",
     "output_type": "stream",
     "text": [
      "c:\\venv_python_3.10\\lib\\site-packages\\sklearn\\model_selection\\_validation.py:776: UserWarning: Scoring failed. The score on this train-test partition for these parameters will be set to nan. Details: \n",
      "Traceback (most recent call last):\n",
      "  File \"c:\\venv_python_3.10\\lib\\site-packages\\sklearn\\model_selection\\_validation.py\", line 765, in _score\n",
      "    scores = scorer(estimator, X_test)\n",
      "TypeError: _BaseScorer.__call__() missing 1 required positional argument: 'y_true'\n",
      "\n",
      "  warnings.warn(\n",
      "c:\\venv_python_3.10\\lib\\site-packages\\sklearn\\model_selection\\_validation.py:776: UserWarning: Scoring failed. The score on this train-test partition for these parameters will be set to nan. Details: \n",
      "Traceback (most recent call last):\n",
      "  File \"c:\\venv_python_3.10\\lib\\site-packages\\sklearn\\model_selection\\_validation.py\", line 765, in _score\n",
      "    scores = scorer(estimator, X_test)\n",
      "TypeError: _BaseScorer.__call__() missing 1 required positional argument: 'y_true'\n",
      "\n",
      "  warnings.warn(\n",
      "c:\\venv_python_3.10\\lib\\site-packages\\sklearn\\model_selection\\_validation.py:776: UserWarning: Scoring failed. The score on this train-test partition for these parameters will be set to nan. Details: \n",
      "Traceback (most recent call last):\n",
      "  File \"c:\\venv_python_3.10\\lib\\site-packages\\sklearn\\model_selection\\_validation.py\", line 765, in _score\n",
      "    scores = scorer(estimator, X_test)\n",
      "TypeError: _BaseScorer.__call__() missing 1 required positional argument: 'y_true'\n",
      "\n",
      "  warnings.warn(\n",
      "c:\\venv_python_3.10\\lib\\site-packages\\sklearn\\model_selection\\_validation.py:776: UserWarning: Scoring failed. The score on this train-test partition for these parameters will be set to nan. Details: \n",
      "Traceback (most recent call last):\n",
      "  File \"c:\\venv_python_3.10\\lib\\site-packages\\sklearn\\model_selection\\_validation.py\", line 765, in _score\n",
      "    scores = scorer(estimator, X_test)\n",
      "TypeError: _BaseScorer.__call__() missing 1 required positional argument: 'y_true'\n",
      "\n",
      "  warnings.warn(\n",
      "c:\\venv_python_3.10\\lib\\site-packages\\sklearn\\model_selection\\_validation.py:776: UserWarning: Scoring failed. The score on this train-test partition for these parameters will be set to nan. Details: \n",
      "Traceback (most recent call last):\n",
      "  File \"c:\\venv_python_3.10\\lib\\site-packages\\sklearn\\model_selection\\_validation.py\", line 765, in _score\n",
      "    scores = scorer(estimator, X_test)\n",
      "TypeError: _BaseScorer.__call__() missing 1 required positional argument: 'y_true'\n",
      "\n",
      "  warnings.warn(\n",
      "c:\\venv_python_3.10\\lib\\site-packages\\sklearn\\model_selection\\_validation.py:776: UserWarning: Scoring failed. The score on this train-test partition for these parameters will be set to nan. Details: \n",
      "Traceback (most recent call last):\n",
      "  File \"c:\\venv_python_3.10\\lib\\site-packages\\sklearn\\model_selection\\_validation.py\", line 765, in _score\n",
      "    scores = scorer(estimator, X_test)\n",
      "TypeError: _BaseScorer.__call__() missing 1 required positional argument: 'y_true'\n",
      "\n",
      "  warnings.warn(\n",
      "c:\\venv_python_3.10\\lib\\site-packages\\sklearn\\model_selection\\_validation.py:776: UserWarning: Scoring failed. The score on this train-test partition for these parameters will be set to nan. Details: \n",
      "Traceback (most recent call last):\n",
      "  File \"c:\\venv_python_3.10\\lib\\site-packages\\sklearn\\model_selection\\_validation.py\", line 765, in _score\n",
      "    scores = scorer(estimator, X_test)\n",
      "TypeError: _BaseScorer.__call__() missing 1 required positional argument: 'y_true'\n",
      "\n",
      "  warnings.warn(\n",
      "c:\\venv_python_3.10\\lib\\site-packages\\sklearn\\model_selection\\_validation.py:776: UserWarning: Scoring failed. The score on this train-test partition for these parameters will be set to nan. Details: \n",
      "Traceback (most recent call last):\n",
      "  File \"c:\\venv_python_3.10\\lib\\site-packages\\sklearn\\model_selection\\_validation.py\", line 765, in _score\n",
      "    scores = scorer(estimator, X_test)\n",
      "TypeError: _BaseScorer.__call__() missing 1 required positional argument: 'y_true'\n",
      "\n",
      "  warnings.warn(\n",
      "c:\\venv_python_3.10\\lib\\site-packages\\sklearn\\model_selection\\_validation.py:776: UserWarning: Scoring failed. The score on this train-test partition for these parameters will be set to nan. Details: \n",
      "Traceback (most recent call last):\n",
      "  File \"c:\\venv_python_3.10\\lib\\site-packages\\sklearn\\model_selection\\_validation.py\", line 765, in _score\n",
      "    scores = scorer(estimator, X_test)\n",
      "TypeError: _BaseScorer.__call__() missing 1 required positional argument: 'y_true'\n",
      "\n",
      "  warnings.warn(\n"
     ]
    },
    {
     "name": "stdout",
     "output_type": "stream",
     "text": [
      "[CV] END .......................max_iter=100, n_components=2; total time=   0.0s\n",
      "[CV] END .......................max_iter=100, n_components=2; total time=   0.0s\n",
      "[CV] END .......................max_iter=100, n_components=2; total time=   0.0s\n"
     ]
    },
    {
     "name": "stderr",
     "output_type": "stream",
     "text": [
      "c:\\venv_python_3.10\\lib\\site-packages\\sklearn\\model_selection\\_validation.py:776: UserWarning: Scoring failed. The score on this train-test partition for these parameters will be set to nan. Details: \n",
      "Traceback (most recent call last):\n",
      "  File \"c:\\venv_python_3.10\\lib\\site-packages\\sklearn\\model_selection\\_validation.py\", line 765, in _score\n",
      "    scores = scorer(estimator, X_test)\n",
      "TypeError: _BaseScorer.__call__() missing 1 required positional argument: 'y_true'\n",
      "\n",
      "  warnings.warn(\n",
      "c:\\venv_python_3.10\\lib\\site-packages\\sklearn\\model_selection\\_validation.py:776: UserWarning: Scoring failed. The score on this train-test partition for these parameters will be set to nan. Details: \n",
      "Traceback (most recent call last):\n",
      "  File \"c:\\venv_python_3.10\\lib\\site-packages\\sklearn\\model_selection\\_validation.py\", line 765, in _score\n",
      "    scores = scorer(estimator, X_test)\n",
      "TypeError: _BaseScorer.__call__() missing 1 required positional argument: 'y_true'\n",
      "\n",
      "  warnings.warn(\n",
      "c:\\venv_python_3.10\\lib\\site-packages\\sklearn\\model_selection\\_validation.py:776: UserWarning: Scoring failed. The score on this train-test partition for these parameters will be set to nan. Details: \n",
      "Traceback (most recent call last):\n",
      "  File \"c:\\venv_python_3.10\\lib\\site-packages\\sklearn\\model_selection\\_validation.py\", line 765, in _score\n",
      "    scores = scorer(estimator, X_test)\n",
      "TypeError: _BaseScorer.__call__() missing 1 required positional argument: 'y_true'\n",
      "\n",
      "  warnings.warn(\n",
      "c:\\venv_python_3.10\\lib\\site-packages\\sklearn\\model_selection\\_validation.py:776: UserWarning: Scoring failed. The score on this train-test partition for these parameters will be set to nan. Details: \n",
      "Traceback (most recent call last):\n",
      "  File \"c:\\venv_python_3.10\\lib\\site-packages\\sklearn\\model_selection\\_validation.py\", line 765, in _score\n",
      "    scores = scorer(estimator, X_test)\n",
      "TypeError: _BaseScorer.__call__() missing 1 required positional argument: 'y_true'\n",
      "\n",
      "  warnings.warn(\n",
      "c:\\venv_python_3.10\\lib\\site-packages\\sklearn\\model_selection\\_validation.py:776: UserWarning: Scoring failed. The score on this train-test partition for these parameters will be set to nan. Details: \n",
      "Traceback (most recent call last):\n",
      "  File \"c:\\venv_python_3.10\\lib\\site-packages\\sklearn\\model_selection\\_validation.py\", line 765, in _score\n",
      "    scores = scorer(estimator, X_test)\n",
      "TypeError: _BaseScorer.__call__() missing 1 required positional argument: 'y_true'\n",
      "\n",
      "  warnings.warn(\n"
     ]
    },
    {
     "name": "stdout",
     "output_type": "stream",
     "text": [
      "[CV] END .......................max_iter=100, n_components=2; total time=   0.0s\n",
      "[CV] END .......................max_iter=100, n_components=2; total time=   0.0s\n",
      "[CV] END .......................max_iter=100, n_components=3; total time=   0.0s\n",
      "[CV] END .......................max_iter=100, n_components=3; total time=   0.0s\n",
      "[CV] END .......................max_iter=100, n_components=3; total time=   0.0s\n"
     ]
    },
    {
     "name": "stderr",
     "output_type": "stream",
     "text": [
      "c:\\venv_python_3.10\\lib\\site-packages\\sklearn\\model_selection\\_validation.py:776: UserWarning: Scoring failed. The score on this train-test partition for these parameters will be set to nan. Details: \n",
      "Traceback (most recent call last):\n",
      "  File \"c:\\venv_python_3.10\\lib\\site-packages\\sklearn\\model_selection\\_validation.py\", line 765, in _score\n",
      "    scores = scorer(estimator, X_test)\n",
      "TypeError: _BaseScorer.__call__() missing 1 required positional argument: 'y_true'\n",
      "\n",
      "  warnings.warn(\n",
      "c:\\venv_python_3.10\\lib\\site-packages\\sklearn\\model_selection\\_validation.py:776: UserWarning: Scoring failed. The score on this train-test partition for these parameters will be set to nan. Details: \n",
      "Traceback (most recent call last):\n",
      "  File \"c:\\venv_python_3.10\\lib\\site-packages\\sklearn\\model_selection\\_validation.py\", line 765, in _score\n",
      "    scores = scorer(estimator, X_test)\n",
      "TypeError: _BaseScorer.__call__() missing 1 required positional argument: 'y_true'\n",
      "\n",
      "  warnings.warn(\n",
      "c:\\venv_python_3.10\\lib\\site-packages\\sklearn\\model_selection\\_validation.py:776: UserWarning: Scoring failed. The score on this train-test partition for these parameters will be set to nan. Details: \n",
      "Traceback (most recent call last):\n",
      "  File \"c:\\venv_python_3.10\\lib\\site-packages\\sklearn\\model_selection\\_validation.py\", line 765, in _score\n",
      "    scores = scorer(estimator, X_test)\n",
      "TypeError: _BaseScorer.__call__() missing 1 required positional argument: 'y_true'\n",
      "\n",
      "  warnings.warn(\n"
     ]
    },
    {
     "name": "stdout",
     "output_type": "stream",
     "text": [
      "[CV] END .......................max_iter=100, n_components=3; total time=   0.0s\n",
      "[CV] END .......................max_iter=100, n_components=3; total time=   0.0s\n"
     ]
    },
    {
     "name": "stderr",
     "output_type": "stream",
     "text": [
      "c:\\venv_python_3.10\\lib\\site-packages\\sklearn\\model_selection\\_validation.py:776: UserWarning: Scoring failed. The score on this train-test partition for these parameters will be set to nan. Details: \n",
      "Traceback (most recent call last):\n",
      "  File \"c:\\venv_python_3.10\\lib\\site-packages\\sklearn\\model_selection\\_validation.py\", line 765, in _score\n",
      "    scores = scorer(estimator, X_test)\n",
      "TypeError: _BaseScorer.__call__() missing 1 required positional argument: 'y_true'\n",
      "\n",
      "  warnings.warn(\n",
      "c:\\venv_python_3.10\\lib\\site-packages\\sklearn\\model_selection\\_validation.py:776: UserWarning: Scoring failed. The score on this train-test partition for these parameters will be set to nan. Details: \n",
      "Traceback (most recent call last):\n",
      "  File \"c:\\venv_python_3.10\\lib\\site-packages\\sklearn\\model_selection\\_validation.py\", line 765, in _score\n",
      "    scores = scorer(estimator, X_test)\n",
      "TypeError: _BaseScorer.__call__() missing 1 required positional argument: 'y_true'\n",
      "\n",
      "  warnings.warn(\n",
      "c:\\venv_python_3.10\\lib\\site-packages\\sklearn\\model_selection\\_validation.py:776: UserWarning: Scoring failed. The score on this train-test partition for these parameters will be set to nan. Details: \n",
      "Traceback (most recent call last):\n",
      "  File \"c:\\venv_python_3.10\\lib\\site-packages\\sklearn\\model_selection\\_validation.py\", line 765, in _score\n",
      "    scores = scorer(estimator, X_test)\n",
      "TypeError: _BaseScorer.__call__() missing 1 required positional argument: 'y_true'\n",
      "\n",
      "  warnings.warn(\n"
     ]
    },
    {
     "name": "stdout",
     "output_type": "stream",
     "text": [
      "[CV] END .......................max_iter=100, n_components=3; total time=   0.0s\n",
      "[CV] END .......................max_iter=100, n_components=3; total time=   0.0s\n",
      "[CV] END .......................max_iter=100, n_components=4; total time=   0.0s\n"
     ]
    },
    {
     "name": "stderr",
     "output_type": "stream",
     "text": [
      "c:\\venv_python_3.10\\lib\\site-packages\\sklearn\\model_selection\\_validation.py:776: UserWarning: Scoring failed. The score on this train-test partition for these parameters will be set to nan. Details: \n",
      "Traceback (most recent call last):\n",
      "  File \"c:\\venv_python_3.10\\lib\\site-packages\\sklearn\\model_selection\\_validation.py\", line 765, in _score\n",
      "    scores = scorer(estimator, X_test)\n",
      "TypeError: _BaseScorer.__call__() missing 1 required positional argument: 'y_true'\n",
      "\n",
      "  warnings.warn(\n",
      "c:\\venv_python_3.10\\lib\\site-packages\\sklearn\\model_selection\\_validation.py:776: UserWarning: Scoring failed. The score on this train-test partition for these parameters will be set to nan. Details: \n",
      "Traceback (most recent call last):\n",
      "  File \"c:\\venv_python_3.10\\lib\\site-packages\\sklearn\\model_selection\\_validation.py\", line 765, in _score\n",
      "    scores = scorer(estimator, X_test)\n",
      "TypeError: _BaseScorer.__call__() missing 1 required positional argument: 'y_true'\n",
      "\n",
      "  warnings.warn(\n",
      "c:\\venv_python_3.10\\lib\\site-packages\\sklearn\\model_selection\\_validation.py:776: UserWarning: Scoring failed. The score on this train-test partition for these parameters will be set to nan. Details: \n",
      "Traceback (most recent call last):\n",
      "  File \"c:\\venv_python_3.10\\lib\\site-packages\\sklearn\\model_selection\\_validation.py\", line 765, in _score\n",
      "    scores = scorer(estimator, X_test)\n",
      "TypeError: _BaseScorer.__call__() missing 1 required positional argument: 'y_true'\n",
      "\n",
      "  warnings.warn(\n"
     ]
    },
    {
     "name": "stdout",
     "output_type": "stream",
     "text": [
      "[CV] END .......................max_iter=100, n_components=4; total time=   0.0s\n",
      "[CV] END .......................max_iter=100, n_components=4; total time=   0.0s\n",
      "[CV] END .......................max_iter=100, n_components=4; total time=   0.0s\n"
     ]
    },
    {
     "name": "stderr",
     "output_type": "stream",
     "text": [
      "c:\\venv_python_3.10\\lib\\site-packages\\sklearn\\model_selection\\_validation.py:776: UserWarning: Scoring failed. The score on this train-test partition for these parameters will be set to nan. Details: \n",
      "Traceback (most recent call last):\n",
      "  File \"c:\\venv_python_3.10\\lib\\site-packages\\sklearn\\model_selection\\_validation.py\", line 765, in _score\n",
      "    scores = scorer(estimator, X_test)\n",
      "TypeError: _BaseScorer.__call__() missing 1 required positional argument: 'y_true'\n",
      "\n",
      "  warnings.warn(\n",
      "c:\\venv_python_3.10\\lib\\site-packages\\sklearn\\model_selection\\_validation.py:776: UserWarning: Scoring failed. The score on this train-test partition for these parameters will be set to nan. Details: \n",
      "Traceback (most recent call last):\n",
      "  File \"c:\\venv_python_3.10\\lib\\site-packages\\sklearn\\model_selection\\_validation.py\", line 765, in _score\n",
      "    scores = scorer(estimator, X_test)\n",
      "TypeError: _BaseScorer.__call__() missing 1 required positional argument: 'y_true'\n",
      "\n",
      "  warnings.warn(\n",
      "c:\\venv_python_3.10\\lib\\site-packages\\sklearn\\model_selection\\_validation.py:776: UserWarning: Scoring failed. The score on this train-test partition for these parameters will be set to nan. Details: \n",
      "Traceback (most recent call last):\n",
      "  File \"c:\\venv_python_3.10\\lib\\site-packages\\sklearn\\model_selection\\_validation.py\", line 765, in _score\n",
      "    scores = scorer(estimator, X_test)\n",
      "TypeError: _BaseScorer.__call__() missing 1 required positional argument: 'y_true'\n",
      "\n",
      "  warnings.warn(\n",
      "c:\\venv_python_3.10\\lib\\site-packages\\sklearn\\model_selection\\_validation.py:776: UserWarning: Scoring failed. The score on this train-test partition for these parameters will be set to nan. Details: \n",
      "Traceback (most recent call last):\n",
      "  File \"c:\\venv_python_3.10\\lib\\site-packages\\sklearn\\model_selection\\_validation.py\", line 765, in _score\n",
      "    scores = scorer(estimator, X_test)\n",
      "TypeError: _BaseScorer.__call__() missing 1 required positional argument: 'y_true'\n",
      "\n",
      "  warnings.warn(\n"
     ]
    },
    {
     "name": "stdout",
     "output_type": "stream",
     "text": [
      "[CV] END .......................max_iter=100, n_components=4; total time=   0.1s\n",
      "[CV] END .......................max_iter=100, n_components=4; total time=   0.0s\n"
     ]
    },
    {
     "name": "stderr",
     "output_type": "stream",
     "text": [
      "c:\\venv_python_3.10\\lib\\site-packages\\sklearn\\model_selection\\_validation.py:776: UserWarning: Scoring failed. The score on this train-test partition for these parameters will be set to nan. Details: \n",
      "Traceback (most recent call last):\n",
      "  File \"c:\\venv_python_3.10\\lib\\site-packages\\sklearn\\model_selection\\_validation.py\", line 765, in _score\n",
      "    scores = scorer(estimator, X_test)\n",
      "TypeError: _BaseScorer.__call__() missing 1 required positional argument: 'y_true'\n",
      "\n",
      "  warnings.warn(\n",
      "c:\\venv_python_3.10\\lib\\site-packages\\sklearn\\model_selection\\_validation.py:776: UserWarning: Scoring failed. The score on this train-test partition for these parameters will be set to nan. Details: \n",
      "Traceback (most recent call last):\n",
      "  File \"c:\\venv_python_3.10\\lib\\site-packages\\sklearn\\model_selection\\_validation.py\", line 765, in _score\n",
      "    scores = scorer(estimator, X_test)\n",
      "TypeError: _BaseScorer.__call__() missing 1 required positional argument: 'y_true'\n",
      "\n",
      "  warnings.warn(\n"
     ]
    },
    {
     "name": "stdout",
     "output_type": "stream",
     "text": [
      "[CV] END .......................max_iter=100, n_components=4; total time=   0.1s\n",
      "[CV] END .......................max_iter=100, n_components=5; total time=   0.0s\n"
     ]
    },
    {
     "name": "stderr",
     "output_type": "stream",
     "text": [
      "c:\\venv_python_3.10\\lib\\site-packages\\sklearn\\model_selection\\_validation.py:776: UserWarning: Scoring failed. The score on this train-test partition for these parameters will be set to nan. Details: \n",
      "Traceback (most recent call last):\n",
      "  File \"c:\\venv_python_3.10\\lib\\site-packages\\sklearn\\model_selection\\_validation.py\", line 765, in _score\n",
      "    scores = scorer(estimator, X_test)\n",
      "TypeError: _BaseScorer.__call__() missing 1 required positional argument: 'y_true'\n",
      "\n",
      "  warnings.warn(\n",
      "c:\\venv_python_3.10\\lib\\site-packages\\sklearn\\model_selection\\_validation.py:776: UserWarning: Scoring failed. The score on this train-test partition for these parameters will be set to nan. Details: \n",
      "Traceback (most recent call last):\n",
      "  File \"c:\\venv_python_3.10\\lib\\site-packages\\sklearn\\model_selection\\_validation.py\", line 765, in _score\n",
      "    scores = scorer(estimator, X_test)\n",
      "TypeError: _BaseScorer.__call__() missing 1 required positional argument: 'y_true'\n",
      "\n",
      "  warnings.warn(\n",
      "c:\\venv_python_3.10\\lib\\site-packages\\sklearn\\model_selection\\_validation.py:776: UserWarning: Scoring failed. The score on this train-test partition for these parameters will be set to nan. Details: \n",
      "Traceback (most recent call last):\n",
      "  File \"c:\\venv_python_3.10\\lib\\site-packages\\sklearn\\model_selection\\_validation.py\", line 765, in _score\n",
      "    scores = scorer(estimator, X_test)\n",
      "TypeError: _BaseScorer.__call__() missing 1 required positional argument: 'y_true'\n",
      "\n",
      "  warnings.warn(\n"
     ]
    },
    {
     "name": "stdout",
     "output_type": "stream",
     "text": [
      "[CV] END .......................max_iter=100, n_components=5; total time=   0.1s\n",
      "[CV] END .......................max_iter=100, n_components=5; total time=   0.0s\n",
      "[CV] END .......................max_iter=100, n_components=5; total time=   0.0s\n"
     ]
    },
    {
     "name": "stderr",
     "output_type": "stream",
     "text": [
      "c:\\venv_python_3.10\\lib\\site-packages\\sklearn\\model_selection\\_validation.py:776: UserWarning: Scoring failed. The score on this train-test partition for these parameters will be set to nan. Details: \n",
      "Traceback (most recent call last):\n",
      "  File \"c:\\venv_python_3.10\\lib\\site-packages\\sklearn\\model_selection\\_validation.py\", line 765, in _score\n",
      "    scores = scorer(estimator, X_test)\n",
      "TypeError: _BaseScorer.__call__() missing 1 required positional argument: 'y_true'\n",
      "\n",
      "  warnings.warn(\n",
      "c:\\venv_python_3.10\\lib\\site-packages\\sklearn\\model_selection\\_validation.py:776: UserWarning: Scoring failed. The score on this train-test partition for these parameters will be set to nan. Details: \n",
      "Traceback (most recent call last):\n",
      "  File \"c:\\venv_python_3.10\\lib\\site-packages\\sklearn\\model_selection\\_validation.py\", line 765, in _score\n",
      "    scores = scorer(estimator, X_test)\n",
      "TypeError: _BaseScorer.__call__() missing 1 required positional argument: 'y_true'\n",
      "\n",
      "  warnings.warn(\n",
      "c:\\venv_python_3.10\\lib\\site-packages\\sklearn\\model_selection\\_validation.py:776: UserWarning: Scoring failed. The score on this train-test partition for these parameters will be set to nan. Details: \n",
      "Traceback (most recent call last):\n",
      "  File \"c:\\venv_python_3.10\\lib\\site-packages\\sklearn\\model_selection\\_validation.py\", line 765, in _score\n",
      "    scores = scorer(estimator, X_test)\n",
      "TypeError: _BaseScorer.__call__() missing 1 required positional argument: 'y_true'\n",
      "\n",
      "  warnings.warn(\n",
      "c:\\venv_python_3.10\\lib\\site-packages\\sklearn\\model_selection\\_validation.py:776: UserWarning: Scoring failed. The score on this train-test partition for these parameters will be set to nan. Details: \n",
      "Traceback (most recent call last):\n",
      "  File \"c:\\venv_python_3.10\\lib\\site-packages\\sklearn\\model_selection\\_validation.py\", line 765, in _score\n",
      "    scores = scorer(estimator, X_test)\n",
      "TypeError: _BaseScorer.__call__() missing 1 required positional argument: 'y_true'\n",
      "\n",
      "  warnings.warn(\n"
     ]
    },
    {
     "name": "stdout",
     "output_type": "stream",
     "text": [
      "[CV] END .......................max_iter=100, n_components=5; total time=   0.0s\n",
      "[CV] END .......................max_iter=100, n_components=5; total time=   0.0s\n",
      "[CV] END .......................max_iter=100, n_components=5; total time=   0.0s\n",
      "[CV] END .......................max_iter=100, n_components=6; total time=   0.0s\n"
     ]
    },
    {
     "name": "stderr",
     "output_type": "stream",
     "text": [
      "c:\\venv_python_3.10\\lib\\site-packages\\sklearn\\model_selection\\_validation.py:776: UserWarning: Scoring failed. The score on this train-test partition for these parameters will be set to nan. Details: \n",
      "Traceback (most recent call last):\n",
      "  File \"c:\\venv_python_3.10\\lib\\site-packages\\sklearn\\model_selection\\_validation.py\", line 765, in _score\n",
      "    scores = scorer(estimator, X_test)\n",
      "TypeError: _BaseScorer.__call__() missing 1 required positional argument: 'y_true'\n",
      "\n",
      "  warnings.warn(\n",
      "c:\\venv_python_3.10\\lib\\site-packages\\sklearn\\model_selection\\_validation.py:776: UserWarning: Scoring failed. The score on this train-test partition for these parameters will be set to nan. Details: \n",
      "Traceback (most recent call last):\n",
      "  File \"c:\\venv_python_3.10\\lib\\site-packages\\sklearn\\model_selection\\_validation.py\", line 765, in _score\n",
      "    scores = scorer(estimator, X_test)\n",
      "TypeError: _BaseScorer.__call__() missing 1 required positional argument: 'y_true'\n",
      "\n",
      "  warnings.warn(\n",
      "c:\\venv_python_3.10\\lib\\site-packages\\sklearn\\model_selection\\_validation.py:776: UserWarning: Scoring failed. The score on this train-test partition for these parameters will be set to nan. Details: \n",
      "Traceback (most recent call last):\n",
      "  File \"c:\\venv_python_3.10\\lib\\site-packages\\sklearn\\model_selection\\_validation.py\", line 765, in _score\n",
      "    scores = scorer(estimator, X_test)\n",
      "TypeError: _BaseScorer.__call__() missing 1 required positional argument: 'y_true'\n",
      "\n",
      "  warnings.warn(\n"
     ]
    },
    {
     "name": "stdout",
     "output_type": "stream",
     "text": [
      "[CV] END .......................max_iter=100, n_components=6; total time=   0.0s\n",
      "[CV] END .......................max_iter=100, n_components=6; total time=   0.0s\n",
      "[CV] END .......................max_iter=100, n_components=6; total time=   0.0s\n"
     ]
    },
    {
     "name": "stderr",
     "output_type": "stream",
     "text": [
      "c:\\venv_python_3.10\\lib\\site-packages\\sklearn\\model_selection\\_validation.py:776: UserWarning: Scoring failed. The score on this train-test partition for these parameters will be set to nan. Details: \n",
      "Traceback (most recent call last):\n",
      "  File \"c:\\venv_python_3.10\\lib\\site-packages\\sklearn\\model_selection\\_validation.py\", line 765, in _score\n",
      "    scores = scorer(estimator, X_test)\n",
      "TypeError: _BaseScorer.__call__() missing 1 required positional argument: 'y_true'\n",
      "\n",
      "  warnings.warn(\n",
      "c:\\venv_python_3.10\\lib\\site-packages\\sklearn\\model_selection\\_validation.py:776: UserWarning: Scoring failed. The score on this train-test partition for these parameters will be set to nan. Details: \n",
      "Traceback (most recent call last):\n",
      "  File \"c:\\venv_python_3.10\\lib\\site-packages\\sklearn\\model_selection\\_validation.py\", line 765, in _score\n",
      "    scores = scorer(estimator, X_test)\n",
      "TypeError: _BaseScorer.__call__() missing 1 required positional argument: 'y_true'\n",
      "\n",
      "  warnings.warn(\n"
     ]
    },
    {
     "name": "stdout",
     "output_type": "stream",
     "text": [
      "[CV] END .......................max_iter=100, n_components=6; total time=   0.0s\n",
      "[CV] END .......................max_iter=100, n_components=6; total time=   0.1s\n"
     ]
    },
    {
     "name": "stderr",
     "output_type": "stream",
     "text": [
      "c:\\venv_python_3.10\\lib\\site-packages\\sklearn\\model_selection\\_validation.py:776: UserWarning: Scoring failed. The score on this train-test partition for these parameters will be set to nan. Details: \n",
      "Traceback (most recent call last):\n",
      "  File \"c:\\venv_python_3.10\\lib\\site-packages\\sklearn\\model_selection\\_validation.py\", line 765, in _score\n",
      "    scores = scorer(estimator, X_test)\n",
      "TypeError: _BaseScorer.__call__() missing 1 required positional argument: 'y_true'\n",
      "\n",
      "  warnings.warn(\n",
      "c:\\venv_python_3.10\\lib\\site-packages\\sklearn\\model_selection\\_validation.py:776: UserWarning: Scoring failed. The score on this train-test partition for these parameters will be set to nan. Details: \n",
      "Traceback (most recent call last):\n",
      "  File \"c:\\venv_python_3.10\\lib\\site-packages\\sklearn\\model_selection\\_validation.py\", line 765, in _score\n",
      "    scores = scorer(estimator, X_test)\n",
      "TypeError: _BaseScorer.__call__() missing 1 required positional argument: 'y_true'\n",
      "\n",
      "  warnings.warn(\n",
      "c:\\venv_python_3.10\\lib\\site-packages\\sklearn\\model_selection\\_validation.py:776: UserWarning: Scoring failed. The score on this train-test partition for these parameters will be set to nan. Details: \n",
      "Traceback (most recent call last):\n",
      "  File \"c:\\venv_python_3.10\\lib\\site-packages\\sklearn\\model_selection\\_validation.py\", line 765, in _score\n",
      "    scores = scorer(estimator, X_test)\n",
      "TypeError: _BaseScorer.__call__() missing 1 required positional argument: 'y_true'\n",
      "\n",
      "  warnings.warn(\n"
     ]
    },
    {
     "name": "stdout",
     "output_type": "stream",
     "text": [
      "[CV] END .......................max_iter=100, n_components=6; total time=   0.0s\n",
      "[CV] END .......................max_iter=100, n_components=7; total time=   0.0s\n",
      "[CV] END .......................max_iter=100, n_components=7; total time=   0.0s\n"
     ]
    },
    {
     "name": "stderr",
     "output_type": "stream",
     "text": [
      "c:\\venv_python_3.10\\lib\\site-packages\\sklearn\\model_selection\\_validation.py:776: UserWarning: Scoring failed. The score on this train-test partition for these parameters will be set to nan. Details: \n",
      "Traceback (most recent call last):\n",
      "  File \"c:\\venv_python_3.10\\lib\\site-packages\\sklearn\\model_selection\\_validation.py\", line 765, in _score\n",
      "    scores = scorer(estimator, X_test)\n",
      "TypeError: _BaseScorer.__call__() missing 1 required positional argument: 'y_true'\n",
      "\n",
      "  warnings.warn(\n",
      "c:\\venv_python_3.10\\lib\\site-packages\\sklearn\\model_selection\\_validation.py:776: UserWarning: Scoring failed. The score on this train-test partition for these parameters will be set to nan. Details: \n",
      "Traceback (most recent call last):\n",
      "  File \"c:\\venv_python_3.10\\lib\\site-packages\\sklearn\\model_selection\\_validation.py\", line 765, in _score\n",
      "    scores = scorer(estimator, X_test)\n",
      "TypeError: _BaseScorer.__call__() missing 1 required positional argument: 'y_true'\n",
      "\n",
      "  warnings.warn(\n",
      "c:\\venv_python_3.10\\lib\\site-packages\\sklearn\\model_selection\\_validation.py:776: UserWarning: Scoring failed. The score on this train-test partition for these parameters will be set to nan. Details: \n",
      "Traceback (most recent call last):\n",
      "  File \"c:\\venv_python_3.10\\lib\\site-packages\\sklearn\\model_selection\\_validation.py\", line 765, in _score\n",
      "    scores = scorer(estimator, X_test)\n",
      "TypeError: _BaseScorer.__call__() missing 1 required positional argument: 'y_true'\n",
      "\n",
      "  warnings.warn(\n"
     ]
    },
    {
     "name": "stdout",
     "output_type": "stream",
     "text": [
      "[CV] END .......................max_iter=100, n_components=7; total time=   0.0s\n",
      "[CV] END .......................max_iter=100, n_components=7; total time=   0.0s\n",
      "[CV] END .......................max_iter=100, n_components=7; total time=   0.0s\n"
     ]
    },
    {
     "name": "stderr",
     "output_type": "stream",
     "text": [
      "c:\\venv_python_3.10\\lib\\site-packages\\sklearn\\model_selection\\_validation.py:776: UserWarning: Scoring failed. The score on this train-test partition for these parameters will be set to nan. Details: \n",
      "Traceback (most recent call last):\n",
      "  File \"c:\\venv_python_3.10\\lib\\site-packages\\sklearn\\model_selection\\_validation.py\", line 765, in _score\n",
      "    scores = scorer(estimator, X_test)\n",
      "TypeError: _BaseScorer.__call__() missing 1 required positional argument: 'y_true'\n",
      "\n",
      "  warnings.warn(\n",
      "c:\\venv_python_3.10\\lib\\site-packages\\sklearn\\model_selection\\_validation.py:776: UserWarning: Scoring failed. The score on this train-test partition for these parameters will be set to nan. Details: \n",
      "Traceback (most recent call last):\n",
      "  File \"c:\\venv_python_3.10\\lib\\site-packages\\sklearn\\model_selection\\_validation.py\", line 765, in _score\n",
      "    scores = scorer(estimator, X_test)\n",
      "TypeError: _BaseScorer.__call__() missing 1 required positional argument: 'y_true'\n",
      "\n",
      "  warnings.warn(\n",
      "c:\\venv_python_3.10\\lib\\site-packages\\sklearn\\model_selection\\_validation.py:776: UserWarning: Scoring failed. The score on this train-test partition for these parameters will be set to nan. Details: \n",
      "Traceback (most recent call last):\n",
      "  File \"c:\\venv_python_3.10\\lib\\site-packages\\sklearn\\model_selection\\_validation.py\", line 765, in _score\n",
      "    scores = scorer(estimator, X_test)\n",
      "TypeError: _BaseScorer.__call__() missing 1 required positional argument: 'y_true'\n",
      "\n",
      "  warnings.warn(\n",
      "c:\\venv_python_3.10\\lib\\site-packages\\sklearn\\model_selection\\_validation.py:776: UserWarning: Scoring failed. The score on this train-test partition for these parameters will be set to nan. Details: \n",
      "Traceback (most recent call last):\n",
      "  File \"c:\\venv_python_3.10\\lib\\site-packages\\sklearn\\model_selection\\_validation.py\", line 765, in _score\n",
      "    scores = scorer(estimator, X_test)\n",
      "TypeError: _BaseScorer.__call__() missing 1 required positional argument: 'y_true'\n",
      "\n",
      "  warnings.warn(\n",
      "c:\\venv_python_3.10\\lib\\site-packages\\sklearn\\model_selection\\_validation.py:776: UserWarning: Scoring failed. The score on this train-test partition for these parameters will be set to nan. Details: \n",
      "Traceback (most recent call last):\n",
      "  File \"c:\\venv_python_3.10\\lib\\site-packages\\sklearn\\model_selection\\_validation.py\", line 765, in _score\n",
      "    scores = scorer(estimator, X_test)\n",
      "TypeError: _BaseScorer.__call__() missing 1 required positional argument: 'y_true'\n",
      "\n",
      "  warnings.warn(\n",
      "c:\\venv_python_3.10\\lib\\site-packages\\sklearn\\model_selection\\_validation.py:776: UserWarning: Scoring failed. The score on this train-test partition for these parameters will be set to nan. Details: \n",
      "Traceback (most recent call last):\n",
      "  File \"c:\\venv_python_3.10\\lib\\site-packages\\sklearn\\model_selection\\_validation.py\", line 765, in _score\n",
      "    scores = scorer(estimator, X_test)\n",
      "TypeError: _BaseScorer.__call__() missing 1 required positional argument: 'y_true'\n",
      "\n",
      "  warnings.warn(\n",
      "c:\\venv_python_3.10\\lib\\site-packages\\sklearn\\model_selection\\_validation.py:776: UserWarning: Scoring failed. The score on this train-test partition for these parameters will be set to nan. Details: \n",
      "Traceback (most recent call last):\n",
      "  File \"c:\\venv_python_3.10\\lib\\site-packages\\sklearn\\model_selection\\_validation.py\", line 765, in _score\n",
      "    scores = scorer(estimator, X_test)\n",
      "TypeError: _BaseScorer.__call__() missing 1 required positional argument: 'y_true'\n",
      "\n",
      "  warnings.warn(\n",
      "c:\\venv_python_3.10\\lib\\site-packages\\sklearn\\model_selection\\_validation.py:776: UserWarning: Scoring failed. The score on this train-test partition for these parameters will be set to nan. Details: \n",
      "Traceback (most recent call last):\n",
      "  File \"c:\\venv_python_3.10\\lib\\site-packages\\sklearn\\model_selection\\_validation.py\", line 765, in _score\n",
      "    scores = scorer(estimator, X_test)\n",
      "TypeError: _BaseScorer.__call__() missing 1 required positional argument: 'y_true'\n",
      "\n",
      "  warnings.warn(\n",
      "c:\\venv_python_3.10\\lib\\site-packages\\sklearn\\model_selection\\_validation.py:776: UserWarning: Scoring failed. The score on this train-test partition for these parameters will be set to nan. Details: \n",
      "Traceback (most recent call last):\n",
      "  File \"c:\\venv_python_3.10\\lib\\site-packages\\sklearn\\model_selection\\_validation.py\", line 765, in _score\n",
      "    scores = scorer(estimator, X_test)\n",
      "TypeError: _BaseScorer.__call__() missing 1 required positional argument: 'y_true'\n",
      "\n",
      "  warnings.warn(\n",
      "c:\\venv_python_3.10\\lib\\site-packages\\sklearn\\model_selection\\_validation.py:776: UserWarning: Scoring failed. The score on this train-test partition for these parameters will be set to nan. Details: \n",
      "Traceback (most recent call last):\n",
      "  File \"c:\\venv_python_3.10\\lib\\site-packages\\sklearn\\model_selection\\_validation.py\", line 765, in _score\n",
      "    scores = scorer(estimator, X_test)\n",
      "TypeError: _BaseScorer.__call__() missing 1 required positional argument: 'y_true'\n",
      "\n",
      "  warnings.warn(\n"
     ]
    },
    {
     "name": "stdout",
     "output_type": "stream",
     "text": [
      "[CV] END .......................max_iter=100, n_components=7; total time=   0.0s\n",
      "[CV] END .......................max_iter=100, n_components=7; total time=   0.0s\n",
      "[CV] END ......................max_iter=1000, n_components=1; total time=   0.0s\n",
      "[CV] END ......................max_iter=1000, n_components=1; total time=   0.0s\n",
      "[CV] END ......................max_iter=1000, n_components=1; total time=   0.0s\n",
      "[CV] END ......................max_iter=1000, n_components=1; total time=   0.0s\n",
      "[CV] END ......................max_iter=1000, n_components=1; total time=   0.0s\n",
      "[CV] END ......................max_iter=1000, n_components=1; total time=   0.0s\n",
      "[CV] END ......................max_iter=1000, n_components=1; total time=   0.0s\n",
      "[CV] END ......................max_iter=1000, n_components=2; total time=   0.0s\n"
     ]
    },
    {
     "name": "stderr",
     "output_type": "stream",
     "text": [
      "c:\\venv_python_3.10\\lib\\site-packages\\sklearn\\model_selection\\_validation.py:776: UserWarning: Scoring failed. The score on this train-test partition for these parameters will be set to nan. Details: \n",
      "Traceback (most recent call last):\n",
      "  File \"c:\\venv_python_3.10\\lib\\site-packages\\sklearn\\model_selection\\_validation.py\", line 765, in _score\n",
      "    scores = scorer(estimator, X_test)\n",
      "TypeError: _BaseScorer.__call__() missing 1 required positional argument: 'y_true'\n",
      "\n",
      "  warnings.warn(\n",
      "c:\\venv_python_3.10\\lib\\site-packages\\sklearn\\model_selection\\_validation.py:776: UserWarning: Scoring failed. The score on this train-test partition for these parameters will be set to nan. Details: \n",
      "Traceback (most recent call last):\n",
      "  File \"c:\\venv_python_3.10\\lib\\site-packages\\sklearn\\model_selection\\_validation.py\", line 765, in _score\n",
      "    scores = scorer(estimator, X_test)\n",
      "TypeError: _BaseScorer.__call__() missing 1 required positional argument: 'y_true'\n",
      "\n",
      "  warnings.warn(\n",
      "c:\\venv_python_3.10\\lib\\site-packages\\sklearn\\model_selection\\_validation.py:776: UserWarning: Scoring failed. The score on this train-test partition for these parameters will be set to nan. Details: \n",
      "Traceback (most recent call last):\n",
      "  File \"c:\\venv_python_3.10\\lib\\site-packages\\sklearn\\model_selection\\_validation.py\", line 765, in _score\n",
      "    scores = scorer(estimator, X_test)\n",
      "TypeError: _BaseScorer.__call__() missing 1 required positional argument: 'y_true'\n",
      "\n",
      "  warnings.warn(\n"
     ]
    },
    {
     "name": "stdout",
     "output_type": "stream",
     "text": [
      "[CV] END ......................max_iter=1000, n_components=2; total time=   0.0s\n",
      "[CV] END ......................max_iter=1000, n_components=2; total time=   0.0s\n",
      "[CV] END ......................max_iter=1000, n_components=2; total time=   0.0s\n"
     ]
    },
    {
     "name": "stderr",
     "output_type": "stream",
     "text": [
      "c:\\venv_python_3.10\\lib\\site-packages\\sklearn\\model_selection\\_validation.py:776: UserWarning: Scoring failed. The score on this train-test partition for these parameters will be set to nan. Details: \n",
      "Traceback (most recent call last):\n",
      "  File \"c:\\venv_python_3.10\\lib\\site-packages\\sklearn\\model_selection\\_validation.py\", line 765, in _score\n",
      "    scores = scorer(estimator, X_test)\n",
      "TypeError: _BaseScorer.__call__() missing 1 required positional argument: 'y_true'\n",
      "\n",
      "  warnings.warn(\n",
      "c:\\venv_python_3.10\\lib\\site-packages\\sklearn\\model_selection\\_validation.py:776: UserWarning: Scoring failed. The score on this train-test partition for these parameters will be set to nan. Details: \n",
      "Traceback (most recent call last):\n",
      "  File \"c:\\venv_python_3.10\\lib\\site-packages\\sklearn\\model_selection\\_validation.py\", line 765, in _score\n",
      "    scores = scorer(estimator, X_test)\n",
      "TypeError: _BaseScorer.__call__() missing 1 required positional argument: 'y_true'\n",
      "\n",
      "  warnings.warn(\n",
      "c:\\venv_python_3.10\\lib\\site-packages\\sklearn\\model_selection\\_validation.py:776: UserWarning: Scoring failed. The score on this train-test partition for these parameters will be set to nan. Details: \n",
      "Traceback (most recent call last):\n",
      "  File \"c:\\venv_python_3.10\\lib\\site-packages\\sklearn\\model_selection\\_validation.py\", line 765, in _score\n",
      "    scores = scorer(estimator, X_test)\n",
      "TypeError: _BaseScorer.__call__() missing 1 required positional argument: 'y_true'\n",
      "\n",
      "  warnings.warn(\n"
     ]
    },
    {
     "name": "stdout",
     "output_type": "stream",
     "text": [
      "[CV] END ......................max_iter=1000, n_components=2; total time=   0.0s\n",
      "[CV] END ......................max_iter=1000, n_components=2; total time=   0.0s\n",
      "[CV] END ......................max_iter=1000, n_components=2; total time=   0.0s\n"
     ]
    },
    {
     "name": "stderr",
     "output_type": "stream",
     "text": [
      "c:\\venv_python_3.10\\lib\\site-packages\\sklearn\\model_selection\\_validation.py:776: UserWarning: Scoring failed. The score on this train-test partition for these parameters will be set to nan. Details: \n",
      "Traceback (most recent call last):\n",
      "  File \"c:\\venv_python_3.10\\lib\\site-packages\\sklearn\\model_selection\\_validation.py\", line 765, in _score\n",
      "    scores = scorer(estimator, X_test)\n",
      "TypeError: _BaseScorer.__call__() missing 1 required positional argument: 'y_true'\n",
      "\n",
      "  warnings.warn(\n",
      "c:\\venv_python_3.10\\lib\\site-packages\\sklearn\\model_selection\\_validation.py:776: UserWarning: Scoring failed. The score on this train-test partition for these parameters will be set to nan. Details: \n",
      "Traceback (most recent call last):\n",
      "  File \"c:\\venv_python_3.10\\lib\\site-packages\\sklearn\\model_selection\\_validation.py\", line 765, in _score\n",
      "    scores = scorer(estimator, X_test)\n",
      "TypeError: _BaseScorer.__call__() missing 1 required positional argument: 'y_true'\n",
      "\n",
      "  warnings.warn(\n"
     ]
    },
    {
     "name": "stdout",
     "output_type": "stream",
     "text": [
      "[CV] END ......................max_iter=1000, n_components=3; total time=   0.0s\n",
      "[CV] END ......................max_iter=1000, n_components=3; total time=   0.0s\n"
     ]
    },
    {
     "name": "stderr",
     "output_type": "stream",
     "text": [
      "c:\\venv_python_3.10\\lib\\site-packages\\sklearn\\model_selection\\_validation.py:776: UserWarning: Scoring failed. The score on this train-test partition for these parameters will be set to nan. Details: \n",
      "Traceback (most recent call last):\n",
      "  File \"c:\\venv_python_3.10\\lib\\site-packages\\sklearn\\model_selection\\_validation.py\", line 765, in _score\n",
      "    scores = scorer(estimator, X_test)\n",
      "TypeError: _BaseScorer.__call__() missing 1 required positional argument: 'y_true'\n",
      "\n",
      "  warnings.warn(\n",
      "c:\\venv_python_3.10\\lib\\site-packages\\sklearn\\model_selection\\_validation.py:776: UserWarning: Scoring failed. The score on this train-test partition for these parameters will be set to nan. Details: \n",
      "Traceback (most recent call last):\n",
      "  File \"c:\\venv_python_3.10\\lib\\site-packages\\sklearn\\model_selection\\_validation.py\", line 765, in _score\n",
      "    scores = scorer(estimator, X_test)\n",
      "TypeError: _BaseScorer.__call__() missing 1 required positional argument: 'y_true'\n",
      "\n",
      "  warnings.warn(\n"
     ]
    },
    {
     "name": "stdout",
     "output_type": "stream",
     "text": [
      "[CV] END ......................max_iter=1000, n_components=3; total time=   0.1s\n",
      "[CV] END ......................max_iter=1000, n_components=3; total time=   0.0s\n"
     ]
    },
    {
     "name": "stderr",
     "output_type": "stream",
     "text": [
      "c:\\venv_python_3.10\\lib\\site-packages\\sklearn\\model_selection\\_validation.py:776: UserWarning: Scoring failed. The score on this train-test partition for these parameters will be set to nan. Details: \n",
      "Traceback (most recent call last):\n",
      "  File \"c:\\venv_python_3.10\\lib\\site-packages\\sklearn\\model_selection\\_validation.py\", line 765, in _score\n",
      "    scores = scorer(estimator, X_test)\n",
      "TypeError: _BaseScorer.__call__() missing 1 required positional argument: 'y_true'\n",
      "\n",
      "  warnings.warn(\n",
      "c:\\venv_python_3.10\\lib\\site-packages\\sklearn\\model_selection\\_validation.py:776: UserWarning: Scoring failed. The score on this train-test partition for these parameters will be set to nan. Details: \n",
      "Traceback (most recent call last):\n",
      "  File \"c:\\venv_python_3.10\\lib\\site-packages\\sklearn\\model_selection\\_validation.py\", line 765, in _score\n",
      "    scores = scorer(estimator, X_test)\n",
      "TypeError: _BaseScorer.__call__() missing 1 required positional argument: 'y_true'\n",
      "\n",
      "  warnings.warn(\n",
      "c:\\venv_python_3.10\\lib\\site-packages\\sklearn\\model_selection\\_validation.py:776: UserWarning: Scoring failed. The score on this train-test partition for these parameters will be set to nan. Details: \n",
      "Traceback (most recent call last):\n",
      "  File \"c:\\venv_python_3.10\\lib\\site-packages\\sklearn\\model_selection\\_validation.py\", line 765, in _score\n",
      "    scores = scorer(estimator, X_test)\n",
      "TypeError: _BaseScorer.__call__() missing 1 required positional argument: 'y_true'\n",
      "\n",
      "  warnings.warn(\n"
     ]
    },
    {
     "name": "stdout",
     "output_type": "stream",
     "text": [
      "[CV] END ......................max_iter=1000, n_components=3; total time=   0.1s\n",
      "[CV] END ......................max_iter=1000, n_components=3; total time=   0.0s\n",
      "[CV] END ......................max_iter=1000, n_components=3; total time=   0.0s\n"
     ]
    },
    {
     "name": "stderr",
     "output_type": "stream",
     "text": [
      "c:\\venv_python_3.10\\lib\\site-packages\\sklearn\\model_selection\\_validation.py:776: UserWarning: Scoring failed. The score on this train-test partition for these parameters will be set to nan. Details: \n",
      "Traceback (most recent call last):\n",
      "  File \"c:\\venv_python_3.10\\lib\\site-packages\\sklearn\\model_selection\\_validation.py\", line 765, in _score\n",
      "    scores = scorer(estimator, X_test)\n",
      "TypeError: _BaseScorer.__call__() missing 1 required positional argument: 'y_true'\n",
      "\n",
      "  warnings.warn(\n",
      "c:\\venv_python_3.10\\lib\\site-packages\\sklearn\\model_selection\\_validation.py:776: UserWarning: Scoring failed. The score on this train-test partition for these parameters will be set to nan. Details: \n",
      "Traceback (most recent call last):\n",
      "  File \"c:\\venv_python_3.10\\lib\\site-packages\\sklearn\\model_selection\\_validation.py\", line 765, in _score\n",
      "    scores = scorer(estimator, X_test)\n",
      "TypeError: _BaseScorer.__call__() missing 1 required positional argument: 'y_true'\n",
      "\n",
      "  warnings.warn(\n",
      "c:\\venv_python_3.10\\lib\\site-packages\\sklearn\\model_selection\\_validation.py:776: UserWarning: Scoring failed. The score on this train-test partition for these parameters will be set to nan. Details: \n",
      "Traceback (most recent call last):\n",
      "  File \"c:\\venv_python_3.10\\lib\\site-packages\\sklearn\\model_selection\\_validation.py\", line 765, in _score\n",
      "    scores = scorer(estimator, X_test)\n",
      "TypeError: _BaseScorer.__call__() missing 1 required positional argument: 'y_true'\n",
      "\n",
      "  warnings.warn(\n"
     ]
    },
    {
     "name": "stdout",
     "output_type": "stream",
     "text": [
      "[CV] END ......................max_iter=1000, n_components=4; total time=   0.0s\n",
      "[CV] END ......................max_iter=1000, n_components=4; total time=   0.0s\n",
      "[CV] END ......................max_iter=1000, n_components=4; total time=   0.0s\n"
     ]
    },
    {
     "name": "stderr",
     "output_type": "stream",
     "text": [
      "c:\\venv_python_3.10\\lib\\site-packages\\sklearn\\model_selection\\_validation.py:776: UserWarning: Scoring failed. The score on this train-test partition for these parameters will be set to nan. Details: \n",
      "Traceback (most recent call last):\n",
      "  File \"c:\\venv_python_3.10\\lib\\site-packages\\sklearn\\model_selection\\_validation.py\", line 765, in _score\n",
      "    scores = scorer(estimator, X_test)\n",
      "TypeError: _BaseScorer.__call__() missing 1 required positional argument: 'y_true'\n",
      "\n",
      "  warnings.warn(\n",
      "c:\\venv_python_3.10\\lib\\site-packages\\sklearn\\model_selection\\_validation.py:776: UserWarning: Scoring failed. The score on this train-test partition for these parameters will be set to nan. Details: \n",
      "Traceback (most recent call last):\n",
      "  File \"c:\\venv_python_3.10\\lib\\site-packages\\sklearn\\model_selection\\_validation.py\", line 765, in _score\n",
      "    scores = scorer(estimator, X_test)\n",
      "TypeError: _BaseScorer.__call__() missing 1 required positional argument: 'y_true'\n",
      "\n",
      "  warnings.warn(\n"
     ]
    },
    {
     "name": "stdout",
     "output_type": "stream",
     "text": [
      "[CV] END ......................max_iter=1000, n_components=4; total time=   0.1s\n",
      "[CV] END ......................max_iter=1000, n_components=4; total time=   0.0s\n"
     ]
    },
    {
     "name": "stderr",
     "output_type": "stream",
     "text": [
      "c:\\venv_python_3.10\\lib\\site-packages\\sklearn\\model_selection\\_validation.py:776: UserWarning: Scoring failed. The score on this train-test partition for these parameters will be set to nan. Details: \n",
      "Traceback (most recent call last):\n",
      "  File \"c:\\venv_python_3.10\\lib\\site-packages\\sklearn\\model_selection\\_validation.py\", line 765, in _score\n",
      "    scores = scorer(estimator, X_test)\n",
      "TypeError: _BaseScorer.__call__() missing 1 required positional argument: 'y_true'\n",
      "\n",
      "  warnings.warn(\n",
      "c:\\venv_python_3.10\\lib\\site-packages\\sklearn\\model_selection\\_validation.py:776: UserWarning: Scoring failed. The score on this train-test partition for these parameters will be set to nan. Details: \n",
      "Traceback (most recent call last):\n",
      "  File \"c:\\venv_python_3.10\\lib\\site-packages\\sklearn\\model_selection\\_validation.py\", line 765, in _score\n",
      "    scores = scorer(estimator, X_test)\n",
      "TypeError: _BaseScorer.__call__() missing 1 required positional argument: 'y_true'\n",
      "\n",
      "  warnings.warn(\n"
     ]
    },
    {
     "name": "stdout",
     "output_type": "stream",
     "text": [
      "[CV] END ......................max_iter=1000, n_components=4; total time=   0.0s\n",
      "[CV] END ......................max_iter=1000, n_components=4; total time=   0.0s\n"
     ]
    },
    {
     "name": "stderr",
     "output_type": "stream",
     "text": [
      "c:\\venv_python_3.10\\lib\\site-packages\\sklearn\\model_selection\\_validation.py:776: UserWarning: Scoring failed. The score on this train-test partition for these parameters will be set to nan. Details: \n",
      "Traceback (most recent call last):\n",
      "  File \"c:\\venv_python_3.10\\lib\\site-packages\\sklearn\\model_selection\\_validation.py\", line 765, in _score\n",
      "    scores = scorer(estimator, X_test)\n",
      "TypeError: _BaseScorer.__call__() missing 1 required positional argument: 'y_true'\n",
      "\n",
      "  warnings.warn(\n",
      "c:\\venv_python_3.10\\lib\\site-packages\\sklearn\\model_selection\\_validation.py:776: UserWarning: Scoring failed. The score on this train-test partition for these parameters will be set to nan. Details: \n",
      "Traceback (most recent call last):\n",
      "  File \"c:\\venv_python_3.10\\lib\\site-packages\\sklearn\\model_selection\\_validation.py\", line 765, in _score\n",
      "    scores = scorer(estimator, X_test)\n",
      "TypeError: _BaseScorer.__call__() missing 1 required positional argument: 'y_true'\n",
      "\n",
      "  warnings.warn(\n",
      "c:\\venv_python_3.10\\lib\\site-packages\\sklearn\\model_selection\\_validation.py:776: UserWarning: Scoring failed. The score on this train-test partition for these parameters will be set to nan. Details: \n",
      "Traceback (most recent call last):\n",
      "  File \"c:\\venv_python_3.10\\lib\\site-packages\\sklearn\\model_selection\\_validation.py\", line 765, in _score\n",
      "    scores = scorer(estimator, X_test)\n",
      "TypeError: _BaseScorer.__call__() missing 1 required positional argument: 'y_true'\n",
      "\n",
      "  warnings.warn(\n"
     ]
    },
    {
     "name": "stdout",
     "output_type": "stream",
     "text": [
      "[CV] END ......................max_iter=1000, n_components=5; total time=   0.0s\n",
      "[CV] END ......................max_iter=1000, n_components=5; total time=   0.0s\n",
      "[CV] END ......................max_iter=1000, n_components=5; total time=   0.0s\n"
     ]
    },
    {
     "name": "stderr",
     "output_type": "stream",
     "text": [
      "c:\\venv_python_3.10\\lib\\site-packages\\sklearn\\model_selection\\_validation.py:776: UserWarning: Scoring failed. The score on this train-test partition for these parameters will be set to nan. Details: \n",
      "Traceback (most recent call last):\n",
      "  File \"c:\\venv_python_3.10\\lib\\site-packages\\sklearn\\model_selection\\_validation.py\", line 765, in _score\n",
      "    scores = scorer(estimator, X_test)\n",
      "TypeError: _BaseScorer.__call__() missing 1 required positional argument: 'y_true'\n",
      "\n",
      "  warnings.warn(\n",
      "c:\\venv_python_3.10\\lib\\site-packages\\sklearn\\model_selection\\_validation.py:776: UserWarning: Scoring failed. The score on this train-test partition for these parameters will be set to nan. Details: \n",
      "Traceback (most recent call last):\n",
      "  File \"c:\\venv_python_3.10\\lib\\site-packages\\sklearn\\model_selection\\_validation.py\", line 765, in _score\n",
      "    scores = scorer(estimator, X_test)\n",
      "TypeError: _BaseScorer.__call__() missing 1 required positional argument: 'y_true'\n",
      "\n",
      "  warnings.warn(\n"
     ]
    },
    {
     "name": "stdout",
     "output_type": "stream",
     "text": [
      "[CV] END ......................max_iter=1000, n_components=5; total time=   0.3s\n",
      "[CV] END ......................max_iter=1000, n_components=5; total time=   0.0s\n"
     ]
    },
    {
     "name": "stderr",
     "output_type": "stream",
     "text": [
      "c:\\venv_python_3.10\\lib\\site-packages\\sklearn\\model_selection\\_validation.py:776: UserWarning: Scoring failed. The score on this train-test partition for these parameters will be set to nan. Details: \n",
      "Traceback (most recent call last):\n",
      "  File \"c:\\venv_python_3.10\\lib\\site-packages\\sklearn\\model_selection\\_validation.py\", line 765, in _score\n",
      "    scores = scorer(estimator, X_test)\n",
      "TypeError: _BaseScorer.__call__() missing 1 required positional argument: 'y_true'\n",
      "\n",
      "  warnings.warn(\n",
      "c:\\venv_python_3.10\\lib\\site-packages\\sklearn\\model_selection\\_validation.py:776: UserWarning: Scoring failed. The score on this train-test partition for these parameters will be set to nan. Details: \n",
      "Traceback (most recent call last):\n",
      "  File \"c:\\venv_python_3.10\\lib\\site-packages\\sklearn\\model_selection\\_validation.py\", line 765, in _score\n",
      "    scores = scorer(estimator, X_test)\n",
      "TypeError: _BaseScorer.__call__() missing 1 required positional argument: 'y_true'\n",
      "\n",
      "  warnings.warn(\n",
      "c:\\venv_python_3.10\\lib\\site-packages\\sklearn\\model_selection\\_validation.py:776: UserWarning: Scoring failed. The score on this train-test partition for these parameters will be set to nan. Details: \n",
      "Traceback (most recent call last):\n",
      "  File \"c:\\venv_python_3.10\\lib\\site-packages\\sklearn\\model_selection\\_validation.py\", line 765, in _score\n",
      "    scores = scorer(estimator, X_test)\n",
      "TypeError: _BaseScorer.__call__() missing 1 required positional argument: 'y_true'\n",
      "\n",
      "  warnings.warn(\n"
     ]
    },
    {
     "name": "stdout",
     "output_type": "stream",
     "text": [
      "[CV] END ......................max_iter=1000, n_components=5; total time=   0.0s\n",
      "[CV] END ......................max_iter=1000, n_components=5; total time=   0.0s\n",
      "[CV] END ......................max_iter=1000, n_components=6; total time=   0.0s\n"
     ]
    },
    {
     "name": "stderr",
     "output_type": "stream",
     "text": [
      "c:\\venv_python_3.10\\lib\\site-packages\\sklearn\\model_selection\\_validation.py:776: UserWarning: Scoring failed. The score on this train-test partition for these parameters will be set to nan. Details: \n",
      "Traceback (most recent call last):\n",
      "  File \"c:\\venv_python_3.10\\lib\\site-packages\\sklearn\\model_selection\\_validation.py\", line 765, in _score\n",
      "    scores = scorer(estimator, X_test)\n",
      "TypeError: _BaseScorer.__call__() missing 1 required positional argument: 'y_true'\n",
      "\n",
      "  warnings.warn(\n",
      "c:\\venv_python_3.10\\lib\\site-packages\\sklearn\\model_selection\\_validation.py:776: UserWarning: Scoring failed. The score on this train-test partition for these parameters will be set to nan. Details: \n",
      "Traceback (most recent call last):\n",
      "  File \"c:\\venv_python_3.10\\lib\\site-packages\\sklearn\\model_selection\\_validation.py\", line 765, in _score\n",
      "    scores = scorer(estimator, X_test)\n",
      "TypeError: _BaseScorer.__call__() missing 1 required positional argument: 'y_true'\n",
      "\n",
      "  warnings.warn(\n"
     ]
    },
    {
     "name": "stdout",
     "output_type": "stream",
     "text": [
      "[CV] END ......................max_iter=1000, n_components=6; total time=   0.0s\n",
      "[CV] END ......................max_iter=1000, n_components=6; total time=   0.0s\n"
     ]
    },
    {
     "name": "stderr",
     "output_type": "stream",
     "text": [
      "c:\\venv_python_3.10\\lib\\site-packages\\sklearn\\model_selection\\_validation.py:776: UserWarning: Scoring failed. The score on this train-test partition for these parameters will be set to nan. Details: \n",
      "Traceback (most recent call last):\n",
      "  File \"c:\\venv_python_3.10\\lib\\site-packages\\sklearn\\model_selection\\_validation.py\", line 765, in _score\n",
      "    scores = scorer(estimator, X_test)\n",
      "TypeError: _BaseScorer.__call__() missing 1 required positional argument: 'y_true'\n",
      "\n",
      "  warnings.warn(\n",
      "c:\\venv_python_3.10\\lib\\site-packages\\sklearn\\model_selection\\_validation.py:776: UserWarning: Scoring failed. The score on this train-test partition for these parameters will be set to nan. Details: \n",
      "Traceback (most recent call last):\n",
      "  File \"c:\\venv_python_3.10\\lib\\site-packages\\sklearn\\model_selection\\_validation.py\", line 765, in _score\n",
      "    scores = scorer(estimator, X_test)\n",
      "TypeError: _BaseScorer.__call__() missing 1 required positional argument: 'y_true'\n",
      "\n",
      "  warnings.warn(\n",
      "c:\\venv_python_3.10\\lib\\site-packages\\sklearn\\model_selection\\_validation.py:776: UserWarning: Scoring failed. The score on this train-test partition for these parameters will be set to nan. Details: \n",
      "Traceback (most recent call last):\n",
      "  File \"c:\\venv_python_3.10\\lib\\site-packages\\sklearn\\model_selection\\_validation.py\", line 765, in _score\n",
      "    scores = scorer(estimator, X_test)\n",
      "TypeError: _BaseScorer.__call__() missing 1 required positional argument: 'y_true'\n",
      "\n",
      "  warnings.warn(\n"
     ]
    },
    {
     "name": "stdout",
     "output_type": "stream",
     "text": [
      "[CV] END ......................max_iter=1000, n_components=6; total time=   0.1s\n",
      "[CV] END ......................max_iter=1000, n_components=6; total time=   0.0s\n",
      "[CV] END ......................max_iter=1000, n_components=6; total time=   0.0s\n"
     ]
    },
    {
     "name": "stderr",
     "output_type": "stream",
     "text": [
      "c:\\venv_python_3.10\\lib\\site-packages\\sklearn\\model_selection\\_validation.py:776: UserWarning: Scoring failed. The score on this train-test partition for these parameters will be set to nan. Details: \n",
      "Traceback (most recent call last):\n",
      "  File \"c:\\venv_python_3.10\\lib\\site-packages\\sklearn\\model_selection\\_validation.py\", line 765, in _score\n",
      "    scores = scorer(estimator, X_test)\n",
      "TypeError: _BaseScorer.__call__() missing 1 required positional argument: 'y_true'\n",
      "\n",
      "  warnings.warn(\n",
      "c:\\venv_python_3.10\\lib\\site-packages\\sklearn\\model_selection\\_validation.py:776: UserWarning: Scoring failed. The score on this train-test partition for these parameters will be set to nan. Details: \n",
      "Traceback (most recent call last):\n",
      "  File \"c:\\venv_python_3.10\\lib\\site-packages\\sklearn\\model_selection\\_validation.py\", line 765, in _score\n",
      "    scores = scorer(estimator, X_test)\n",
      "TypeError: _BaseScorer.__call__() missing 1 required positional argument: 'y_true'\n",
      "\n",
      "  warnings.warn(\n",
      "c:\\venv_python_3.10\\lib\\site-packages\\sklearn\\model_selection\\_validation.py:776: UserWarning: Scoring failed. The score on this train-test partition for these parameters will be set to nan. Details: \n",
      "Traceback (most recent call last):\n",
      "  File \"c:\\venv_python_3.10\\lib\\site-packages\\sklearn\\model_selection\\_validation.py\", line 765, in _score\n",
      "    scores = scorer(estimator, X_test)\n",
      "TypeError: _BaseScorer.__call__() missing 1 required positional argument: 'y_true'\n",
      "\n",
      "  warnings.warn(\n"
     ]
    },
    {
     "name": "stdout",
     "output_type": "stream",
     "text": [
      "[CV] END ......................max_iter=1000, n_components=6; total time=   0.0s\n",
      "[CV] END ......................max_iter=1000, n_components=7; total time=   0.0s\n",
      "[CV] END ......................max_iter=1000, n_components=7; total time=   0.0s\n"
     ]
    },
    {
     "name": "stderr",
     "output_type": "stream",
     "text": [
      "c:\\venv_python_3.10\\lib\\site-packages\\sklearn\\model_selection\\_validation.py:776: UserWarning: Scoring failed. The score on this train-test partition for these parameters will be set to nan. Details: \n",
      "Traceback (most recent call last):\n",
      "  File \"c:\\venv_python_3.10\\lib\\site-packages\\sklearn\\model_selection\\_validation.py\", line 765, in _score\n",
      "    scores = scorer(estimator, X_test)\n",
      "TypeError: _BaseScorer.__call__() missing 1 required positional argument: 'y_true'\n",
      "\n",
      "  warnings.warn(\n",
      "c:\\venv_python_3.10\\lib\\site-packages\\sklearn\\model_selection\\_validation.py:776: UserWarning: Scoring failed. The score on this train-test partition for these parameters will be set to nan. Details: \n",
      "Traceback (most recent call last):\n",
      "  File \"c:\\venv_python_3.10\\lib\\site-packages\\sklearn\\model_selection\\_validation.py\", line 765, in _score\n",
      "    scores = scorer(estimator, X_test)\n",
      "TypeError: _BaseScorer.__call__() missing 1 required positional argument: 'y_true'\n",
      "\n",
      "  warnings.warn(\n"
     ]
    },
    {
     "name": "stdout",
     "output_type": "stream",
     "text": [
      "[CV] END ......................max_iter=1000, n_components=7; total time=   0.0s\n",
      "[CV] END ......................max_iter=1000, n_components=7; total time=   0.1s\n"
     ]
    },
    {
     "name": "stderr",
     "output_type": "stream",
     "text": [
      "c:\\venv_python_3.10\\lib\\site-packages\\sklearn\\model_selection\\_validation.py:776: UserWarning: Scoring failed. The score on this train-test partition for these parameters will be set to nan. Details: \n",
      "Traceback (most recent call last):\n",
      "  File \"c:\\venv_python_3.10\\lib\\site-packages\\sklearn\\model_selection\\_validation.py\", line 765, in _score\n",
      "    scores = scorer(estimator, X_test)\n",
      "TypeError: _BaseScorer.__call__() missing 1 required positional argument: 'y_true'\n",
      "\n",
      "  warnings.warn(\n",
      "c:\\venv_python_3.10\\lib\\site-packages\\sklearn\\model_selection\\_validation.py:776: UserWarning: Scoring failed. The score on this train-test partition for these parameters will be set to nan. Details: \n",
      "Traceback (most recent call last):\n",
      "  File \"c:\\venv_python_3.10\\lib\\site-packages\\sklearn\\model_selection\\_validation.py\", line 765, in _score\n",
      "    scores = scorer(estimator, X_test)\n",
      "TypeError: _BaseScorer.__call__() missing 1 required positional argument: 'y_true'\n",
      "\n",
      "  warnings.warn(\n",
      "c:\\venv_python_3.10\\lib\\site-packages\\sklearn\\model_selection\\_validation.py:776: UserWarning: Scoring failed. The score on this train-test partition for these parameters will be set to nan. Details: \n",
      "Traceback (most recent call last):\n",
      "  File \"c:\\venv_python_3.10\\lib\\site-packages\\sklearn\\model_selection\\_validation.py\", line 765, in _score\n",
      "    scores = scorer(estimator, X_test)\n",
      "TypeError: _BaseScorer.__call__() missing 1 required positional argument: 'y_true'\n",
      "\n",
      "  warnings.warn(\n",
      "c:\\venv_python_3.10\\lib\\site-packages\\sklearn\\model_selection\\_validation.py:776: UserWarning: Scoring failed. The score on this train-test partition for these parameters will be set to nan. Details: \n",
      "Traceback (most recent call last):\n",
      "  File \"c:\\venv_python_3.10\\lib\\site-packages\\sklearn\\model_selection\\_validation.py\", line 765, in _score\n",
      "    scores = scorer(estimator, X_test)\n",
      "TypeError: _BaseScorer.__call__() missing 1 required positional argument: 'y_true'\n",
      "\n",
      "  warnings.warn(\n",
      "c:\\venv_python_3.10\\lib\\site-packages\\sklearn\\model_selection\\_validation.py:776: UserWarning: Scoring failed. The score on this train-test partition for these parameters will be set to nan. Details: \n",
      "Traceback (most recent call last):\n",
      "  File \"c:\\venv_python_3.10\\lib\\site-packages\\sklearn\\model_selection\\_validation.py\", line 765, in _score\n",
      "    scores = scorer(estimator, X_test)\n",
      "TypeError: _BaseScorer.__call__() missing 1 required positional argument: 'y_true'\n",
      "\n",
      "  warnings.warn(\n",
      "c:\\venv_python_3.10\\lib\\site-packages\\sklearn\\model_selection\\_validation.py:776: UserWarning: Scoring failed. The score on this train-test partition for these parameters will be set to nan. Details: \n",
      "Traceback (most recent call last):\n",
      "  File \"c:\\venv_python_3.10\\lib\\site-packages\\sklearn\\model_selection\\_validation.py\", line 765, in _score\n",
      "    scores = scorer(estimator, X_test)\n",
      "TypeError: _BaseScorer.__call__() missing 1 required positional argument: 'y_true'\n",
      "\n",
      "  warnings.warn(\n",
      "c:\\venv_python_3.10\\lib\\site-packages\\sklearn\\model_selection\\_validation.py:776: UserWarning: Scoring failed. The score on this train-test partition for these parameters will be set to nan. Details: \n",
      "Traceback (most recent call last):\n",
      "  File \"c:\\venv_python_3.10\\lib\\site-packages\\sklearn\\model_selection\\_validation.py\", line 765, in _score\n",
      "    scores = scorer(estimator, X_test)\n",
      "TypeError: _BaseScorer.__call__() missing 1 required positional argument: 'y_true'\n",
      "\n",
      "  warnings.warn(\n",
      "c:\\venv_python_3.10\\lib\\site-packages\\sklearn\\model_selection\\_validation.py:776: UserWarning: Scoring failed. The score on this train-test partition for these parameters will be set to nan. Details: \n",
      "Traceback (most recent call last):\n",
      "  File \"c:\\venv_python_3.10\\lib\\site-packages\\sklearn\\model_selection\\_validation.py\", line 765, in _score\n",
      "    scores = scorer(estimator, X_test)\n",
      "TypeError: _BaseScorer.__call__() missing 1 required positional argument: 'y_true'\n",
      "\n",
      "  warnings.warn(\n",
      "c:\\venv_python_3.10\\lib\\site-packages\\sklearn\\model_selection\\_validation.py:776: UserWarning: Scoring failed. The score on this train-test partition for these parameters will be set to nan. Details: \n",
      "Traceback (most recent call last):\n",
      "  File \"c:\\venv_python_3.10\\lib\\site-packages\\sklearn\\model_selection\\_validation.py\", line 765, in _score\n",
      "    scores = scorer(estimator, X_test)\n",
      "TypeError: _BaseScorer.__call__() missing 1 required positional argument: 'y_true'\n",
      "\n",
      "  warnings.warn(\n",
      "c:\\venv_python_3.10\\lib\\site-packages\\sklearn\\model_selection\\_validation.py:776: UserWarning: Scoring failed. The score on this train-test partition for these parameters will be set to nan. Details: \n",
      "Traceback (most recent call last):\n",
      "  File \"c:\\venv_python_3.10\\lib\\site-packages\\sklearn\\model_selection\\_validation.py\", line 765, in _score\n",
      "    scores = scorer(estimator, X_test)\n",
      "TypeError: _BaseScorer.__call__() missing 1 required positional argument: 'y_true'\n",
      "\n",
      "  warnings.warn(\n"
     ]
    },
    {
     "name": "stdout",
     "output_type": "stream",
     "text": [
      "[CV] END ......................max_iter=1000, n_components=7; total time=   0.0s\n",
      "[CV] END ......................max_iter=1000, n_components=7; total time=   0.0s\n",
      "[CV] END ......................max_iter=1000, n_components=7; total time=   0.0s\n",
      "[CV] END ...................max_iter=1000000, n_components=1; total time=   0.0s\n",
      "[CV] END ...................max_iter=1000000, n_components=1; total time=   0.0s\n",
      "[CV] END ...................max_iter=1000000, n_components=1; total time=   0.0s\n",
      "[CV] END ...................max_iter=1000000, n_components=1; total time=   0.0s\n",
      "[CV] END ...................max_iter=1000000, n_components=1; total time=   0.0s\n",
      "[CV] END ...................max_iter=1000000, n_components=1; total time=   0.0s\n",
      "[CV] END ...................max_iter=1000000, n_components=1; total time=   0.0s\n"
     ]
    },
    {
     "name": "stderr",
     "output_type": "stream",
     "text": [
      "c:\\venv_python_3.10\\lib\\site-packages\\sklearn\\model_selection\\_validation.py:776: UserWarning: Scoring failed. The score on this train-test partition for these parameters will be set to nan. Details: \n",
      "Traceback (most recent call last):\n",
      "  File \"c:\\venv_python_3.10\\lib\\site-packages\\sklearn\\model_selection\\_validation.py\", line 765, in _score\n",
      "    scores = scorer(estimator, X_test)\n",
      "TypeError: _BaseScorer.__call__() missing 1 required positional argument: 'y_true'\n",
      "\n",
      "  warnings.warn(\n",
      "c:\\venv_python_3.10\\lib\\site-packages\\sklearn\\model_selection\\_validation.py:776: UserWarning: Scoring failed. The score on this train-test partition for these parameters will be set to nan. Details: \n",
      "Traceback (most recent call last):\n",
      "  File \"c:\\venv_python_3.10\\lib\\site-packages\\sklearn\\model_selection\\_validation.py\", line 765, in _score\n",
      "    scores = scorer(estimator, X_test)\n",
      "TypeError: _BaseScorer.__call__() missing 1 required positional argument: 'y_true'\n",
      "\n",
      "  warnings.warn(\n",
      "c:\\venv_python_3.10\\lib\\site-packages\\sklearn\\model_selection\\_validation.py:776: UserWarning: Scoring failed. The score on this train-test partition for these parameters will be set to nan. Details: \n",
      "Traceback (most recent call last):\n",
      "  File \"c:\\venv_python_3.10\\lib\\site-packages\\sklearn\\model_selection\\_validation.py\", line 765, in _score\n",
      "    scores = scorer(estimator, X_test)\n",
      "TypeError: _BaseScorer.__call__() missing 1 required positional argument: 'y_true'\n",
      "\n",
      "  warnings.warn(\n",
      "c:\\venv_python_3.10\\lib\\site-packages\\sklearn\\model_selection\\_validation.py:776: UserWarning: Scoring failed. The score on this train-test partition for these parameters will be set to nan. Details: \n",
      "Traceback (most recent call last):\n",
      "  File \"c:\\venv_python_3.10\\lib\\site-packages\\sklearn\\model_selection\\_validation.py\", line 765, in _score\n",
      "    scores = scorer(estimator, X_test)\n",
      "TypeError: _BaseScorer.__call__() missing 1 required positional argument: 'y_true'\n",
      "\n",
      "  warnings.warn(\n"
     ]
    },
    {
     "name": "stdout",
     "output_type": "stream",
     "text": [
      "[CV] END ...................max_iter=1000000, n_components=2; total time=   0.0s\n",
      "[CV] END ...................max_iter=1000000, n_components=2; total time=   0.0s\n",
      "[CV] END ...................max_iter=1000000, n_components=2; total time=   0.0s\n",
      "[CV] END ...................max_iter=1000000, n_components=2; total time=   0.0s\n"
     ]
    },
    {
     "name": "stderr",
     "output_type": "stream",
     "text": [
      "c:\\venv_python_3.10\\lib\\site-packages\\sklearn\\model_selection\\_validation.py:776: UserWarning: Scoring failed. The score on this train-test partition for these parameters will be set to nan. Details: \n",
      "Traceback (most recent call last):\n",
      "  File \"c:\\venv_python_3.10\\lib\\site-packages\\sklearn\\model_selection\\_validation.py\", line 765, in _score\n",
      "    scores = scorer(estimator, X_test)\n",
      "TypeError: _BaseScorer.__call__() missing 1 required positional argument: 'y_true'\n",
      "\n",
      "  warnings.warn(\n",
      "c:\\venv_python_3.10\\lib\\site-packages\\sklearn\\model_selection\\_validation.py:776: UserWarning: Scoring failed. The score on this train-test partition for these parameters will be set to nan. Details: \n",
      "Traceback (most recent call last):\n",
      "  File \"c:\\venv_python_3.10\\lib\\site-packages\\sklearn\\model_selection\\_validation.py\", line 765, in _score\n",
      "    scores = scorer(estimator, X_test)\n",
      "TypeError: _BaseScorer.__call__() missing 1 required positional argument: 'y_true'\n",
      "\n",
      "  warnings.warn(\n",
      "c:\\venv_python_3.10\\lib\\site-packages\\sklearn\\model_selection\\_validation.py:776: UserWarning: Scoring failed. The score on this train-test partition for these parameters will be set to nan. Details: \n",
      "Traceback (most recent call last):\n",
      "  File \"c:\\venv_python_3.10\\lib\\site-packages\\sklearn\\model_selection\\_validation.py\", line 765, in _score\n",
      "    scores = scorer(estimator, X_test)\n",
      "TypeError: _BaseScorer.__call__() missing 1 required positional argument: 'y_true'\n",
      "\n",
      "  warnings.warn(\n",
      "c:\\venv_python_3.10\\lib\\site-packages\\sklearn\\model_selection\\_validation.py:776: UserWarning: Scoring failed. The score on this train-test partition for these parameters will be set to nan. Details: \n",
      "Traceback (most recent call last):\n",
      "  File \"c:\\venv_python_3.10\\lib\\site-packages\\sklearn\\model_selection\\_validation.py\", line 765, in _score\n",
      "    scores = scorer(estimator, X_test)\n",
      "TypeError: _BaseScorer.__call__() missing 1 required positional argument: 'y_true'\n",
      "\n",
      "  warnings.warn(\n"
     ]
    },
    {
     "name": "stdout",
     "output_type": "stream",
     "text": [
      "[CV] END ...................max_iter=1000000, n_components=2; total time=   0.0s\n",
      "[CV] END ...................max_iter=1000000, n_components=2; total time=   0.0s\n",
      "[CV] END ...................max_iter=1000000, n_components=2; total time=   0.0s\n",
      "[CV] END ...................max_iter=1000000, n_components=3; total time=   0.0s\n"
     ]
    },
    {
     "name": "stderr",
     "output_type": "stream",
     "text": [
      "c:\\venv_python_3.10\\lib\\site-packages\\sklearn\\model_selection\\_validation.py:776: UserWarning: Scoring failed. The score on this train-test partition for these parameters will be set to nan. Details: \n",
      "Traceback (most recent call last):\n",
      "  File \"c:\\venv_python_3.10\\lib\\site-packages\\sklearn\\model_selection\\_validation.py\", line 765, in _score\n",
      "    scores = scorer(estimator, X_test)\n",
      "TypeError: _BaseScorer.__call__() missing 1 required positional argument: 'y_true'\n",
      "\n",
      "  warnings.warn(\n",
      "c:\\venv_python_3.10\\lib\\site-packages\\sklearn\\model_selection\\_validation.py:776: UserWarning: Scoring failed. The score on this train-test partition for these parameters will be set to nan. Details: \n",
      "Traceback (most recent call last):\n",
      "  File \"c:\\venv_python_3.10\\lib\\site-packages\\sklearn\\model_selection\\_validation.py\", line 765, in _score\n",
      "    scores = scorer(estimator, X_test)\n",
      "TypeError: _BaseScorer.__call__() missing 1 required positional argument: 'y_true'\n",
      "\n",
      "  warnings.warn(\n"
     ]
    },
    {
     "name": "stdout",
     "output_type": "stream",
     "text": [
      "[CV] END ...................max_iter=1000000, n_components=3; total time=   0.0s\n",
      "[CV] END ...................max_iter=1000000, n_components=3; total time=   0.0s\n"
     ]
    },
    {
     "name": "stderr",
     "output_type": "stream",
     "text": [
      "c:\\venv_python_3.10\\lib\\site-packages\\sklearn\\model_selection\\_validation.py:776: UserWarning: Scoring failed. The score on this train-test partition for these parameters will be set to nan. Details: \n",
      "Traceback (most recent call last):\n",
      "  File \"c:\\venv_python_3.10\\lib\\site-packages\\sklearn\\model_selection\\_validation.py\", line 765, in _score\n",
      "    scores = scorer(estimator, X_test)\n",
      "TypeError: _BaseScorer.__call__() missing 1 required positional argument: 'y_true'\n",
      "\n",
      "  warnings.warn(\n",
      "c:\\venv_python_3.10\\lib\\site-packages\\sklearn\\model_selection\\_validation.py:776: UserWarning: Scoring failed. The score on this train-test partition for these parameters will be set to nan. Details: \n",
      "Traceback (most recent call last):\n",
      "  File \"c:\\venv_python_3.10\\lib\\site-packages\\sklearn\\model_selection\\_validation.py\", line 765, in _score\n",
      "    scores = scorer(estimator, X_test)\n",
      "TypeError: _BaseScorer.__call__() missing 1 required positional argument: 'y_true'\n",
      "\n",
      "  warnings.warn(\n",
      "c:\\venv_python_3.10\\lib\\site-packages\\sklearn\\model_selection\\_validation.py:776: UserWarning: Scoring failed. The score on this train-test partition for these parameters will be set to nan. Details: \n",
      "Traceback (most recent call last):\n",
      "  File \"c:\\venv_python_3.10\\lib\\site-packages\\sklearn\\model_selection\\_validation.py\", line 765, in _score\n",
      "    scores = scorer(estimator, X_test)\n",
      "TypeError: _BaseScorer.__call__() missing 1 required positional argument: 'y_true'\n",
      "\n",
      "  warnings.warn(\n"
     ]
    },
    {
     "name": "stdout",
     "output_type": "stream",
     "text": [
      "[CV] END ...................max_iter=1000000, n_components=3; total time=   0.0s\n",
      "[CV] END ...................max_iter=1000000, n_components=3; total time=   0.0s\n",
      "[CV] END ...................max_iter=1000000, n_components=3; total time=   0.0s\n"
     ]
    },
    {
     "name": "stderr",
     "output_type": "stream",
     "text": [
      "c:\\venv_python_3.10\\lib\\site-packages\\sklearn\\model_selection\\_validation.py:776: UserWarning: Scoring failed. The score on this train-test partition for these parameters will be set to nan. Details: \n",
      "Traceback (most recent call last):\n",
      "  File \"c:\\venv_python_3.10\\lib\\site-packages\\sklearn\\model_selection\\_validation.py\", line 765, in _score\n",
      "    scores = scorer(estimator, X_test)\n",
      "TypeError: _BaseScorer.__call__() missing 1 required positional argument: 'y_true'\n",
      "\n",
      "  warnings.warn(\n",
      "c:\\venv_python_3.10\\lib\\site-packages\\sklearn\\model_selection\\_validation.py:776: UserWarning: Scoring failed. The score on this train-test partition for these parameters will be set to nan. Details: \n",
      "Traceback (most recent call last):\n",
      "  File \"c:\\venv_python_3.10\\lib\\site-packages\\sklearn\\model_selection\\_validation.py\", line 765, in _score\n",
      "    scores = scorer(estimator, X_test)\n",
      "TypeError: _BaseScorer.__call__() missing 1 required positional argument: 'y_true'\n",
      "\n",
      "  warnings.warn(\n",
      "c:\\venv_python_3.10\\lib\\site-packages\\sklearn\\model_selection\\_validation.py:776: UserWarning: Scoring failed. The score on this train-test partition for these parameters will be set to nan. Details: \n",
      "Traceback (most recent call last):\n",
      "  File \"c:\\venv_python_3.10\\lib\\site-packages\\sklearn\\model_selection\\_validation.py\", line 765, in _score\n",
      "    scores = scorer(estimator, X_test)\n",
      "TypeError: _BaseScorer.__call__() missing 1 required positional argument: 'y_true'\n",
      "\n",
      "  warnings.warn(\n"
     ]
    },
    {
     "name": "stdout",
     "output_type": "stream",
     "text": [
      "[CV] END ...................max_iter=1000000, n_components=3; total time=   0.0s\n",
      "[CV] END ...................max_iter=1000000, n_components=4; total time=   0.0s\n",
      "[CV] END ...................max_iter=1000000, n_components=4; total time=   0.0s\n"
     ]
    },
    {
     "name": "stderr",
     "output_type": "stream",
     "text": [
      "c:\\venv_python_3.10\\lib\\site-packages\\sklearn\\model_selection\\_validation.py:776: UserWarning: Scoring failed. The score on this train-test partition for these parameters will be set to nan. Details: \n",
      "Traceback (most recent call last):\n",
      "  File \"c:\\venv_python_3.10\\lib\\site-packages\\sklearn\\model_selection\\_validation.py\", line 765, in _score\n",
      "    scores = scorer(estimator, X_test)\n",
      "TypeError: _BaseScorer.__call__() missing 1 required positional argument: 'y_true'\n",
      "\n",
      "  warnings.warn(\n",
      "c:\\venv_python_3.10\\lib\\site-packages\\sklearn\\model_selection\\_validation.py:776: UserWarning: Scoring failed. The score on this train-test partition for these parameters will be set to nan. Details: \n",
      "Traceback (most recent call last):\n",
      "  File \"c:\\venv_python_3.10\\lib\\site-packages\\sklearn\\model_selection\\_validation.py\", line 765, in _score\n",
      "    scores = scorer(estimator, X_test)\n",
      "TypeError: _BaseScorer.__call__() missing 1 required positional argument: 'y_true'\n",
      "\n",
      "  warnings.warn(\n"
     ]
    },
    {
     "name": "stdout",
     "output_type": "stream",
     "text": [
      "[CV] END ...................max_iter=1000000, n_components=4; total time=   0.0s\n",
      "[CV] END ...................max_iter=1000000, n_components=4; total time=   0.1s\n"
     ]
    },
    {
     "name": "stderr",
     "output_type": "stream",
     "text": [
      "c:\\venv_python_3.10\\lib\\site-packages\\sklearn\\model_selection\\_validation.py:776: UserWarning: Scoring failed. The score on this train-test partition for these parameters will be set to nan. Details: \n",
      "Traceback (most recent call last):\n",
      "  File \"c:\\venv_python_3.10\\lib\\site-packages\\sklearn\\model_selection\\_validation.py\", line 765, in _score\n",
      "    scores = scorer(estimator, X_test)\n",
      "TypeError: _BaseScorer.__call__() missing 1 required positional argument: 'y_true'\n",
      "\n",
      "  warnings.warn(\n",
      "c:\\venv_python_3.10\\lib\\site-packages\\sklearn\\model_selection\\_validation.py:776: UserWarning: Scoring failed. The score on this train-test partition for these parameters will be set to nan. Details: \n",
      "Traceback (most recent call last):\n",
      "  File \"c:\\venv_python_3.10\\lib\\site-packages\\sklearn\\model_selection\\_validation.py\", line 765, in _score\n",
      "    scores = scorer(estimator, X_test)\n",
      "TypeError: _BaseScorer.__call__() missing 1 required positional argument: 'y_true'\n",
      "\n",
      "  warnings.warn(\n"
     ]
    },
    {
     "name": "stdout",
     "output_type": "stream",
     "text": [
      "[CV] END ...................max_iter=1000000, n_components=4; total time=   0.1s\n",
      "[CV] END ...................max_iter=1000000, n_components=4; total time=   0.1s\n"
     ]
    },
    {
     "name": "stderr",
     "output_type": "stream",
     "text": [
      "c:\\venv_python_3.10\\lib\\site-packages\\sklearn\\model_selection\\_validation.py:776: UserWarning: Scoring failed. The score on this train-test partition for these parameters will be set to nan. Details: \n",
      "Traceback (most recent call last):\n",
      "  File \"c:\\venv_python_3.10\\lib\\site-packages\\sklearn\\model_selection\\_validation.py\", line 765, in _score\n",
      "    scores = scorer(estimator, X_test)\n",
      "TypeError: _BaseScorer.__call__() missing 1 required positional argument: 'y_true'\n",
      "\n",
      "  warnings.warn(\n",
      "c:\\venv_python_3.10\\lib\\site-packages\\sklearn\\model_selection\\_validation.py:776: UserWarning: Scoring failed. The score on this train-test partition for these parameters will be set to nan. Details: \n",
      "Traceback (most recent call last):\n",
      "  File \"c:\\venv_python_3.10\\lib\\site-packages\\sklearn\\model_selection\\_validation.py\", line 765, in _score\n",
      "    scores = scorer(estimator, X_test)\n",
      "TypeError: _BaseScorer.__call__() missing 1 required positional argument: 'y_true'\n",
      "\n",
      "  warnings.warn(\n",
      "c:\\venv_python_3.10\\lib\\site-packages\\sklearn\\model_selection\\_validation.py:776: UserWarning: Scoring failed. The score on this train-test partition for these parameters will be set to nan. Details: \n",
      "Traceback (most recent call last):\n",
      "  File \"c:\\venv_python_3.10\\lib\\site-packages\\sklearn\\model_selection\\_validation.py\", line 765, in _score\n",
      "    scores = scorer(estimator, X_test)\n",
      "TypeError: _BaseScorer.__call__() missing 1 required positional argument: 'y_true'\n",
      "\n",
      "  warnings.warn(\n"
     ]
    },
    {
     "name": "stdout",
     "output_type": "stream",
     "text": [
      "[CV] END ...................max_iter=1000000, n_components=4; total time=   0.1s\n",
      "[CV] END ...................max_iter=1000000, n_components=5; total time=   0.0s\n",
      "[CV] END ...................max_iter=1000000, n_components=5; total time=   0.0s\n"
     ]
    },
    {
     "name": "stderr",
     "output_type": "stream",
     "text": [
      "c:\\venv_python_3.10\\lib\\site-packages\\sklearn\\model_selection\\_validation.py:776: UserWarning: Scoring failed. The score on this train-test partition for these parameters will be set to nan. Details: \n",
      "Traceback (most recent call last):\n",
      "  File \"c:\\venv_python_3.10\\lib\\site-packages\\sklearn\\model_selection\\_validation.py\", line 765, in _score\n",
      "    scores = scorer(estimator, X_test)\n",
      "TypeError: _BaseScorer.__call__() missing 1 required positional argument: 'y_true'\n",
      "\n",
      "  warnings.warn(\n",
      "c:\\venv_python_3.10\\lib\\site-packages\\sklearn\\model_selection\\_validation.py:776: UserWarning: Scoring failed. The score on this train-test partition for these parameters will be set to nan. Details: \n",
      "Traceback (most recent call last):\n",
      "  File \"c:\\venv_python_3.10\\lib\\site-packages\\sklearn\\model_selection\\_validation.py\", line 765, in _score\n",
      "    scores = scorer(estimator, X_test)\n",
      "TypeError: _BaseScorer.__call__() missing 1 required positional argument: 'y_true'\n",
      "\n",
      "  warnings.warn(\n",
      "c:\\venv_python_3.10\\lib\\site-packages\\sklearn\\model_selection\\_validation.py:776: UserWarning: Scoring failed. The score on this train-test partition for these parameters will be set to nan. Details: \n",
      "Traceback (most recent call last):\n",
      "  File \"c:\\venv_python_3.10\\lib\\site-packages\\sklearn\\model_selection\\_validation.py\", line 765, in _score\n",
      "    scores = scorer(estimator, X_test)\n",
      "TypeError: _BaseScorer.__call__() missing 1 required positional argument: 'y_true'\n",
      "\n",
      "  warnings.warn(\n"
     ]
    },
    {
     "name": "stdout",
     "output_type": "stream",
     "text": [
      "[CV] END ...................max_iter=1000000, n_components=5; total time=   0.1s\n",
      "[CV] END ...................max_iter=1000000, n_components=5; total time=   0.0s\n",
      "[CV] END ...................max_iter=1000000, n_components=5; total time=   0.0s\n"
     ]
    },
    {
     "name": "stderr",
     "output_type": "stream",
     "text": [
      "c:\\venv_python_3.10\\lib\\site-packages\\sklearn\\model_selection\\_validation.py:776: UserWarning: Scoring failed. The score on this train-test partition for these parameters will be set to nan. Details: \n",
      "Traceback (most recent call last):\n",
      "  File \"c:\\venv_python_3.10\\lib\\site-packages\\sklearn\\model_selection\\_validation.py\", line 765, in _score\n",
      "    scores = scorer(estimator, X_test)\n",
      "TypeError: _BaseScorer.__call__() missing 1 required positional argument: 'y_true'\n",
      "\n",
      "  warnings.warn(\n",
      "c:\\venv_python_3.10\\lib\\site-packages\\sklearn\\model_selection\\_validation.py:776: UserWarning: Scoring failed. The score on this train-test partition for these parameters will be set to nan. Details: \n",
      "Traceback (most recent call last):\n",
      "  File \"c:\\venv_python_3.10\\lib\\site-packages\\sklearn\\model_selection\\_validation.py\", line 765, in _score\n",
      "    scores = scorer(estimator, X_test)\n",
      "TypeError: _BaseScorer.__call__() missing 1 required positional argument: 'y_true'\n",
      "\n",
      "  warnings.warn(\n",
      "c:\\venv_python_3.10\\lib\\site-packages\\sklearn\\model_selection\\_validation.py:776: UserWarning: Scoring failed. The score on this train-test partition for these parameters will be set to nan. Details: \n",
      "Traceback (most recent call last):\n",
      "  File \"c:\\venv_python_3.10\\lib\\site-packages\\sklearn\\model_selection\\_validation.py\", line 765, in _score\n",
      "    scores = scorer(estimator, X_test)\n",
      "TypeError: _BaseScorer.__call__() missing 1 required positional argument: 'y_true'\n",
      "\n",
      "  warnings.warn(\n"
     ]
    },
    {
     "name": "stdout",
     "output_type": "stream",
     "text": [
      "[CV] END ...................max_iter=1000000, n_components=5; total time=   0.1s\n",
      "[CV] END ...................max_iter=1000000, n_components=5; total time=   0.0s\n",
      "[CV] END ...................max_iter=1000000, n_components=6; total time=   0.0s\n"
     ]
    },
    {
     "name": "stderr",
     "output_type": "stream",
     "text": [
      "c:\\venv_python_3.10\\lib\\site-packages\\sklearn\\model_selection\\_validation.py:776: UserWarning: Scoring failed. The score on this train-test partition for these parameters will be set to nan. Details: \n",
      "Traceback (most recent call last):\n",
      "  File \"c:\\venv_python_3.10\\lib\\site-packages\\sklearn\\model_selection\\_validation.py\", line 765, in _score\n",
      "    scores = scorer(estimator, X_test)\n",
      "TypeError: _BaseScorer.__call__() missing 1 required positional argument: 'y_true'\n",
      "\n",
      "  warnings.warn(\n",
      "c:\\venv_python_3.10\\lib\\site-packages\\sklearn\\model_selection\\_validation.py:776: UserWarning: Scoring failed. The score on this train-test partition for these parameters will be set to nan. Details: \n",
      "Traceback (most recent call last):\n",
      "  File \"c:\\venv_python_3.10\\lib\\site-packages\\sklearn\\model_selection\\_validation.py\", line 765, in _score\n",
      "    scores = scorer(estimator, X_test)\n",
      "TypeError: _BaseScorer.__call__() missing 1 required positional argument: 'y_true'\n",
      "\n",
      "  warnings.warn(\n",
      "c:\\venv_python_3.10\\lib\\site-packages\\sklearn\\model_selection\\_validation.py:776: UserWarning: Scoring failed. The score on this train-test partition for these parameters will be set to nan. Details: \n",
      "Traceback (most recent call last):\n",
      "  File \"c:\\venv_python_3.10\\lib\\site-packages\\sklearn\\model_selection\\_validation.py\", line 765, in _score\n",
      "    scores = scorer(estimator, X_test)\n",
      "TypeError: _BaseScorer.__call__() missing 1 required positional argument: 'y_true'\n",
      "\n",
      "  warnings.warn(\n"
     ]
    },
    {
     "name": "stdout",
     "output_type": "stream",
     "text": [
      "[CV] END ...................max_iter=1000000, n_components=6; total time=   0.0s\n",
      "[CV] END ...................max_iter=1000000, n_components=6; total time=   0.0s\n",
      "[CV] END ...................max_iter=1000000, n_components=6; total time=   0.0s\n"
     ]
    },
    {
     "name": "stderr",
     "output_type": "stream",
     "text": [
      "c:\\venv_python_3.10\\lib\\site-packages\\sklearn\\model_selection\\_validation.py:776: UserWarning: Scoring failed. The score on this train-test partition for these parameters will be set to nan. Details: \n",
      "Traceback (most recent call last):\n",
      "  File \"c:\\venv_python_3.10\\lib\\site-packages\\sklearn\\model_selection\\_validation.py\", line 765, in _score\n",
      "    scores = scorer(estimator, X_test)\n",
      "TypeError: _BaseScorer.__call__() missing 1 required positional argument: 'y_true'\n",
      "\n",
      "  warnings.warn(\n"
     ]
    },
    {
     "name": "stdout",
     "output_type": "stream",
     "text": [
      "[CV] END ...................max_iter=1000000, n_components=6; total time=   0.0s\n"
     ]
    },
    {
     "name": "stderr",
     "output_type": "stream",
     "text": [
      "c:\\venv_python_3.10\\lib\\site-packages\\sklearn\\model_selection\\_validation.py:776: UserWarning: Scoring failed. The score on this train-test partition for these parameters will be set to nan. Details: \n",
      "Traceback (most recent call last):\n",
      "  File \"c:\\venv_python_3.10\\lib\\site-packages\\sklearn\\model_selection\\_validation.py\", line 765, in _score\n",
      "    scores = scorer(estimator, X_test)\n",
      "TypeError: _BaseScorer.__call__() missing 1 required positional argument: 'y_true'\n",
      "\n",
      "  warnings.warn(\n",
      "c:\\venv_python_3.10\\lib\\site-packages\\sklearn\\model_selection\\_validation.py:776: UserWarning: Scoring failed. The score on this train-test partition for these parameters will be set to nan. Details: \n",
      "Traceback (most recent call last):\n",
      "  File \"c:\\venv_python_3.10\\lib\\site-packages\\sklearn\\model_selection\\_validation.py\", line 765, in _score\n",
      "    scores = scorer(estimator, X_test)\n",
      "TypeError: _BaseScorer.__call__() missing 1 required positional argument: 'y_true'\n",
      "\n",
      "  warnings.warn(\n",
      "c:\\venv_python_3.10\\lib\\site-packages\\sklearn\\model_selection\\_validation.py:776: UserWarning: Scoring failed. The score on this train-test partition for these parameters will be set to nan. Details: \n",
      "Traceback (most recent call last):\n",
      "  File \"c:\\venv_python_3.10\\lib\\site-packages\\sklearn\\model_selection\\_validation.py\", line 765, in _score\n",
      "    scores = scorer(estimator, X_test)\n",
      "TypeError: _BaseScorer.__call__() missing 1 required positional argument: 'y_true'\n",
      "\n",
      "  warnings.warn(\n",
      "c:\\venv_python_3.10\\lib\\site-packages\\sklearn\\model_selection\\_validation.py:776: UserWarning: Scoring failed. The score on this train-test partition for these parameters will be set to nan. Details: \n",
      "Traceback (most recent call last):\n",
      "  File \"c:\\venv_python_3.10\\lib\\site-packages\\sklearn\\model_selection\\_validation.py\", line 765, in _score\n",
      "    scores = scorer(estimator, X_test)\n",
      "TypeError: _BaseScorer.__call__() missing 1 required positional argument: 'y_true'\n",
      "\n",
      "  warnings.warn(\n"
     ]
    },
    {
     "name": "stdout",
     "output_type": "stream",
     "text": [
      "[CV] END ...................max_iter=1000000, n_components=6; total time=   0.1s\n",
      "[CV] END ...................max_iter=1000000, n_components=6; total time=   0.0s\n",
      "[CV] END ...................max_iter=1000000, n_components=7; total time=   0.0s\n",
      "[CV] END ...................max_iter=1000000, n_components=7; total time=   0.0s\n"
     ]
    },
    {
     "name": "stderr",
     "output_type": "stream",
     "text": [
      "c:\\venv_python_3.10\\lib\\site-packages\\sklearn\\model_selection\\_validation.py:776: UserWarning: Scoring failed. The score on this train-test partition for these parameters will be set to nan. Details: \n",
      "Traceback (most recent call last):\n",
      "  File \"c:\\venv_python_3.10\\lib\\site-packages\\sklearn\\model_selection\\_validation.py\", line 765, in _score\n",
      "    scores = scorer(estimator, X_test)\n",
      "TypeError: _BaseScorer.__call__() missing 1 required positional argument: 'y_true'\n",
      "\n",
      "  warnings.warn(\n",
      "c:\\venv_python_3.10\\lib\\site-packages\\sklearn\\model_selection\\_validation.py:776: UserWarning: Scoring failed. The score on this train-test partition for these parameters will be set to nan. Details: \n",
      "Traceback (most recent call last):\n",
      "  File \"c:\\venv_python_3.10\\lib\\site-packages\\sklearn\\model_selection\\_validation.py\", line 765, in _score\n",
      "    scores = scorer(estimator, X_test)\n",
      "TypeError: _BaseScorer.__call__() missing 1 required positional argument: 'y_true'\n",
      "\n",
      "  warnings.warn(\n",
      "c:\\venv_python_3.10\\lib\\site-packages\\sklearn\\model_selection\\_validation.py:776: UserWarning: Scoring failed. The score on this train-test partition for these parameters will be set to nan. Details: \n",
      "Traceback (most recent call last):\n",
      "  File \"c:\\venv_python_3.10\\lib\\site-packages\\sklearn\\model_selection\\_validation.py\", line 765, in _score\n",
      "    scores = scorer(estimator, X_test)\n",
      "TypeError: _BaseScorer.__call__() missing 1 required positional argument: 'y_true'\n",
      "\n",
      "  warnings.warn(\n"
     ]
    },
    {
     "name": "stdout",
     "output_type": "stream",
     "text": [
      "[CV] END ...................max_iter=1000000, n_components=7; total time=   0.0s\n",
      "[CV] END ...................max_iter=1000000, n_components=7; total time=   0.0s\n",
      "[CV] END ...................max_iter=1000000, n_components=7; total time=   0.0s\n",
      "[CV] END ...................max_iter=1000000, n_components=7; total time=   0.0s\n",
      "[CV] END ...................max_iter=1000000, n_components=7; total time=   0.0s\n"
     ]
    },
    {
     "name": "stderr",
     "output_type": "stream",
     "text": [
      "c:\\venv_python_3.10\\lib\\site-packages\\sklearn\\model_selection\\_validation.py:776: UserWarning: Scoring failed. The score on this train-test partition for these parameters will be set to nan. Details: \n",
      "Traceback (most recent call last):\n",
      "  File \"c:\\venv_python_3.10\\lib\\site-packages\\sklearn\\model_selection\\_validation.py\", line 765, in _score\n",
      "    scores = scorer(estimator, X_test)\n",
      "TypeError: _BaseScorer.__call__() missing 1 required positional argument: 'y_true'\n",
      "\n",
      "  warnings.warn(\n",
      "c:\\venv_python_3.10\\lib\\site-packages\\sklearn\\model_selection\\_validation.py:776: UserWarning: Scoring failed. The score on this train-test partition for these parameters will be set to nan. Details: \n",
      "Traceback (most recent call last):\n",
      "  File \"c:\\venv_python_3.10\\lib\\site-packages\\sklearn\\model_selection\\_validation.py\", line 765, in _score\n",
      "    scores = scorer(estimator, X_test)\n",
      "TypeError: _BaseScorer.__call__() missing 1 required positional argument: 'y_true'\n",
      "\n",
      "  warnings.warn(\n",
      "c:\\venv_python_3.10\\lib\\site-packages\\sklearn\\model_selection\\_search.py:953: UserWarning: One or more of the test scores are non-finite: [nan nan nan nan nan nan nan nan nan nan nan nan nan nan nan nan nan nan\n",
      " nan nan nan]\n",
      "  warnings.warn(\n"
     ]
    }
   ],
   "source": [
    "gmm_classifier = GaussianMixture()\n",
    "\n",
    "# lgbm_classifier=lgbm_classifier.fit(x_train, y_train)\n",
    "# y_pred = lgbm_classifier.predict(x_test)\n",
    "\n",
    "\n",
    "gmm_parameters ={'n_components' : [1, 2, 3,4,5,6, 7] , 'max_iter': [int(1e2), int(1e3), int(1e6)]}\n",
    "#  'learning_rate' : [0.01,0.02,0.03],\n",
    "#  'gamma': [0.5, 1, 2], 'random_state':[99]}\n",
    "\n",
    "elapsed_time_gmm= []\n",
    "\n",
    "start_time = datetime.now()\n",
    "gmm_grid_search = GridSearchCV(gmm_classifier, gmm_parameters, cv=7, scoring=\"neg_mean_squared_error\", verbose=2)\n",
    "best_gmm_classifier = gmm_grid_search.fit(x_train_only)\n",
    "elapsed_time_gmm.append((datetime.now()-start_time).total_seconds())\n",
    "\n",
    "\n",
    "\n",
    "\n",
    "# acc_lgbm = accuracy_score(y_test, y_pred)\n",
    "\n",
    "# print('Confusion Matrix\\n', confusion_matrix(y_test, y_pred))\n",
    "# print(\"best parameters \", lgbm_grid_search.best_params_)\n",
    "# print('Accuracy ', acc_lgbm)\n",
    "# print('elapsed time ', elapsed_time_lgbm)\n"
   ]
  },
  {
   "cell_type": "code",
   "execution_count": 163,
   "metadata": {},
   "outputs": [],
   "source": [
    "start_time = datetime.now()\n",
    "y_pred_c = best_gmm_classifier.predict(x_test)\n",
    "elapsed_time_gmm.append((datetime.now()-start_time).total_seconds())"
   ]
  },
  {
   "cell_type": "code",
   "execution_count": 164,
   "metadata": {},
   "outputs": [
    {
     "data": {
      "text/plain": [
       "array([0, 0, 0, 0, 0, 0, 0, 0, 0, 0, 0, 0, 0, 0, 0, 0, 0, 0, 0, 0, 0, 0,\n",
       "       0, 0, 0, 0, 0, 0, 0, 0, 0, 0, 0, 0, 0, 0, 0, 0, 0, 0, 0, 0, 0, 0,\n",
       "       0, 0, 0, 0, 0, 0, 0, 0, 0, 0, 0, 0, 0, 0, 0, 0, 0, 0, 0, 0, 0, 0,\n",
       "       0, 0, 0, 0, 0, 0, 0, 0, 0, 0, 0, 0, 0, 0, 0, 0, 0, 0, 0, 0, 0, 0,\n",
       "       0, 0, 0, 0, 0, 0, 0, 0, 0, 0, 0, 0, 0, 0, 0, 0, 0, 0, 0, 0, 0, 0,\n",
       "       0, 0, 0, 0, 0, 0, 0, 0, 0, 0, 0, 0, 0, 0, 0, 0, 0, 0, 0, 0, 0, 0,\n",
       "       0, 0, 0, 0, 0, 0, 0, 0, 0, 0, 0, 0, 0, 0, 0, 0, 0, 0, 0, 0, 0, 0,\n",
       "       0, 0, 0, 0, 0, 0, 0, 0, 0, 0, 0, 0, 0, 0, 0, 0, 0, 0, 0, 0, 0, 0,\n",
       "       0, 0, 0, 0, 0, 0, 0, 0, 0, 0, 0, 0, 0, 0, 0, 0, 0, 0, 0, 0, 0, 0,\n",
       "       0, 0, 0, 0, 0, 0, 0, 0, 0, 0, 0, 0, 0, 0, 0, 0, 0, 0, 0, 0, 0, 0,\n",
       "       0, 0, 0, 0, 0, 0, 0, 0, 0, 0, 0, 0, 0, 0, 0, 0, 0, 0, 0, 0, 0, 0,\n",
       "       0, 0, 0, 0, 0, 0, 0, 0, 0, 0, 0, 0, 0, 0, 0, 0, 0, 0, 0, 0, 0, 0,\n",
       "       0, 0, 0, 0, 0, 0, 0, 0, 0, 0, 0, 0, 0, 0, 0, 0, 0, 0, 0, 0, 0, 0,\n",
       "       0, 0, 0, 0, 0, 0, 0, 0, 0, 0, 0, 0, 0, 0, 0, 0, 0, 0, 0, 0, 0, 0,\n",
       "       0, 0, 0, 0, 0, 0, 0, 0, 0, 0, 0, 0, 0, 0, 0, 0, 0, 0, 0, 0, 0, 0,\n",
       "       0, 0, 0, 0, 0, 0, 0, 0, 0, 0, 0, 0, 0, 0, 0, 0, 0, 0, 0, 0, 0, 0,\n",
       "       0, 0, 0, 0, 0, 0, 0, 0], dtype=int64)"
      ]
     },
     "execution_count": 164,
     "metadata": {},
     "output_type": "execute_result"
    }
   ],
   "source": [
    "y_pred_c"
   ]
  },
  {
   "cell_type": "code",
   "execution_count": 165,
   "metadata": {},
   "outputs": [
    {
     "name": "stdout",
     "output_type": "stream",
     "text": [
      "49\n"
     ]
    }
   ],
   "source": [
    "print(len(np.argwhere(y_test_a == -1)))"
   ]
  },
  {
   "cell_type": "code",
   "execution_count": 166,
   "metadata": {},
   "outputs": [
    {
     "name": "stdout",
     "output_type": "stream",
     "text": [
      "83\n",
      "Confusion Matrix\n",
      " [[ 41   8]\n",
      " [ 42 269]]\n",
      "best parameters  {'max_iter': 100, 'n_components': 1}\n",
      "Accuracy  0.8611111111111112\n",
      "elapsed time  [12.316785, 0.001388]\n"
     ]
    }
   ],
   "source": [
    "densities = best_gmm_classifier.score_samples(x_test)\n",
    "density_threshold = np.percentile(densities, THRESHOLD_FOR_DENSITY)\n",
    "anomalies = np.argwhere(densities < density_threshold)\n",
    "print(len(anomalies))\n",
    "# print(anomalies)\n",
    "\n",
    "# print(density_threshold)\n",
    "# print(len(anomalies))\n",
    "# print(np.argwhere(y_test_c == -1))\n",
    "real_anomaly = np.argwhere(y_test_a == -1)\n",
    "# print(real_)\n",
    "\n",
    "y_pred_anomalies = y_test_a.copy()\n",
    "y_pred_anomalies[densities < density_threshold] = -1\n",
    "y_pred_anomalies[densities >= density_threshold] = 1\n",
    "\n",
    "\n",
    "acc_iforest = accuracy_score(y_test_a, y_pred_anomalies)\n",
    "\n",
    "print('Confusion Matrix\\n', confusion_matrix(y_test_a, y_pred_anomalies))\n",
    "print(\"best parameters \", best_gmm_classifier.best_params_)\n",
    "print('Accuracy ', acc_iforest)\n",
    "print('elapsed time ', elapsed_time_gmm)\n",
    "\n",
    "# accuracy_score(y_test_c, y_pred_anomalies)"
   ]
  },
  {
   "cell_type": "code",
   "execution_count": 167,
   "metadata": {},
   "outputs": [],
   "source": [
    "# y_pred_anomalies"
   ]
  },
  {
   "cell_type": "code",
   "execution_count": null,
   "metadata": {},
   "outputs": [],
   "source": []
  },
  {
   "cell_type": "markdown",
   "metadata": {},
   "source": []
  },
  {
   "cell_type": "code",
   "execution_count": 168,
   "metadata": {},
   "outputs": [
    {
     "data": {
      "text/plain": [
       "array([[-1],\n",
       "       [-1],\n",
       "       [-1],\n",
       "       [-1],\n",
       "       [-1],\n",
       "       [-1],\n",
       "       [-1],\n",
       "       [-1],\n",
       "       [-1],\n",
       "       [-1],\n",
       "       [-1],\n",
       "       [-1],\n",
       "       [-1],\n",
       "       [-1],\n",
       "       [-1],\n",
       "       [-1],\n",
       "       [-1],\n",
       "       [-1],\n",
       "       [-1],\n",
       "       [-1],\n",
       "       [-1],\n",
       "       [-1],\n",
       "       [-1],\n",
       "       [-1],\n",
       "       [-1],\n",
       "       [-1],\n",
       "       [-1],\n",
       "       [-1],\n",
       "       [-1],\n",
       "       [-1],\n",
       "       [-1],\n",
       "       [-1],\n",
       "       [-1],\n",
       "       [-1],\n",
       "       [-1],\n",
       "       [-1],\n",
       "       [-1],\n",
       "       [-1],\n",
       "       [-1],\n",
       "       [-1],\n",
       "       [-1],\n",
       "       [-1],\n",
       "       [-1],\n",
       "       [-1],\n",
       "       [-1],\n",
       "       [-1],\n",
       "       [-1],\n",
       "       [-1],\n",
       "       [-1]])"
      ]
     },
     "execution_count": 168,
     "metadata": {},
     "output_type": "execute_result"
    }
   ],
   "source": [
    "y_test_a[anomalies]\n",
    "y_test_a[real_anomaly]"
   ]
  },
  {
   "cell_type": "code",
   "execution_count": null,
   "metadata": {},
   "outputs": [],
   "source": []
  },
  {
   "cell_type": "code",
   "execution_count": 146,
   "metadata": {},
   "outputs": [
    {
     "data": {
      "text/plain": [
       "(4, 10)"
      ]
     },
     "execution_count": 146,
     "metadata": {},
     "output_type": "execute_result"
    }
   ],
   "source": [
    "anomalies.shape"
   ]
  }
 ],
 "metadata": {
  "kernelspec": {
   "display_name": "Python 3.10.7 ('venv_python_3.10')",
   "language": "python",
   "name": "python3"
  },
  "language_info": {
   "codemirror_mode": {
    "name": "ipython",
    "version": 3
   },
   "file_extension": ".py",
   "mimetype": "text/x-python",
   "name": "python",
   "nbconvert_exporter": "python",
   "pygments_lexer": "ipython3",
   "version": "3.10.7"
  },
  "orig_nbformat": 4,
  "vscode": {
   "interpreter": {
    "hash": "78d04299e464758119aa473303693f33db2a1bc5c94011f00bbd9c1618e77f98"
   }
  }
 },
 "nbformat": 4,
 "nbformat_minor": 2
}
